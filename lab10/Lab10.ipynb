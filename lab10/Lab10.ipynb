{
 "cells": [
  {
   "cell_type": "markdown",
   "id": "a14168cd",
   "metadata": {
    "cell_id": "00000-94886fb0-f5a9-4947-ad44-0e48f4896df2",
    "deepnote_cell_type": "markdown"
   },
   "source": [
    "<h1><center>Laboratorio 10: Persistencia, APIs y Servidores 💦</center></h1>\n",
    "\n",
    "<center><strong>MDS7202: Laboratorio de Programación Científica para Ciencia de Datos</strong></center>"
   ]
  },
  {
   "cell_type": "markdown",
   "id": "8987280a",
   "metadata": {
    "cell_id": "00001-db62ccfb-1020-456e-ae34-d009a777b138",
    "deepnote_cell_type": "markdown"
   },
   "source": [
    "### Cuerpo Docente:\n",
    "\n",
    "- Profesor: Pablo Badilla\n",
    "- Auxiliar: Ignacio Meza D.\n",
    "- Ayudante: Patricio Ortiz"
   ]
  },
  {
   "cell_type": "markdown",
   "id": "01ba9564",
   "metadata": {
    "cell_id": "00002-7b18c46b-37d0-493a-9467-2248a4537969",
    "deepnote_cell_type": "markdown"
   },
   "source": [
    "### Equipo: SUPER IMPORTANTE - notebooks sin nombre no serán revisados\n",
    "\n",
    "- Nombre de alumno 1: Sebastián Tinoco\n",
    "- Nombre de alumno 2:"
   ]
  },
  {
   "cell_type": "markdown",
   "id": "06c92e9f",
   "metadata": {
    "cell_id": "00003-a832930a-aea2-46ff-b8b8-860364b98594",
    "deepnote_cell_type": "markdown"
   },
   "source": [
    "### **Link de repositorio de GitHub:** `https://github.com/sebatinoco/MDS7202/tree/main/lab10`"
   ]
  },
  {
   "cell_type": "markdown",
   "id": "57366ada",
   "metadata": {
    "cell_id": "00004-d8559191-0c91-4046-a219-99761436ff2f",
    "deepnote_cell_type": "markdown"
   },
   "source": [
    "# Temas a tratar\n",
    "\n",
    "- Persistencia de modelos.\n",
    "- APIs Rest.\n",
    "- Servidores.\n",
    "- Bases de Datos basadas en JSON (formato similar a diccionarios).\n",
    "\n",
    "## Reglas:\n",
    "\n",
    "- Fecha de entrega: 7/07/2021\n",
    "- **Grupos de 2 personas**\n",
    "- Cualquier duda fuera del horario de clases al foro. Mensajes al equipo docente serán respondidos por este medio.\n",
    "- Prohibidas las copias. \n",
    "- Pueden usar cualquer matrial del curso que estimen conveniente.\n",
    "\n",
    "### Objetivos principales del laboratorio\n",
    "\n",
    "- Utilizar `scikit-learn` para generar un modelo y luego guardarlo a un achivo.\n",
    "- Entender qué es una API y qué significa que esta cumpla con los principios de REST.\n",
    "- Utilizar `FastAPI` para crear un servicio que permita usar el modelo.\n",
    "- Guardar llamadas a la API y obtener sus resultados usando una base de datos basada en documentos.\n"
   ]
  },
  {
   "cell_type": "markdown",
   "id": "0e483ddd",
   "metadata": {
    "cell_id": "00005-75a94d8e-77a3-4dff-a6c0-75ddfd828865",
    "deepnote_cell_type": "markdown"
   },
   "source": [
    "## Introducción: Crear y Persistir un Modelo"
   ]
  },
  {
   "cell_type": "markdown",
   "id": "2a6ea720",
   "metadata": {
    "cell_id": "00006-2ef77d08-e8d1-4b6e-a49c-814e3f8b1434",
    "deepnote_cell_type": "markdown"
   },
   "source": [
    "<div align='center'/>\n",
    "  <img src=\"https://pbs.twimg.com/media/E1jfjTRWYAAfi2v.jpg\" width=\"500\">\n",
    "</div>"
   ]
  },
  {
   "cell_type": "markdown",
   "id": "e6db70d6",
   "metadata": {
    "cell_id": "00007-fcba69c7-b0ad-4d5b-9f77-17c45f435064",
    "deepnote_cell_type": "markdown"
   },
   "source": [
    "Consumida en la tristeza el despido de Renacín, Smapina ha decaído en su desempeño, lo que se ha traducido en un irregular tratamiento del agua. Esto ha implicado una baja en la calidad del agua, llegando a haber algunos puntos de la comuna en la que el vital elemento no es apto para el consumo humano. Es por esto que la sanitaria pública de la municipalidad de Maipú se ha contactado con ustedes para que le entreguen una urgente solución a este problema (a la vez que dejan a Smapina, al igual que Renacín, sin trabajo 😔). \n",
    "\n",
    "El problema que la empresa le ha solicitado resolver es el de elaborar un sistema que les permita saber si el agua es potable o no. Para esto, la sanitaria les ha proveido una base de datos con la lectura de múltiples sensores IOT colocados en diversas cañerías, conductos y estanques. Estos sensores señalan nueve tipos de mediciones químicas y más una etiqueta elaborada en laboratorio que indica si el agua es potable o no el agua.\n",
    "\n",
    "La idea final es que puedan, en el caso que el agua no sea potable, dar un aviso inmediato para corregir el problema. Tenga en cuenta que parte del equipo docente vive en Maipú y su intoxicación podría implicar graves problemas para el cierre del curso.\n",
    "\n",
    "Atributos:\n",
    "\n",
    "1. pH value\n",
    "2. Hardness\n",
    "3. Solids (Total dissolved solids - TDS)\n",
    "4. Chloramines\n",
    "5. Sulfate\n",
    "6. Conductivity\n",
    "7. Organic_carbon\n",
    "8. Trihalomethanes\n",
    "9. Turbidity\n",
    "\n",
    "Variable a predecir: \n",
    "\n",
    "10. Potability (1 si es potable, 0 no potable)\n",
    "\n",
    "\\[Fuera de rol\\] Los datos originales, junto a la descripción de cada atributo se encuentran en: \n",
    "\n",
    "https://www.kaggle.com/adityakadiwal/water-potability"
   ]
  },
  {
   "cell_type": "markdown",
   "id": "bb074ce1",
   "metadata": {
    "cell_id": "00008-a3e4598b-df4a-43ee-8a64-df33e6185810",
    "deepnote_cell_type": "markdown"
   },
   "source": [
    "## Modelo a Utilizar"
   ]
  },
  {
   "cell_type": "markdown",
   "id": "bb8cc9eb",
   "metadata": {
    "cell_id": "00009-e2b5ab93-07b4-470a-b134-c68bb0c3ec0a",
    "deepnote_cell_type": "markdown"
   },
   "source": [
    "<div align=\"center\">\n",
    "  <img src=\"https://upload.wikimedia.org/wikipedia/commons/6/6c/SMAPA.jpg\" width=\"400\">\n",
    "</div>"
   ]
  },
  {
   "cell_type": "markdown",
   "id": "25ddf7d2",
   "metadata": {
    "cell_id": "00010-12a9fa9a-7e72-4bf4-95d5-c5db11295ee5",
    "deepnote_cell_type": "markdown"
   },
   "source": [
    "Al recibir el trabajo, se dan cuenta que el equipo de TI de la sanitaria, de forma autodidacta, ya estaba trabajando en un proyecto de predicción de agua potable utilizando *Machine Learning*. Sí bien el código no es el mejor, ustedes como equipo consideran que el trabajo de predicción ya está realizado y prefieren utilizar todos sus recursos en la ardua tarea de desplegarlo.\n",
    "\n",
    "Por lo mismo, lea y ejecute el código proveido para entrenar y guardar el modelo y luego continue con el despliegue del sistema (No debe hacer nada en esta parte, solo entender el problema que se quiere resolver)."
   ]
  },
  {
   "cell_type": "code",
   "execution_count": 10,
   "id": "bf86e87a",
   "metadata": {
    "cell_id": "00011-1b59f533-8174-4a11-ab98-17e01af24424",
    "deepnote_cell_type": "code",
    "deepnote_to_be_reexecuted": false,
    "execution_millis": 1340,
    "execution_start": 1638557514405,
    "source_hash": "edc6e25"
   },
   "outputs": [],
   "source": [
    "import numpy as np\n",
    "import pandas as pd\n",
    "from sklearn.ensemble import BaggingClassifier\n",
    "from sklearn.metrics import classification_report\n",
    "from sklearn.experimental import enable_halving_search_cv \n",
    "from sklearn.model_selection import HalvingGridSearchCV, train_test_split\n",
    "from sklearn.pipeline import Pipeline\n",
    "from sklearn.preprocessing import StandardScaler"
   ]
  },
  {
   "cell_type": "code",
   "execution_count": 2,
   "id": "c4cc6aa0",
   "metadata": {
    "cell_id": "00012-9dc476d7-2ea3-4c26-8f71-13055e26ce92",
    "deepnote_cell_type": "code",
    "deepnote_to_be_reexecuted": false,
    "execution_millis": 242,
    "execution_start": 1638557515757,
    "source_hash": "293f4cb9"
   },
   "outputs": [],
   "source": [
    "try:\n",
    "    from google.colab import drive\n",
    "    # ejecutar en el caso de usar colab.\n",
    "    drive.mount(\"/content/drive\")\n",
    "except:\n",
    "    pass"
   ]
  },
  {
   "cell_type": "code",
   "execution_count": 3,
   "id": "97b06ae8",
   "metadata": {
    "cell_id": "00013-daee45d9-735e-49d0-a032-9a6b8a637a68",
    "deepnote_cell_type": "code",
    "deepnote_to_be_reexecuted": false,
    "execution_millis": 120,
    "execution_start": 1638557577915,
    "source_hash": "441a32c8"
   },
   "outputs": [
    {
     "data": {
      "text/html": [
       "<div>\n",
       "<style scoped>\n",
       "    .dataframe tbody tr th:only-of-type {\n",
       "        vertical-align: middle;\n",
       "    }\n",
       "\n",
       "    .dataframe tbody tr th {\n",
       "        vertical-align: top;\n",
       "    }\n",
       "\n",
       "    .dataframe thead th {\n",
       "        text-align: right;\n",
       "    }\n",
       "</style>\n",
       "<table border=\"1\" class=\"dataframe\">\n",
       "  <thead>\n",
       "    <tr style=\"text-align: right;\">\n",
       "      <th></th>\n",
       "      <th>ph</th>\n",
       "      <th>Hardness</th>\n",
       "      <th>Solids</th>\n",
       "      <th>Chloramines</th>\n",
       "      <th>Sulfate</th>\n",
       "      <th>Conductivity</th>\n",
       "      <th>Organic_carbon</th>\n",
       "      <th>Trihalomethanes</th>\n",
       "      <th>Turbidity</th>\n",
       "      <th>Potability</th>\n",
       "    </tr>\n",
       "  </thead>\n",
       "  <tbody>\n",
       "    <tr>\n",
       "      <th>3</th>\n",
       "      <td>8.316766</td>\n",
       "      <td>214.373394</td>\n",
       "      <td>22018.417441</td>\n",
       "      <td>8.059332</td>\n",
       "      <td>356.886136</td>\n",
       "      <td>363.266516</td>\n",
       "      <td>18.436524</td>\n",
       "      <td>100.341674</td>\n",
       "      <td>4.628771</td>\n",
       "      <td>0</td>\n",
       "    </tr>\n",
       "    <tr>\n",
       "      <th>4</th>\n",
       "      <td>9.092223</td>\n",
       "      <td>181.101509</td>\n",
       "      <td>17978.986339</td>\n",
       "      <td>6.546600</td>\n",
       "      <td>310.135738</td>\n",
       "      <td>398.410813</td>\n",
       "      <td>11.558279</td>\n",
       "      <td>31.997993</td>\n",
       "      <td>4.075075</td>\n",
       "      <td>0</td>\n",
       "    </tr>\n",
       "    <tr>\n",
       "      <th>5</th>\n",
       "      <td>5.584087</td>\n",
       "      <td>188.313324</td>\n",
       "      <td>28748.687739</td>\n",
       "      <td>7.544869</td>\n",
       "      <td>326.678363</td>\n",
       "      <td>280.467916</td>\n",
       "      <td>8.399735</td>\n",
       "      <td>54.917862</td>\n",
       "      <td>2.559708</td>\n",
       "      <td>0</td>\n",
       "    </tr>\n",
       "    <tr>\n",
       "      <th>6</th>\n",
       "      <td>10.223862</td>\n",
       "      <td>248.071735</td>\n",
       "      <td>28749.716544</td>\n",
       "      <td>7.513408</td>\n",
       "      <td>393.663396</td>\n",
       "      <td>283.651634</td>\n",
       "      <td>13.789695</td>\n",
       "      <td>84.603556</td>\n",
       "      <td>2.672989</td>\n",
       "      <td>0</td>\n",
       "    </tr>\n",
       "    <tr>\n",
       "      <th>7</th>\n",
       "      <td>8.635849</td>\n",
       "      <td>203.361523</td>\n",
       "      <td>13672.091764</td>\n",
       "      <td>4.563009</td>\n",
       "      <td>303.309771</td>\n",
       "      <td>474.607645</td>\n",
       "      <td>12.363817</td>\n",
       "      <td>62.798309</td>\n",
       "      <td>4.401425</td>\n",
       "      <td>0</td>\n",
       "    </tr>\n",
       "    <tr>\n",
       "      <th>...</th>\n",
       "      <td>...</td>\n",
       "      <td>...</td>\n",
       "      <td>...</td>\n",
       "      <td>...</td>\n",
       "      <td>...</td>\n",
       "      <td>...</td>\n",
       "      <td>...</td>\n",
       "      <td>...</td>\n",
       "      <td>...</td>\n",
       "      <td>...</td>\n",
       "    </tr>\n",
       "    <tr>\n",
       "      <th>3267</th>\n",
       "      <td>8.989900</td>\n",
       "      <td>215.047358</td>\n",
       "      <td>15921.412018</td>\n",
       "      <td>6.297312</td>\n",
       "      <td>312.931022</td>\n",
       "      <td>390.410231</td>\n",
       "      <td>9.899115</td>\n",
       "      <td>55.069304</td>\n",
       "      <td>4.613843</td>\n",
       "      <td>1</td>\n",
       "    </tr>\n",
       "    <tr>\n",
       "      <th>3268</th>\n",
       "      <td>6.702547</td>\n",
       "      <td>207.321086</td>\n",
       "      <td>17246.920347</td>\n",
       "      <td>7.708117</td>\n",
       "      <td>304.510230</td>\n",
       "      <td>329.266002</td>\n",
       "      <td>16.217303</td>\n",
       "      <td>28.878601</td>\n",
       "      <td>3.442983</td>\n",
       "      <td>1</td>\n",
       "    </tr>\n",
       "    <tr>\n",
       "      <th>3269</th>\n",
       "      <td>11.491011</td>\n",
       "      <td>94.812545</td>\n",
       "      <td>37188.826022</td>\n",
       "      <td>9.263166</td>\n",
       "      <td>258.930600</td>\n",
       "      <td>439.893618</td>\n",
       "      <td>16.172755</td>\n",
       "      <td>41.558501</td>\n",
       "      <td>4.369264</td>\n",
       "      <td>1</td>\n",
       "    </tr>\n",
       "    <tr>\n",
       "      <th>3270</th>\n",
       "      <td>6.069616</td>\n",
       "      <td>186.659040</td>\n",
       "      <td>26138.780191</td>\n",
       "      <td>7.747547</td>\n",
       "      <td>345.700257</td>\n",
       "      <td>415.886955</td>\n",
       "      <td>12.067620</td>\n",
       "      <td>60.419921</td>\n",
       "      <td>3.669712</td>\n",
       "      <td>1</td>\n",
       "    </tr>\n",
       "    <tr>\n",
       "      <th>3271</th>\n",
       "      <td>4.668102</td>\n",
       "      <td>193.681735</td>\n",
       "      <td>47580.991603</td>\n",
       "      <td>7.166639</td>\n",
       "      <td>359.948574</td>\n",
       "      <td>526.424171</td>\n",
       "      <td>13.894419</td>\n",
       "      <td>66.687695</td>\n",
       "      <td>4.435821</td>\n",
       "      <td>1</td>\n",
       "    </tr>\n",
       "  </tbody>\n",
       "</table>\n",
       "<p>2011 rows × 10 columns</p>\n",
       "</div>"
      ],
      "text/plain": [
       "             ph    Hardness        Solids  Chloramines     Sulfate  \\\n",
       "3      8.316766  214.373394  22018.417441     8.059332  356.886136   \n",
       "4      9.092223  181.101509  17978.986339     6.546600  310.135738   \n",
       "5      5.584087  188.313324  28748.687739     7.544869  326.678363   \n",
       "6     10.223862  248.071735  28749.716544     7.513408  393.663396   \n",
       "7      8.635849  203.361523  13672.091764     4.563009  303.309771   \n",
       "...         ...         ...           ...          ...         ...   \n",
       "3267   8.989900  215.047358  15921.412018     6.297312  312.931022   \n",
       "3268   6.702547  207.321086  17246.920347     7.708117  304.510230   \n",
       "3269  11.491011   94.812545  37188.826022     9.263166  258.930600   \n",
       "3270   6.069616  186.659040  26138.780191     7.747547  345.700257   \n",
       "3271   4.668102  193.681735  47580.991603     7.166639  359.948574   \n",
       "\n",
       "      Conductivity  Organic_carbon  Trihalomethanes  Turbidity  Potability  \n",
       "3       363.266516       18.436524       100.341674   4.628771           0  \n",
       "4       398.410813       11.558279        31.997993   4.075075           0  \n",
       "5       280.467916        8.399735        54.917862   2.559708           0  \n",
       "6       283.651634       13.789695        84.603556   2.672989           0  \n",
       "7       474.607645       12.363817        62.798309   4.401425           0  \n",
       "...            ...             ...              ...        ...         ...  \n",
       "3267    390.410231        9.899115        55.069304   4.613843           1  \n",
       "3268    329.266002       16.217303        28.878601   3.442983           1  \n",
       "3269    439.893618       16.172755        41.558501   4.369264           1  \n",
       "3270    415.886955       12.067620        60.419921   3.669712           1  \n",
       "3271    526.424171       13.894419        66.687695   4.435821           1  \n",
       "\n",
       "[2011 rows x 10 columns]"
      ]
     },
     "execution_count": 3,
     "metadata": {},
     "output_type": "execute_result"
    }
   ],
   "source": [
    "df = pd.read_csv(\"./water_potability.csv\").dropna()\n",
    "df"
   ]
  },
  {
   "cell_type": "code",
   "execution_count": 4,
   "id": "827ba81d",
   "metadata": {
    "cell_id": "00014-cd390fe3-0adc-4380-b385-d850f50e3b95",
    "deepnote_cell_type": "code",
    "deepnote_output_heights": [
     null,
     136.39999389648438
    ],
    "deepnote_to_be_reexecuted": false,
    "execution_millis": 34869,
    "execution_start": 1638557583538,
    "source_hash": "492b42d3"
   },
   "outputs": [
    {
     "name": "stdout",
     "output_type": "stream",
     "text": [
      "n_iterations: 4\n",
      "n_required_iterations: 4\n",
      "n_possible_iterations: 4\n",
      "min_resources_: 55\n",
      "max_resources_: 1508\n",
      "aggressive_elimination: False\n",
      "factor: 3\n",
      "----------\n",
      "iter: 0\n",
      "n_candidates: 54\n",
      "n_resources: 55\n",
      "Fitting 5 folds for each of 54 candidates, totalling 270 fits\n",
      "----------\n",
      "iter: 1\n",
      "n_candidates: 18\n",
      "n_resources: 165\n",
      "Fitting 5 folds for each of 18 candidates, totalling 90 fits\n",
      "----------\n",
      "iter: 2\n",
      "n_candidates: 6\n",
      "n_resources: 495\n",
      "Fitting 5 folds for each of 6 candidates, totalling 30 fits\n",
      "----------\n",
      "iter: 3\n",
      "n_candidates: 2\n",
      "n_resources: 1485\n",
      "Fitting 5 folds for each of 2 candidates, totalling 10 fits\n"
     ]
    },
    {
     "data": {
      "text/html": [
       "<style>#sk-container-id-1 {color: black;background-color: white;}#sk-container-id-1 pre{padding: 0;}#sk-container-id-1 div.sk-toggleable {background-color: white;}#sk-container-id-1 label.sk-toggleable__label {cursor: pointer;display: block;width: 100%;margin-bottom: 0;padding: 0.3em;box-sizing: border-box;text-align: center;}#sk-container-id-1 label.sk-toggleable__label-arrow:before {content: \"▸\";float: left;margin-right: 0.25em;color: #696969;}#sk-container-id-1 label.sk-toggleable__label-arrow:hover:before {color: black;}#sk-container-id-1 div.sk-estimator:hover label.sk-toggleable__label-arrow:before {color: black;}#sk-container-id-1 div.sk-toggleable__content {max-height: 0;max-width: 0;overflow: hidden;text-align: left;background-color: #f0f8ff;}#sk-container-id-1 div.sk-toggleable__content pre {margin: 0.2em;color: black;border-radius: 0.25em;background-color: #f0f8ff;}#sk-container-id-1 input.sk-toggleable__control:checked~div.sk-toggleable__content {max-height: 200px;max-width: 100%;overflow: auto;}#sk-container-id-1 input.sk-toggleable__control:checked~label.sk-toggleable__label-arrow:before {content: \"▾\";}#sk-container-id-1 div.sk-estimator input.sk-toggleable__control:checked~label.sk-toggleable__label {background-color: #d4ebff;}#sk-container-id-1 div.sk-label input.sk-toggleable__control:checked~label.sk-toggleable__label {background-color: #d4ebff;}#sk-container-id-1 input.sk-hidden--visually {border: 0;clip: rect(1px 1px 1px 1px);clip: rect(1px, 1px, 1px, 1px);height: 1px;margin: -1px;overflow: hidden;padding: 0;position: absolute;width: 1px;}#sk-container-id-1 div.sk-estimator {font-family: monospace;background-color: #f0f8ff;border: 1px dotted black;border-radius: 0.25em;box-sizing: border-box;margin-bottom: 0.5em;}#sk-container-id-1 div.sk-estimator:hover {background-color: #d4ebff;}#sk-container-id-1 div.sk-parallel-item::after {content: \"\";width: 100%;border-bottom: 1px solid gray;flex-grow: 1;}#sk-container-id-1 div.sk-label:hover label.sk-toggleable__label {background-color: #d4ebff;}#sk-container-id-1 div.sk-serial::before {content: \"\";position: absolute;border-left: 1px solid gray;box-sizing: border-box;top: 0;bottom: 0;left: 50%;z-index: 0;}#sk-container-id-1 div.sk-serial {display: flex;flex-direction: column;align-items: center;background-color: white;padding-right: 0.2em;padding-left: 0.2em;position: relative;}#sk-container-id-1 div.sk-item {position: relative;z-index: 1;}#sk-container-id-1 div.sk-parallel {display: flex;align-items: stretch;justify-content: center;background-color: white;position: relative;}#sk-container-id-1 div.sk-item::before, #sk-container-id-1 div.sk-parallel-item::before {content: \"\";position: absolute;border-left: 1px solid gray;box-sizing: border-box;top: 0;bottom: 0;left: 50%;z-index: -1;}#sk-container-id-1 div.sk-parallel-item {display: flex;flex-direction: column;z-index: 1;position: relative;background-color: white;}#sk-container-id-1 div.sk-parallel-item:first-child::after {align-self: flex-end;width: 50%;}#sk-container-id-1 div.sk-parallel-item:last-child::after {align-self: flex-start;width: 50%;}#sk-container-id-1 div.sk-parallel-item:only-child::after {width: 0;}#sk-container-id-1 div.sk-dashed-wrapped {border: 1px dashed gray;margin: 0 0.4em 0.5em 0.4em;box-sizing: border-box;padding-bottom: 0.4em;background-color: white;}#sk-container-id-1 div.sk-label label {font-family: monospace;font-weight: bold;display: inline-block;line-height: 1.2em;}#sk-container-id-1 div.sk-label-container {text-align: center;}#sk-container-id-1 div.sk-container {/* jupyter's `normalize.less` sets `[hidden] { display: none; }` but bootstrap.min.css set `[hidden] { display: none !important; }` so we also need the `!important` here to be able to override the default hidden behavior on the sphinx rendered scikit-learn.org. See: https://github.com/scikit-learn/scikit-learn/issues/21755 */display: inline-block !important;position: relative;}#sk-container-id-1 div.sk-text-repr-fallback {display: none;}</style><div id=\"sk-container-id-1\" class=\"sk-top-container\"><div class=\"sk-text-repr-fallback\"><pre>HalvingGridSearchCV(estimator=Pipeline(steps=[(&#x27;Scaler&#x27;, StandardScaler()),\n",
       "                                              (&#x27;Clf&#x27;, BaggingClassifier())]),\n",
       "                    n_jobs=-1,\n",
       "                    param_grid={&#x27;Clf__max_features&#x27;: [0.5, 0.7, 1.0],\n",
       "                                &#x27;Clf__max_samples&#x27;: [0.5, 0.7, 1.0],\n",
       "                                &#x27;Clf__n_estimators&#x27;: [5, 10, 15, 20, 25, 50]},\n",
       "                    verbose=100)</pre><b>In a Jupyter environment, please rerun this cell to show the HTML representation or trust the notebook. <br />On GitHub, the HTML representation is unable to render, please try loading this page with nbviewer.org.</b></div><div class=\"sk-container\" hidden><div class=\"sk-item sk-dashed-wrapped\"><div class=\"sk-label-container\"><div class=\"sk-label sk-toggleable\"><input class=\"sk-toggleable__control sk-hidden--visually\" id=\"sk-estimator-id-1\" type=\"checkbox\" ><label for=\"sk-estimator-id-1\" class=\"sk-toggleable__label sk-toggleable__label-arrow\">HalvingGridSearchCV</label><div class=\"sk-toggleable__content\"><pre>HalvingGridSearchCV(estimator=Pipeline(steps=[(&#x27;Scaler&#x27;, StandardScaler()),\n",
       "                                              (&#x27;Clf&#x27;, BaggingClassifier())]),\n",
       "                    n_jobs=-1,\n",
       "                    param_grid={&#x27;Clf__max_features&#x27;: [0.5, 0.7, 1.0],\n",
       "                                &#x27;Clf__max_samples&#x27;: [0.5, 0.7, 1.0],\n",
       "                                &#x27;Clf__n_estimators&#x27;: [5, 10, 15, 20, 25, 50]},\n",
       "                    verbose=100)</pre></div></div></div><div class=\"sk-parallel\"><div class=\"sk-parallel-item\"><div class=\"sk-item\"><div class=\"sk-label-container\"><div class=\"sk-label sk-toggleable\"><input class=\"sk-toggleable__control sk-hidden--visually\" id=\"sk-estimator-id-2\" type=\"checkbox\" ><label for=\"sk-estimator-id-2\" class=\"sk-toggleable__label sk-toggleable__label-arrow\">estimator: Pipeline</label><div class=\"sk-toggleable__content\"><pre>Pipeline(steps=[(&#x27;Scaler&#x27;, StandardScaler()), (&#x27;Clf&#x27;, BaggingClassifier())])</pre></div></div></div><div class=\"sk-serial\"><div class=\"sk-item\"><div class=\"sk-serial\"><div class=\"sk-item\"><div class=\"sk-estimator sk-toggleable\"><input class=\"sk-toggleable__control sk-hidden--visually\" id=\"sk-estimator-id-3\" type=\"checkbox\" ><label for=\"sk-estimator-id-3\" class=\"sk-toggleable__label sk-toggleable__label-arrow\">StandardScaler</label><div class=\"sk-toggleable__content\"><pre>StandardScaler()</pre></div></div></div><div class=\"sk-item\"><div class=\"sk-estimator sk-toggleable\"><input class=\"sk-toggleable__control sk-hidden--visually\" id=\"sk-estimator-id-4\" type=\"checkbox\" ><label for=\"sk-estimator-id-4\" class=\"sk-toggleable__label sk-toggleable__label-arrow\">BaggingClassifier</label><div class=\"sk-toggleable__content\"><pre>BaggingClassifier()</pre></div></div></div></div></div></div></div></div></div></div></div></div>"
      ],
      "text/plain": [
       "HalvingGridSearchCV(estimator=Pipeline(steps=[('Scaler', StandardScaler()),\n",
       "                                              ('Clf', BaggingClassifier())]),\n",
       "                    n_jobs=-1,\n",
       "                    param_grid={'Clf__max_features': [0.5, 0.7, 1.0],\n",
       "                                'Clf__max_samples': [0.5, 0.7, 1.0],\n",
       "                                'Clf__n_estimators': [5, 10, 15, 20, 25, 50]},\n",
       "                    verbose=100)"
      ]
     },
     "execution_count": 4,
     "metadata": {},
     "output_type": "execute_result"
    }
   ],
   "source": [
    "X = df.drop(columns=[\"Potability\"])\n",
    "y = df.loc[:, [\"Potability\"]].values.ravel()\n",
    "\n",
    "# Holdout\n",
    "X_train, X_test, y_train, y_test = train_test_split(\n",
    "    X, y, random_state=42, shuffle=True, stratify=y\n",
    ")\n",
    "\n",
    "# Pipeline\n",
    "pipe = Pipeline(\n",
    "    [\n",
    "        (\"Scaler\", StandardScaler()),\n",
    "        (\"Clf\", BaggingClassifier()),\n",
    "    ]\n",
    ")\n",
    "\n",
    "# Grilla de Parámetros\n",
    "param_grid = {\n",
    "    \"Clf__max_features\": [0.5, 0.7, 1.0],\n",
    "    \"Clf__max_samples\": [0.5, 0.7, 1.0],\n",
    "    \"Clf__n_estimators\": [5, 10, 15, 20, 25, 50],\n",
    "}\n",
    "\n",
    "# Buscar la mejor configuración de parámetros usando HalvingGridSearchCV\n",
    "gs = HalvingGridSearchCV(pipe, param_grid, verbose=100, cv=5, n_jobs=-1)\n",
    "gs.fit(X_train, y_train)\n",
    "\n",
    "gs\n"
   ]
  },
  {
   "cell_type": "code",
   "execution_count": 5,
   "id": "b712653e",
   "metadata": {
    "cell_id": "00015-72b0432f-5f39-410e-a5af-2a5ebb307935",
    "deepnote_cell_type": "code",
    "deepnote_to_be_reexecuted": false,
    "execution_millis": 33,
    "execution_start": 1638557618427,
    "source_hash": "4b1a4df3"
   },
   "outputs": [
    {
     "name": "stdout",
     "output_type": "stream",
     "text": [
      "Mejor Modelo Grid Search: Pipeline(steps=[('Scaler', StandardScaler()),\n",
      "                ('Clf',\n",
      "                 BaggingClassifier(max_features=0.7, max_samples=0.5,\n",
      "                                   n_estimators=20))])\n",
      "\n",
      "Mejores Parámetros: {'Clf__max_features': 0.7, 'Clf__max_samples': 0.5, 'Clf__n_estimators': 20}\n",
      "\n",
      "Mejor Accuracy Grid Search: 0.6122622622622622\n",
      "\n",
      "Reporte de Clasificación\n",
      "\n",
      "              precision    recall  f1-score   support\n",
      "\n",
      "           0       0.67      0.88      0.76       300\n",
      "           1       0.67      0.35      0.46       203\n",
      "\n",
      "    accuracy                           0.67       503\n",
      "   macro avg       0.67      0.62      0.61       503\n",
      "weighted avg       0.67      0.67      0.64       503\n",
      "\n"
     ]
    }
   ],
   "source": [
    "print(f\"Mejor Modelo Grid Search: {gs.best_estimator_}\\n\")\n",
    "print(f\"Mejores Parámetros: {gs.best_params_}\\n\")\n",
    "\n",
    "print(f\"Mejor Accuracy Grid Search: {gs.best_score_}\\n\")\n",
    "\n",
    "best_random_forest = gs.best_estimator_\n",
    "y_pred = best_random_forest.predict(X_test)\n",
    "\n",
    "print(\"Reporte de Clasificación\\n\")\n",
    "print(classification_report(y_test, y_pred))"
   ]
  },
  {
   "cell_type": "markdown",
   "id": "c7096737",
   "metadata": {
    "cell_id": "00016-e0df56eb-f909-4b48-a8b6-2bda45aeb106",
    "deepnote_cell_type": "markdown"
   },
   "source": [
    "Y use `dump` de `joblib` para persistir el modelo recién entrenado en el disco."
   ]
  },
  {
   "cell_type": "code",
   "execution_count": 6,
   "id": "04bee362",
   "metadata": {
    "cell_id": "00017-cd6c517c-1b12-4ff6-a537-c60b74ab37df",
    "deepnote_cell_type": "code",
    "deepnote_output_heights": [
     21.199996948242188
    ],
    "deepnote_to_be_reexecuted": false,
    "execution_millis": 70,
    "execution_start": 1638557618475,
    "source_hash": "a1985419"
   },
   "outputs": [
    {
     "data": {
      "text/plain": [
       "['modelo.joblib']"
      ]
     },
     "execution_count": 6,
     "metadata": {},
     "output_type": "execute_result"
    }
   ],
   "source": [
    "from joblib import dump, load\n",
    "\n",
    "dump(gs, \"modelo.joblib\")"
   ]
  },
  {
   "cell_type": "markdown",
   "id": "76d0f3e8",
   "metadata": {
    "cell_id": "00018-93051d69-2024-4b28-8763-a1ca3f0e7525",
    "deepnote_cell_type": "markdown"
   },
   "source": [
    "## Parte 1: Conceptos \\[3 Puntos\\]"
   ]
  },
  {
   "cell_type": "markdown",
   "id": "87b0eb70",
   "metadata": {
    "cell_id": "00019-6e9c739a-fe66-4f9a-b84b-e3cea7809113",
    "deepnote_cell_type": "markdown"
   },
   "source": [
    "<div align=\"center\">\n",
    "  <img src=\"https://media1.tenor.com/images/14c1bcb6e0eb7c5ff4ac225f1114e819/tenor.gif?itemid=13036231\" width=\"400\">\n",
    "</div>"
   ]
  },
  {
   "cell_type": "markdown",
   "id": "04529a6b",
   "metadata": {
    "cell_id": "00020-b3b185e8-9d1f-4cb3-9043-20094101735b",
    "deepnote_cell_type": "markdown"
   },
   "source": [
    "Antes de comenzar a trabajar, la administración de la empresa de agua les pide explicar la ideas claves para el desarrollo de una aplicación web. \n",
    "\n",
    "Para esto, les pide explicar muy brevemente los siguientes conceptos:\n",
    "\n",
    "**Nota:** Puede ser de ayuda revisar la clase 24. \n",
    "\n",
    "> ¿Qué es el modelo Cliente-Servidor?\n",
    "\n",
    "La arquitectura cliente-servidor es un modelo de diseño de software en el que las tareas se reparten entre los proveedores de recursos o servicios, llamados servidores, y los demandantes, llamados clientes. Un cliente realiza peticiones a otro programa, el servidor, quien le da respuesta. El modelo Cliente-Servidor se compone de:\n",
    "\n",
    "- Cliente: Persona que demanda un servicio y espera una respuesta del servidor, usualmente a través de solicitudes hechas mediante API o una interfaz gráfica.\n",
    "\n",
    "- Servidor: Al contrario del cliente, el servidor se encarga de proveer el servicio requerido, procesando las solicitudes y emitiendo una respuesta. Una particularidad es que puede procesar varias solicitudes al mismo tiempo.\n",
    "    \n",
    "> ¿Qué es una URI?\n",
    "\n",
    "Similar a la URL, una URI (Uniform Resource Identifier) es un localizador de un recurso web y un protocolo que permite acceder a este. Se compone de:\n",
    "\n",
    "- Protocolo: por ejemplo, `https`\n",
    "\n",
    "- Dirección del recurso: por ejemplo, `en.wikipedia.org`\n",
    "\n",
    "- Archivo: por ejemplo,`Never_Gonna_Give_You_Up` (el cual es interpretado como html)\n",
    "\n",
    "Por último, una URI se diferencia de la URL en que permite incluir en la dirección una subdirección, determinada por el “fragmento”.\n",
    "    \n",
    "    \n",
    "> ¿Qué es HTTP?¿Qué significa que sea stateless?\n",
    "\n",
    "En primer lugar, un protocolo es un sistema de reglas que permite que dos o mas entidades se comuniquen con el fin de transmitir información. De esta forma, un protocolo define la sintaxis, semántica y sincronización de la comunicación.\n",
    "\n",
    "En ese sentido, HTTP es uno de los protocolos mas usados a nivel global, permitiendo la comunicación a través de archivos html y otros formatos. HTPP usa la siguiente sintaxis:\n",
    "\n",
    "- Cabeceras (Headers) que indican el protocolo.\n",
    "- Método de petición (`GET`, `POST`, `PUT`, `DELETE`, `HEAD`, `OPTION`, etc...)\n",
    "- Códigos de respuesta (`1xx`, `2xx`, `3xx`, `4xx`, `5xx`), como el 404 Not Found.\n",
    "- Cuerpo del mensaje\n",
    "\n",
    "Finalmente, que HTTP sea *stateless* significa que el servidor no necesita retener la información o status de cada interacción con los clientes. En ese sentido, el servidor \"olvida\" la información del cliente una vez la transacción termine. Un punto importante es que esto es distinto a las cookies, lo cual son un mecanismo para que servicios con protocolo HTTP si puedan recordar información de los usuarios.\n",
    "    \n",
    "> ¿En que consisten las operaciones de HTTP?: \n",
    "   \n",
    "- GET\n",
    "    \n",
    "Es una solicitud para pedir datos del servidor. \n",
    "        \n",
    "- POST\n",
    "    \n",
    "Es una solicitud para enviar datos al servidor.\n",
    "        \n",
    "- PUT\n",
    "    \n",
    "Es una solicitud para actualizar uno o más datos del servidor.\n",
    "        \n",
    "- DELETE\n",
    "    \n",
    "Es una solicitud para eliminar uno o más datos del servidor.\n",
    "        \n",
    "\n",
    "> ¿Qué indican los códigos de respuesta de HTTP?\n",
    "\n",
    "- `1xx`: Respuestas informativas (como el 102 - Processing)\n",
    "- `2xx`: Respuestas satisfactorias (como el 200 - OK) \n",
    "- `3xx`: Redirecciones (como el 302 - Moved Permanently)\n",
    "- `4xx`: Errores de los clientes (como el 404 - Not Found)\n",
    "- `5xx`: Errores de los servidores (como el 501 - Not Implemented)\n",
    "\n",
    "> ¿Qué es un Hipermedio como HTML?\n",
    "\n",
    "Un Hipermedio es la representación de la información recibida por el servidor mediante lenguanjes como HTML o XML. Un aspecto particular de los hipermedios es que es posible navegar a otro recurso REST simplemente siguiendo enlaces en el hipermedio recibido.\n",
    "\n",
    "> ¿Qué es una API?\n",
    "\n",
    "Una Interfaz de Programación de Aplicaciones o API (también conocidas como Endpoints) es el conjunto de funciones que nos permiten interactuar con el servidor. Comunmente esto se hace a través de URLs parametrizadas.\n",
    "\n",
    "> ¿Cómo API REST engloba los términos anteriores?\n",
    "\n",
    "Finalmente, una API REST (representational state transfer) cumple con:\n",
    "\n",
    "- Un protocolo cliente/servidor sin estado (stateless): cada mensaje HTTP contiene toda la información necesaria para comprender la petición. Como resultado, ni el cliente ni el servidor necesitan recordar ningún estado de las comunicaciones entre mensajes.\n",
    "\n",
    "- Un conjunto de operaciones bien definidas que se aplican a todos los recursos de información: HTTP en sí define un conjunto pequeño de operaciones, las más importantes son POST, GET, PUT y DELETE.\n",
    "\n",
    "- Una sintaxis universal para identificar los recursos. En un sistema REST, cada recurso es direccionable únicamente a través de su URI.\n",
    "\n",
    "- El uso de hipermedios, tanto para la información de la aplicación como para las transiciones de estado de la aplicación: la representación de este estado en un sistema REST son típicamente HTML o XML. \n",
    "         \n",
    "> Indique si sería buena idea o no almacenar las observaciones y predicciones que se efectuen en el servicio de predicción de agua potable y el por qué.\n",
    "\n",
    "Finalmente, no es recomendable almacenar datos en el mismo servicio de pedicción pues, para grandes volúmenes de datos, se requeriría hardware (por ejemplo, disco duro y RAM) capaz de almacenar las bases de datos y al mismo tiempo generar predicciones. En ese sentido, lo óptimo es dividir las tareas en servidores independientes, donde cada uno se dedique exclusivamente a una tarea en específico y así minimizar el hardware requerido. Así, si un cliente desea obtener una predicción, un servidor se ocupa especificamente de computar esta predicción, mientras el otro servidor toma la predicción generada y la guarda en una base de datos (por ejemplo, MongoDB)."
   ]
  },
  {
   "cell_type": "markdown",
   "id": "354d4d5f",
   "metadata": {
    "cell_id": "00021-e6d4eff2-123a-4ff3-8e11-a378adfe7660",
    "deepnote_cell_type": "markdown"
   },
   "source": [
    "---\n",
    "## Parte 2: Implementación del Servidor [3 Puntos]\n"
   ]
  },
  {
   "cell_type": "markdown",
   "id": "0d676b45",
   "metadata": {
    "cell_id": "00022-4f0766c5-ca26-481e-9319-ae194c4e7c02",
    "deepnote_cell_type": "markdown"
   },
   "source": [
    "<div align=\"center\">\n",
    "  <img src=\"https://media3.giphy.com/media/YQitE4YNQNahy/giphy-downsized-large.gif\" width=\"500\">\n",
    "</div>"
   ]
  },
  {
   "cell_type": "markdown",
   "id": "2908b0ac",
   "metadata": {
    "cell_id": "00023-45313c7b-896f-4166-ad59-1875e65e69f4",
    "deepnote_cell_type": "markdown"
   },
   "source": [
    "La municipal de agua les pide variadas funcionalidades al servidor que crearán. Su única restricción es que la implementen usando `FastAPI`.\n",
    "\n",
    "Junto a la tarea se les entrega además un archivo main.py que implementa el servidor en donde están definidas las funciones que deben implementar. Ustedes deben implementar el contenido de estas funciones.\n",
    "\n",
    "Instrucciones iniciales:\n",
    "\n",
    "- Para instalar el servidor: `pip install fastapi[all]`. \n",
    "- Para iniciarlo, en la consola de su archivo principal, ejecutar `uvicorn main:app --reload`. \n",
    "- El servidor se autorecarga cada vez que guardan un cambio en el código. \n",
    "\n",
    "> Nota: Recuerden usar las documentaciones para probar las APIs que desarrollen: http://127.0.0.1:8000/docs#/\n",
    "\n",
    "> Nota 2: Les aconsejamos seriamente intentar usar el debuger de vscode para programar el servidor."
   ]
  },
  {
   "cell_type": "markdown",
   "id": "651b24cd",
   "metadata": {},
   "source": [
    "# **Código en main.py!**"
   ]
  },
  {
   "cell_type": "markdown",
   "id": "a0328c69",
   "metadata": {
    "cell_id": "00024-46adabe2-faf7-4f46-81f4-676614bd400b",
    "deepnote_cell_type": "markdown"
   },
   "source": [
    "#### 1. \\[1 Punto\\] Predicción con `POST`\n",
    "\n",
    "A través de un `POST` a la ruta `/potabilidad` prediga si una medición de agua es o no potable. Una llamada a esta ruta debe además registrar los datos entregados más la fecha de la predicción y la clase predicha en una base de datos (ver la sección de `TinyDB` para mayor información).\n",
    "\n",
    "\n",
    "Por ejemplo, una llamada de esta ruta con un Body: \n",
    "\n",
    "\n",
    "```json\n",
    "{\n",
    "   \"ph\":10.316400384553162,\n",
    "   \"Hardness\":217.2668424334475,\n",
    "   \"Solids\":10676.508475429378,\n",
    "   \"Chloramines\":3.445514571005745,\n",
    "   \"Sulfate\":397.7549459751925,\n",
    "   \"Conductivity\":492.20647361771086,\n",
    "   \"Organic_carbon\":12.812732207582542,\n",
    "   \"Trihalomethanes\":72.28192021570328,\n",
    "   \"Turbidity\":3.4073494284238364\n",
    "}```\n",
    "\n",
    "Su serivdor debería retornar una respuesta HTML con código 200 con: \n",
    "\n",
    "\n",
    "```json\n",
    "{\n",
    "  \"potabilidad\": 0,\n",
    "  \"id\": 121 # el id/índice en donde este elemento fue insertado en la BBDD.\n",
    "}\n",
    "```\n",
    "\n",
    "Nota: puede variar según el ejemplo y el clasificador que entrenen. \n"
   ]
  },
  {
   "cell_type": "markdown",
   "id": "7ee5dd31",
   "metadata": {
    "cell_id": "00025-ecb86917-f62d-4854-bad7-1cb192773398",
    "deepnote_cell_type": "markdown"
   },
   "source": [
    "#### 2. \\[0.5 Puntos\\] Obtener Datos con `Get`\n",
    "\n",
    "\n",
    "A través de un `GET` a la ruta `/potabilidad/` entrege todas las mediciones guardadas.\n",
    "\n",
    "\n",
    "Por ejemplo: \n",
    "\n",
    "http://127.0.0.1:8000/potabilidad\n",
    "\n",
    "Debería retornar todos los registros con su fecha y predicción\n",
    "\n",
    "```json\n",
    "[\n",
    "   {\n",
    "      \"ph\":10.316400384553162,\n",
    "      \"Hardness\":217.2668424334475,\n",
    "      \"Solids\":10676.508475429378,\n",
    "      \"Chloramines\":3.445514571005745,\n",
    "      \"Sulfate\":397.7549459751925,\n",
    "      \"Conductivity\":492.20647361771086,\n",
    "      \"Organic_carbon\":12.812732207582542,\n",
    "      \"Trihalomethanes\":72.28192021570328,\n",
    "      \"Turbidity\":3.4073494284238364,\n",
    "      \"Day\":17,\n",
    "      \"Month\":7,\n",
    "      \"Year\":2021,\n",
    "      \"Prediction\":0\n",
    "   },\n",
    "   {\n",
    "      \"ph\":6.599593818953803,\n",
    "      \"Hardness\":198.323260816452,\n",
    "      \"Solids\":21078.887166441476,\n",
    "      \"Chloramines\":6.23423148205243,\n",
    "      \"Sulfate\":331.49563679988063,\n",
    "      \"Conductivity\":447.9877914293426,\n",
    "      \"Organic_carbon\":12.93630432875392,\n",
    "      \"Trihalomethanes\":59.833619304688185,\n",
    "      \"Turbidity\":4.702310752770497,\n",
    "      \"Day\":17,\n",
    "      \"Month\":7,\n",
    "      \"Year\":2021,\n",
    "      \"Prediction\":0\n",
    "   },\n",
    "   {\n",
    "      \"ph\":7.920794564373236,\n",
    "      \"Hardness\":173.35715056714022,\n",
    "      \"Solids\":13454.634777245552,\n",
    "      \"Chloramines\":6.947895137367302,\n",
    "      \"Sulfate\":356.768119344542,\n",
    "      \"Conductivity\":471.3686945543212,\n",
    "      \"Organic_carbon\":16.47783972341182,\n",
    "      \"Trihalomethanes\":68.00050835002364,\n",
    "      \"Turbidity\":3.3743265226271983,\n",
    "      \"Day\":17,\n",
    "      \"Month\":7,\n",
    "      \"Year\":2021,\n",
    "      \"Prediction\":0\n",
    "   }, \n",
    "   ...\n",
    "]\n",
    "```\n",
    "\n",
    "Nota: Esta es bastante sencilla, no debería tomarles más de 2 lineas."
   ]
  },
  {
   "cell_type": "markdown",
   "id": "123f5840",
   "metadata": {
    "cell_id": "00026-a389f8dc-19b6-4655-b0b4-aa967ac50d1e",
    "deepnote_cell_type": "markdown"
   },
   "source": [
    "#### 3. \\[0.5 Puntos\\] `GET` con parámetros\n",
    " A través de un `GET` a la ruta `/potabilidad_diaria/` con los parámetros día, mes y año entrege todas las mediciones guardadas correspondientes a esa fecha.\n",
    "\n",
    "Por ejemplo: \n",
    "\n",
    "http://127.0.0.1:8000/potabilidad/?day=17&month=7&year=2021\n",
    "\n",
    "Debería entregar las mediciones asignadas al día 17 del mes 7 del año 2021:\n",
    "\n",
    "```json\n",
    "\n",
    "[\n",
    "    {\"ph\":10.316400384553162,\"Hardness\":217.2668424334475,\"Solids\":10676.508475429378,\"Chloramines\":3.445514571005745,\"Sulfate\":397.7549459751925,\"Conductivity\":492.20647361771086,\"Organic_carbon\":12.812732207582542,\"Trihalomethanes\":72.28192021570328,\"Turbidity\":3.4073494284238364,\"Day\":17,\"Month\":7,\"Year\":2021,\"Prediction\":0},{\"ph\":6.599593818953803,\"Hardness\":198.323260816452,\"Solids\":21078.887166441476,\"Chloramines\":6.23423148205243,\"Sulfate\":331.49563679988063,\"Conductivity\":447.9877914293426,\"Organic_carbon\":12.93630432875392,\"Trihalomethanes\":59.833619304688185,\"Turbidity\":4.702310752770497,\"Day\":17,\"Month\":7,\"Year\":2021,\"Prediction\":0},{\"ph\":7.920794564373236,\"Hardness\":173.35715056714022,\"Solids\":13454.634777245552,\"Chloramines\":6.947895137367302,\"Sulfate\":356.768119344542,\"Conductivity\":471.3686945543212,\"Organic_carbon\":16.47783972341182,\"Trihalomethanes\":68.00050835002364,\"Turbidity\":3.3743265226271983,\"Day\":17,\"Month\":7,\"Year\":2021,\"Prediction\":0},\n",
    "...\n",
    "]\n",
    "```\n",
    "\n",
    "**NOTA**: En la BBDD de prueba existen registros para los días 14, 15, 16, 17, 18 y 19 del 7 de 2021.\n",
    "\n"
   ]
  },
  {
   "cell_type": "markdown",
   "id": "55a73c76",
   "metadata": {
    "cell_id": "00027-892b05c4-6469-4971-aa83-36600794db25",
    "deepnote_cell_type": "markdown"
   },
   "source": [
    "#### 4. \\[0.5 Puntos\\] `PUT` con parámetros:\n",
    "\n",
    "A través de un `PUT` a la ruta `/potabilidad/`, con los parámetros día, mes, año y clase nueva, actualize la potabilidad de las observaciones según lo entregado.\n",
    "\n",
    "Ejemplo: \n",
    "\n",
    "http://127.0.0.1:8000/potabilidad/?day=17&month=7&year=2021&new_prediction=1\n",
    "\n",
    "Debería actualizar la predicción de todos los registros del día 17/07/2021 a la clase 1 y retornar si fue exitoso o no y una lista de los documentos actualizados.\n",
    "\n",
    "\n",
    "```json\n",
    "{\n",
    "  \"success\": true,\n",
    "  \"updated_elements\": [\n",
    "    61,\n",
    "    62,\n",
    "    63,\n",
    "    64,\n",
    "    65,\n",
    "    66,\n",
    "    67,\n",
    "    68,\n",
    "    69,\n",
    "    70,\n",
    "    71,\n",
    "    72,\n",
    "    73,\n",
    "    74,\n",
    "    75,\n",
    "    76,\n",
    "    77,\n",
    "    78,\n",
    "    79,\n",
    "    80\n",
    "  ]\n",
    "}\n",
    "```"
   ]
  },
  {
   "cell_type": "markdown",
   "id": "8fec5505",
   "metadata": {
    "cell_id": "00028-322c930c-c202-49da-b68d-8d1cc36417f8",
    "deepnote_cell_type": "markdown"
   },
   "source": [
    "#### 5. \\[0.5 Puntos\\] `DELETE` con parámetros:\n",
    "\n",
    "A través de un `DELETE` a la ruta `/potabilidad/`, con parámetros día, mes y año, elimine todas las observaciones de ese día.\n",
    "\n",
    "Ejemplo: \n",
    "    \n",
    "http://127.0.0.1:8000/potabilidad/?day=17&month=7&year=2021\n",
    "    \n",
    "Debería retornar: \n",
    "    \n",
    "    \n",
    "```json\n",
    "{\n",
    "  \"success\": true,\n",
    "  \"deleted_elements\": [\n",
    "    61,\n",
    "    62,\n",
    "    63,\n",
    "    64,\n",
    "    65,\n",
    "    66,\n",
    "    67,\n",
    "    68,\n",
    "    69,\n",
    "    70,\n",
    "    71,\n",
    "    72,\n",
    "    73,\n",
    "    74,\n",
    "    75,\n",
    "    76,\n",
    "    77,\n",
    "    78,\n",
    "    79,\n",
    "    80\n",
    "  ]\n",
    "}\n",
    "\n",
    "```"
   ]
  },
  {
   "cell_type": "markdown",
   "id": "444065f8",
   "metadata": {
    "cell_id": "00029-85f2365f-afcc-4242-b88d-12b7dff6652d",
    "deepnote_cell_type": "markdown"
   },
   "source": [
    "----\n",
    "\n",
    "### Paréntesis: Tutorial BBDD y `TinyDB`\n",
    "\n",
    "\n",
    "Un sistema gestor de base de datos (SGBD) según wikipedia es: \n",
    " \n",
    "> Un conjunto de programas que permiten el almacenamiento, modificación y extracción de la información en una base de datos.\n",
    "\n",
    "En general, es la interfaz con la cual nos comunicamos con la BBDD y que a la vez, administra los datos y todo lo relacionado con estos.\n",
    "\n",
    "---\n",
    "\n",
    "`TinyDB` es un gestor de base de datos minimalista para Python orientada a documentos. Es decir, está enfocada a guardar datos en forma de diccionarios. En nuestro caso, la usaremos como ejemplo para el lab, pero en el caso general, es recomendable usar mejores gestores de BBDD de documentos como MongoDB (la cual, se parece mucho a esta).\n",
    "\n",
    "\n",
    "A continuación un ejemplo de uso (que pueden usar junto al desarrollo de la tarea)"
   ]
  },
  {
   "cell_type": "code",
   "execution_count": 11,
   "id": "2964e0b8",
   "metadata": {
    "cell_id": "00030-4b0a57b4-900a-4ada-b4f5-06f32daa2294",
    "deepnote_cell_type": "code",
    "deepnote_to_be_reexecuted": false,
    "execution_millis": 4115,
    "execution_start": 1638557618554,
    "source_hash": "8232f688"
   },
   "outputs": [
    {
     "name": "stdout",
     "output_type": "stream",
     "text": [
      "Requirement already satisfied: tinydb in /Users/stino/opt/anaconda3/lib/python3.8/site-packages (4.5.2)\r\n"
     ]
    }
   ],
   "source": [
    "!pip install tinydb"
   ]
  },
  {
   "cell_type": "code",
   "execution_count": 13,
   "id": "21e5d84d",
   "metadata": {},
   "outputs": [
    {
     "data": {
      "text/html": [
       "<div>\n",
       "<style scoped>\n",
       "    .dataframe tbody tr th:only-of-type {\n",
       "        vertical-align: middle;\n",
       "    }\n",
       "\n",
       "    .dataframe tbody tr th {\n",
       "        vertical-align: top;\n",
       "    }\n",
       "\n",
       "    .dataframe thead th {\n",
       "        text-align: right;\n",
       "    }\n",
       "</style>\n",
       "<table border=\"1\" class=\"dataframe\">\n",
       "  <thead>\n",
       "    <tr style=\"text-align: right;\">\n",
       "      <th></th>\n",
       "      <th>ph</th>\n",
       "      <th>Hardness</th>\n",
       "      <th>Solids</th>\n",
       "      <th>Chloramines</th>\n",
       "      <th>Sulfate</th>\n",
       "      <th>Conductivity</th>\n",
       "      <th>Organic_carbon</th>\n",
       "      <th>Trihalomethanes</th>\n",
       "      <th>Turbidity</th>\n",
       "      <th>Potability</th>\n",
       "    </tr>\n",
       "  </thead>\n",
       "  <tbody>\n",
       "    <tr>\n",
       "      <th>788</th>\n",
       "      <td>9.622106</td>\n",
       "      <td>182.909728</td>\n",
       "      <td>30307.217675</td>\n",
       "      <td>5.657004</td>\n",
       "      <td>422.445681</td>\n",
       "      <td>573.330497</td>\n",
       "      <td>17.699718</td>\n",
       "      <td>45.906782</td>\n",
       "      <td>3.975572</td>\n",
       "      <td>1</td>\n",
       "    </tr>\n",
       "  </tbody>\n",
       "</table>\n",
       "</div>"
      ],
      "text/plain": [
       "           ph    Hardness        Solids  Chloramines     Sulfate  \\\n",
       "788  9.622106  182.909728  30307.217675     5.657004  422.445681   \n",
       "\n",
       "     Conductivity  Organic_carbon  Trihalomethanes  Turbidity  Potability  \n",
       "788    573.330497       17.699718        45.906782   3.975572           1  "
      ]
     },
     "execution_count": 13,
     "metadata": {},
     "output_type": "execute_result"
    }
   ],
   "source": [
    "df.sample()"
   ]
  },
  {
   "cell_type": "code",
   "execution_count": 14,
   "id": "a821fa91",
   "metadata": {
    "cell_id": "00031-9d153445-2fc3-4464-b68c-56d96474f23f",
    "deepnote_cell_type": "code",
    "deepnote_to_be_reexecuted": false,
    "execution_millis": 9,
    "execution_start": 1638557622681,
    "source_hash": "edf447ee",
    "tags": []
   },
   "outputs": [
    {
     "data": {
      "text/html": [
       "<div>\n",
       "<style scoped>\n",
       "    .dataframe tbody tr th:only-of-type {\n",
       "        vertical-align: middle;\n",
       "    }\n",
       "\n",
       "    .dataframe tbody tr th {\n",
       "        vertical-align: top;\n",
       "    }\n",
       "\n",
       "    .dataframe thead th {\n",
       "        text-align: right;\n",
       "    }\n",
       "</style>\n",
       "<table border=\"1\" class=\"dataframe\">\n",
       "  <thead>\n",
       "    <tr style=\"text-align: right;\">\n",
       "      <th></th>\n",
       "      <th>ph</th>\n",
       "      <th>Hardness</th>\n",
       "      <th>Solids</th>\n",
       "      <th>Chloramines</th>\n",
       "      <th>Sulfate</th>\n",
       "      <th>Conductivity</th>\n",
       "      <th>Organic_carbon</th>\n",
       "      <th>Trihalomethanes</th>\n",
       "      <th>Turbidity</th>\n",
       "      <th>Potability</th>\n",
       "      <th>Day</th>\n",
       "      <th>Month</th>\n",
       "      <th>Year</th>\n",
       "    </tr>\n",
       "  </thead>\n",
       "  <tbody>\n",
       "    <tr>\n",
       "      <th>1943</th>\n",
       "      <td>8.185923</td>\n",
       "      <td>240.979104</td>\n",
       "      <td>23641.472028</td>\n",
       "      <td>6.611449</td>\n",
       "      <td>318.68901</td>\n",
       "      <td>410.158222</td>\n",
       "      <td>13.109911</td>\n",
       "      <td>56.913981</td>\n",
       "      <td>3.566945</td>\n",
       "      <td>1</td>\n",
       "      <td>2</td>\n",
       "      <td>7</td>\n",
       "      <td>2022</td>\n",
       "    </tr>\n",
       "  </tbody>\n",
       "</table>\n",
       "</div>"
      ],
      "text/plain": [
       "            ph    Hardness        Solids  Chloramines    Sulfate  \\\n",
       "1943  8.185923  240.979104  23641.472028     6.611449  318.68901   \n",
       "\n",
       "      Conductivity  Organic_carbon  Trihalomethanes  Turbidity  Potability  \\\n",
       "1943    410.158222       13.109911        56.913981   3.566945           1   \n",
       "\n",
       "      Day  Month  Year  \n",
       "1943    2      7  2022  "
      ]
     },
     "execution_count": 14,
     "metadata": {},
     "output_type": "execute_result"
    }
   ],
   "source": [
    "from datetime import datetime\n",
    "\n",
    "# obtenemos un ejemplo de\n",
    "ejemplo = df.sample()\n",
    "\n",
    "# agregamos la fecha\n",
    "hoy = datetime.now()\n",
    "ejemplo[\"Day\"] = hoy.day\n",
    "ejemplo[\"Month\"] = hoy.month\n",
    "ejemplo[\"Year\"] = hoy.year\n",
    "ejemplo.head()"
   ]
  },
  {
   "cell_type": "code",
   "execution_count": 15,
   "id": "8ceca122",
   "metadata": {
    "cell_id": "00032-773c01e8-5246-41a8-998e-030b4ec3a9c7",
    "deepnote_cell_type": "code",
    "deepnote_output_heights": [
     251.60000610351562
    ],
    "deepnote_to_be_reexecuted": false,
    "execution_millis": 264,
    "execution_start": 1638557622699,
    "source_hash": "d3def48d"
   },
   "outputs": [
    {
     "data": {
      "text/plain": [
       "[{'ph': 8.185923417313038,\n",
       "  'Hardness': 240.9791037623137,\n",
       "  'Solids': 23641.472028426168,\n",
       "  'Chloramines': 6.611448597083937,\n",
       "  'Sulfate': 318.6890103719636,\n",
       "  'Conductivity': 410.1582218451634,\n",
       "  'Organic_carbon': 13.1099108733074,\n",
       "  'Trihalomethanes': 56.91398086899888,\n",
       "  'Turbidity': 3.566945145029043,\n",
       "  'Potability': 1,\n",
       "  'Day': 2,\n",
       "  'Month': 7,\n",
       "  'Year': 2022}]"
      ]
     },
     "execution_count": 15,
     "metadata": {},
     "output_type": "execute_result"
    }
   ],
   "source": [
    "ejemplo_dict = ejemplo.to_dict(orient=\"records\")  # convertimos a diccionario\n",
    "ejemplo_dict  # tinidb puede trabajar con este formato de datos"
   ]
  },
  {
   "cell_type": "markdown",
   "id": "a84b92f4",
   "metadata": {
    "cell_id": "00033-da792d2a-4fa2-4526-b1ee-3bc149959776",
    "deepnote_cell_type": "markdown"
   },
   "source": [
    "Primero, creamos un cliente que cargue la base de datos (que ya contiene datos del agua).\n"
   ]
  },
  {
   "cell_type": "code",
   "execution_count": 106,
   "id": "b3cf6d1e",
   "metadata": {
    "cell_id": "00034-7b8c6872-ea09-499d-8d77-44492c49ea09",
    "deepnote_cell_type": "code",
    "deepnote_to_be_reexecuted": false,
    "execution_millis": 28,
    "execution_start": 1638557622722,
    "source_hash": "aa493eee"
   },
   "outputs": [],
   "source": [
    "from tinydb import Query, TinyDB\n",
    "\n",
    "db = TinyDB(\"./db_ejemplo.json\")"
   ]
  },
  {
   "cell_type": "markdown",
   "id": "8d63e1e9",
   "metadata": {
    "cell_id": "00035-d3413202-2ffb-424f-9c91-c778d9f9e5f7",
    "deepnote_cell_type": "markdown"
   },
   "source": [
    "Para insertar el ejemplo en la base de datos, usamos `insert`"
   ]
  },
  {
   "cell_type": "code",
   "execution_count": 107,
   "id": "e2cf2e26",
   "metadata": {
    "cell_id": "00036-fae91379-df89-4f6e-8bea-5483776c01cd",
    "deepnote_cell_type": "code",
    "deepnote_output_heights": [
     21.199996948242188
    ],
    "deepnote_to_be_reexecuted": false,
    "execution_millis": 205,
    "execution_start": 1638557622760,
    "source_hash": "ffd8ee4b"
   },
   "outputs": [
    {
     "data": {
      "text/plain": [
       "129"
      ]
     },
     "execution_count": 107,
     "metadata": {},
     "output_type": "execute_result"
    }
   ],
   "source": [
    "db.insert(\n",
    "    ejemplo_dict[0]\n",
    ")  # insertamos solo el diccionario, no la lista con el diccionario.\n",
    "\n",
    "# el número que imprime (121) indica id (indice) interno del documento recién insertado."
   ]
  },
  {
   "cell_type": "markdown",
   "id": "0fb7332b",
   "metadata": {
    "cell_id": "00037-49c38bdc-4e2c-4568-a879-3c06c140abe0",
    "deepnote_cell_type": "markdown"
   },
   "source": [
    "Para pedir todos los datos almacenados, usamos `all()`"
   ]
  },
  {
   "cell_type": "code",
   "execution_count": 108,
   "id": "bfb5c373",
   "metadata": {
    "cell_id": "00038-6dfa2db0-d4ad-46cd-8540-a2c24ea4f343",
    "deepnote_cell_type": "code",
    "deepnote_output_heights": [
     611
    ],
    "deepnote_to_be_reexecuted": false,
    "execution_millis": 139,
    "execution_start": 1638557622827,
    "source_hash": "3c277be4"
   },
   "outputs": [
    {
     "data": {
      "text/plain": [
       "[{'ph': 9.085637101693884,\n",
       "  'Hardness': 238.22196802665175,\n",
       "  'Solids': 9001.658753142132,\n",
       "  'Chloramines': 9.820230918736057,\n",
       "  'Sulfate': 325.1048470296242,\n",
       "  'Conductivity': 381.3465821492757,\n",
       "  'Organic_carbon': 19.19574006013147,\n",
       "  'Trihalomethanes': 98.49081929088932,\n",
       "  'Turbidity': 2.544020275544053,\n",
       "  'Day': 15,\n",
       "  'Month': 7,\n",
       "  'Year': 2021,\n",
       "  'Prediction': 0},\n",
       " {'ph': 6.592442507785291,\n",
       "  'Hardness': 242.4804726770679,\n",
       "  'Solids': 9381.239930798449,\n",
       "  'Chloramines': 7.303183678175727,\n",
       "  'Sulfate': 312.8143949567998,\n",
       "  'Conductivity': 440.60113456028665,\n",
       "  'Organic_carbon': 14.02729679512936,\n",
       "  'Trihalomethanes': 70.92987947008055,\n",
       "  'Turbidity': 3.0608273538358923,\n",
       "  'Day': 15,\n",
       "  'Month': 7,\n",
       "  'Year': 2021,\n",
       "  'Prediction': 0},\n",
       " {'ph': 8.990317233704655,\n",
       "  'Hardness': 195.80902842150493,\n",
       "  'Solids': 23728.29401456205,\n",
       "  'Chloramines': 7.508305289508399,\n",
       "  'Sulfate': 348.71461261339243,\n",
       "  'Conductivity': 551.5403897934349,\n",
       "  'Organic_carbon': 15.254391841066877,\n",
       "  'Trihalomethanes': 75.9078693330705,\n",
       "  'Turbidity': 4.494544339362194,\n",
       "  'Day': 15,\n",
       "  'Month': 7,\n",
       "  'Year': 2021,\n",
       "  'Prediction': 0},\n",
       " {'ph': 6.7391576920220535,\n",
       "  'Hardness': 156.48275940474178,\n",
       "  'Solids': 30950.681099821508,\n",
       "  'Chloramines': 6.543089824078055,\n",
       "  'Sulfate': 363.1796235138332,\n",
       "  'Conductivity': 425.288836697235,\n",
       "  'Organic_carbon': 11.653457753679334,\n",
       "  'Trihalomethanes': 70.36704881802933,\n",
       "  'Turbidity': 5.214484016180421,\n",
       "  'Day': 15,\n",
       "  'Month': 7,\n",
       "  'Year': 2021,\n",
       "  'Prediction': 0},\n",
       " {'ph': 6.492627157365379,\n",
       "  'Hardness': 213.06538481772856,\n",
       "  'Solids': 34314.08709117726,\n",
       "  'Chloramines': 9.04114608484344,\n",
       "  'Sulfate': 335.29192590906365,\n",
       "  'Conductivity': 313.2547429967247,\n",
       "  'Organic_carbon': 11.135311827023884,\n",
       "  'Trihalomethanes': 70.82910986892458,\n",
       "  'Turbidity': 3.3787784927745594,\n",
       "  'Day': 15,\n",
       "  'Month': 7,\n",
       "  'Year': 2021,\n",
       "  'Prediction': 0},\n",
       " {'ph': 6.753128352860487,\n",
       "  'Hardness': 191.9829945402664,\n",
       "  'Solids': 18222.931957438417,\n",
       "  'Chloramines': 3.9209736624247262,\n",
       "  'Sulfate': 296.1966180415413,\n",
       "  'Conductivity': 389.742462140902,\n",
       "  'Organic_carbon': 9.689143567978247,\n",
       "  'Trihalomethanes': 92.21961522923112,\n",
       "  'Turbidity': 5.102516756563615,\n",
       "  'Day': 15,\n",
       "  'Month': 7,\n",
       "  'Year': 2021,\n",
       "  'Prediction': 0},\n",
       " {'ph': 8.296344055589273,\n",
       "  'Hardness': 198.19705121398164,\n",
       "  'Solids': 17468.99980174377,\n",
       "  'Chloramines': 8.262903987469691,\n",
       "  'Sulfate': 369.5907404838077,\n",
       "  'Conductivity': 294.32514221521586,\n",
       "  'Organic_carbon': 18.026098152350755,\n",
       "  'Trihalomethanes': 44.06162518425721,\n",
       "  'Turbidity': 5.400810789347245,\n",
       "  'Day': 15,\n",
       "  'Month': 7,\n",
       "  'Year': 2021,\n",
       "  'Prediction': 0},\n",
       " {'ph': 7.918183320861496,\n",
       "  'Hardness': 224.15200454884612,\n",
       "  'Solids': 20012.172975903424,\n",
       "  'Chloramines': 9.00872609354944,\n",
       "  'Sulfate': 302.393605292741,\n",
       "  'Conductivity': 421.8900828269085,\n",
       "  'Organic_carbon': 22.187849207934164,\n",
       "  'Trihalomethanes': 72.72786842315767,\n",
       "  'Turbidity': 4.764193594306708,\n",
       "  'Day': 15,\n",
       "  'Month': 7,\n",
       "  'Year': 2021,\n",
       "  'Prediction': 0},\n",
       " {'ph': 8.783167623905637,\n",
       "  'Hardness': 218.0328397705385,\n",
       "  'Solids': 16183.586649397506,\n",
       "  'Chloramines': 7.390474095948067,\n",
       "  'Sulfate': 334.0538854587382,\n",
       "  'Conductivity': 389.0216156030328,\n",
       "  'Organic_carbon': 16.354520235606856,\n",
       "  'Trihalomethanes': 47.10098206923328,\n",
       "  'Turbidity': 4.274136884143136,\n",
       "  'Day': 15,\n",
       "  'Month': 7,\n",
       "  'Year': 2021,\n",
       "  'Prediction': 0},\n",
       " {'ph': 8.159666704184943,\n",
       "  'Hardness': 215.64821633422147,\n",
       "  'Solids': 17068.29886291952,\n",
       "  'Chloramines': 8.769621767000698,\n",
       "  'Sulfate': 319.2532011303291,\n",
       "  'Conductivity': 459.54115883111615,\n",
       "  'Organic_carbon': 14.192544352996777,\n",
       "  'Trihalomethanes': 60.37372230282647,\n",
       "  'Turbidity': 2.9571948491508118,\n",
       "  'Day': 15,\n",
       "  'Month': 7,\n",
       "  'Year': 2021,\n",
       "  'Prediction': 0}]"
      ]
     },
     "execution_count": 108,
     "metadata": {},
     "output_type": "execute_result"
    }
   ],
   "source": [
    "db.all()[0:10] # limitamos de 0 10 para que solo se muestren 10 ejemplos"
   ]
  },
  {
   "cell_type": "markdown",
   "id": "be15eb09",
   "metadata": {
    "cell_id": "00039-5eaf0923-e9e0-44b5-974a-90215ffccb5e",
    "deepnote_cell_type": "markdown"
   },
   "source": [
    "#### Consultas\n",
    "\n",
    "Podemos hacer consultas, es decir, obtener algunos archivos según algún criterio, a través un objeto `Query` y `search`:"
   ]
  },
  {
   "cell_type": "code",
   "execution_count": 109,
   "id": "2c26c682",
   "metadata": {
    "cell_id": "00040-b94278fd-c575-41e5-9fed-90adce328f15",
    "deepnote_cell_type": "code",
    "deepnote_output_heights": [
     611
    ],
    "deepnote_to_be_reexecuted": false,
    "execution_millis": 96,
    "execution_start": 1638557622871,
    "source_hash": "ba4079ba"
   },
   "outputs": [
    {
     "data": {
      "text/plain": [
       "[{'ph': 9.085637101693884,\n",
       "  'Hardness': 238.22196802665175,\n",
       "  'Solids': 9001.658753142132,\n",
       "  'Chloramines': 9.820230918736057,\n",
       "  'Sulfate': 325.1048470296242,\n",
       "  'Conductivity': 381.3465821492757,\n",
       "  'Organic_carbon': 19.19574006013147,\n",
       "  'Trihalomethanes': 98.49081929088932,\n",
       "  'Turbidity': 2.544020275544053,\n",
       "  'Day': 15,\n",
       "  'Month': 7,\n",
       "  'Year': 2021,\n",
       "  'Prediction': 0},\n",
       " {'ph': 6.592442507785291,\n",
       "  'Hardness': 242.4804726770679,\n",
       "  'Solids': 9381.239930798449,\n",
       "  'Chloramines': 7.303183678175727,\n",
       "  'Sulfate': 312.8143949567998,\n",
       "  'Conductivity': 440.60113456028665,\n",
       "  'Organic_carbon': 14.02729679512936,\n",
       "  'Trihalomethanes': 70.92987947008055,\n",
       "  'Turbidity': 3.0608273538358923,\n",
       "  'Day': 15,\n",
       "  'Month': 7,\n",
       "  'Year': 2021,\n",
       "  'Prediction': 0},\n",
       " {'ph': 8.990317233704655,\n",
       "  'Hardness': 195.80902842150493,\n",
       "  'Solids': 23728.29401456205,\n",
       "  'Chloramines': 7.508305289508399,\n",
       "  'Sulfate': 348.71461261339243,\n",
       "  'Conductivity': 551.5403897934349,\n",
       "  'Organic_carbon': 15.254391841066877,\n",
       "  'Trihalomethanes': 75.9078693330705,\n",
       "  'Turbidity': 4.494544339362194,\n",
       "  'Day': 15,\n",
       "  'Month': 7,\n",
       "  'Year': 2021,\n",
       "  'Prediction': 0},\n",
       " {'ph': 6.7391576920220535,\n",
       "  'Hardness': 156.48275940474178,\n",
       "  'Solids': 30950.681099821508,\n",
       "  'Chloramines': 6.543089824078055,\n",
       "  'Sulfate': 363.1796235138332,\n",
       "  'Conductivity': 425.288836697235,\n",
       "  'Organic_carbon': 11.653457753679334,\n",
       "  'Trihalomethanes': 70.36704881802933,\n",
       "  'Turbidity': 5.214484016180421,\n",
       "  'Day': 15,\n",
       "  'Month': 7,\n",
       "  'Year': 2021,\n",
       "  'Prediction': 0},\n",
       " {'ph': 6.492627157365379,\n",
       "  'Hardness': 213.06538481772856,\n",
       "  'Solids': 34314.08709117726,\n",
       "  'Chloramines': 9.04114608484344,\n",
       "  'Sulfate': 335.29192590906365,\n",
       "  'Conductivity': 313.2547429967247,\n",
       "  'Organic_carbon': 11.135311827023884,\n",
       "  'Trihalomethanes': 70.82910986892458,\n",
       "  'Turbidity': 3.3787784927745594,\n",
       "  'Day': 15,\n",
       "  'Month': 7,\n",
       "  'Year': 2021,\n",
       "  'Prediction': 0},\n",
       " {'ph': 6.753128352860487,\n",
       "  'Hardness': 191.9829945402664,\n",
       "  'Solids': 18222.931957438417,\n",
       "  'Chloramines': 3.9209736624247262,\n",
       "  'Sulfate': 296.1966180415413,\n",
       "  'Conductivity': 389.742462140902,\n",
       "  'Organic_carbon': 9.689143567978247,\n",
       "  'Trihalomethanes': 92.21961522923112,\n",
       "  'Turbidity': 5.102516756563615,\n",
       "  'Day': 15,\n",
       "  'Month': 7,\n",
       "  'Year': 2021,\n",
       "  'Prediction': 0},\n",
       " {'ph': 8.296344055589273,\n",
       "  'Hardness': 198.19705121398164,\n",
       "  'Solids': 17468.99980174377,\n",
       "  'Chloramines': 8.262903987469691,\n",
       "  'Sulfate': 369.5907404838077,\n",
       "  'Conductivity': 294.32514221521586,\n",
       "  'Organic_carbon': 18.026098152350755,\n",
       "  'Trihalomethanes': 44.06162518425721,\n",
       "  'Turbidity': 5.400810789347245,\n",
       "  'Day': 15,\n",
       "  'Month': 7,\n",
       "  'Year': 2021,\n",
       "  'Prediction': 0},\n",
       " {'ph': 7.918183320861496,\n",
       "  'Hardness': 224.15200454884612,\n",
       "  'Solids': 20012.172975903424,\n",
       "  'Chloramines': 9.00872609354944,\n",
       "  'Sulfate': 302.393605292741,\n",
       "  'Conductivity': 421.8900828269085,\n",
       "  'Organic_carbon': 22.187849207934164,\n",
       "  'Trihalomethanes': 72.72786842315767,\n",
       "  'Turbidity': 4.764193594306708,\n",
       "  'Day': 15,\n",
       "  'Month': 7,\n",
       "  'Year': 2021,\n",
       "  'Prediction': 0},\n",
       " {'ph': 8.783167623905637,\n",
       "  'Hardness': 218.0328397705385,\n",
       "  'Solids': 16183.586649397506,\n",
       "  'Chloramines': 7.390474095948067,\n",
       "  'Sulfate': 334.0538854587382,\n",
       "  'Conductivity': 389.0216156030328,\n",
       "  'Organic_carbon': 16.354520235606856,\n",
       "  'Trihalomethanes': 47.10098206923328,\n",
       "  'Turbidity': 4.274136884143136,\n",
       "  'Day': 15,\n",
       "  'Month': 7,\n",
       "  'Year': 2021,\n",
       "  'Prediction': 0},\n",
       " {'ph': 8.159666704184943,\n",
       "  'Hardness': 215.64821633422147,\n",
       "  'Solids': 17068.29886291952,\n",
       "  'Chloramines': 8.769621767000698,\n",
       "  'Sulfate': 319.2532011303291,\n",
       "  'Conductivity': 459.54115883111615,\n",
       "  'Organic_carbon': 14.192544352996777,\n",
       "  'Trihalomethanes': 60.37372230282647,\n",
       "  'Turbidity': 2.9571948491508118,\n",
       "  'Day': 15,\n",
       "  'Month': 7,\n",
       "  'Year': 2021,\n",
       "  'Prediction': 0},\n",
       " {'ph': 7.685396843315841,\n",
       "  'Hardness': 230.335707570874,\n",
       "  'Solids': 7324.701425458467,\n",
       "  'Chloramines': 7.991366182885692,\n",
       "  'Sulfate': 331.5125334296874,\n",
       "  'Conductivity': 492.8503913894517,\n",
       "  'Organic_carbon': 14.233951597560974,\n",
       "  'Trihalomethanes': 74.0686581571863,\n",
       "  'Turbidity': 4.179187127681619,\n",
       "  'Day': 15,\n",
       "  'Month': 7,\n",
       "  'Year': 2021,\n",
       "  'Prediction': 0},\n",
       " {'ph': 7.76202074451675,\n",
       "  'Hardness': 173.63674203102448,\n",
       "  'Solids': 15548.416673502205,\n",
       "  'Chloramines': 5.018671102233063,\n",
       "  'Sulfate': 330.39097625993696,\n",
       "  'Conductivity': 520.6407737607899,\n",
       "  'Organic_carbon': 11.147704109056631,\n",
       "  'Trihalomethanes': 87.48150459921058,\n",
       "  'Turbidity': 3.2563013285827784,\n",
       "  'Day': 15,\n",
       "  'Month': 7,\n",
       "  'Year': 2021,\n",
       "  'Prediction': 0},\n",
       " {'ph': 7.207931097430971,\n",
       "  'Hardness': 204.0103465293257,\n",
       "  'Solids': 18493.872175475164,\n",
       "  'Chloramines': 5.557863755660677,\n",
       "  'Sulfate': 311.5682271859919,\n",
       "  'Conductivity': 437.51204208786646,\n",
       "  'Organic_carbon': 12.99459553667674,\n",
       "  'Trihalomethanes': 31.39045029431969,\n",
       "  'Turbidity': 4.705561883525115,\n",
       "  'Day': 15,\n",
       "  'Month': 7,\n",
       "  'Year': 2021,\n",
       "  'Prediction': 0},\n",
       " {'ph': 6.98704150028991,\n",
       "  'Hardness': 169.7271157728339,\n",
       "  'Solids': 19472.624328496444,\n",
       "  'Chloramines': 5.017698088295537,\n",
       "  'Sulfate': 366.0189195933706,\n",
       "  'Conductivity': 425.6709639584517,\n",
       "  'Organic_carbon': 17.31468112565352,\n",
       "  'Trihalomethanes': 48.8821984337697,\n",
       "  'Turbidity': 4.475161102744778,\n",
       "  'Day': 15,\n",
       "  'Month': 7,\n",
       "  'Year': 2021,\n",
       "  'Prediction': 0},\n",
       " {'ph': 4.69219656349297,\n",
       "  'Hardness': 221.54777341772672,\n",
       "  'Solids': 24211.63077025936,\n",
       "  'Chloramines': 9.363249825363392,\n",
       "  'Sulfate': 307.71399582698444,\n",
       "  'Conductivity': 406.55166701639206,\n",
       "  'Organic_carbon': 12.6182517815746,\n",
       "  'Trihalomethanes': 60.003147675998655,\n",
       "  'Turbidity': 4.009006061677201,\n",
       "  'Day': 15,\n",
       "  'Month': 7,\n",
       "  'Year': 2021,\n",
       "  'Prediction': 0},\n",
       " {'ph': 10.695532491586295,\n",
       "  'Hardness': 220.45107827315525,\n",
       "  'Solids': 10571.770376968932,\n",
       "  'Chloramines': 6.521422284947895,\n",
       "  'Sulfate': 295.9760943834978,\n",
       "  'Conductivity': 414.2560864758929,\n",
       "  'Organic_carbon': 14.774800598861418,\n",
       "  'Trihalomethanes': 58.735932885039375,\n",
       "  'Turbidity': 4.154845327510767,\n",
       "  'Day': 15,\n",
       "  'Month': 7,\n",
       "  'Year': 2021,\n",
       "  'Prediction': 0},\n",
       " {'ph': 6.791696906894755,\n",
       "  'Hardness': 175.89434585427836,\n",
       "  'Solids': 21467.950865982875,\n",
       "  'Chloramines': 7.101223816321487,\n",
       "  'Sulfate': 349.49217731775,\n",
       "  'Conductivity': 427.2397403288587,\n",
       "  'Organic_carbon': 12.556983190453082,\n",
       "  'Trihalomethanes': 55.25391162576403,\n",
       "  'Turbidity': 2.817391373961896,\n",
       "  'Day': 15,\n",
       "  'Month': 7,\n",
       "  'Year': 2021,\n",
       "  'Prediction': 0},\n",
       " {'ph': 4.489783796199172,\n",
       "  'Hardness': 188.2519391176551,\n",
       "  'Solids': 14906.047921749065,\n",
       "  'Chloramines': 8.486030243192529,\n",
       "  'Sulfate': 374.2269262476081,\n",
       "  'Conductivity': 518.5852526497778,\n",
       "  'Organic_carbon': 11.22657798925934,\n",
       "  'Trihalomethanes': 65.18275873376899,\n",
       "  'Turbidity': 3.776225631479449,\n",
       "  'Day': 15,\n",
       "  'Month': 7,\n",
       "  'Year': 2021,\n",
       "  'Prediction': 0},\n",
       " {'ph': 8.020869102871476,\n",
       "  'Hardness': 175.8736762101069,\n",
       "  'Solids': 21759.36392940157,\n",
       "  'Chloramines': 7.487278120016829,\n",
       "  'Sulfate': 352.98311196312886,\n",
       "  'Conductivity': 428.66096486233664,\n",
       "  'Organic_carbon': 4.966861618807002,\n",
       "  'Trihalomethanes': 72.30521867157222,\n",
       "  'Turbidity': 3.4421212362955,\n",
       "  'Day': 15,\n",
       "  'Month': 7,\n",
       "  'Year': 2021,\n",
       "  'Prediction': 0},\n",
       " {'ph': 5.0900353321672975,\n",
       "  'Hardness': 174.26635748737323,\n",
       "  'Solids': 34094.05717743785,\n",
       "  'Chloramines': 6.741909445204502,\n",
       "  'Sulfate': 376.6636078793938,\n",
       "  'Conductivity': 526.3610815801607,\n",
       "  'Organic_carbon': 17.107563130581752,\n",
       "  'Trihalomethanes': 48.5462574960863,\n",
       "  'Turbidity': 4.838862280223715,\n",
       "  'Day': 15,\n",
       "  'Month': 7,\n",
       "  'Year': 2021,\n",
       "  'Prediction': 0},\n",
       " {'ph': 7.691486298425762,\n",
       "  'Hardness': 155.18531929611436,\n",
       "  'Solids': 36578.22374530493,\n",
       "  'Chloramines': 7.690727720492953,\n",
       "  'Sulfate': 405.1693860001742,\n",
       "  'Conductivity': 536.8895891431413,\n",
       "  'Organic_carbon': 16.214965646843382,\n",
       "  'Trihalomethanes': 77.58205050309272,\n",
       "  'Turbidity': 4.042497483266329,\n",
       "  'Potability': 0,\n",
       "  'Day': 3,\n",
       "  'Month': 12,\n",
       "  'Year': 2021},\n",
       " {'ph': 5.1959206693648685,\n",
       "  'Hardness': 175.1571552273615,\n",
       "  'Solids': 33473.11251835836,\n",
       "  'Chloramines': 8.407449953610357,\n",
       "  'Sulfate': 319.253631429962,\n",
       "  'Conductivity': 484.27989018962126,\n",
       "  'Organic_carbon': 16.812766967214372,\n",
       "  'Trihalomethanes': 94.35695426785966,\n",
       "  'Turbidity': 5.375901893717908,\n",
       "  'Potability': 0,\n",
       "  'Day': 3,\n",
       "  'Month': 12,\n",
       "  'Year': 2021},\n",
       " {'ph': 8.185923417313038,\n",
       "  'Hardness': 240.9791037623137,\n",
       "  'Solids': 23641.472028426168,\n",
       "  'Chloramines': 6.611448597083937,\n",
       "  'Sulfate': 318.6890103719636,\n",
       "  'Conductivity': 410.1582218451634,\n",
       "  'Organic_carbon': 13.1099108733074,\n",
       "  'Trihalomethanes': 56.91398086899888,\n",
       "  'Turbidity': 3.566945145029043,\n",
       "  'Potability': 1,\n",
       "  'Day': 2,\n",
       "  'Month': 7,\n",
       "  'Year': 2022},\n",
       " {'ph': 8.185923417313038,\n",
       "  'Hardness': 240.9791037623137,\n",
       "  'Solids': 23641.472028426168,\n",
       "  'Chloramines': 6.611448597083937,\n",
       "  'Sulfate': 318.6890103719636,\n",
       "  'Conductivity': 410.1582218451634,\n",
       "  'Organic_carbon': 13.1099108733074,\n",
       "  'Trihalomethanes': 56.91398086899888,\n",
       "  'Turbidity': 3.566945145029043,\n",
       "  'Potability': 1,\n",
       "  'Day': 2,\n",
       "  'Month': 7,\n",
       "  'Year': 2022},\n",
       " {'ph': 8.185923417313038,\n",
       "  'Hardness': 240.9791037623137,\n",
       "  'Solids': 23641.472028426168,\n",
       "  'Chloramines': 6.611448597083937,\n",
       "  'Sulfate': 318.6890103719636,\n",
       "  'Conductivity': 410.1582218451634,\n",
       "  'Organic_carbon': 13.1099108733074,\n",
       "  'Trihalomethanes': 56.91398086899888,\n",
       "  'Turbidity': 3.566945145029043,\n",
       "  'Potability': 1,\n",
       "  'Day': 2,\n",
       "  'Month': 7,\n",
       "  'Year': 2022},\n",
       " {'ph': 8.185923417313038,\n",
       "  'Hardness': 240.9791037623137,\n",
       "  'Solids': 23641.472028426168,\n",
       "  'Chloramines': 6.611448597083937,\n",
       "  'Sulfate': 318.6890103719636,\n",
       "  'Conductivity': 410.1582218451634,\n",
       "  'Organic_carbon': 13.1099108733074,\n",
       "  'Trihalomethanes': 56.91398086899888,\n",
       "  'Turbidity': 3.566945145029043,\n",
       "  'Potability': 1,\n",
       "  'Day': 2,\n",
       "  'Month': 7,\n",
       "  'Year': 2022},\n",
       " {'ph': 8.185923417313038,\n",
       "  'Hardness': 240.9791037623137,\n",
       "  'Solids': 23641.472028426168,\n",
       "  'Chloramines': 6.611448597083937,\n",
       "  'Sulfate': 318.6890103719636,\n",
       "  'Conductivity': 410.1582218451634,\n",
       "  'Organic_carbon': 13.1099108733074,\n",
       "  'Trihalomethanes': 56.91398086899888,\n",
       "  'Turbidity': 3.566945145029043,\n",
       "  'Potability': 1,\n",
       "  'Day': 2,\n",
       "  'Month': 7,\n",
       "  'Year': 2022},\n",
       " {'ph': 8.185923417313038,\n",
       "  'Hardness': 240.9791037623137,\n",
       "  'Solids': 23641.472028426168,\n",
       "  'Chloramines': 6.611448597083937,\n",
       "  'Sulfate': 318.6890103719636,\n",
       "  'Conductivity': 410.1582218451634,\n",
       "  'Organic_carbon': 13.1099108733074,\n",
       "  'Trihalomethanes': 56.91398086899888,\n",
       "  'Turbidity': 3.566945145029043,\n",
       "  'Potability': 1,\n",
       "  'Day': 2,\n",
       "  'Month': 7,\n",
       "  'Year': 2022},\n",
       " {'ph': 8.185923417313038,\n",
       "  'Hardness': 240.9791037623137,\n",
       "  'Solids': 23641.472028426168,\n",
       "  'Chloramines': 6.611448597083937,\n",
       "  'Sulfate': 318.6890103719636,\n",
       "  'Conductivity': 410.1582218451634,\n",
       "  'Organic_carbon': 13.1099108733074,\n",
       "  'Trihalomethanes': 56.91398086899888,\n",
       "  'Turbidity': 3.566945145029043,\n",
       "  'Potability': 1,\n",
       "  'Day': 2,\n",
       "  'Month': 7,\n",
       "  'Year': 2022}]"
      ]
     },
     "execution_count": 109,
     "metadata": {},
     "output_type": "execute_result"
    }
   ],
   "source": [
    "Mediciones = Query()\n",
    "\n",
    "# Aquí Mediciones.Day representa a todas las llaves Day de todos los documentos.\n",
    "# luego, el criterio de comparación es el que indica que datos se traeran.\n",
    "# en la práctica, trae 40 datos, del día 14 al 15.\n",
    "db.search(Mediciones.Day <= 15)"
   ]
  },
  {
   "cell_type": "markdown",
   "id": "9181da99",
   "metadata": {
    "cell_id": "00041-a58f298d-eb2c-48be-8752-3678c913abbd",
    "deepnote_cell_type": "markdown"
   },
   "source": [
    "Además, podemos mezclar distintos criterios de forma muy similar como lo hacemos en pandas:\n",
    "\n",
    "En este caso, la siguiente consulta entrega todas las mediciones con ph entre 6 y 6.5 incluidas."
   ]
  },
  {
   "cell_type": "code",
   "execution_count": 102,
   "id": "f01b3413",
   "metadata": {
    "cell_id": "00042-c6a47c0b-1d6c-4e54-bf27-09cefd7b43df",
    "deepnote_cell_type": "code",
    "deepnote_output_heights": [
     611
    ],
    "deepnote_to_be_reexecuted": false,
    "execution_millis": 2,
    "execution_start": 1638557622909,
    "source_hash": "dd52467c"
   },
   "outputs": [
    {
     "data": {
      "text/plain": [
       "[{'ph': 6.492627157365379,\n",
       "  'Hardness': 213.06538481772856,\n",
       "  'Solids': 34314.08709117726,\n",
       "  'Chloramines': 9.04114608484344,\n",
       "  'Sulfate': 335.29192590906365,\n",
       "  'Conductivity': 313.2547429967247,\n",
       "  'Organic_carbon': 11.135311827023884,\n",
       "  'Trihalomethanes': 70.82910986892458,\n",
       "  'Turbidity': 3.3787784927745594,\n",
       "  'Day': 15,\n",
       "  'Month': 7,\n",
       "  'Year': 2021,\n",
       "  'Prediction': 0},\n",
       " {'ph': 6.153368956728868,\n",
       "  'Hardness': 237.13982778480292,\n",
       "  'Solids': 22052.03461898169,\n",
       "  'Chloramines': 8.090493963325427,\n",
       "  'Sulfate': 306.23917986795703,\n",
       "  'Conductivity': 485.0984831368037,\n",
       "  'Organic_carbon': 17.07526258936946,\n",
       "  'Trihalomethanes': 58.10825855736369,\n",
       "  'Turbidity': 4.030337485422805,\n",
       "  'Day': 17,\n",
       "  'Month': 7,\n",
       "  'Year': 2021,\n",
       "  'Prediction': 0},\n",
       " {'ph': 6.470151959152821,\n",
       "  'Hardness': 176.73637570597813,\n",
       "  'Solids': 30594.28067473661,\n",
       "  'Chloramines': 4.39313814981189,\n",
       "  'Sulfate': 324.6592334189808,\n",
       "  'Conductivity': 524.9097809286852,\n",
       "  'Organic_carbon': 16.614247513308953,\n",
       "  'Trihalomethanes': 84.29970286763692,\n",
       "  'Turbidity': 3.12539111192484,\n",
       "  'Day': 18,\n",
       "  'Month': 7,\n",
       "  'Year': 2021,\n",
       "  'Prediction': 0},\n",
       " {'ph': 6.204429354069558,\n",
       "  'Hardness': 211.64095798844983,\n",
       "  'Solids': 35439.687840102146,\n",
       "  'Chloramines': 6.236836216752792,\n",
       "  'Sulfate': 314.13131744806606,\n",
       "  'Conductivity': 552.4627918140325,\n",
       "  'Organic_carbon': 8.660869467991688,\n",
       "  'Trihalomethanes': 56.35009617776554,\n",
       "  'Turbidity': 4.106807505488429,\n",
       "  'Day': 18,\n",
       "  'Month': 7,\n",
       "  'Year': 2021,\n",
       "  'Prediction': 0},\n",
       " {'ph': 6.138785151951198,\n",
       "  'Hardness': 158.4221289921539,\n",
       "  'Solids': 20129.97881979117,\n",
       "  'Chloramines': 6.812142878738287,\n",
       "  'Sulfate': 352.2299607158941,\n",
       "  'Conductivity': 373.8436198842412,\n",
       "  'Organic_carbon': 13.417813082753751,\n",
       "  'Trihalomethanes': 80.73109689533284,\n",
       "  'Turbidity': 4.677289618268685,\n",
       "  'Day': 18,\n",
       "  'Month': 7,\n",
       "  'Year': 2021,\n",
       "  'Prediction': 0},\n",
       " {'ph': 6.490037174928902,\n",
       "  'Hardness': 205.5415171695257,\n",
       "  'Solids': 19397.323888893363,\n",
       "  'Chloramines': 7.894244798435495,\n",
       "  'Sulfate': 368.5610730195575,\n",
       "  'Conductivity': 479.7861954284083,\n",
       "  'Organic_carbon': 15.80508483352719,\n",
       "  'Trihalomethanes': 56.98201953997934,\n",
       "  'Turbidity': 2.430883294085322,\n",
       "  'Day': 19,\n",
       "  'Month': 7,\n",
       "  'Year': 2021,\n",
       "  'Prediction': 1}]"
      ]
     },
     "execution_count": 102,
     "metadata": {},
     "output_type": "execute_result"
    }
   ],
   "source": [
    "Mediciones = Query()\n",
    "\n",
    "db.search((Mediciones.ph >= 6) & (Mediciones.ph <= 6.5))"
   ]
  },
  {
   "cell_type": "markdown",
   "id": "dd8e9b63",
   "metadata": {
    "cell_id": "00043-241ce92a-6381-4a17-a3bb-7fad8e2cbbae",
    "deepnote_cell_type": "markdown"
   },
   "source": [
    "### Update\n",
    "\n",
    "Podemos actualizar datos que hayan sido seleccionados usando una opración y una `Query` como argumentos de `update`.\n",
    "\n",
    "Las operaciones disponibles son:\n",
    "\n",
    "    delete(key): delete a key from the document\n",
    "    increment(key): increment the value of a key\n",
    "    decrement(key): decrement the value of a key\n",
    "    add(key, value): add value to the value of a key (also works for strings)\n",
    "    subtract(key, value): subtract value from the value of a key\n",
    "    set(key, value): set key to value\n"
   ]
  },
  {
   "cell_type": "code",
   "execution_count": 110,
   "id": "31002963",
   "metadata": {
    "cell_id": "00044-9f6afe84-3172-4807-ac81-d7e4925528e6",
    "deepnote_cell_type": "code",
    "deepnote_output_heights": [
     21.199996948242188
    ],
    "deepnote_to_be_reexecuted": false,
    "execution_millis": 8,
    "execution_start": 1638557622964,
    "source_hash": "e9e98898"
   },
   "outputs": [
    {
     "data": {
      "text/plain": [
       "[]"
      ]
     },
     "execution_count": 110,
     "metadata": {},
     "output_type": "execute_result"
    }
   ],
   "source": [
    "from tinydb.operations import set\n",
    "\n",
    "Mediciones = Query()\n",
    "\n",
    "# en este caso, usaremos las mediciones del día 14 y fijaremos su ph a 7\n",
    "db.update(set(\"ph\", 7), Mediciones.Day == 14)\n",
    "# noten que esta función retorna los indices de los documentos que fueron actualizados."
   ]
  },
  {
   "cell_type": "code",
   "execution_count": 105,
   "id": "e2b29fdc",
   "metadata": {
    "cell_id": "00045-4ddb4042-f31d-426e-963f-cac10c1016d2",
    "deepnote_cell_type": "code",
    "deepnote_output_heights": [
     611
    ],
    "deepnote_to_be_reexecuted": false,
    "execution_millis": 24,
    "execution_start": 1638557622965,
    "source_hash": "58f0934b"
   },
   "outputs": [
    {
     "data": {
      "text/plain": [
       "[]"
      ]
     },
     "execution_count": 105,
     "metadata": {},
     "output_type": "execute_result"
    }
   ],
   "source": [
    "db.search(Mediciones.Day == 14)"
   ]
  },
  {
   "cell_type": "markdown",
   "id": "32392de4",
   "metadata": {
    "cell_id": "00046-bfbd74f6-f517-4a75-927d-0a3a32716658",
    "deepnote_cell_type": "markdown"
   },
   "source": [
    "### Eliminado\n",
    "\n",
    "\n",
    "Por último, podemos eliminar de la BBDD con una `Query` y la función `remove`: "
   ]
  },
  {
   "cell_type": "code",
   "execution_count": 28,
   "id": "cc926270",
   "metadata": {
    "cell_id": "00047-84332fcb-a325-4ef5-b70a-6aee2d421537",
    "deepnote_cell_type": "code",
    "deepnote_output_heights": [
     21.199996948242188
    ],
    "deepnote_to_be_reexecuted": false,
    "execution_millis": 35,
    "execution_start": 1638557622989,
    "source_hash": "52bbb774"
   },
   "outputs": [
    {
     "data": {
      "text/plain": [
       "[]"
      ]
     },
     "execution_count": 28,
     "metadata": {},
     "output_type": "execute_result"
    }
   ],
   "source": [
    "db.remove(Mediciones.Day == 14)\n",
    "# noten que esta función retorna los indices de los documentos que fueron borrados."
   ]
  },
  {
   "cell_type": "code",
   "execution_count": 29,
   "id": "111b7641",
   "metadata": {
    "cell_id": "00048-bcb9f7f7-3641-4507-a7ec-7ff7b3626670",
    "deepnote_cell_type": "code",
    "deepnote_output_heights": [
     21.199996948242188
    ],
    "deepnote_to_be_reexecuted": false,
    "execution_millis": 0,
    "execution_start": 1638557623032,
    "source_hash": "58f0934b"
   },
   "outputs": [
    {
     "data": {
      "text/plain": [
       "[]"
      ]
     },
     "execution_count": 29,
     "metadata": {},
     "output_type": "execute_result"
    }
   ],
   "source": [
    "db.search(Mediciones.Day == 14)"
   ]
  },
  {
   "cell_type": "markdown",
   "id": "0e3ab7dd",
   "metadata": {
    "cell_id": "00049-0d6f6818-bbf5-4dbe-9fdc-fe2391da0a96",
    "deepnote_cell_type": "markdown"
   },
   "source": [
    "### NOTA: Mutación de la BBDD y Respaldo\n",
    "\n",
    "Cada vez que ejecutan insert, update o remove modifican las bases de datos. El archivo `db_resplado.json` contiene un respaldo de la base de datos para que puedan volver a utilizar la original."
   ]
  },
  {
   "cell_type": "markdown",
   "id": "1a5ec186",
   "metadata": {
    "cell_id": "00050-739484e5-06e8-48ff-a805-6b5095b25b5f",
    "deepnote_cell_type": "markdown"
   },
   "source": [
    "-----"
   ]
  },
  {
   "cell_type": "markdown",
   "id": "a1943465",
   "metadata": {
    "cell_id": "00051-7081be43-861c-4779-b7e6-3943e9d6eb4d",
    "deepnote_cell_type": "markdown"
   },
   "source": [
    "# Conclusión\n",
    "Eso ha sido todo para el lab de hoy, recuerden que el laboratorio tiene un plazo de entrega de una semana. Cualquier duda del laboratorio, no duden en contactarnos por mail o U-cursos.\n",
    "\n",
    "<div align=\"center\">\n",
    "  <img src=\"https://i.pinimg.com/originals/84/5d/f1/845df1aefc6a5e37ae575327a0cc6e43.gif\" width=\"500\">\n",
    "</div>"
   ]
  }
 ],
 "metadata": {
  "deepnote": {},
  "deepnote_execution_queue": [],
  "deepnote_notebook_id": "67cd0417-a7dc-4492-8467-03924e4dd3a5",
  "kernelspec": {
   "display_name": "Python 3",
   "language": "python",
   "name": "python3"
  },
  "language_info": {
   "codemirror_mode": {
    "name": "ipython",
    "version": 3
   },
   "file_extension": ".py",
   "mimetype": "text/x-python",
   "name": "python",
   "nbconvert_exporter": "python",
   "pygments_lexer": "ipython3",
   "version": "3.8.8"
  }
 },
 "nbformat": 4,
 "nbformat_minor": 5
}
