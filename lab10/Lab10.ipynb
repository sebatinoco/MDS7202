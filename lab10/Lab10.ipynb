{
 "cells": [
  {
   "cell_type": "markdown",
   "id": "a86fa2ee",
   "metadata": {
    "cell_id": "00000-94886fb0-f5a9-4947-ad44-0e48f4896df2",
    "deepnote_cell_type": "markdown"
   },
   "source": [
    "<h1><center>Laboratorio 10: Persistencia, APIs y Servidores 💦</center></h1>\n",
    "\n",
    "<center><strong>MDS7202: Laboratorio de Programación Científica para Ciencia de Datos</strong></center>"
   ]
  },
  {
   "cell_type": "markdown",
   "id": "02a18b34",
   "metadata": {
    "cell_id": "00001-db62ccfb-1020-456e-ae34-d009a777b138",
    "deepnote_cell_type": "markdown"
   },
   "source": [
    "### Cuerpo Docente:\n",
    "\n",
    "- Profesor: Pablo Badilla\n",
    "- Auxiliar: Ignacio Meza D.\n",
    "- Ayudante: Patricio Ortiz"
   ]
  },
  {
   "cell_type": "markdown",
   "id": "a6c93782",
   "metadata": {
    "cell_id": "00002-7b18c46b-37d0-493a-9467-2248a4537969",
    "deepnote_cell_type": "markdown"
   },
   "source": [
    "### Equipo: SUPER IMPORTANTE - notebooks sin nombre no serán revisados\n",
    "\n",
    "- Nombre de alumno 1:\n",
    "- Nombre de alumno 2:"
   ]
  },
  {
   "cell_type": "markdown",
   "id": "a54a2010",
   "metadata": {
    "cell_id": "00003-a832930a-aea2-46ff-b8b8-860364b98594",
    "deepnote_cell_type": "markdown"
   },
   "source": [
    "### **Link de repositorio de GitHub:** `http://....`"
   ]
  },
  {
   "cell_type": "markdown",
   "id": "abf02c1e",
   "metadata": {
    "cell_id": "00004-d8559191-0c91-4046-a219-99761436ff2f",
    "deepnote_cell_type": "markdown"
   },
   "source": [
    "# Temas a tratar\n",
    "\n",
    "- Persistencia de modelos.\n",
    "- APIs Rest.\n",
    "- Servidores.\n",
    "- Bases de Datos basadas en JSON (formato similar a diccionarios).\n",
    "\n",
    "## Reglas:\n",
    "\n",
    "- Fecha de entrega: 7/07/2021\n",
    "- **Grupos de 2 personas**\n",
    "- Cualquier duda fuera del horario de clases al foro. Mensajes al equipo docente serán respondidos por este medio.\n",
    "- Prohibidas las copias. \n",
    "- Pueden usar cualquer matrial del curso que estimen conveniente.\n",
    "\n",
    "### Objetivos principales del laboratorio\n",
    "\n",
    "- Utilizar `scikit-learn` para generar un modelo y luego guardarlo a un achivo.\n",
    "- Entender qué es una API y qué significa que esta cumpla con los principios de REST.\n",
    "- Utilizar `FastAPI` para crear un servicio que permita usar el modelo.\n",
    "- Guardar llamadas a la API y obtener sus resultados usando una base de datos basada en documentos.\n"
   ]
  },
  {
   "cell_type": "markdown",
   "id": "affdc020",
   "metadata": {
    "cell_id": "00005-75a94d8e-77a3-4dff-a6c0-75ddfd828865",
    "deepnote_cell_type": "markdown"
   },
   "source": [
    "## Introducción: Crear y Persistir un Modelo"
   ]
  },
  {
   "cell_type": "markdown",
   "id": "2741eed5",
   "metadata": {
    "cell_id": "00006-2ef77d08-e8d1-4b6e-a49c-814e3f8b1434",
    "deepnote_cell_type": "markdown"
   },
   "source": [
    "<div align='center'/>\n",
    "  <img src=\"https://pbs.twimg.com/media/E1jfjTRWYAAfi2v.jpg\" width=\"500\">\n",
    "</div>"
   ]
  },
  {
   "cell_type": "markdown",
   "id": "c901e808",
   "metadata": {
    "cell_id": "00007-fcba69c7-b0ad-4d5b-9f77-17c45f435064",
    "deepnote_cell_type": "markdown"
   },
   "source": [
    "Consumida en la tristeza el despido de Renacín, Smapina ha decaído en su desempeño, lo que se ha traducido en un irregular tratamiento del agua. Esto ha implicado una baja en la calidad del agua, llegando a haber algunos puntos de la comuna en la que el vital elemento no es apto para el consumo humano. Es por esto que la sanitaria pública de la municipalidad de Maipú se ha contactado con ustedes para que le entreguen una urgente solución a este problema (a la vez que dejan a Smapina, al igual que Renacín, sin trabajo 😔). \n",
    "\n",
    "El problema que la empresa le ha solicitado resolver es el de elaborar un sistema que les permita saber si el agua es potable o no. Para esto, la sanitaria les ha proveido una base de datos con la lectura de múltiples sensores IOT colocados en diversas cañerías, conductos y estanques. Estos sensores señalan nueve tipos de mediciones químicas y más una etiqueta elaborada en laboratorio que indica si el agua es potable o no el agua.\n",
    "\n",
    "La idea final es que puedan, en el caso que el agua no sea potable, dar un aviso inmediato para corregir el problema. Tenga en cuenta que parte del equipo docente vive en Maipú y su intoxicación podría implicar graves problemas para el cierre del curso.\n",
    "\n",
    "Atributos:\n",
    "\n",
    "1. pH value\n",
    "2. Hardness\n",
    "3. Solids (Total dissolved solids - TDS)\n",
    "4. Chloramines\n",
    "5. Sulfate\n",
    "6. Conductivity\n",
    "7. Organic_carbon\n",
    "8. Trihalomethanes\n",
    "9. Turbidity\n",
    "\n",
    "Variable a predecir: \n",
    "\n",
    "10. Potability (1 si es potable, 0 no potable)\n",
    "\n",
    "\\[Fuera de rol\\] Los datos originales, junto a la descripción de cada atributo se encuentran en: \n",
    "\n",
    "https://www.kaggle.com/adityakadiwal/water-potability"
   ]
  },
  {
   "cell_type": "markdown",
   "id": "ffeb2b27",
   "metadata": {
    "cell_id": "00008-a3e4598b-df4a-43ee-8a64-df33e6185810",
    "deepnote_cell_type": "markdown"
   },
   "source": [
    "## Modelo a Utilizar"
   ]
  },
  {
   "cell_type": "markdown",
   "id": "02cc687f",
   "metadata": {
    "cell_id": "00009-e2b5ab93-07b4-470a-b134-c68bb0c3ec0a",
    "deepnote_cell_type": "markdown"
   },
   "source": [
    "<div align=\"center\">\n",
    "  <img src=\"https://upload.wikimedia.org/wikipedia/commons/6/6c/SMAPA.jpg\" width=\"400\">\n",
    "</div>"
   ]
  },
  {
   "cell_type": "markdown",
   "id": "b180ce6f",
   "metadata": {
    "cell_id": "00010-12a9fa9a-7e72-4bf4-95d5-c5db11295ee5",
    "deepnote_cell_type": "markdown"
   },
   "source": [
    "Al recibir el trabajo, se dan cuenta que el equipo de TI de la sanitaria, de forma autodidacta, ya estaba trabajando en un proyecto de predicción de agua potable utilizando *Machine Learning*. Sí bien el código no es el mejor, ustedes como equipo consideran que el trabajo de predicción ya está realizado y prefieren utilizar todos sus recursos en la ardua tarea de desplegarlo.\n",
    "\n",
    "Por lo mismo, lea y ejecute el código proveido para entrenar y guardar el modelo y luego continue con el despliegue del sistema (No debe hacer nada en esta parte, solo entender el problema que se quiere resolver)."
   ]
  },
  {
   "cell_type": "code",
   "execution_count": 1,
   "id": "6e04c84b",
   "metadata": {
    "cell_id": "00011-1b59f533-8174-4a11-ab98-17e01af24424",
    "deepnote_cell_type": "code",
    "deepnote_to_be_reexecuted": false,
    "execution_millis": 1340,
    "execution_start": 1638557514405,
    "source_hash": "edc6e25"
   },
   "outputs": [],
   "source": [
    "import numpy as np\n",
    "import pandas as pd\n",
    "from sklearn.ensemble import BaggingClassifier\n",
    "from sklearn.metrics import classification_report\n",
    "from sklearn.experimental import enable_halving_search_cv \n",
    "from sklearn.model_selection import HalvingGridSearchCV, train_test_split\n",
    "from sklearn.pipeline import Pipeline\n",
    "from sklearn.preprocessing import StandardScaler"
   ]
  },
  {
   "cell_type": "code",
   "execution_count": 2,
   "id": "2c06124e",
   "metadata": {
    "cell_id": "00012-9dc476d7-2ea3-4c26-8f71-13055e26ce92",
    "deepnote_cell_type": "code",
    "deepnote_to_be_reexecuted": false,
    "execution_millis": 242,
    "execution_start": 1638557515757,
    "source_hash": "293f4cb9"
   },
   "outputs": [
    {
     "ename": "ModuleNotFoundError",
     "evalue": "No module named 'google.colab'",
     "output_type": "error",
     "traceback": [
      "\u001b[0;31m---------------------------------------------------------------------------\u001b[0m",
      "\u001b[0;31mModuleNotFoundError\u001b[0m                       Traceback (most recent call last)",
      "\u001b[0;32m<ipython-input-2-00ae6cc4ffc0>\u001b[0m in \u001b[0;36m<module>\u001b[0;34m\u001b[0m\n\u001b[0;32m----> 1\u001b[0;31m \u001b[0;32mfrom\u001b[0m \u001b[0mgoogle\u001b[0m\u001b[0;34m.\u001b[0m\u001b[0mcolab\u001b[0m \u001b[0;32mimport\u001b[0m \u001b[0mdrive\u001b[0m\u001b[0;34m\u001b[0m\u001b[0;34m\u001b[0m\u001b[0m\n\u001b[0m\u001b[1;32m      2\u001b[0m \u001b[0;31m# ejecutar en el caso de usar colab.\u001b[0m\u001b[0;34m\u001b[0m\u001b[0;34m\u001b[0m\u001b[0m\n\u001b[1;32m      3\u001b[0m \u001b[0mdrive\u001b[0m\u001b[0;34m.\u001b[0m\u001b[0mmount\u001b[0m\u001b[0;34m(\u001b[0m\u001b[0;34m\"/content/drive\"\u001b[0m\u001b[0;34m)\u001b[0m\u001b[0;34m\u001b[0m\u001b[0;34m\u001b[0m\u001b[0m\n",
      "\u001b[0;31mModuleNotFoundError\u001b[0m: No module named 'google.colab'"
     ]
    }
   ],
   "source": [
    "from google.colab import drive\n",
    "# ejecutar en el caso de usar colab.\n",
    "drive.mount(\"/content/drive\")"
   ]
  },
  {
   "cell_type": "code",
   "execution_count": 3,
   "id": "7a93d1db",
   "metadata": {
    "cell_id": "00013-daee45d9-735e-49d0-a032-9a6b8a637a68",
    "deepnote_cell_type": "code",
    "deepnote_to_be_reexecuted": false,
    "execution_millis": 120,
    "execution_start": 1638557577915,
    "source_hash": "441a32c8"
   },
   "outputs": [
    {
     "data": {
      "application/vnd.deepnote.dataframe.v2+json": {
       "column_count": 10,
       "columns": [
        {
         "dtype": "float64",
         "name": "ph",
         "stats": {
          "histogram": [
           {
            "bin_end": 1.6047491451819789,
            "bin_start": 0.2274990502021987,
            "count": 3
           },
           {
            "bin_end": 2.981999240161759,
            "bin_start": 1.6047491451819789,
            "count": 11
           },
           {
            "bin_end": 4.359249335141539,
            "bin_start": 2.981999240161759,
            "count": 70
           },
           {
            "bin_end": 5.736499430121319,
            "bin_start": 4.359249335141539,
            "count": 286
           },
           {
            "bin_end": 7.1137495251011,
            "bin_start": 5.736499430121319,
            "count": 680
           },
           {
            "bin_end": 8.490999620080878,
            "bin_start": 7.1137495251011,
            "count": 603
           },
           {
            "bin_end": 9.868249715060658,
            "bin_start": 8.490999620080878,
            "count": 264
           },
           {
            "bin_end": 11.245499810040439,
            "bin_start": 9.868249715060658,
            "count": 82
           },
           {
            "bin_end": 12.62274990502022,
            "bin_start": 11.245499810040439,
            "count": 10
           },
           {
            "bin_end": 13.999999999999998,
            "bin_start": 12.62274990502022,
            "count": 2
           }
          ],
          "max": "13.999999999999998",
          "min": "0.2274990502021987",
          "nan_count": 0,
          "unique_count": 2011
         }
        },
        {
         "dtype": "float64",
         "name": "Hardness",
         "stats": {
          "histogram": [
           {
            "bin_end": 97.87682272571324,
            "bin_start": 73.4922336890611,
            "count": 7
           },
           {
            "bin_end": 122.26141176236538,
            "bin_start": 97.87682272571324,
            "count": 32
           },
           {
            "bin_end": 146.64600079901754,
            "bin_start": 122.26141176236538,
            "count": 88
           },
           {
            "bin_end": 171.03058983566967,
            "bin_start": 146.64600079901754,
            "count": 288
           },
           {
            "bin_end": 195.41517887232183,
            "bin_start": 171.03058983566967,
            "count": 539
           },
           {
            "bin_end": 219.799767908974,
            "bin_start": 195.41517887232183,
            "count": 624
           },
           {
            "bin_end": 244.18435694562612,
            "bin_start": 219.799767908974,
            "count": 309
           },
           {
            "bin_end": 268.56894598227825,
            "bin_start": 244.18435694562612,
            "count": 80
           },
           {
            "bin_end": 292.95353501893044,
            "bin_start": 268.56894598227825,
            "count": 41
           },
           {
            "bin_end": 317.33812405558257,
            "bin_start": 292.95353501893044,
            "count": 3
           }
          ],
          "max": "317.33812405558257",
          "min": "73.4922336890611",
          "nan_count": 0,
          "unique_count": 2011
         }
        },
        {
         "dtype": "float64",
         "name": "Solids",
         "stats": {
          "histogram": [
           {
            "bin_end": 5937.7155914208415,
            "bin_start": 320.942611274359,
            "count": 20
           },
           {
            "bin_end": 11554.488571567324,
            "bin_start": 5937.7155914208415,
            "count": 167
           },
           {
            "bin_end": 17171.26155171381,
            "bin_start": 11554.488571567324,
            "count": 467
           },
           {
            "bin_end": 22788.034531860292,
            "bin_start": 17171.26155171381,
            "count": 508
           },
           {
            "bin_end": 28404.807512006773,
            "bin_start": 22788.034531860292,
            "count": 431
           },
           {
            "bin_end": 34021.58049215326,
            "bin_start": 28404.807512006773,
            "count": 229
           },
           {
            "bin_end": 39638.35347229974,
            "bin_start": 34021.58049215326,
            "count": 119
           },
           {
            "bin_end": 45255.126452446224,
            "bin_start": 39638.35347229974,
            "count": 51
           },
           {
            "bin_end": 50871.899432592705,
            "bin_start": 45255.126452446224,
            "count": 15
           },
           {
            "bin_end": 56488.67241273919,
            "bin_start": 50871.899432592705,
            "count": 4
           }
          ],
          "max": "56488.67241273919",
          "min": "320.942611274359",
          "nan_count": 0,
          "unique_count": 2011
         }
        },
        {
         "dtype": "float64",
         "name": "Chloramines",
         "stats": {
          "histogram": [
           {
            "bin_end": 2.564483814396663,
            "bin_start": 1.3908709048851806,
            "count": 7
           },
           {
            "bin_end": 3.738096723908145,
            "bin_start": 2.564483814396663,
            "count": 42
           },
           {
            "bin_end": 4.911709633419627,
            "bin_start": 3.738096723908145,
            "count": 93
           },
           {
            "bin_end": 6.0853225429311095,
            "bin_start": 4.911709633419627,
            "count": 337
           },
           {
            "bin_end": 7.258935452442592,
            "bin_start": 6.0853225429311095,
            "count": 578
           },
           {
            "bin_end": 8.432548361954073,
            "bin_start": 7.258935452442592,
            "count": 574
           },
           {
            "bin_end": 9.606161271465556,
            "bin_start": 8.432548361954073,
            "count": 255
           },
           {
            "bin_end": 10.77977418097704,
            "bin_start": 9.606161271465556,
            "count": 98
           },
           {
            "bin_end": 11.953387090488519,
            "bin_start": 10.77977418097704,
            "count": 18
           },
           {
            "bin_end": 13.127000000000002,
            "bin_start": 11.953387090488519,
            "count": 9
           }
          ],
          "max": "13.127000000000002",
          "min": "1.3908709048851806",
          "nan_count": 0,
          "unique_count": 2011
         }
        },
        {
         "dtype": "float64",
         "name": "Sulfate",
         "stats": {
          "histogram": [
           {
            "bin_end": 164.20306423059975,
            "bin_start": 129.00000000000003,
            "count": 1
           },
           {
            "bin_end": 199.40612846119944,
            "bin_start": 164.20306423059975,
            "count": 5
           },
           {
            "bin_end": 234.60919269179917,
            "bin_start": 199.40612846119944,
            "count": 19
           },
           {
            "bin_end": 269.8122569223989,
            "bin_start": 234.60919269179917,
            "count": 81
           },
           {
            "bin_end": 305.0153211529986,
            "bin_start": 269.8122569223989,
            "count": 353
           },
           {
            "bin_end": 340.2183853835983,
            "bin_start": 305.0153211529986,
            "count": 725
           },
           {
            "bin_end": 375.421449614198,
            "bin_start": 340.2183853835983,
            "count": 528
           },
           {
            "bin_end": 410.6245138447978,
            "bin_start": 375.421449614198,
            "count": 229
           },
           {
            "bin_end": 445.82757807539747,
            "bin_start": 410.6245138447978,
            "count": 61
           },
           {
            "bin_end": 481.0306423059972,
            "bin_start": 445.82757807539747,
            "count": 9
           }
          ],
          "max": "481.0306423059972",
          "min": "129.00000000000003",
          "nan_count": 0,
          "unique_count": 2011
         }
        },
        {
         "dtype": "float64",
         "name": "Conductivity",
         "stats": {
          "histogram": [
           {
            "bin_end": 256.7920250354722,
            "bin_start": 201.6197367551575,
            "count": 7
           },
           {
            "bin_end": 311.9643133157869,
            "bin_start": 256.7920250354722,
            "count": 136
           },
           {
            "bin_end": 367.1366015961016,
            "bin_start": 311.9643133157869,
            "count": 363
           },
           {
            "bin_end": 422.3088898764163,
            "bin_start": 367.1366015961016,
            "count": 490
           },
           {
            "bin_end": 477.48117815673106,
            "bin_start": 422.3088898764163,
            "count": 475
           },
           {
            "bin_end": 532.6534664370457,
            "bin_start": 477.48117815673106,
            "count": 344
           },
           {
            "bin_end": 587.8257547173604,
            "bin_start": 532.6534664370457,
            "count": 137
           },
           {
            "bin_end": 642.9980429976752,
            "bin_start": 587.8257547173604,
            "count": 49
           },
           {
            "bin_end": 698.1703312779898,
            "bin_start": 642.9980429976752,
            "count": 8
           },
           {
            "bin_end": 753.3426195583046,
            "bin_start": 698.1703312779898,
            "count": 2
           }
          ],
          "max": "753.3426195583046",
          "min": "201.6197367551575",
          "nan_count": 0,
          "unique_count": 2011
         }
        },
        {
         "dtype": "float64",
         "name": "Organic_carbon",
         "stats": {
          "histogram": [
           {
            "bin_end": 4.680670661116591,
            "bin_start": 2.1999999999999886,
            "count": 3
           },
           {
            "bin_end": 7.161341322233193,
            "bin_start": 4.680670661116591,
            "count": 27
           },
           {
            "bin_end": 9.642011983349796,
            "bin_start": 7.161341322233193,
            "count": 125
           },
           {
            "bin_end": 12.122682644466398,
            "bin_start": 9.642011983349796,
            "count": 348
           },
           {
            "bin_end": 14.603353305583,
            "bin_start": 12.122682644466398,
            "count": 564
           },
           {
            "bin_end": 17.084023966699604,
            "bin_start": 14.603353305583,
            "count": 505
           },
           {
            "bin_end": 19.564694627816205,
            "bin_start": 17.084023966699604,
            "count": 331
           },
           {
            "bin_end": 22.045365288932807,
            "bin_start": 19.564694627816205,
            "count": 84
           },
           {
            "bin_end": 24.52603595004941,
            "bin_start": 22.045365288932807,
            "count": 22
           },
           {
            "bin_end": 27.00670661116601,
            "bin_start": 24.52603595004941,
            "count": 2
           }
          ],
          "max": "27.00670661116601",
          "min": "2.1999999999999886",
          "nan_count": 0,
          "unique_count": 2011
         }
        },
        {
         "dtype": "float64",
         "name": "Trihalomethanes",
         "stats": {
          "histogram": [
           {
            "bin_end": 20.119311639685424,
            "bin_start": 8.577012932983806,
            "count": 8
           },
           {
            "bin_end": 31.661610346387043,
            "bin_start": 20.119311639685424,
            "count": 26
           },
           {
            "bin_end": 43.203909053088665,
            "bin_start": 31.661610346387043,
            "count": 124
           },
           {
            "bin_end": 54.74620775979028,
            "bin_start": 43.203909053088665,
            "count": 295
           },
           {
            "bin_end": 66.2885064664919,
            "bin_start": 54.74620775979028,
            "count": 547
           },
           {
            "bin_end": 77.83080517319353,
            "bin_start": 66.2885064664919,
            "count": 535
           },
           {
            "bin_end": 89.37310387989514,
            "bin_start": 77.83080517319353,
            "count": 335
           },
           {
            "bin_end": 100.91540258659676,
            "bin_start": 89.37310387989514,
            "count": 107
           },
           {
            "bin_end": 112.45770129329837,
            "bin_start": 100.91540258659676,
            "count": 27
           },
           {
            "bin_end": 124,
            "bin_start": 112.45770129329837,
            "count": 7
           }
          ],
          "max": "124.0",
          "min": "8.577012932983806",
          "nan_count": 0,
          "unique_count": 2011
         }
        },
        {
         "dtype": "float64",
         "name": "Turbidity",
         "stats": {
          "histogram": [
           {
            "bin_end": 1.9544748555990994,
            "bin_start": 1.45,
            "count": 9
           },
           {
            "bin_end": 2.4589497111981986,
            "bin_start": 1.9544748555990994,
            "count": 48
           },
           {
            "bin_end": 2.963424566797298,
            "bin_start": 2.4589497111981986,
            "count": 161
           },
           {
            "bin_end": 3.467899422396397,
            "bin_start": 2.963424566797298,
            "count": 305
           },
           {
            "bin_end": 3.9723742779954963,
            "bin_start": 3.467899422396397,
            "count": 486
           },
           {
            "bin_end": 4.476849133594596,
            "bin_start": 3.9723742779954963,
            "count": 466
           },
           {
            "bin_end": 4.981323989193696,
            "bin_start": 4.476849133594596,
            "count": 344
           },
           {
            "bin_end": 5.485798844792795,
            "bin_start": 4.981323989193696,
            "count": 150
           },
           {
            "bin_end": 5.990273700391894,
            "bin_start": 5.485798844792795,
            "count": 32
           },
           {
            "bin_end": 6.494748555990993,
            "bin_start": 5.990273700391894,
            "count": 10
           }
          ],
          "max": "6.494748555990993",
          "min": "1.45",
          "nan_count": 0,
          "unique_count": 2011
         }
        },
        {
         "dtype": "int64",
         "name": "Potability",
         "stats": {
          "histogram": [
           {
            "bin_end": 0.1,
            "bin_start": 0,
            "count": 1200
           },
           {
            "bin_end": 0.2,
            "bin_start": 0.1,
            "count": 0
           },
           {
            "bin_end": 0.30000000000000004,
            "bin_start": 0.2,
            "count": 0
           },
           {
            "bin_end": 0.4,
            "bin_start": 0.30000000000000004,
            "count": 0
           },
           {
            "bin_end": 0.5,
            "bin_start": 0.4,
            "count": 0
           },
           {
            "bin_end": 0.6000000000000001,
            "bin_start": 0.5,
            "count": 0
           },
           {
            "bin_end": 0.7000000000000001,
            "bin_start": 0.6000000000000001,
            "count": 0
           },
           {
            "bin_end": 0.8,
            "bin_start": 0.7000000000000001,
            "count": 0
           },
           {
            "bin_end": 0.9,
            "bin_start": 0.8,
            "count": 0
           },
           {
            "bin_end": 1,
            "bin_start": 0.9,
            "count": 811
           }
          ],
          "max": "1",
          "min": "0",
          "nan_count": 0,
          "unique_count": 2
         }
        },
        {
         "dtype": "int64",
         "name": "_deepnote_index_column"
        }
       ],
       "row_count": 2011,
       "rows_bottom": [
        {
         "Chloramines": 7.661687284296819,
         "Conductivity": 520.8083590715345,
         "Hardness": 153.7090924780523,
         "Organic_carbon": 14.781584491433136,
         "Potability": 1,
         "Solids": 19970.434294477825,
         "Sulfate": 312.88512715213324,
         "Trihalomethanes": 74.12779298715347,
         "Turbidity": 2.883145376777557,
         "_deepnote_index_column": 3200,
         "ph": 8.581042820709179
        },
        {
         "Chloramines": 6.543134476282099,
         "Conductivity": 427.6643022370827,
         "Hardness": 207.9982202414912,
         "Organic_carbon": 18.81308046226997,
         "Potability": 1,
         "Solids": 38918.77807317498,
         "Sulfate": 360.07071470275,
         "Trihalomethanes": 61.21497949242208,
         "Turbidity": 3.3274721394344917,
         "_deepnote_index_column": 3201,
         "ph": 5.530055021165576
        },
        {
         "Chloramines": 6.368862018681716,
         "Conductivity": 326.2533257451776,
         "Hardness": 197.74932536827777,
         "Organic_carbon": 12.503203348123122,
         "Potability": 1,
         "Solids": 40843.61655055208,
         "Sulfate": 310.6771997341817,
         "Trihalomethanes": 66.42188356192052,
         "Turbidity": 4.118973080180648,
         "_deepnote_index_column": 3202,
         "ph": 8.743958544661181
        },
        {
         "Chloramines": 9.36833977172888,
         "Conductivity": 372.2752322143662,
         "Hardness": 120.02172614502156,
         "Organic_carbon": 14.538445861011496,
         "Potability": 1,
         "Solids": 22203.487258877,
         "Sulfate": 285.2335275807391,
         "Trihalomethanes": 64.1324260352138,
         "Turbidity": 4.259719451958118,
         "_deepnote_index_column": 3203,
         "ph": 9.05238368979066
        },
        {
         "Chloramines": 8.773161930761969,
         "Conductivity": 398.32878874006775,
         "Hardness": 125.30271940363592,
         "Organic_carbon": 15.279582679247651,
         "Potability": 1,
         "Solids": 23931.28283313192,
         "Sulfate": 317.6933311873576,
         "Trihalomethanes": 62.668356182201386,
         "Turbidity": 4.279871302319948,
         "_deepnote_index_column": 3204,
         "ph": 8.077260885586492
        },
        {
         "Chloramines": 5.9473503501534495,
         "Conductivity": 254.3923057502336,
         "Hardness": 228.30318564923488,
         "Organic_carbon": 13.140440459865149,
         "Potability": 1,
         "Solids": 7705.298604759636,
         "Sulfate": 363.5369835442963,
         "Trihalomethanes": 64.7839535912982,
         "Turbidity": 3.449829469695713,
         "_deepnote_index_column": 3205,
         "ph": 6.682097358751442
        },
        {
         "Chloramines": 8.860818357278797,
         "Conductivity": 487.3391692888744,
         "Hardness": 127.91882621440118,
         "Organic_carbon": 9.53449907959788,
         "Potability": 1,
         "Solids": 39566.75435226551,
         "Sulfate": 281.9956396347743,
         "Trihalomethanes": 65.51666804452658,
         "Turbidity": 4.718850871201126,
         "_deepnote_index_column": 3207,
         "ph": 9.24141997355796
        },
        {
         "Chloramines": 7.764692573248689,
         "Conductivity": 439.0547586603561,
         "Hardness": 192.3407436816268,
         "Organic_carbon": 15.199905597375905,
         "Potability": 1,
         "Solids": 22856.74290130993,
         "Sulfate": 343.0395092663153,
         "Trihalomethanes": 50.22994366305907,
         "Turbidity": 4.061644660822068,
         "_deepnote_index_column": 3208,
         "ph": 5.628313271623295
        },
        {
         "Chloramines": 7.900790105684598,
         "Conductivity": 417.8040633715207,
         "Hardness": 222.39999014607184,
         "Organic_carbon": 15.530563359834105,
         "Potability": 1,
         "Solids": 15668.27361760507,
         "Sulfate": 320.3945294476844,
         "Trihalomethanes": 84.22877379496049,
         "Turbidity": 3.966570844524399,
         "_deepnote_index_column": 3209,
         "ph": 4.857802623979042
        },
        {
         "Chloramines": 6.703538564300445,
         "Conductivity": 282.59991842744216,
         "Hardness": 195.7172934966878,
         "Organic_carbon": 12.269177948119534,
         "Potability": 1,
         "Solids": 35254.02604659549,
         "Sulfate": 314.7278354716577,
         "Trihalomethanes": 46.487949510588415,
         "Turbidity": 3.2539204326522717,
         "_deepnote_index_column": 3210,
         "ph": 8.430471661964157
        },
        {
         "Chloramines": 6.298121347138782,
         "Conductivity": 530.710025503962,
         "Hardness": 219.3374288103309,
         "Organic_carbon": 19.486790984123218,
         "Potability": 1,
         "Solids": 27548.61417733812,
         "Sulfate": 340.9376137555241,
         "Trihalomethanes": 68.56879118160717,
         "Turbidity": 3.0482920601678845,
         "_deepnote_index_column": 3211,
         "ph": 6.817608380056349
        },
        {
         "Chloramines": 8.368785486252278,
         "Conductivity": 380.9671658106569,
         "Hardness": 175.3260618694199,
         "Organic_carbon": 12.530826997198004,
         "Potability": 1,
         "Solids": 12044.624691463148,
         "Sulfate": 347.88037185456227,
         "Trihalomethanes": 65.19405321206598,
         "Turbidity": 4.023775901625008,
         "_deepnote_index_column": 3212,
         "ph": 5.913755319868532
        },
        {
         "Chloramines": 4.755312178656423,
         "Conductivity": 435.8656960336934,
         "Hardness": 263.6831597234652,
         "Organic_carbon": 12.76118448109969,
         "Potability": 1,
         "Solids": 19911.22489983855,
         "Sulfate": 366.94274325444985,
         "Trihalomethanes": 51.43989388028319,
         "Turbidity": 5.147535911439108,
         "_deepnote_index_column": 3214,
         "ph": 5.500276575154884
        },
        {
         "Chloramines": 4.157335299373067,
         "Conductivity": 450.89605258556185,
         "Hardness": 271.8822190208284,
         "Organic_carbon": 16.442753140535388,
         "Potability": 1,
         "Solids": 43680.22252088611,
         "Sulfate": 366.86653313121207,
         "Trihalomethanes": 61.249761879925416,
         "Turbidity": 3.7775082665636655,
         "_deepnote_index_column": 3215,
         "ph": 5.608623152458352
        },
        {
         "Chloramines": 7.001788101358392,
         "Conductivity": 330.09267420868963,
         "Hardness": 216.1226733585991,
         "Organic_carbon": 9.77951770968258,
         "Potability": 1,
         "Solids": 14825.934501735352,
         "Sulfate": 355.2116784880666,
         "Trihalomethanes": 41.24997685332854,
         "Turbidity": 3.2246755179341866,
         "_deepnote_index_column": 3216,
         "ph": 5.609235358941159
        },
        {
         "Chloramines": 4.0726262629147385,
         "Conductivity": 447.12186130961817,
         "Hardness": 287.9755402021361,
         "Organic_carbon": 6.363174829578838,
         "Potability": 1,
         "Solids": 3640.73431981458,
         "Sulfate": 391.6973848495021,
         "Trihalomethanes": 49.15529051129489,
         "Turbidity": 3.4266340746155777,
         "_deepnote_index_column": 3218,
         "ph": 5.859822103560279
        },
        {
         "Chloramines": 8.001377824874378,
         "Conductivity": 360.5755864381471,
         "Hardness": 132.45648354840728,
         "Organic_carbon": 10.742960445080882,
         "Potability": 1,
         "Solids": 21038.442612673443,
         "Sulfate": 345.00073466919486,
         "Trihalomethanes": 64.50893407280407,
         "Turbidity": 2.876995630567156,
         "_deepnote_index_column": 3225,
         "ph": 8.468741062907595
        },
        {
         "Chloramines": 7.633725249675295,
         "Conductivity": 583.6083978130259,
         "Hardness": 200.0729284041309,
         "Organic_carbon": 16.844509003917096,
         "Potability": 1,
         "Solids": 32000.8439113861,
         "Sulfate": 290.74033731355274,
         "Trihalomethanes": 39.36705644811856,
         "Turbidity": 3.297525234337058,
         "_deepnote_index_column": 3227,
         "ph": 7.679595096300121
        },
        {
         "Chloramines": 5.8627172735769895,
         "Conductivity": 353.6540460556215,
         "Hardness": 207.83222909914724,
         "Organic_carbon": 10.40105630962296,
         "Potability": 1,
         "Solids": 22097.41322267961,
         "Sulfate": 354.7083820209171,
         "Trihalomethanes": 66.864140327047,
         "Turbidity": 4.337116898531741,
         "_deepnote_index_column": 3228,
         "ph": 7.226592711428238
        },
        {
         "Chloramines": 8.735315343467212,
         "Conductivity": 318.64067926297173,
         "Hardness": 114.8075783848566,
         "Organic_carbon": 16.559076271475135,
         "Potability": 1,
         "Solids": 23514.63664741336,
         "Sulfate": 333.0272047391256,
         "Trihalomethanes": 52.86637311712821,
         "Turbidity": 2.89577427975715,
         "_deepnote_index_column": 3230,
         "ph": 8.659113026830287
        },
        {
         "Chloramines": 7.441486515976747,
         "Conductivity": 423.6256485643737,
         "Hardness": 198.9114490766973,
         "Organic_carbon": 11.915899922439678,
         "Potability": 1,
         "Solids": 13742.139486618224,
         "Sulfate": 338.4095763525792,
         "Trihalomethanes": 57.71314935703547,
         "Turbidity": 2.713248378640136,
         "_deepnote_index_column": 3232,
         "ph": 6.360195819161054
        },
        {
         "Chloramines": 8.399435299469037,
         "Conductivity": 416.1885459071077,
         "Hardness": 136.57738115579482,
         "Organic_carbon": 18.88462464794526,
         "Potability": 1,
         "Solids": 32872.38056577991,
         "Sulfate": 276.92183480609395,
         "Trihalomethanes": 60.07841278280955,
         "Turbidity": 4.669239858306086,
         "_deepnote_index_column": 3233,
         "ph": 10.485603647205735
        },
        {
         "Chloramines": 6.37563198794617,
         "Conductivity": 456.31546041862254,
         "Hardness": 190.83730796195945,
         "Organic_carbon": 5.93458832142386,
         "Potability": 1,
         "Solids": 19468.790095389904,
         "Sulfate": 380.73190107021526,
         "Trihalomethanes": 83.55932648367043,
         "Turbidity": 4.270816603915842,
         "_deepnote_index_column": 3234,
         "ph": 6.603416523303387
        },
        {
         "Chloramines": 8.027819437526281,
         "Conductivity": 300.1251254011642,
         "Hardness": 196.2457056729199,
         "Organic_carbon": 18.43008394884282,
         "Potability": 1,
         "Solids": 11356.58048115559,
         "Sulfate": 347.5875833311708,
         "Trihalomethanes": 44.86035148435799,
         "Turbidity": 4.571127866112447,
         "_deepnote_index_column": 3235,
         "ph": 5.713322920959069
        },
        {
         "Chloramines": 5.38543992959052,
         "Conductivity": 394.7315635215286,
         "Hardness": 227.36694921951323,
         "Organic_carbon": 16.98835630982785,
         "Potability": 1,
         "Solids": 22690.045870943104,
         "Sulfate": 314.31748108982003,
         "Trihalomethanes": 75.33969427761166,
         "Turbidity": 4.308357589285532,
         "_deepnote_index_column": 3237,
         "ph": 9.609834364508853
        },
        {
         "Chloramines": 7.143906655908775,
         "Conductivity": 388.8971587772877,
         "Hardness": 169.92524845007168,
         "Organic_carbon": 13.563992252894195,
         "Potability": 1,
         "Solids": 15835.122817712849,
         "Sulfate": 301.77725263475696,
         "Trihalomethanes": 71.59386575515715,
         "Turbidity": 3.4345384628517905,
         "_deepnote_index_column": 3239,
         "ph": 9.960689857533172
        },
        {
         "Chloramines": 6.435809198082079,
         "Conductivity": 361.1075365090635,
         "Hardness": 241.72445271011424,
         "Organic_carbon": 14.502464254823336,
         "Potability": 1,
         "Solids": 9094.313300416155,
         "Sulfate": 338.5211762965584,
         "Trihalomethanes": 45.428096504423245,
         "Turbidity": 1.9177543925715308,
         "_deepnote_index_column": 3241,
         "ph": 6.79265509816682
        },
        {
         "Chloramines": 4.80675901959762,
         "Conductivity": 462.6125299822538,
         "Hardness": 241.1407462554082,
         "Organic_carbon": 14.316821447379766,
         "Potability": 1,
         "Solids": 25721.83386616531,
         "Sulfate": 385.8874682700468,
         "Trihalomethanes": 60.59035855631432,
         "Turbidity": 4.007508147814352,
         "_deepnote_index_column": 3242,
         "ph": 5.91053973772753
        },
        {
         "Chloramines": 5.740321172931416,
         "Conductivity": 367.9679432358893,
         "Hardness": 241.4435345856695,
         "Organic_carbon": 16.81650684754021,
         "Potability": 1,
         "Solids": 8810.895810076594,
         "Sulfate": 369.0227150459364,
         "Trihalomethanes": 47.66172716945021,
         "Turbidity": 4.9530576907486665,
         "_deepnote_index_column": 3243,
         "ph": 6.125810325429851
        },
        {
         "Chloramines": 3.4581916819703147,
         "Conductivity": 456.7328619773303,
         "Hardness": 277.0657127768061,
         "Organic_carbon": 17.552294113596417,
         "Potability": 1,
         "Solids": 17711.487773748795,
         "Sulfate": 400.16759862891433,
         "Trihalomethanes": 72.05986579387582,
         "Turbidity": 3.738990829291201,
         "_deepnote_index_column": 3244,
         "ph": 5.83610452509449
        },
        {
         "Chloramines": 7.071294493360232,
         "Conductivity": 286.063394408431,
         "Hardness": 173.381945364966,
         "Organic_carbon": 17.685650942924894,
         "Potability": 1,
         "Solids": 28912.202201016768,
         "Sulfate": 276.63439102605554,
         "Trihalomethanes": 55.14736365662774,
         "Turbidity": 4.135568909483627,
         "_deepnote_index_column": 3246,
         "ph": 10.667363934157889
        },
        {
         "Chloramines": 7.154890693981027,
         "Conductivity": 357.09839548714274,
         "Hardness": 211.59411247930296,
         "Organic_carbon": 7.992209971351997,
         "Potability": 1,
         "Solids": 18577.623968980275,
         "Sulfate": 340.7925739514669,
         "Trihalomethanes": 82.36537825915869,
         "Turbidity": 5.403614891830472,
         "_deepnote_index_column": 3248,
         "ph": 6.260111289935809
        },
        {
         "Chloramines": 5.782417746039318,
         "Conductivity": 383.269410360684,
         "Hardness": 198.59675077781947,
         "Organic_carbon": 14.902820337952164,
         "Potability": 1,
         "Solids": 29614.34879008105,
         "Sulfate": 304.6220612044535,
         "Trihalomethanes": 47.89640648971523,
         "Turbidity": 4.362542226660023,
         "_deepnote_index_column": 3249,
         "ph": 10.808156938842764
        },
        {
         "Chloramines": 7.966710438575026,
         "Conductivity": 544.8484318253602,
         "Hardness": 148.1936975614508,
         "Organic_carbon": 17.16650384854205,
         "Potability": 1,
         "Solids": 42059.38041717759,
         "Sulfate": 324.54626205550505,
         "Trihalomethanes": 62.6777563218408,
         "Turbidity": 4.338957325879694,
         "_deepnote_index_column": 3250,
         "ph": 7.371914155906743
        },
        {
         "Chloramines": 6.442769292150998,
         "Conductivity": 370.1889480541362,
         "Hardness": 234.7839038156121,
         "Organic_carbon": 13.04635457708156,
         "Potability": 1,
         "Solids": 11142.392632055147,
         "Sulfate": 370.4168310285955,
         "Trihalomethanes": 46.31599218904551,
         "Turbidity": 3.46309715357363,
         "_deepnote_index_column": 3251,
         "ph": 4.825591458154621
        },
        {
         "Chloramines": 8.310194997763043,
         "Conductivity": 413.9102929594385,
         "Hardness": 190.47789169609743,
         "Organic_carbon": 13.301373637328936,
         "Potability": 1,
         "Solids": 22561.508311398626,
         "Sulfate": 294.03039494556964,
         "Trihalomethanes": 63.41017813652343,
         "Turbidity": 4.990235633377976,
         "_deepnote_index_column": 3253,
         "ph": 7.395450846886257
        },
        {
         "Chloramines": 7.639572886949698,
         "Conductivity": 399.4628435734118,
         "Hardness": 131.63517654759482,
         "Organic_carbon": 16.71220632420807,
         "Potability": 1,
         "Solids": 17433.60185279686,
         "Sulfate": 340.13316533016723,
         "Trihalomethanes": 53.59410352231716,
         "Turbidity": 4.955081792660148,
         "_deepnote_index_column": 3254,
         "ph": 8.862112709633287
        },
        {
         "Chloramines": 7.452236189756758,
         "Conductivity": 325.13449216679084,
         "Hardness": 225.08023382786996,
         "Organic_carbon": 11.079951548589236,
         "Potability": 1,
         "Solids": 5100.094172699328,
         "Sulfate": 336.11899995503416,
         "Trihalomethanes": 36.34101183491626,
         "Turbidity": 4.012340383352797,
         "_deepnote_index_column": 3255,
         "ph": 6.008973609999536
        },
        {
         "Chloramines": 7.8264110490998995,
         "Conductivity": 503.1580785347783,
         "Hardness": 160.5652530477201,
         "Organic_carbon": 13.366994490172884,
         "Potability": 1,
         "Solids": 39184.8467196431,
         "Sulfate": 312.0560664594202,
         "Trihalomethanes": 62.02230789181907,
         "Turbidity": 3.5250271306094576,
         "_deepnote_index_column": 3256,
         "ph": 7.607223911235492
        },
        {
         "Chloramines": 5.33620199356427,
         "Conductivity": 307.7250090371044,
         "Hardness": 272.111698452723,
         "Organic_carbon": 20.178716181851428,
         "Potability": 1,
         "Solids": 18989.316768242767,
         "Sulfate": 336.5551001437835,
         "Trihalomethanes": 75.4022602836187,
         "Turbidity": 5.208061134164884,
         "_deepnote_index_column": 3257,
         "ph": 6.683367696720804
        },
        {
         "Chloramines": 6.618071066219877,
         "Conductivity": 442.07633661599806,
         "Hardness": 244.18739150014136,
         "Organic_carbon": 13.302880139674071,
         "Potability": 1,
         "Solids": 24856.63320937223,
         "Sulfate": 366.96787330342215,
         "Trihalomethanes": 59.489293507127485,
         "Turbidity": 4.754826393219847,
         "_deepnote_index_column": 3261,
         "ph": 3.629922064880713
        },
        {
         "Chloramines": 6.477056754250701,
         "Conductivity": 499.86699387859846,
         "Hardness": 198.5112126776972,
         "Organic_carbon": 15.389083407099406,
         "Potability": 1,
         "Solids": 28474.2025803626,
         "Sulfate": 319.47718727518304,
         "Trihalomethanes": 35.22120041408733,
         "Turbidity": 4.524692969777054,
         "_deepnote_index_column": 3262,
         "ph": 8.378108022890373
        },
        {
         "Chloramines": 5.50116404338138,
         "Conductivity": 607.7735672742027,
         "Hardness": 260.593154348188,
         "Organic_carbon": 15.483026737238047,
         "Potability": 1,
         "Solids": 24792.525622664085,
         "Sulfate": 332.23217745927707,
         "Trihalomethanes": 51.53586708137299,
         "Turbidity": 4.0133388007039175,
         "_deepnote_index_column": 3263,
         "ph": 6.923636014423605
        },
        {
         "Chloramines": 6.3495608678905295,
         "Conductivity": 403.6175599619757,
         "Hardness": 239.26948146487769,
         "Organic_carbon": 18.96370675636064,
         "Potability": 1,
         "Solids": 20526.66615556356,
         "Sulfate": 341.2563620337964,
         "Trihalomethanes": 63.84631931734279,
         "Turbidity": 4.390701603798026,
         "_deepnote_index_column": 3264,
         "ph": 5.893103407526232
        },
        {
         "Chloramines": 6.472914285587643,
         "Conductivity": 444.612723622325,
         "Hardness": 203.1050914346406,
         "Organic_carbon": 14.25087508151961,
         "Potability": 1,
         "Solids": 27701.79405469116,
         "Sulfate": 328.88683761881884,
         "Trihalomethanes": 62.90620518305302,
         "Turbidity": 3.3618333238544555,
         "_deepnote_index_column": 3265,
         "ph": 8.197353369384867
        },
        {
         "Chloramines": 6.29731152709713,
         "Conductivity": 390.4102306332045,
         "Hardness": 215.0473578931106,
         "Organic_carbon": 9.899115390205338,
         "Potability": 1,
         "Solids": 15921.412017954248,
         "Sulfate": 312.93102150370726,
         "Trihalomethanes": 55.06930392643049,
         "Turbidity": 4.613842848013146,
         "_deepnote_index_column": 3267,
         "ph": 8.989900090557086
        },
        {
         "Chloramines": 7.708116997755447,
         "Conductivity": 329.26600176073254,
         "Hardness": 207.3210856503921,
         "Organic_carbon": 16.217302947940425,
         "Potability": 1,
         "Solids": 17246.920347484298,
         "Sulfate": 304.51023012856194,
         "Trihalomethanes": 28.87860134187582,
         "Turbidity": 3.442983035168171,
         "_deepnote_index_column": 3268,
         "ph": 6.702546553103828
        },
        {
         "Chloramines": 9.263166160944529,
         "Conductivity": 439.8936179168196,
         "Hardness": 94.81254521783356,
         "Organic_carbon": 16.17275544496954,
         "Potability": 1,
         "Solids": 37188.826021934,
         "Sulfate": 258.930600411521,
         "Trihalomethanes": 41.55850071766692,
         "Turbidity": 4.369264314437881,
         "_deepnote_index_column": 3269,
         "ph": 11.491010908391427
        },
        {
         "Chloramines": 7.7475474812942835,
         "Conductivity": 415.8869545163145,
         "Hardness": 186.65903974703812,
         "Organic_carbon": 12.067619565343648,
         "Potability": 1,
         "Solids": 26138.78019066394,
         "Sulfate": 345.70025733716403,
         "Trihalomethanes": 60.41992108497409,
         "Turbidity": 3.669711703641994,
         "_deepnote_index_column": 3270,
         "ph": 6.069615757057698
        },
        {
         "Chloramines": 7.166638935482532,
         "Conductivity": 526.4241709223593,
         "Hardness": 193.68173547507868,
         "Organic_carbon": 13.894418518194527,
         "Potability": 1,
         "Solids": 47580.99160333534,
         "Sulfate": 359.94857436696,
         "Trihalomethanes": 66.68769478539706,
         "Turbidity": 4.4358209095098,
         "_deepnote_index_column": 3271,
         "ph": 4.668101687405915
        }
       ],
       "rows_top": [
        {
         "Chloramines": 8.05933237743854,
         "Conductivity": 363.2665161642437,
         "Hardness": 214.3733940856225,
         "Organic_carbon": 18.436524495493305,
         "Potability": 0,
         "Solids": 22018.41744077529,
         "Sulfate": 356.88613564305666,
         "Trihalomethanes": 100.34167436508008,
         "Turbidity": 4.628770536837084,
         "_deepnote_index_column": 3,
         "ph": 8.316765884214679
        },
        {
         "Chloramines": 6.546599974207941,
         "Conductivity": 398.4108133818447,
         "Hardness": 181.10150923612525,
         "Organic_carbon": 11.558279443446397,
         "Potability": 0,
         "Solids": 17978.98633892625,
         "Sulfate": 310.13573752420444,
         "Trihalomethanes": 31.997992727424737,
         "Turbidity": 4.075075425430034,
         "_deepnote_index_column": 4,
         "ph": 9.092223456290965
        },
        {
         "Chloramines": 7.54486878877965,
         "Conductivity": 280.4679159334877,
         "Hardness": 188.3133237696164,
         "Organic_carbon": 8.399734640152758,
         "Potability": 0,
         "Solids": 28748.68773904612,
         "Sulfate": 326.6783629116736,
         "Trihalomethanes": 54.91786184199447,
         "Turbidity": 2.5597082275565217,
         "_deepnote_index_column": 5,
         "ph": 5.584086638456089
        },
        {
         "Chloramines": 7.5134084658313025,
         "Conductivity": 283.6516335078445,
         "Hardness": 248.07173527013992,
         "Organic_carbon": 13.789695317519886,
         "Potability": 0,
         "Solids": 28749.716543528237,
         "Sulfate": 393.66339551509645,
         "Trihalomethanes": 84.60355617402357,
         "Turbidity": 2.672988736934779,
         "_deepnote_index_column": 6,
         "ph": 10.223862164528772
        },
        {
         "Chloramines": 4.563008685599703,
         "Conductivity": 474.6076449424485,
         "Hardness": 203.3615225845705,
         "Organic_carbon": 12.36381669870525,
         "Potability": 0,
         "Solids": 13672.091763901635,
         "Sulfate": 303.3097711592812,
         "Trihalomethanes": 62.79830896292516,
         "Turbidity": 4.401424715445482,
         "_deepnote_index_column": 7,
         "ph": 8.635848718500734
        },
        {
         "Chloramines": 9.077200016914391,
         "Conductivity": 563.8854814810949,
         "Hardness": 227.23146923797455,
         "Organic_carbon": 17.92780641128502,
         "Potability": 0,
         "Solids": 25484.50849098786,
         "Sulfate": 404.04163468409,
         "Trihalomethanes": 71.97660103221915,
         "Turbidity": 4.370561936655497,
         "_deepnote_index_column": 9,
         "ph": 11.180284470721592
        },
        {
         "Chloramines": 7.550700906704114,
         "Conductivity": 425.3834194953873,
         "Hardness": 165.52079725952862,
         "Organic_carbon": 15.586810438033126,
         "Potability": 0,
         "Solids": 32452.614409143884,
         "Sulfate": 326.62435345560164,
         "Trihalomethanes": 78.74001566430479,
         "Turbidity": 3.662291782852457,
         "_deepnote_index_column": 10,
         "ph": 7.360640105838258
        },
        {
         "Chloramines": 3.60603609050572,
         "Conductivity": 347.71502726194376,
         "Hardness": 156.70499334039215,
         "Organic_carbon": 15.9295359088257,
         "Potability": 0,
         "Solids": 18730.813653342717,
         "Sulfate": 282.3440504739606,
         "Trihalomethanes": 79.5007783369744,
         "Turbidity": 3.445756223321899,
         "_deepnote_index_column": 12,
         "ph": 7.119824384264552
        },
        {
         "Chloramines": 9.629596276480584,
         "Conductivity": 516.743281893657,
         "Hardness": 186.73288066057611,
         "Organic_carbon": 11.53978119153942,
         "Potability": 0,
         "Solids": 41065.23476453935,
         "Sulfate": 364.4876872467604,
         "Trihalomethanes": 75.07161728663777,
         "Turbidity": 4.376348290691898,
         "_deepnote_index_column": 15,
         "ph": 6.347271760539316
        },
        {
         "Chloramines": 6.904989726470096,
         "Conductivity": 477.9746418621779,
         "Hardness": 273.81380665980095,
         "Organic_carbon": 13.387340780225545,
         "Potability": 0,
         "Solids": 24041.32628006128,
         "Sulfate": 398.3505168222779,
         "Trihalomethanes": 71.4573622129516,
         "Turbidity": 4.503660796179122,
         "_deepnote_index_column": 17,
         "ph": 9.181560007151536
        },
        {
         "Chloramines": 4.432669290372123,
         "Conductivity": 469.9145514792359,
         "Hardness": 214.49661045715655,
         "Organic_carbon": 12.509163940498697,
         "Potability": 0,
         "Solids": 25630.320036999725,
         "Sulfate": 335.75443859606526,
         "Trihalomethanes": 62.79727715266126,
         "Turbidity": 2.5602991476149146,
         "_deepnote_index_column": 19,
         "ph": 7.371050302429531
        },
        {
         "Chloramines": 5.858769130547582,
         "Conductivity": 523.6712975009444,
         "Hardness": 168.28374685651832,
         "Organic_carbon": 17.88423519296481,
         "Potability": 0,
         "Solids": 30944.363591242687,
         "Sulfate": 310.93085831787846,
         "Trihalomethanes": 77.0423180517003,
         "Turbidity": 3.7497012410996176,
         "_deepnote_index_column": 21,
         "ph": 6.660212026118103
        },
        {
         "Chloramines": 10.056852484033495,
         "Conductivity": 472.8740732754293,
         "Hardness": 140.7390622511396,
         "Organic_carbon": 11.256381166909478,
         "Potability": 0,
         "Solids": 17266.593421923077,
         "Sulfate": 328.3582406986835,
         "Trihalomethanes": 56.9319064457562,
         "Turbidity": 4.824786389767524,
         "_deepnote_index_column": 24,
         "ph": 5.400301780729467
        },
        {
         "Chloramines": 8.67093691991312,
         "Conductivity": 413.2904500885347,
         "Hardness": 198.7673512594561,
         "Organic_carbon": 14.899999566696977,
         "Potability": 0,
         "Solids": 21218.702871190195,
         "Sulfate": 323.5963490101317,
         "Trihalomethanes": 79.84784281372556,
         "Turbidity": 5.200885076539757,
         "_deepnote_index_column": 25,
         "ph": 6.514415093251676
        },
        {
         "Chloramines": 8.782147480773485,
         "Conductivity": 441.7858756739387,
         "Hardness": 207.92626018799376,
         "Organic_carbon": 13.80590221127079,
         "Potability": 0,
         "Solids": 33424.7686784948,
         "Sulfate": 384.0070058017212,
         "Trihalomethanes": 30.284597198002704,
         "Turbidity": 4.184396969028851,
         "_deepnote_index_column": 26,
         "ph": 3.4450618643852127
        },
        {
         "Chloramines": 5.994678646449973,
         "Conductivity": 342.1112862851926,
         "Hardness": 209.62560053629045,
         "Organic_carbon": 7.92259833302262,
         "Potability": 0,
         "Solids": 15196.229987483845,
         "Sulfate": 338.3364310774872,
         "Trihalomethanes": 71.5379532557936,
         "Turbidity": 5.088859989138795,
         "_deepnote_index_column": 30,
         "ph": 7.181448580829175
        },
        {
         "Chloramines": 8.161504810728331,
         "Conductivity": 412.9868337903324,
         "Hardness": 117.79122955039698,
         "Organic_carbon": 12.890708564511783,
         "Potability": 0,
         "Solids": 22326.89204571865,
         "Sulfate": 307.70750861182404,
         "Trihalomethanes": 65.73347838938281,
         "Turbidity": 5.057310516515726,
         "_deepnote_index_column": 32,
         "ph": 10.43329098280438
        },
        {
         "Chloramines": 6.845952023844903,
         "Conductivity": 411.983364167012,
         "Hardness": 235.04453448737107,
         "Organic_carbon": 10.2448150683598,
         "Potability": 0,
         "Solids": 32555.85253707369,
         "Sulfate": 387.1753164773568,
         "Trihalomethanes": 44.48929725226032,
         "Turbidity": 3.160624468232638,
         "_deepnote_index_column": 33,
         "ph": 7.414148196336244
        },
        {
         "Chloramines": 6.060712994989327,
         "Conductivity": 441.7483793248687,
         "Hardness": 191.95274297485884,
         "Organic_carbon": 10.96648615295345,
         "Potability": 0,
         "Solids": 19620.545328612152,
         "Sulfate": 323.8363839136296,
         "Trihalomethanes": 49.23823132273568,
         "Turbidity": 3.9020887676437535,
         "_deepnote_index_column": 35,
         "ph": 5.115817063771218
        },
        {
         "Chloramines": 5.538314133481364,
         "Conductivity": 456.8600959410411,
         "Hardness": 183.9087222618269,
         "Organic_carbon": 9.03406675271333,
         "Potability": 0,
         "Solids": 24752.072459755404,
         "Sulfate": 286.0595560492713,
         "Trihalomethanes": 73.5946567566564,
         "Turbidity": 3.464353035155024,
         "_deepnote_index_column": 36,
         "ph": 3.641629777473381
        },
        {
         "Chloramines": 6.110612421393192,
         "Conductivity": 396.8769490579176,
         "Hardness": 198.614394719096,
         "Organic_carbon": 16.471969353155146,
         "Potability": 0,
         "Solids": 24683.723566029654,
         "Sulfate": 328.0775332014693,
         "Trihalomethanes": 30.383314574642014,
         "Turbidity": 4.324004645618281,
         "_deepnote_index_column": 39,
         "ph": 9.267187530763549
        },
        {
         "Chloramines": 7.993829562375316,
         "Conductivity": 335.1203984374612,
         "Hardness": 194.87406544579957,
         "Organic_carbon": 10.180513802631594,
         "Potability": 0,
         "Solids": 16658.876503163574,
         "Sulfate": 316.6751618281669,
         "Trihalomethanes": 59.57271371122687,
         "Turbidity": 4.434820257956548,
         "_deepnote_index_column": 41,
         "ph": 5.331940479018537
        },
        {
         "Chloramines": 6.81402870120907,
         "Conductivity": 332.0327063306858,
         "Hardness": 238.68992851166007,
         "Organic_carbon": 11.093163397452656,
         "Potability": 0,
         "Solids": 28780.340431632725,
         "Sulfate": 385.9756504867898,
         "Trihalomethanes": 66.13804474710018,
         "Turbidity": 5.182590703980226,
         "_deepnote_index_column": 42,
         "ph": 7.145771545218821
        },
        {
         "Chloramines": 6.882248306781502,
         "Conductivity": 333.19246993768064,
         "Hardness": 202.8174830014264,
         "Organic_carbon": 23.917601261274967,
         "Potability": 0,
         "Solids": 9973.934059208535,
         "Sulfate": 337.35052910963714,
         "Trihalomethanes": 71.833623959766,
         "Turbidity": 4.69070723013249,
         "_deepnote_index_column": 43,
         "ph": 9.920691058768153
        },
        {
         "Chloramines": 4.462707246137983,
         "Conductivity": 391.1843150860056,
         "Hardness": 209.6382929790206,
         "Organic_carbon": 13.28533391608596,
         "Potability": 0,
         "Solids": 10575.18628088936,
         "Sulfate": 315.60659440039234,
         "Trihalomethanes": 87.39088897956339,
         "Turbidity": 3.195710328196264,
         "_deepnote_index_column": 46,
         "ph": 6.953864225511059
        },
        {
         "Chloramines": 5.570783575394459,
         "Conductivity": 323.8079132465807,
         "Hardness": 173.3754983501208,
         "Organic_carbon": 10.0908697516698,
         "Potability": 0,
         "Solids": 15758.740621388915,
         "Sulfate": 307.35258576592696,
         "Trihalomethanes": 78.47278445385454,
         "Turbidity": 3.999775381550061,
         "_deepnote_index_column": 47,
         "ph": 10.68296642580598
        },
        {
         "Chloramines": 4.915101054543186,
         "Conductivity": 404.7177991564453,
         "Hardness": 200.19140044205727,
         "Organic_carbon": 13.768323306421337,
         "Potability": 0,
         "Solids": 21536.22468744541,
         "Sulfate": 317.88290049783706,
         "Trihalomethanes": 47.93087187711021,
         "Turbidity": 3.6261354416122304,
         "_deepnote_index_column": 49,
         "ph": 8.757257397440991
        },
        {
         "Chloramines": 5.212314602065352,
         "Conductivity": 605.2201243500056,
         "Hardness": 100.4576150915831,
         "Organic_carbon": 9.611348740011238,
         "Potability": 0,
         "Solids": 12013.550628764531,
         "Sulfate": 247.2008260476431,
         "Trihalomethanes": 66.08417363713342,
         "Turbidity": 2.447444463910633,
         "_deepnote_index_column": 51,
         "ph": 7.80963189801941
        },
        {
         "Chloramines": 4.961066380191502,
         "Conductivity": 545.974993762403,
         "Hardness": 145.0101719190834,
         "Organic_carbon": 10.942024256012132,
         "Potability": 0,
         "Solids": 19871.788448305862,
         "Sulfate": 288.0521917368515,
         "Trihalomethanes": 71.7274140605346,
         "Turbidity": 3.742090426349668,
         "_deepnote_index_column": 52,
         "ph": 6.652488090855707
        },
        {
         "Chloramines": 7.2307947693374,
         "Conductivity": 527.7089100130407,
         "Hardness": 211.71414177764132,
         "Organic_carbon": 18.27531210927765,
         "Potability": 0,
         "Solids": 11920.610835646206,
         "Sulfate": 339.7519188007938,
         "Trihalomethanes": 47.63488493437153,
         "Turbidity": 3.7945315911032105,
         "_deepnote_index_column": 53,
         "ph": 9.14719705533692
        },
        {
         "Chloramines": 6.991259996238134,
         "Conductivity": 456.5564021223438,
         "Hardness": 181.89336556155357,
         "Organic_carbon": 16.48283536696391,
         "Potability": 0,
         "Solids": 21783.65103336337,
         "Sulfate": 340.39037835517297,
         "Trihalomethanes": 34.2520490783523,
         "Turbidity": 3.964686350022129,
         "_deepnote_index_column": 54,
         "ph": 10.560744636218196
        },
        {
         "Chloramines": 8.282808464509609,
         "Conductivity": 481.3188026886131,
         "Hardness": 238.3351124555097,
         "Organic_carbon": 6.016336609271207,
         "Potability": 0,
         "Solids": 28779.6500110336,
         "Sulfate": 381.6493228718946,
         "Trihalomethanes": 39.09117136225335,
         "Turbidity": 3.9406045297946832,
         "_deepnote_index_column": 56,
         "ph": 8.520806572970303
        },
        {
         "Chloramines": 7.230164126862036,
         "Conductivity": 405.3304820275903,
         "Hardness": 190.28705014936028,
         "Organic_carbon": 8.236557503105303,
         "Potability": 0,
         "Solids": 24323.865903045946,
         "Sulfate": 324.8930378422557,
         "Trihalomethanes": 99.42738491828506,
         "Turbidity": 4.460683931737437,
         "_deepnote_index_column": 57,
         "ph": 4.999413810796919
        },
        {
         "Chloramines": 6.9948396173050975,
         "Conductivity": 269.4490512269393,
         "Hardness": 233.4028350124758,
         "Organic_carbon": 9.6541256002684,
         "Potability": 0,
         "Solids": 32144.79993361832,
         "Sulfate": 348.3594482139767,
         "Trihalomethanes": 63.74306384016444,
         "Turbidity": 3.902879711657464,
         "_deepnote_index_column": 60,
         "ph": 3.9060783549561697
        },
        {
         "Chloramines": 5.375559891974689,
         "Conductivity": 369.3381209158568,
         "Hardness": 213.0178296827953,
         "Organic_carbon": 13.75810517074376,
         "Potability": 0,
         "Solids": 20965.478308853573,
         "Sulfate": 327.65054252170705,
         "Trihalomethanes": 17.915722569180794,
         "Turbidity": 3.92374916929651,
         "_deepnote_index_column": 61,
         "ph": 6.391353623832183
        },
        {
         "Chloramines": 8.983276144386597,
         "Conductivity": 669.725086180179,
         "Hardness": 238.56938041349943,
         "Organic_carbon": 13.353181433963528,
         "Potability": 0,
         "Solids": 34873.9345228707,
         "Sulfate": 374.4335045168568,
         "Trihalomethanes": 76.52179974552398,
         "Turbidity": 5.106655774420084,
         "_deepnote_index_column": 66,
         "ph": 5.058108868565138
        },
        {
         "Chloramines": 5.837086492837437,
         "Conductivity": 501.18278074341,
         "Hardness": 179.88978823788457,
         "Organic_carbon": 17.287713278296337,
         "Potability": 0,
         "Solids": 24964.777703096523,
         "Sulfate": 349.26927130145657,
         "Trihalomethanes": 50.99300645308109,
         "Turbidity": 3.636364182680497,
         "_deepnote_index_column": 69,
         "ph": 7.261550522070718
        },
        {
         "Chloramines": 3.8030364235979857,
         "Conductivity": 428.0363443504035,
         "Hardness": 183.0893100379288,
         "Organic_carbon": 9.79962468961304,
         "Potability": 0,
         "Solids": 6743.346065530401,
         "Sulfate": 277.5990986210596,
         "Trihalomethanes": 90.03537367362071,
         "Turbidity": 3.8848910441472793,
         "_deepnote_index_column": 70,
         "ph": 7.16046723080874
        },
        {
         "Chloramines": 7.050503159576975,
         "Conductivity": 504.3786809676549,
         "Hardness": 116.29932988379586,
         "Organic_carbon": 9.001820487566135,
         "Potability": 0,
         "Solids": 33223.58152874991,
         "Sulfate": 297.0781534785211,
         "Trihalomethanes": 48.1470312534892,
         "Turbidity": 4.157533407489738,
         "_deepnote_index_column": 71,
         "ph": 5.704764776213017
        },
        {
         "Chloramines": 7.092462955305368,
         "Conductivity": 556.6537100333977,
         "Hardness": 130.94446388846563,
         "Organic_carbon": 14.083608352195483,
         "Potability": 0,
         "Solids": 19460.38281898756,
         "Sulfate": 300.13127199830365,
         "Trihalomethanes": 57.897074706807686,
         "Turbidity": 5.325833445695803,
         "_deepnote_index_column": 72,
         "ph": 6.21727313516034
        },
        {
         "Chloramines": 6.821679099461131,
         "Conductivity": 307.3791420351913,
         "Hardness": 158.73207576140192,
         "Organic_carbon": 9.71223191091832,
         "Potability": 0,
         "Solids": 23029.663613563636,
         "Sulfate": 286.5228468169785,
         "Trihalomethanes": 79.85092857457249,
         "Turbidity": 3.762615331099367,
         "_deepnote_index_column": 76,
         "ph": 3.514545528745279
        },
        {
         "Chloramines": 6.6845702741913415,
         "Conductivity": 467.5629728711818,
         "Hardness": 163.63974692058176,
         "Organic_carbon": 14.567268860188278,
         "Potability": 0,
         "Solids": 37962.16799126102,
         "Sulfate": 326.69401786030267,
         "Trihalomethanes": 50.57797909828098,
         "Turbidity": 3.662837731991359,
         "_deepnote_index_column": 77,
         "ph": 3.72250048593372
        },
        {
         "Chloramines": 5.756930038692856,
         "Conductivity": 477.5813461557029,
         "Hardness": 176.68397277687006,
         "Organic_carbon": 16.245504341610683,
         "Potability": 0,
         "Solids": 24468.048390354597,
         "Sulfate": 314.7995982838096,
         "Trihalomethanes": 57.72972382844005,
         "Turbidity": 2.2934314064128625,
         "_deepnote_index_column": 78,
         "ph": 6.455004797496717
        },
        {
         "Chloramines": 9.86504750268218,
         "Conductivity": 425.9134001802693,
         "Hardness": 217.5228619622912,
         "Organic_carbon": 8.992754272254672,
         "Potability": 0,
         "Solids": 31903.399811532247,
         "Sulfate": 376.93797230566565,
         "Trihalomethanes": 69.50921982211526,
         "Turbidity": 3.508372649783596,
         "_deepnote_index_column": 79,
         "ph": 7.316804753880919
        },
        {
         "Chloramines": 6.505923138805981,
         "Conductivity": 504.14599408386647,
         "Hardness": 204.96174981089476,
         "Organic_carbon": 11.532144007741238,
         "Potability": 0,
         "Solids": 9566.1222701692,
         "Sulfate": 311.4526625117488,
         "Trihalomethanes": 81.10693773146244,
         "Turbidity": 3.772420927989514,
         "_deepnote_index_column": 82,
         "ph": 7.408985466924612
        },
        {
         "Chloramines": 7.648599331443458,
         "Conductivity": 514.118920118766,
         "Hardness": 258.9527320159533,
         "Organic_carbon": 12.256790251190353,
         "Potability": 0,
         "Solids": 27267.981860954154,
         "Sulfate": 383.6571521070967,
         "Trihalomethanes": 82.46979842996726,
         "Turbidity": 2.9946710955082176,
         "_deepnote_index_column": 83,
         "ph": 5.976769618087598
        },
        {
         "Chloramines": 5.1277468613272,
         "Conductivity": 573.4002951499592,
         "Hardness": 133.8342291043793,
         "Organic_carbon": 9.833874584580258,
         "Potability": 0,
         "Solids": 23827.275015402887,
         "Sulfate": 266.9084282807846,
         "Trihalomethanes": 95.02660927984373,
         "Turbidity": 4.191217514711704,
         "_deepnote_index_column": 84,
         "ph": 6.395359131671062
        },
        {
         "Chloramines": 7.884990657868601,
         "Conductivity": 465.4137746213498,
         "Hardness": 232.0751765558761,
         "Organic_carbon": 13.863964882331118,
         "Potability": 0,
         "Solids": 27159.38434523353,
         "Sulfate": 350.4452926972019,
         "Trihalomethanes": 64.81225738319597,
         "Turbidity": 4.916579160751283,
         "_deepnote_index_column": 86,
         "ph": 6.762832521891738
        },
        {
         "Chloramines": 6.799841410225563,
         "Conductivity": 430.5077068652869,
         "Hardness": 199.18125107339057,
         "Organic_carbon": 15.966042944362073,
         "Potability": 0,
         "Solids": 21470.27830541328,
         "Sulfate": 329.17842902607634,
         "Trihalomethanes": 59.29227326975216,
         "Turbidity": 3.385508443856719,
         "_deepnote_index_column": 87,
         "ph": 9.91871706385417
        },
        {
         "Chloramines": 6.655126362567496,
         "Conductivity": 487.45913103075526,
         "Hardness": 300.29247579584023,
         "Organic_carbon": 9.347633986485675,
         "Potability": 0,
         "Solids": 12652.362978658088,
         "Sulfate": 398.6477857459576,
         "Trihalomethanes": 67.9197886870381,
         "Turbidity": 5.002467259922081,
         "_deepnote_index_column": 88,
         "ph": 10.15544017022192
        }
       ]
      },
      "text/html": [
       "<div>\n",
       "<style scoped>\n",
       "    .dataframe tbody tr th:only-of-type {\n",
       "        vertical-align: middle;\n",
       "    }\n",
       "\n",
       "    .dataframe tbody tr th {\n",
       "        vertical-align: top;\n",
       "    }\n",
       "\n",
       "    .dataframe thead th {\n",
       "        text-align: right;\n",
       "    }\n",
       "</style>\n",
       "<table border=\"1\" class=\"dataframe\">\n",
       "  <thead>\n",
       "    <tr style=\"text-align: right;\">\n",
       "      <th></th>\n",
       "      <th>ph</th>\n",
       "      <th>Hardness</th>\n",
       "      <th>Solids</th>\n",
       "      <th>Chloramines</th>\n",
       "      <th>Sulfate</th>\n",
       "      <th>Conductivity</th>\n",
       "      <th>Organic_carbon</th>\n",
       "      <th>Trihalomethanes</th>\n",
       "      <th>Turbidity</th>\n",
       "      <th>Potability</th>\n",
       "    </tr>\n",
       "  </thead>\n",
       "  <tbody>\n",
       "    <tr>\n",
       "      <th>3</th>\n",
       "      <td>8.316766</td>\n",
       "      <td>214.373394</td>\n",
       "      <td>22018.417441</td>\n",
       "      <td>8.059332</td>\n",
       "      <td>356.886136</td>\n",
       "      <td>363.266516</td>\n",
       "      <td>18.436524</td>\n",
       "      <td>100.341674</td>\n",
       "      <td>4.628771</td>\n",
       "      <td>0</td>\n",
       "    </tr>\n",
       "    <tr>\n",
       "      <th>4</th>\n",
       "      <td>9.092223</td>\n",
       "      <td>181.101509</td>\n",
       "      <td>17978.986339</td>\n",
       "      <td>6.546600</td>\n",
       "      <td>310.135738</td>\n",
       "      <td>398.410813</td>\n",
       "      <td>11.558279</td>\n",
       "      <td>31.997993</td>\n",
       "      <td>4.075075</td>\n",
       "      <td>0</td>\n",
       "    </tr>\n",
       "    <tr>\n",
       "      <th>5</th>\n",
       "      <td>5.584087</td>\n",
       "      <td>188.313324</td>\n",
       "      <td>28748.687739</td>\n",
       "      <td>7.544869</td>\n",
       "      <td>326.678363</td>\n",
       "      <td>280.467916</td>\n",
       "      <td>8.399735</td>\n",
       "      <td>54.917862</td>\n",
       "      <td>2.559708</td>\n",
       "      <td>0</td>\n",
       "    </tr>\n",
       "    <tr>\n",
       "      <th>6</th>\n",
       "      <td>10.223862</td>\n",
       "      <td>248.071735</td>\n",
       "      <td>28749.716544</td>\n",
       "      <td>7.513408</td>\n",
       "      <td>393.663396</td>\n",
       "      <td>283.651634</td>\n",
       "      <td>13.789695</td>\n",
       "      <td>84.603556</td>\n",
       "      <td>2.672989</td>\n",
       "      <td>0</td>\n",
       "    </tr>\n",
       "    <tr>\n",
       "      <th>7</th>\n",
       "      <td>8.635849</td>\n",
       "      <td>203.361523</td>\n",
       "      <td>13672.091764</td>\n",
       "      <td>4.563009</td>\n",
       "      <td>303.309771</td>\n",
       "      <td>474.607645</td>\n",
       "      <td>12.363817</td>\n",
       "      <td>62.798309</td>\n",
       "      <td>4.401425</td>\n",
       "      <td>0</td>\n",
       "    </tr>\n",
       "    <tr>\n",
       "      <th>...</th>\n",
       "      <td>...</td>\n",
       "      <td>...</td>\n",
       "      <td>...</td>\n",
       "      <td>...</td>\n",
       "      <td>...</td>\n",
       "      <td>...</td>\n",
       "      <td>...</td>\n",
       "      <td>...</td>\n",
       "      <td>...</td>\n",
       "      <td>...</td>\n",
       "    </tr>\n",
       "    <tr>\n",
       "      <th>3267</th>\n",
       "      <td>8.989900</td>\n",
       "      <td>215.047358</td>\n",
       "      <td>15921.412018</td>\n",
       "      <td>6.297312</td>\n",
       "      <td>312.931022</td>\n",
       "      <td>390.410231</td>\n",
       "      <td>9.899115</td>\n",
       "      <td>55.069304</td>\n",
       "      <td>4.613843</td>\n",
       "      <td>1</td>\n",
       "    </tr>\n",
       "    <tr>\n",
       "      <th>3268</th>\n",
       "      <td>6.702547</td>\n",
       "      <td>207.321086</td>\n",
       "      <td>17246.920347</td>\n",
       "      <td>7.708117</td>\n",
       "      <td>304.510230</td>\n",
       "      <td>329.266002</td>\n",
       "      <td>16.217303</td>\n",
       "      <td>28.878601</td>\n",
       "      <td>3.442983</td>\n",
       "      <td>1</td>\n",
       "    </tr>\n",
       "    <tr>\n",
       "      <th>3269</th>\n",
       "      <td>11.491011</td>\n",
       "      <td>94.812545</td>\n",
       "      <td>37188.826022</td>\n",
       "      <td>9.263166</td>\n",
       "      <td>258.930600</td>\n",
       "      <td>439.893618</td>\n",
       "      <td>16.172755</td>\n",
       "      <td>41.558501</td>\n",
       "      <td>4.369264</td>\n",
       "      <td>1</td>\n",
       "    </tr>\n",
       "    <tr>\n",
       "      <th>3270</th>\n",
       "      <td>6.069616</td>\n",
       "      <td>186.659040</td>\n",
       "      <td>26138.780191</td>\n",
       "      <td>7.747547</td>\n",
       "      <td>345.700257</td>\n",
       "      <td>415.886955</td>\n",
       "      <td>12.067620</td>\n",
       "      <td>60.419921</td>\n",
       "      <td>3.669712</td>\n",
       "      <td>1</td>\n",
       "    </tr>\n",
       "    <tr>\n",
       "      <th>3271</th>\n",
       "      <td>4.668102</td>\n",
       "      <td>193.681735</td>\n",
       "      <td>47580.991603</td>\n",
       "      <td>7.166639</td>\n",
       "      <td>359.948574</td>\n",
       "      <td>526.424171</td>\n",
       "      <td>13.894419</td>\n",
       "      <td>66.687695</td>\n",
       "      <td>4.435821</td>\n",
       "      <td>1</td>\n",
       "    </tr>\n",
       "  </tbody>\n",
       "</table>\n",
       "<p>2011 rows × 10 columns</p>\n",
       "</div>"
      ],
      "text/plain": [
       "             ph    Hardness        Solids  Chloramines     Sulfate  \\\n",
       "3      8.316766  214.373394  22018.417441     8.059332  356.886136   \n",
       "4      9.092223  181.101509  17978.986339     6.546600  310.135738   \n",
       "5      5.584087  188.313324  28748.687739     7.544869  326.678363   \n",
       "6     10.223862  248.071735  28749.716544     7.513408  393.663396   \n",
       "7      8.635849  203.361523  13672.091764     4.563009  303.309771   \n",
       "...         ...         ...           ...          ...         ...   \n",
       "3267   8.989900  215.047358  15921.412018     6.297312  312.931022   \n",
       "3268   6.702547  207.321086  17246.920347     7.708117  304.510230   \n",
       "3269  11.491011   94.812545  37188.826022     9.263166  258.930600   \n",
       "3270   6.069616  186.659040  26138.780191     7.747547  345.700257   \n",
       "3271   4.668102  193.681735  47580.991603     7.166639  359.948574   \n",
       "\n",
       "      Conductivity  Organic_carbon  Trihalomethanes  Turbidity  Potability  \n",
       "3       363.266516       18.436524       100.341674   4.628771           0  \n",
       "4       398.410813       11.558279        31.997993   4.075075           0  \n",
       "5       280.467916        8.399735        54.917862   2.559708           0  \n",
       "6       283.651634       13.789695        84.603556   2.672989           0  \n",
       "7       474.607645       12.363817        62.798309   4.401425           0  \n",
       "...            ...             ...              ...        ...         ...  \n",
       "3267    390.410231        9.899115        55.069304   4.613843           1  \n",
       "3268    329.266002       16.217303        28.878601   3.442983           1  \n",
       "3269    439.893618       16.172755        41.558501   4.369264           1  \n",
       "3270    415.886955       12.067620        60.419921   3.669712           1  \n",
       "3271    526.424171       13.894419        66.687695   4.435821           1  \n",
       "\n",
       "[2011 rows x 10 columns]"
      ]
     },
     "execution_count": 3,
     "metadata": {},
     "output_type": "execute_result"
    }
   ],
   "source": [
    "df = pd.read_csv(\"./water_potability.csv\").dropna()\n",
    "df"
   ]
  },
  {
   "cell_type": "code",
   "execution_count": 4,
   "id": "79ba25c2",
   "metadata": {
    "cell_id": "00014-cd390fe3-0adc-4380-b385-d850f50e3b95",
    "deepnote_cell_type": "code",
    "deepnote_output_heights": [
     null,
     136.39999389648438
    ],
    "deepnote_to_be_reexecuted": false,
    "execution_millis": 34869,
    "execution_start": 1638557583538,
    "source_hash": "492b42d3"
   },
   "outputs": [
    {
     "name": "stdout",
     "output_type": "stream",
     "text": [
      "n_iterations: 4\n",
      "n_required_iterations: 4\n",
      "n_possible_iterations: 4\n",
      "min_resources_: 55\n",
      "max_resources_: 1508\n",
      "aggressive_elimination: False\n",
      "factor: 3\n",
      "----------\n",
      "iter: 0\n",
      "n_candidates: 54\n",
      "n_resources: 55\n",
      "Fitting 5 folds for each of 54 candidates, totalling 270 fits\n",
      "----------\n",
      "iter: 1\n",
      "n_candidates: 18\n",
      "n_resources: 165\n",
      "Fitting 5 folds for each of 18 candidates, totalling 90 fits\n",
      "----------\n",
      "iter: 2\n",
      "n_candidates: 6\n",
      "n_resources: 495\n",
      "Fitting 5 folds for each of 6 candidates, totalling 30 fits\n",
      "----------\n",
      "iter: 3\n",
      "n_candidates: 2\n",
      "n_resources: 1485\n",
      "Fitting 5 folds for each of 2 candidates, totalling 10 fits\n"
     ]
    },
    {
     "data": {
      "text/plain": [
       "HalvingGridSearchCV(estimator=Pipeline(steps=[('Scaler', StandardScaler()),\n",
       "                                              ('Clf', BaggingClassifier())]),\n",
       "                    n_jobs=-1,\n",
       "                    param_grid={'Clf__max_features': [0.5, 0.7, 1.0],\n",
       "                                'Clf__max_samples': [0.5, 0.7, 1.0],\n",
       "                                'Clf__n_estimators': [5, 10, 15, 20, 25, 50]},\n",
       "                    verbose=100)"
      ]
     },
     "execution_count": 4,
     "metadata": {},
     "output_type": "execute_result"
    }
   ],
   "source": [
    "X = df.drop(columns=[\"Potability\"])\n",
    "y = df.loc[:, [\"Potability\"]].values.ravel()\n",
    "\n",
    "# Holdout\n",
    "X_train, X_test, y_train, y_test = train_test_split(\n",
    "    X, y, random_state=42, shuffle=True, stratify=y\n",
    ")\n",
    "\n",
    "# Pipeline\n",
    "pipe = Pipeline(\n",
    "    [\n",
    "        (\"Scaler\", StandardScaler()),\n",
    "        (\"Clf\", BaggingClassifier()),\n",
    "    ]\n",
    ")\n",
    "\n",
    "# Grilla de Parámetros\n",
    "param_grid = {\n",
    "    \"Clf__max_features\": [0.5, 0.7, 1.0],\n",
    "    \"Clf__max_samples\": [0.5, 0.7, 1.0],\n",
    "    \"Clf__n_estimators\": [5, 10, 15, 20, 25, 50],\n",
    "}\n",
    "\n",
    "# Buscar la mejor configuración de parámetros usando HalvingGridSearchCV\n",
    "gs = HalvingGridSearchCV(pipe, param_grid, verbose=100, cv=5, n_jobs=-1)\n",
    "gs.fit(X_train, y_train)\n",
    "\n",
    "gs\n"
   ]
  },
  {
   "cell_type": "code",
   "execution_count": 5,
   "id": "b44b38ba",
   "metadata": {
    "cell_id": "00015-72b0432f-5f39-410e-a5af-2a5ebb307935",
    "deepnote_cell_type": "code",
    "deepnote_to_be_reexecuted": false,
    "execution_millis": 33,
    "execution_start": 1638557618427,
    "source_hash": "4b1a4df3"
   },
   "outputs": [
    {
     "name": "stdout",
     "output_type": "stream",
     "text": [
      "Mejor Modelo Grid Search: Pipeline(steps=[('Scaler', StandardScaler()),\n",
      "                ('Clf', BaggingClassifier(max_features=0.5, n_estimators=50))])\n",
      "\n",
      "Mejores Parámetros: {'Clf__max_features': 0.5, 'Clf__max_samples': 1.0, 'Clf__n_estimators': 50}\n",
      "\n",
      "Mejor Accuracy Grid Search: 0.6048321048321049\n",
      "\n",
      "Reporte de Clasificación\n",
      "\n",
      "              precision    recall  f1-score   support\n",
      "\n",
      "           0       0.63      0.89      0.74       300\n",
      "           1       0.57      0.22      0.31       203\n",
      "\n",
      "    accuracy                           0.62       503\n",
      "   macro avg       0.60      0.55      0.52       503\n",
      "weighted avg       0.60      0.62      0.57       503\n",
      "\n"
     ]
    }
   ],
   "source": [
    "print(f\"Mejor Modelo Grid Search: {gs.best_estimator_}\\n\")\n",
    "print(f\"Mejores Parámetros: {gs.best_params_}\\n\")\n",
    "\n",
    "print(f\"Mejor Accuracy Grid Search: {gs.best_score_}\\n\")\n",
    "\n",
    "best_random_forest = gs.best_estimator_\n",
    "y_pred = best_random_forest.predict(X_test)\n",
    "\n",
    "print(\"Reporte de Clasificación\\n\")\n",
    "print(classification_report(y_test, y_pred))"
   ]
  },
  {
   "cell_type": "markdown",
   "id": "5cac925f",
   "metadata": {
    "cell_id": "00016-e0df56eb-f909-4b48-a8b6-2bda45aeb106",
    "deepnote_cell_type": "markdown"
   },
   "source": [
    "Y use `dump` de `joblib` para persistir el modelo recién entrenado en el disco."
   ]
  },
  {
   "cell_type": "code",
   "execution_count": 6,
   "id": "da003131",
   "metadata": {
    "cell_id": "00017-cd6c517c-1b12-4ff6-a537-c60b74ab37df",
    "deepnote_cell_type": "code",
    "deepnote_output_heights": [
     21.199996948242188
    ],
    "deepnote_to_be_reexecuted": false,
    "execution_millis": 70,
    "execution_start": 1638557618475,
    "source_hash": "a1985419"
   },
   "outputs": [
    {
     "data": {
      "text/plain": [
       "['modelo.joblib']"
      ]
     },
     "execution_count": 6,
     "metadata": {},
     "output_type": "execute_result"
    }
   ],
   "source": [
    "from joblib import dump, load\n",
    "\n",
    "dump(gs, \"modelo.joblib\")"
   ]
  },
  {
   "cell_type": "markdown",
   "id": "737be4f6",
   "metadata": {
    "cell_id": "00018-93051d69-2024-4b28-8763-a1ca3f0e7525",
    "deepnote_cell_type": "markdown"
   },
   "source": [
    "## Parte 1: Conceptos \\[3 Puntos\\]"
   ]
  },
  {
   "cell_type": "markdown",
   "id": "b3114b02",
   "metadata": {
    "cell_id": "00019-6e9c739a-fe66-4f9a-b84b-e3cea7809113",
    "deepnote_cell_type": "markdown"
   },
   "source": [
    "<div align=\"center\">\n",
    "  <img src=\"https://media1.tenor.com/images/14c1bcb6e0eb7c5ff4ac225f1114e819/tenor.gif?itemid=13036231\" width=\"400\">\n",
    "</div>"
   ]
  },
  {
   "cell_type": "markdown",
   "id": "34278418",
   "metadata": {
    "cell_id": "00020-b3b185e8-9d1f-4cb3-9043-20094101735b",
    "deepnote_cell_type": "markdown"
   },
   "source": [
    "Antes de comenzar a trabajar, la administración de la empresa de agua les pide explicar la ideas claves para el desarrollo de una aplicación web. \n",
    "\n",
    "Para esto, les pide explicar muy brevemente los siguientes conceptos:\n",
    "\n",
    "**Nota:** Puede ser de ayuda revisar la clase 24. \n",
    "\n",
    "> ¿Qué es el modelo Cliente-Servidor?\n",
    "\n",
    "        Respuesta...\n",
    "    \n",
    "> ¿Qué es una URI?\n",
    "\n",
    "        Respuesta...\n",
    "    \n",
    "    \n",
    "> ¿Qué es HTTP?¿Qué significa que sea stateless?\n",
    "\n",
    "        Respuesta...\n",
    "    \n",
    "> ¿En que consisten las operaciones de HTTP?: \n",
    "   \n",
    "- GET\n",
    "    \n",
    "        Respuesta...\n",
    "        \n",
    "- POST\n",
    "    \n",
    "        Respuesta...\n",
    "        \n",
    "- PUT\n",
    "    \n",
    "        Respuesta...\n",
    "        \n",
    "- DELETE\n",
    "    \n",
    "        Respuesta...\n",
    "        \n",
    "\n",
    "> ¿Qué indican los códigos de respuesta de HTTP?\n",
    "\n",
    "\n",
    "        Respuesta... \n",
    "\n",
    "> ¿Qué es un Hipermedio como HTML?\n",
    "\n",
    "        Respuesta... \n",
    "\n",
    "> ¿Qué es una API?\n",
    "\n",
    "        Respuesta...\n",
    "\n",
    "> ¿Cómo API REST engloba los términos anteriores?\n",
    "\n",
    "         Respuesta... \n",
    "         \n",
    "> Indique si sería buena idea o no almacenar las observaciones y predicciones que se efectuen en el servicio de predicción de agua potable y el por qué.\n",
    "\n",
    "         Respuesta... "
   ]
  },
  {
   "cell_type": "markdown",
   "id": "f712ac50",
   "metadata": {
    "cell_id": "00021-e6d4eff2-123a-4ff3-8e11-a378adfe7660",
    "deepnote_cell_type": "markdown"
   },
   "source": [
    "---\n",
    "## Parte 2: Implementación del Servidor [3 Puntos]\n"
   ]
  },
  {
   "cell_type": "markdown",
   "id": "95e02eab",
   "metadata": {
    "cell_id": "00022-4f0766c5-ca26-481e-9319-ae194c4e7c02",
    "deepnote_cell_type": "markdown"
   },
   "source": [
    "<div align=\"center\">\n",
    "  <img src=\"https://media3.giphy.com/media/YQitE4YNQNahy/giphy-downsized-large.gif\" width=\"500\">\n",
    "</div>"
   ]
  },
  {
   "cell_type": "markdown",
   "id": "d0485673",
   "metadata": {
    "cell_id": "00023-45313c7b-896f-4166-ad59-1875e65e69f4",
    "deepnote_cell_type": "markdown"
   },
   "source": [
    "La municipal de agua les pide variadas funcionalidades al servidor que crearán. Su única restricción es que la implementen usando `FastAPI`.\n",
    "\n",
    "Junto a la tarea se les entrega además un archivo main.py que implementa el servidor en donde están definidas las funciones que deben implementar. Ustedes deben implementar el contenido de estas funciones.\n",
    "\n",
    "Instrucciones iniciales:\n",
    "\n",
    "- Para instalar el servidor: `pip install fastapi[all]`. \n",
    "- Para iniciarlo, en la consola de su archivo principal, ejecutar `uvicorn main:app --reload`. \n",
    "- El servidor se autorecarga cada vez que guardan un cambio en el código. \n",
    "\n",
    "> Nota: Recuerden usar las documentaciones para probar las APIs que desarrollen: http://127.0.0.1:8000/docs#/\n",
    "\n",
    "> Nota 2: Les aconsejamos seriamente intentar usar el debuger de vscode para programar el servidor."
   ]
  },
  {
   "cell_type": "markdown",
   "id": "b250ed73",
   "metadata": {
    "cell_id": "00024-46adabe2-faf7-4f46-81f4-676614bd400b",
    "deepnote_cell_type": "markdown"
   },
   "source": [
    "#### 1. \\[1 Punto\\] Predicción con `POST`\n",
    "\n",
    "A través de un `POST` a la ruta `/potabilidad` prediga si una medición de agua es o no potable. Una llamada a esta ruta debe además registrar los datos entregados más la fecha de la predicción y la clase predicha en una base de datos (ver la sección de `TinyDB` para mayor información).\n",
    "\n",
    "\n",
    "Por ejemplo, una llamada de esta ruta con un Body: \n",
    "\n",
    "\n",
    "```json\n",
    "{\n",
    "   \"ph\":10.316400384553162,\n",
    "   \"Hardness\":217.2668424334475,\n",
    "   \"Solids\":10676.508475429378,\n",
    "   \"Chloramines\":3.445514571005745,\n",
    "   \"Sulfate\":397.7549459751925,\n",
    "   \"Conductivity\":492.20647361771086,\n",
    "   \"Organic_carbon\":12.812732207582542,\n",
    "   \"Trihalomethanes\":72.28192021570328,\n",
    "   \"Turbidity\":3.4073494284238364\n",
    "}```\n",
    "\n",
    "Su serivdor debería retornar una respuesta HTML con código 200 con: \n",
    "\n",
    "\n",
    "```json\n",
    "{\n",
    "  \"potabilidad\": 0,\n",
    "  \"id\": 121 # el id/índice en donde este elemento fue insertado en la BBDD.\n",
    "}\n",
    "```\n",
    "\n",
    "Nota: puede variar según el ejemplo y el clasificador que entrenen. \n"
   ]
  },
  {
   "cell_type": "markdown",
   "id": "409c67d3",
   "metadata": {
    "cell_id": "00025-ecb86917-f62d-4854-bad7-1cb192773398",
    "deepnote_cell_type": "markdown"
   },
   "source": [
    "#### 2. \\[0.5 Puntos\\] Obtener Datos con `Get`\n",
    "\n",
    "\n",
    "A través de un `GET` a la ruta `/potabilidad/` entrege todas las mediciones guardadas.\n",
    "\n",
    "\n",
    "Por ejemplo: \n",
    "\n",
    "http://127.0.0.1:8000/potabilidad\n",
    "\n",
    "Debería retornar todos los registros con su fecha y predicción\n",
    "\n",
    "```json\n",
    "[\n",
    "   {\n",
    "      \"ph\":10.316400384553162,\n",
    "      \"Hardness\":217.2668424334475,\n",
    "      \"Solids\":10676.508475429378,\n",
    "      \"Chloramines\":3.445514571005745,\n",
    "      \"Sulfate\":397.7549459751925,\n",
    "      \"Conductivity\":492.20647361771086,\n",
    "      \"Organic_carbon\":12.812732207582542,\n",
    "      \"Trihalomethanes\":72.28192021570328,\n",
    "      \"Turbidity\":3.4073494284238364,\n",
    "      \"Day\":17,\n",
    "      \"Month\":7,\n",
    "      \"Year\":2021,\n",
    "      \"Prediction\":0\n",
    "   },\n",
    "   {\n",
    "      \"ph\":6.599593818953803,\n",
    "      \"Hardness\":198.323260816452,\n",
    "      \"Solids\":21078.887166441476,\n",
    "      \"Chloramines\":6.23423148205243,\n",
    "      \"Sulfate\":331.49563679988063,\n",
    "      \"Conductivity\":447.9877914293426,\n",
    "      \"Organic_carbon\":12.93630432875392,\n",
    "      \"Trihalomethanes\":59.833619304688185,\n",
    "      \"Turbidity\":4.702310752770497,\n",
    "      \"Day\":17,\n",
    "      \"Month\":7,\n",
    "      \"Year\":2021,\n",
    "      \"Prediction\":0\n",
    "   },\n",
    "   {\n",
    "      \"ph\":7.920794564373236,\n",
    "      \"Hardness\":173.35715056714022,\n",
    "      \"Solids\":13454.634777245552,\n",
    "      \"Chloramines\":6.947895137367302,\n",
    "      \"Sulfate\":356.768119344542,\n",
    "      \"Conductivity\":471.3686945543212,\n",
    "      \"Organic_carbon\":16.47783972341182,\n",
    "      \"Trihalomethanes\":68.00050835002364,\n",
    "      \"Turbidity\":3.3743265226271983,\n",
    "      \"Day\":17,\n",
    "      \"Month\":7,\n",
    "      \"Year\":2021,\n",
    "      \"Prediction\":0\n",
    "   }, \n",
    "   ...\n",
    "]\n",
    "```\n",
    "\n",
    "Nota: Esta es bastante sencilla, no debería tomarles más de 2 lineas."
   ]
  },
  {
   "cell_type": "markdown",
   "id": "20d0416f",
   "metadata": {
    "cell_id": "00026-a389f8dc-19b6-4655-b0b4-aa967ac50d1e",
    "deepnote_cell_type": "markdown"
   },
   "source": [
    "#### 3. \\[0.5 Puntos\\] `GET` con parámetros\n",
    " A través de un `GET` a la ruta `/potabilidad_diaria/` con los parámetros día, mes y año entrege todas las mediciones guardadas correspondientes a esa fecha.\n",
    "\n",
    "Por ejemplo: \n",
    "\n",
    "http://127.0.0.1:8000/potabilidad/?day=17&month=7&year=2021\n",
    "\n",
    "Debería entregar las mediciones asignadas al día 17 del mes 7 del año 2021:\n",
    "\n",
    "```json\n",
    "\n",
    "[\n",
    "    {\"ph\":10.316400384553162,\"Hardness\":217.2668424334475,\"Solids\":10676.508475429378,\"Chloramines\":3.445514571005745,\"Sulfate\":397.7549459751925,\"Conductivity\":492.20647361771086,\"Organic_carbon\":12.812732207582542,\"Trihalomethanes\":72.28192021570328,\"Turbidity\":3.4073494284238364,\"Day\":17,\"Month\":7,\"Year\":2021,\"Prediction\":0},{\"ph\":6.599593818953803,\"Hardness\":198.323260816452,\"Solids\":21078.887166441476,\"Chloramines\":6.23423148205243,\"Sulfate\":331.49563679988063,\"Conductivity\":447.9877914293426,\"Organic_carbon\":12.93630432875392,\"Trihalomethanes\":59.833619304688185,\"Turbidity\":4.702310752770497,\"Day\":17,\"Month\":7,\"Year\":2021,\"Prediction\":0},{\"ph\":7.920794564373236,\"Hardness\":173.35715056714022,\"Solids\":13454.634777245552,\"Chloramines\":6.947895137367302,\"Sulfate\":356.768119344542,\"Conductivity\":471.3686945543212,\"Organic_carbon\":16.47783972341182,\"Trihalomethanes\":68.00050835002364,\"Turbidity\":3.3743265226271983,\"Day\":17,\"Month\":7,\"Year\":2021,\"Prediction\":0},\n",
    "...\n",
    "]\n",
    "```\n",
    "\n",
    "**NOTA**: En la BBDD de prueba existen registros para los días 14, 15, 16, 17, 18 y 19 del 7 de 2021.\n",
    "\n"
   ]
  },
  {
   "cell_type": "markdown",
   "id": "c016eec5",
   "metadata": {
    "cell_id": "00027-892b05c4-6469-4971-aa83-36600794db25",
    "deepnote_cell_type": "markdown"
   },
   "source": [
    "#### 4. \\[0.5 Puntos\\] `PUT` con parámetros:\n",
    "\n",
    "A través de un `PUT` a la ruta `/potabilidad/`, con los parámetros día, mes, año y clase nueva, actualize la potabilidad de las observaciones según lo entregado.\n",
    "\n",
    "Ejemplo: \n",
    "\n",
    "http://127.0.0.1:8000/potabilidad/?day=17&month=7&year=2021&new_prediction=1\n",
    "\n",
    "Debería actualizar la predicción de todos los registros del día 17/07/2021 a la clase 1 y retornar si fue exitoso o no y una lista de los documentos actualizados.\n",
    "\n",
    "\n",
    "```json\n",
    "{\n",
    "  \"success\": true,\n",
    "  \"updated_elements\": [\n",
    "    61,\n",
    "    62,\n",
    "    63,\n",
    "    64,\n",
    "    65,\n",
    "    66,\n",
    "    67,\n",
    "    68,\n",
    "    69,\n",
    "    70,\n",
    "    71,\n",
    "    72,\n",
    "    73,\n",
    "    74,\n",
    "    75,\n",
    "    76,\n",
    "    77,\n",
    "    78,\n",
    "    79,\n",
    "    80\n",
    "  ]\n",
    "}\n",
    "```"
   ]
  },
  {
   "cell_type": "markdown",
   "id": "dec69363",
   "metadata": {
    "cell_id": "00028-322c930c-c202-49da-b68d-8d1cc36417f8",
    "deepnote_cell_type": "markdown"
   },
   "source": [
    "#### 5. \\[0.5 Puntos\\] `DELETE` con parámetros:\n",
    "\n",
    "A través de un `DELETE` a la ruta `/potabilidad/`, con parámetros día, mes y año, elimine todas las observaciones de ese día.\n",
    "\n",
    "Ejemplo: \n",
    "    \n",
    "http://127.0.0.1:8000/potabilidad/?day=17&month=7&year=2021\n",
    "    \n",
    "Debería retornar: \n",
    "    \n",
    "    \n",
    "```json\n",
    "{\n",
    "  \"success\": true,\n",
    "  \"deleted_elements\": [\n",
    "    61,\n",
    "    62,\n",
    "    63,\n",
    "    64,\n",
    "    65,\n",
    "    66,\n",
    "    67,\n",
    "    68,\n",
    "    69,\n",
    "    70,\n",
    "    71,\n",
    "    72,\n",
    "    73,\n",
    "    74,\n",
    "    75,\n",
    "    76,\n",
    "    77,\n",
    "    78,\n",
    "    79,\n",
    "    80\n",
    "  ]\n",
    "}\n",
    "\n",
    "```"
   ]
  },
  {
   "cell_type": "markdown",
   "id": "74bcea54",
   "metadata": {
    "cell_id": "00029-85f2365f-afcc-4242-b88d-12b7dff6652d",
    "deepnote_cell_type": "markdown"
   },
   "source": [
    "----\n",
    "\n",
    "### Paréntesis: Tutorial BBDD y `TinyDB`\n",
    "\n",
    "\n",
    "Un sistema gestor de base de datos (SGBD) según wikipedia es: \n",
    " \n",
    "> Un conjunto de programas que permiten el almacenamiento, modificación y extracción de la información en una base de datos.\n",
    "\n",
    "En general, es la interfaz con la cual nos comunicamos con la BBDD y que a la vez, administra los datos y todo lo relacionado con estos.\n",
    "\n",
    "---\n",
    "\n",
    "`TinyDB` es un gestor de base de datos minimalista para Python orientada a documentos. Es decir, está enfocada a guardar datos en forma de diccionarios. En nuestro caso, la usaremos como ejemplo para el lab, pero en el caso general, es recomendable usar mejores gestores de BBDD de documentos como MongoDB (la cual, se parece mucho a esta).\n",
    "\n",
    "\n",
    "A continuación un ejemplo de uso (que pueden usar junto al desarrollo de la tarea)"
   ]
  },
  {
   "cell_type": "code",
   "execution_count": 7,
   "id": "da614817",
   "metadata": {
    "cell_id": "00030-4b0a57b4-900a-4ada-b4f5-06f32daa2294",
    "deepnote_cell_type": "code",
    "deepnote_to_be_reexecuted": false,
    "execution_millis": 4115,
    "execution_start": 1638557618554,
    "source_hash": "8232f688"
   },
   "outputs": [
    {
     "name": "stdout",
     "output_type": "stream",
     "text": [
      "Requirement already satisfied: tinydb in /root/venv/lib/python3.9/site-packages (4.5.2)\n",
      "\u001b[33mWARNING: You are using pip version 21.2.3; however, version 21.3.1 is available.\n",
      "You should consider upgrading via the '/root/venv/bin/python -m pip install --upgrade pip' command.\u001b[0m\n"
     ]
    }
   ],
   "source": [
    "!pip install tinydb"
   ]
  },
  {
   "cell_type": "code",
   "execution_count": 8,
   "id": "936992ab",
   "metadata": {
    "cell_id": "00031-9d153445-2fc3-4464-b68c-56d96474f23f",
    "deepnote_cell_type": "code",
    "deepnote_to_be_reexecuted": false,
    "execution_millis": 9,
    "execution_start": 1638557622681,
    "source_hash": "edf447ee",
    "tags": []
   },
   "outputs": [],
   "source": [
    "from datetime import datetime\n",
    "\n",
    "# obtenemos un ejemplo de\n",
    "ejemplo = df.sample()\n",
    "\n",
    "# agregamos la fecha\n",
    "hoy = datetime.now()\n",
    "ejemplo[\"Day\"] = hoy.day\n",
    "ejemplo[\"Month\"] = hoy.month\n",
    "ejemplo[\"Year\"] = hoy.year"
   ]
  },
  {
   "cell_type": "code",
   "execution_count": 9,
   "id": "c4078b2a",
   "metadata": {
    "cell_id": "00032-773c01e8-5246-41a8-998e-030b4ec3a9c7",
    "deepnote_cell_type": "code",
    "deepnote_output_heights": [
     251.60000610351562
    ],
    "deepnote_to_be_reexecuted": false,
    "execution_millis": 264,
    "execution_start": 1638557622699,
    "source_hash": "d3def48d"
   },
   "outputs": [
    {
     "data": {
      "text/plain": [
       "[{'ph': 5.1959206693648685,\n",
       "  'Hardness': 175.1571552273615,\n",
       "  'Solids': 33473.11251835836,\n",
       "  'Chloramines': 8.407449953610357,\n",
       "  'Sulfate': 319.253631429962,\n",
       "  'Conductivity': 484.27989018962126,\n",
       "  'Organic_carbon': 16.812766967214372,\n",
       "  'Trihalomethanes': 94.35695426785966,\n",
       "  'Turbidity': 5.375901893717908,\n",
       "  'Potability': 0,\n",
       "  'Day': 3,\n",
       "  'Month': 12,\n",
       "  'Year': 2021}]"
      ]
     },
     "execution_count": 9,
     "metadata": {},
     "output_type": "execute_result"
    }
   ],
   "source": [
    "ejemplo_dict = ejemplo.to_dict(orient=\"records\")  # convertimos a diccionario\n",
    "ejemplo_dict  # tinidb puede trabajar con este formato de datos"
   ]
  },
  {
   "cell_type": "markdown",
   "id": "d8fbbbdc",
   "metadata": {
    "cell_id": "00033-da792d2a-4fa2-4526-b1ee-3bc149959776",
    "deepnote_cell_type": "markdown"
   },
   "source": [
    "Primero, creamos un cliente que cargue la base de datos (que ya contiene datos del agua).\n"
   ]
  },
  {
   "cell_type": "code",
   "execution_count": 10,
   "id": "43b10031",
   "metadata": {
    "cell_id": "00034-7b8c6872-ea09-499d-8d77-44492c49ea09",
    "deepnote_cell_type": "code",
    "deepnote_to_be_reexecuted": false,
    "execution_millis": 28,
    "execution_start": 1638557622722,
    "source_hash": "aa493eee"
   },
   "outputs": [],
   "source": [
    "from tinydb import Query, TinyDB\n",
    "\n",
    "db = TinyDB(\"./db_ejemplo.json\")"
   ]
  },
  {
   "cell_type": "markdown",
   "id": "1020f7f1",
   "metadata": {
    "cell_id": "00035-d3413202-2ffb-424f-9c91-c778d9f9e5f7",
    "deepnote_cell_type": "markdown"
   },
   "source": [
    "Para insertar el ejemplo en la base de datos, usamos `insert`"
   ]
  },
  {
   "cell_type": "code",
   "execution_count": 11,
   "id": "8b19bc59",
   "metadata": {
    "cell_id": "00036-fae91379-df89-4f6e-8bea-5483776c01cd",
    "deepnote_cell_type": "code",
    "deepnote_output_heights": [
     21.199996948242188
    ],
    "deepnote_to_be_reexecuted": false,
    "execution_millis": 205,
    "execution_start": 1638557622760,
    "source_hash": "ffd8ee4b"
   },
   "outputs": [
    {
     "data": {
      "text/plain": [
       "122"
      ]
     },
     "execution_count": 11,
     "metadata": {},
     "output_type": "execute_result"
    }
   ],
   "source": [
    "db.insert(\n",
    "    ejemplo_dict[0]\n",
    ")  # insertamos solo el diccionario, no la lista con el diccionario.\n",
    "\n",
    "# el número que imprime (121) indica id (indice) interno del documento recién insertado."
   ]
  },
  {
   "cell_type": "markdown",
   "id": "e7949d94",
   "metadata": {
    "cell_id": "00037-49c38bdc-4e2c-4568-a879-3c06c140abe0",
    "deepnote_cell_type": "markdown"
   },
   "source": [
    "Para pedir todos los datos almacenados, usamos `all()`"
   ]
  },
  {
   "cell_type": "code",
   "execution_count": 12,
   "id": "63ea46af",
   "metadata": {
    "cell_id": "00038-6dfa2db0-d4ad-46cd-8540-a2c24ea4f343",
    "deepnote_cell_type": "code",
    "deepnote_output_heights": [
     611
    ],
    "deepnote_to_be_reexecuted": false,
    "execution_millis": 139,
    "execution_start": 1638557622827,
    "source_hash": "3c277be4"
   },
   "outputs": [
    {
     "data": {
      "text/plain": [
       "[{'ph': 9.485832873402854,\n",
       "  'Hardness': 218.7382355335101,\n",
       "  'Solids': 15357.83337292032,\n",
       "  'Chloramines': 8.534458442405425,\n",
       "  'Sulfate': 315.83139625832393,\n",
       "  'Conductivity': 429.6222121825796,\n",
       "  'Organic_carbon': 15.621138695886827,\n",
       "  'Trihalomethanes': 64.8260282011821,\n",
       "  'Turbidity': 3.221129818784097,\n",
       "  'Day': 14,\n",
       "  'Month': 7,\n",
       "  'Year': 2021,\n",
       "  'Prediction': 1},\n",
       " {'ph': 6.435722716949114,\n",
       "  'Hardness': 214.72466925844697,\n",
       "  'Solids': 9363.85398761785,\n",
       "  'Chloramines': 9.99762356652512,\n",
       "  'Sulfate': 273.4631393655443,\n",
       "  'Conductivity': 508.34520701170817,\n",
       "  'Organic_carbon': 12.925869662663729,\n",
       "  'Trihalomethanes': 71.42858985087607,\n",
       "  'Turbidity': 4.925339107073759,\n",
       "  'Day': 14,\n",
       "  'Month': 7,\n",
       "  'Year': 2021,\n",
       "  'Prediction': 1},\n",
       " {'ph': 6.365497241052185,\n",
       "  'Hardness': 205.0565357935376,\n",
       "  'Solids': 7040.737620777599,\n",
       "  'Chloramines': 11.30283118849055,\n",
       "  'Sulfate': 325.32854340517343,\n",
       "  'Conductivity': 371.5796340409174,\n",
       "  'Organic_carbon': 16.352858005837504,\n",
       "  'Trihalomethanes': 74.31259211793054,\n",
       "  'Turbidity': 5.125416576401367,\n",
       "  'Day': 14,\n",
       "  'Month': 7,\n",
       "  'Year': 2021,\n",
       "  'Prediction': 1},\n",
       " {'ph': 5.452214926167417,\n",
       "  'Hardness': 199.22846754405663,\n",
       "  'Solids': 14446.81238968584,\n",
       "  'Chloramines': 7.689190528554683,\n",
       "  'Sulfate': 298.3184182542306,\n",
       "  'Conductivity': 469.1319512580189,\n",
       "  'Organic_carbon': 14.020507420373008,\n",
       "  'Trihalomethanes': 95.30623861595618,\n",
       "  'Turbidity': 5.190533810336875,\n",
       "  'Day': 14,\n",
       "  'Month': 7,\n",
       "  'Year': 2021,\n",
       "  'Prediction': 0},\n",
       " {'ph': 5.433466238973562,\n",
       "  'Hardness': 177.82830229271073,\n",
       "  'Solids': 31421.73163322104,\n",
       "  'Chloramines': 4.584133909828415,\n",
       "  'Sulfate': 347.0973536720579,\n",
       "  'Conductivity': 490.2846741272502,\n",
       "  'Organic_carbon': 16.066439028217076,\n",
       "  'Trihalomethanes': 58.41669860568201,\n",
       "  'Turbidity': 2.871196030589475,\n",
       "  'Day': 14,\n",
       "  'Month': 7,\n",
       "  'Year': 2021,\n",
       "  'Prediction': 0},\n",
       " {'ph': 5.226941884272904,\n",
       "  'Hardness': 177.31960335088084,\n",
       "  'Solids': 28398.554196372443,\n",
       "  'Chloramines': 6.294517392979037,\n",
       "  'Sulfate': 336.2929184546406,\n",
       "  'Conductivity': 328.3874298042128,\n",
       "  'Organic_carbon': 18.463094761579384,\n",
       "  'Trihalomethanes': 62.07590198942495,\n",
       "  'Turbidity': 2.2595502886491894,\n",
       "  'Day': 14,\n",
       "  'Month': 7,\n",
       "  'Year': 2021,\n",
       "  'Prediction': 0},\n",
       " {'ph': 4.594209164354396,\n",
       "  'Hardness': 185.63285813186496,\n",
       "  'Solids': 27981.091190195864,\n",
       "  'Chloramines': 6.761683214465978,\n",
       "  'Sulfate': 354.7852174343189,\n",
       "  'Conductivity': 380.7232523452632,\n",
       "  'Organic_carbon': 13.983833008387478,\n",
       "  'Trihalomethanes': 74.57691444202689,\n",
       "  'Turbidity': 4.917909886714817,\n",
       "  'Day': 14,\n",
       "  'Month': 7,\n",
       "  'Year': 2021,\n",
       "  'Prediction': 0},\n",
       " {'ph': 6.400256164229511,\n",
       "  'Hardness': 172.2990001423738,\n",
       "  'Solids': 15936.247359864004,\n",
       "  'Chloramines': 4.935997766107353,\n",
       "  'Sulfate': 340.3929303663409,\n",
       "  'Conductivity': 435.4056098362427,\n",
       "  'Organic_carbon': 11.075621804849504,\n",
       "  'Trihalomethanes': 58.36599451072914,\n",
       "  'Turbidity': 4.561493818692693,\n",
       "  'Day': 14,\n",
       "  'Month': 7,\n",
       "  'Year': 2021,\n",
       "  'Prediction': 0},\n",
       " {'ph': 6.901863448736066,\n",
       "  'Hardness': 164.72348623241737,\n",
       "  'Solids': 20442.61501430499,\n",
       "  'Chloramines': 5.163931372998991,\n",
       "  'Sulfate': 341.53708898075774,\n",
       "  'Conductivity': 468.4163498271398,\n",
       "  'Organic_carbon': 10.362622626299128,\n",
       "  'Trihalomethanes': 65.69487776478398,\n",
       "  'Turbidity': 4.047907292461217,\n",
       "  'Day': 14,\n",
       "  'Month': 7,\n",
       "  'Year': 2021,\n",
       "  'Prediction': 0},\n",
       " {'ph': 7.888843574059525,\n",
       "  'Hardness': 228.48839375396625,\n",
       "  'Solids': 15824.788728849351,\n",
       "  'Chloramines': 8.38894421399903,\n",
       "  'Sulfate': 314.8432912662629,\n",
       "  'Conductivity': 423.6627074595676,\n",
       "  'Organic_carbon': 17.630362462120956,\n",
       "  'Trihalomethanes': 56.420210305518,\n",
       "  'Turbidity': 3.6305239854418616,\n",
       "  'Day': 14,\n",
       "  'Month': 7,\n",
       "  'Year': 2021,\n",
       "  'Prediction': 0}]"
      ]
     },
     "execution_count": 12,
     "metadata": {},
     "output_type": "execute_result"
    }
   ],
   "source": [
    "db.all()[0:10] # limitamos de 0 10 para que solo se muestren 10 ejemplos"
   ]
  },
  {
   "cell_type": "markdown",
   "id": "1648f71b",
   "metadata": {
    "cell_id": "00039-5eaf0923-e9e0-44b5-974a-90215ffccb5e",
    "deepnote_cell_type": "markdown"
   },
   "source": [
    "#### Consultas\n",
    "\n",
    "Podemos hacer consultas, es decir, obtener algunos archivos según algún criterio, a través un objeto `Query` y `search`:"
   ]
  },
  {
   "cell_type": "code",
   "execution_count": 13,
   "id": "3667e668",
   "metadata": {
    "cell_id": "00040-b94278fd-c575-41e5-9fed-90adce328f15",
    "deepnote_cell_type": "code",
    "deepnote_output_heights": [
     611
    ],
    "deepnote_to_be_reexecuted": false,
    "execution_millis": 96,
    "execution_start": 1638557622871,
    "source_hash": "ba4079ba"
   },
   "outputs": [
    {
     "data": {
      "text/plain": [
       "[{'ph': 9.485832873402854,\n",
       "  'Hardness': 218.7382355335101,\n",
       "  'Solids': 15357.83337292032,\n",
       "  'Chloramines': 8.534458442405425,\n",
       "  'Sulfate': 315.83139625832393,\n",
       "  'Conductivity': 429.6222121825796,\n",
       "  'Organic_carbon': 15.621138695886827,\n",
       "  'Trihalomethanes': 64.8260282011821,\n",
       "  'Turbidity': 3.221129818784097,\n",
       "  'Day': 14,\n",
       "  'Month': 7,\n",
       "  'Year': 2021,\n",
       "  'Prediction': 1},\n",
       " {'ph': 6.435722716949114,\n",
       "  'Hardness': 214.72466925844697,\n",
       "  'Solids': 9363.85398761785,\n",
       "  'Chloramines': 9.99762356652512,\n",
       "  'Sulfate': 273.4631393655443,\n",
       "  'Conductivity': 508.34520701170817,\n",
       "  'Organic_carbon': 12.925869662663729,\n",
       "  'Trihalomethanes': 71.42858985087607,\n",
       "  'Turbidity': 4.925339107073759,\n",
       "  'Day': 14,\n",
       "  'Month': 7,\n",
       "  'Year': 2021,\n",
       "  'Prediction': 1},\n",
       " {'ph': 6.365497241052185,\n",
       "  'Hardness': 205.0565357935376,\n",
       "  'Solids': 7040.737620777599,\n",
       "  'Chloramines': 11.30283118849055,\n",
       "  'Sulfate': 325.32854340517343,\n",
       "  'Conductivity': 371.5796340409174,\n",
       "  'Organic_carbon': 16.352858005837504,\n",
       "  'Trihalomethanes': 74.31259211793054,\n",
       "  'Turbidity': 5.125416576401367,\n",
       "  'Day': 14,\n",
       "  'Month': 7,\n",
       "  'Year': 2021,\n",
       "  'Prediction': 1},\n",
       " {'ph': 5.452214926167417,\n",
       "  'Hardness': 199.22846754405663,\n",
       "  'Solids': 14446.81238968584,\n",
       "  'Chloramines': 7.689190528554683,\n",
       "  'Sulfate': 298.3184182542306,\n",
       "  'Conductivity': 469.1319512580189,\n",
       "  'Organic_carbon': 14.020507420373008,\n",
       "  'Trihalomethanes': 95.30623861595618,\n",
       "  'Turbidity': 5.190533810336875,\n",
       "  'Day': 14,\n",
       "  'Month': 7,\n",
       "  'Year': 2021,\n",
       "  'Prediction': 0},\n",
       " {'ph': 5.433466238973562,\n",
       "  'Hardness': 177.82830229271073,\n",
       "  'Solids': 31421.73163322104,\n",
       "  'Chloramines': 4.584133909828415,\n",
       "  'Sulfate': 347.0973536720579,\n",
       "  'Conductivity': 490.2846741272502,\n",
       "  'Organic_carbon': 16.066439028217076,\n",
       "  'Trihalomethanes': 58.41669860568201,\n",
       "  'Turbidity': 2.871196030589475,\n",
       "  'Day': 14,\n",
       "  'Month': 7,\n",
       "  'Year': 2021,\n",
       "  'Prediction': 0},\n",
       " {'ph': 5.226941884272904,\n",
       "  'Hardness': 177.31960335088084,\n",
       "  'Solids': 28398.554196372443,\n",
       "  'Chloramines': 6.294517392979037,\n",
       "  'Sulfate': 336.2929184546406,\n",
       "  'Conductivity': 328.3874298042128,\n",
       "  'Organic_carbon': 18.463094761579384,\n",
       "  'Trihalomethanes': 62.07590198942495,\n",
       "  'Turbidity': 2.2595502886491894,\n",
       "  'Day': 14,\n",
       "  'Month': 7,\n",
       "  'Year': 2021,\n",
       "  'Prediction': 0},\n",
       " {'ph': 4.594209164354396,\n",
       "  'Hardness': 185.63285813186496,\n",
       "  'Solids': 27981.091190195864,\n",
       "  'Chloramines': 6.761683214465978,\n",
       "  'Sulfate': 354.7852174343189,\n",
       "  'Conductivity': 380.7232523452632,\n",
       "  'Organic_carbon': 13.983833008387478,\n",
       "  'Trihalomethanes': 74.57691444202689,\n",
       "  'Turbidity': 4.917909886714817,\n",
       "  'Day': 14,\n",
       "  'Month': 7,\n",
       "  'Year': 2021,\n",
       "  'Prediction': 0},\n",
       " {'ph': 6.400256164229511,\n",
       "  'Hardness': 172.2990001423738,\n",
       "  'Solids': 15936.247359864004,\n",
       "  'Chloramines': 4.935997766107353,\n",
       "  'Sulfate': 340.3929303663409,\n",
       "  'Conductivity': 435.4056098362427,\n",
       "  'Organic_carbon': 11.075621804849504,\n",
       "  'Trihalomethanes': 58.36599451072914,\n",
       "  'Turbidity': 4.561493818692693,\n",
       "  'Day': 14,\n",
       "  'Month': 7,\n",
       "  'Year': 2021,\n",
       "  'Prediction': 0},\n",
       " {'ph': 6.901863448736066,\n",
       "  'Hardness': 164.72348623241737,\n",
       "  'Solids': 20442.61501430499,\n",
       "  'Chloramines': 5.163931372998991,\n",
       "  'Sulfate': 341.53708898075774,\n",
       "  'Conductivity': 468.4163498271398,\n",
       "  'Organic_carbon': 10.362622626299128,\n",
       "  'Trihalomethanes': 65.69487776478398,\n",
       "  'Turbidity': 4.047907292461217,\n",
       "  'Day': 14,\n",
       "  'Month': 7,\n",
       "  'Year': 2021,\n",
       "  'Prediction': 0},\n",
       " {'ph': 7.888843574059525,\n",
       "  'Hardness': 228.48839375396625,\n",
       "  'Solids': 15824.788728849351,\n",
       "  'Chloramines': 8.38894421399903,\n",
       "  'Sulfate': 314.8432912662629,\n",
       "  'Conductivity': 423.6627074595676,\n",
       "  'Organic_carbon': 17.630362462120956,\n",
       "  'Trihalomethanes': 56.420210305518,\n",
       "  'Turbidity': 3.6305239854418616,\n",
       "  'Day': 14,\n",
       "  'Month': 7,\n",
       "  'Year': 2021,\n",
       "  'Prediction': 0},\n",
       " {'ph': 6.492403121956253,\n",
       "  'Hardness': 234.9145120239778,\n",
       "  'Solids': 18607.213192973988,\n",
       "  'Chloramines': 8.620697294848203,\n",
       "  'Sulfate': 302.1313058651816,\n",
       "  'Conductivity': 442.10420764013503,\n",
       "  'Organic_carbon': 14.116823608926552,\n",
       "  'Trihalomethanes': 65.6367585787979,\n",
       "  'Turbidity': 4.383394691806273,\n",
       "  'Day': 14,\n",
       "  'Month': 7,\n",
       "  'Year': 2021,\n",
       "  'Prediction': 0},\n",
       " {'ph': 6.684699736748975,\n",
       "  'Hardness': 193.84093110096603,\n",
       "  'Solids': 34157.18447357784,\n",
       "  'Chloramines': 9.876574050392144,\n",
       "  'Sulfate': 344.5354072354149,\n",
       "  'Conductivity': 498.063996249716,\n",
       "  'Organic_carbon': 8.818756566850709,\n",
       "  'Trihalomethanes': 66.65935223322833,\n",
       "  'Turbidity': 4.030659830632323,\n",
       "  'Day': 14,\n",
       "  'Month': 7,\n",
       "  'Year': 2021,\n",
       "  'Prediction': 0},\n",
       " {'ph': 4.758648346768645,\n",
       "  'Hardness': 203.53783248501048,\n",
       "  'Solids': 23603.06541683117,\n",
       "  'Chloramines': 7.667128478800443,\n",
       "  'Sulfate': 324.08433407149784,\n",
       "  'Conductivity': 288.91245683813605,\n",
       "  'Organic_carbon': 18.06495657941309,\n",
       "  'Trihalomethanes': 85.91666620114039,\n",
       "  'Turbidity': 4.405508764376716,\n",
       "  'Day': 14,\n",
       "  'Month': 7,\n",
       "  'Year': 2021,\n",
       "  'Prediction': 0},\n",
       " {'ph': 7.440825031061319,\n",
       "  'Hardness': 183.362712601924,\n",
       "  'Solids': 17259.852302409414,\n",
       "  'Chloramines': 4.6102446924534215,\n",
       "  'Sulfate': 335.6264426329922,\n",
       "  'Conductivity': 452.9952927870204,\n",
       "  'Organic_carbon': 9.700906282901087,\n",
       "  'Trihalomethanes': 80.53706529171714,\n",
       "  'Turbidity': 2.496342612338434,\n",
       "  'Day': 14,\n",
       "  'Month': 7,\n",
       "  'Year': 2021,\n",
       "  'Prediction': 0},\n",
       " {'ph': 8.054885744073163,\n",
       "  'Hardness': 200.9434839528824,\n",
       "  'Solids': 12642.065947280007,\n",
       "  'Chloramines': 7.309821638629845,\n",
       "  'Sulfate': 334.4420643076838,\n",
       "  'Conductivity': 446.7484416115787,\n",
       "  'Organic_carbon': 14.94908036525527,\n",
       "  'Trihalomethanes': 71.20203815261473,\n",
       "  'Turbidity': 3.514097774584284,\n",
       "  'Day': 14,\n",
       "  'Month': 7,\n",
       "  'Year': 2021,\n",
       "  'Prediction': 0},\n",
       " {'ph': 7.06183097218188,\n",
       "  'Hardness': 215.9463220151335,\n",
       "  'Solids': 24991.766020523846,\n",
       "  'Chloramines': 9.138390839362147,\n",
       "  'Sulfate': 321.4733595649965,\n",
       "  'Conductivity': 431.4246894278691,\n",
       "  'Organic_carbon': 12.950444156120966,\n",
       "  'Trihalomethanes': 64.02559032278475,\n",
       "  'Turbidity': 4.299018586936102,\n",
       "  'Day': 14,\n",
       "  'Month': 7,\n",
       "  'Year': 2021,\n",
       "  'Prediction': 0},\n",
       " {'ph': 7.611609817181437,\n",
       "  'Hardness': 222.2522694745392,\n",
       "  'Solids': 25063.68301331781,\n",
       "  'Chloramines': 8.561123755060423,\n",
       "  'Sulfate': 287.9481232044328,\n",
       "  'Conductivity': 505.2654826373972,\n",
       "  'Organic_carbon': 18.2737569562791,\n",
       "  'Trihalomethanes': 68.39541320826186,\n",
       "  'Turbidity': 2.873261209549148,\n",
       "  'Day': 14,\n",
       "  'Month': 7,\n",
       "  'Year': 2021,\n",
       "  'Prediction': 1},\n",
       " {'ph': 4.69143831512022,\n",
       "  'Hardness': 200.88940639383003,\n",
       "  'Solids': 32182.262317798355,\n",
       "  'Chloramines': 8.571649638299693,\n",
       "  'Sulfate': 364.7467863440447,\n",
       "  'Conductivity': 516.8516225307658,\n",
       "  'Organic_carbon': 12.404438749151211,\n",
       "  'Trihalomethanes': 85.02622691054913,\n",
       "  'Turbidity': 2.730792274371549,\n",
       "  'Day': 14,\n",
       "  'Month': 7,\n",
       "  'Year': 2021,\n",
       "  'Prediction': 0},\n",
       " {'ph': 8.064170137236562,\n",
       "  'Hardness': 209.83933337513497,\n",
       "  'Solids': 8712.00258845446,\n",
       "  'Chloramines': 8.591510126308991,\n",
       "  'Sulfate': 355.44372109287366,\n",
       "  'Conductivity': 338.8481579462765,\n",
       "  'Organic_carbon': 18.721311565047078,\n",
       "  'Trihalomethanes': 106.2430659759468,\n",
       "  'Turbidity': 3.246077223248075,\n",
       "  'Day': 14,\n",
       "  'Month': 7,\n",
       "  'Year': 2021,\n",
       "  'Prediction': 1},\n",
       " {'ph': 4.292966858149657,\n",
       "  'Hardness': 212.80864540548384,\n",
       "  'Solids': 30434.269118406635,\n",
       "  'Chloramines': 8.630313014071895,\n",
       "  'Sulfate': 333.48254007833225,\n",
       "  'Conductivity': 382.9223629717562,\n",
       "  'Organic_carbon': 15.779921970237352,\n",
       "  'Trihalomethanes': 39.775513219931405,\n",
       "  'Turbidity': 2.8049235828692907,\n",
       "  'Day': 14,\n",
       "  'Month': 7,\n",
       "  'Year': 2021,\n",
       "  'Prediction': 0},\n",
       " {'ph': 9.085637101693884,\n",
       "  'Hardness': 238.22196802665175,\n",
       "  'Solids': 9001.658753142132,\n",
       "  'Chloramines': 9.820230918736057,\n",
       "  'Sulfate': 325.1048470296242,\n",
       "  'Conductivity': 381.3465821492757,\n",
       "  'Organic_carbon': 19.19574006013147,\n",
       "  'Trihalomethanes': 98.49081929088932,\n",
       "  'Turbidity': 2.544020275544053,\n",
       "  'Day': 15,\n",
       "  'Month': 7,\n",
       "  'Year': 2021,\n",
       "  'Prediction': 0},\n",
       " {'ph': 6.592442507785291,\n",
       "  'Hardness': 242.4804726770679,\n",
       "  'Solids': 9381.239930798449,\n",
       "  'Chloramines': 7.303183678175727,\n",
       "  'Sulfate': 312.8143949567998,\n",
       "  'Conductivity': 440.60113456028665,\n",
       "  'Organic_carbon': 14.02729679512936,\n",
       "  'Trihalomethanes': 70.92987947008055,\n",
       "  'Turbidity': 3.0608273538358923,\n",
       "  'Day': 15,\n",
       "  'Month': 7,\n",
       "  'Year': 2021,\n",
       "  'Prediction': 0},\n",
       " {'ph': 8.990317233704655,\n",
       "  'Hardness': 195.80902842150493,\n",
       "  'Solids': 23728.29401456205,\n",
       "  'Chloramines': 7.508305289508399,\n",
       "  'Sulfate': 348.71461261339243,\n",
       "  'Conductivity': 551.5403897934349,\n",
       "  'Organic_carbon': 15.254391841066877,\n",
       "  'Trihalomethanes': 75.9078693330705,\n",
       "  'Turbidity': 4.494544339362194,\n",
       "  'Day': 15,\n",
       "  'Month': 7,\n",
       "  'Year': 2021,\n",
       "  'Prediction': 0},\n",
       " {'ph': 6.7391576920220535,\n",
       "  'Hardness': 156.48275940474178,\n",
       "  'Solids': 30950.681099821508,\n",
       "  'Chloramines': 6.543089824078055,\n",
       "  'Sulfate': 363.1796235138332,\n",
       "  'Conductivity': 425.288836697235,\n",
       "  'Organic_carbon': 11.653457753679334,\n",
       "  'Trihalomethanes': 70.36704881802933,\n",
       "  'Turbidity': 5.214484016180421,\n",
       "  'Day': 15,\n",
       "  'Month': 7,\n",
       "  'Year': 2021,\n",
       "  'Prediction': 0},\n",
       " {'ph': 6.492627157365379,\n",
       "  'Hardness': 213.06538481772856,\n",
       "  'Solids': 34314.08709117726,\n",
       "  'Chloramines': 9.04114608484344,\n",
       "  'Sulfate': 335.29192590906365,\n",
       "  'Conductivity': 313.2547429967247,\n",
       "  'Organic_carbon': 11.135311827023884,\n",
       "  'Trihalomethanes': 70.82910986892458,\n",
       "  'Turbidity': 3.3787784927745594,\n",
       "  'Day': 15,\n",
       "  'Month': 7,\n",
       "  'Year': 2021,\n",
       "  'Prediction': 0},\n",
       " {'ph': 6.753128352860487,\n",
       "  'Hardness': 191.9829945402664,\n",
       "  'Solids': 18222.931957438417,\n",
       "  'Chloramines': 3.9209736624247262,\n",
       "  'Sulfate': 296.1966180415413,\n",
       "  'Conductivity': 389.742462140902,\n",
       "  'Organic_carbon': 9.689143567978247,\n",
       "  'Trihalomethanes': 92.21961522923112,\n",
       "  'Turbidity': 5.102516756563615,\n",
       "  'Day': 15,\n",
       "  'Month': 7,\n",
       "  'Year': 2021,\n",
       "  'Prediction': 0},\n",
       " {'ph': 8.296344055589273,\n",
       "  'Hardness': 198.19705121398164,\n",
       "  'Solids': 17468.99980174377,\n",
       "  'Chloramines': 8.262903987469691,\n",
       "  'Sulfate': 369.5907404838077,\n",
       "  'Conductivity': 294.32514221521586,\n",
       "  'Organic_carbon': 18.026098152350755,\n",
       "  'Trihalomethanes': 44.06162518425721,\n",
       "  'Turbidity': 5.400810789347245,\n",
       "  'Day': 15,\n",
       "  'Month': 7,\n",
       "  'Year': 2021,\n",
       "  'Prediction': 0},\n",
       " {'ph': 7.918183320861496,\n",
       "  'Hardness': 224.15200454884612,\n",
       "  'Solids': 20012.172975903424,\n",
       "  'Chloramines': 9.00872609354944,\n",
       "  'Sulfate': 302.393605292741,\n",
       "  'Conductivity': 421.8900828269085,\n",
       "  'Organic_carbon': 22.187849207934164,\n",
       "  'Trihalomethanes': 72.72786842315767,\n",
       "  'Turbidity': 4.764193594306708,\n",
       "  'Day': 15,\n",
       "  'Month': 7,\n",
       "  'Year': 2021,\n",
       "  'Prediction': 0},\n",
       " {'ph': 8.783167623905637,\n",
       "  'Hardness': 218.0328397705385,\n",
       "  'Solids': 16183.586649397506,\n",
       "  'Chloramines': 7.390474095948067,\n",
       "  'Sulfate': 334.0538854587382,\n",
       "  'Conductivity': 389.0216156030328,\n",
       "  'Organic_carbon': 16.354520235606856,\n",
       "  'Trihalomethanes': 47.10098206923328,\n",
       "  'Turbidity': 4.274136884143136,\n",
       "  'Day': 15,\n",
       "  'Month': 7,\n",
       "  'Year': 2021,\n",
       "  'Prediction': 0},\n",
       " {'ph': 8.159666704184943,\n",
       "  'Hardness': 215.64821633422147,\n",
       "  'Solids': 17068.29886291952,\n",
       "  'Chloramines': 8.769621767000698,\n",
       "  'Sulfate': 319.2532011303291,\n",
       "  'Conductivity': 459.54115883111615,\n",
       "  'Organic_carbon': 14.192544352996777,\n",
       "  'Trihalomethanes': 60.37372230282647,\n",
       "  'Turbidity': 2.9571948491508118,\n",
       "  'Day': 15,\n",
       "  'Month': 7,\n",
       "  'Year': 2021,\n",
       "  'Prediction': 0},\n",
       " {'ph': 7.685396843315841,\n",
       "  'Hardness': 230.335707570874,\n",
       "  'Solids': 7324.701425458467,\n",
       "  'Chloramines': 7.991366182885692,\n",
       "  'Sulfate': 331.5125334296874,\n",
       "  'Conductivity': 492.8503913894517,\n",
       "  'Organic_carbon': 14.233951597560974,\n",
       "  'Trihalomethanes': 74.0686581571863,\n",
       "  'Turbidity': 4.179187127681619,\n",
       "  'Day': 15,\n",
       "  'Month': 7,\n",
       "  'Year': 2021,\n",
       "  'Prediction': 0},\n",
       " {'ph': 7.76202074451675,\n",
       "  'Hardness': 173.63674203102448,\n",
       "  'Solids': 15548.416673502205,\n",
       "  'Chloramines': 5.018671102233063,\n",
       "  'Sulfate': 330.39097625993696,\n",
       "  'Conductivity': 520.6407737607899,\n",
       "  'Organic_carbon': 11.147704109056631,\n",
       "  'Trihalomethanes': 87.48150459921058,\n",
       "  'Turbidity': 3.2563013285827784,\n",
       "  'Day': 15,\n",
       "  'Month': 7,\n",
       "  'Year': 2021,\n",
       "  'Prediction': 0},\n",
       " {'ph': 7.207931097430971,\n",
       "  'Hardness': 204.0103465293257,\n",
       "  'Solids': 18493.872175475164,\n",
       "  'Chloramines': 5.557863755660677,\n",
       "  'Sulfate': 311.5682271859919,\n",
       "  'Conductivity': 437.51204208786646,\n",
       "  'Organic_carbon': 12.99459553667674,\n",
       "  'Trihalomethanes': 31.39045029431969,\n",
       "  'Turbidity': 4.705561883525115,\n",
       "  'Day': 15,\n",
       "  'Month': 7,\n",
       "  'Year': 2021,\n",
       "  'Prediction': 0},\n",
       " {'ph': 6.98704150028991,\n",
       "  'Hardness': 169.7271157728339,\n",
       "  'Solids': 19472.624328496444,\n",
       "  'Chloramines': 5.017698088295537,\n",
       "  'Sulfate': 366.0189195933706,\n",
       "  'Conductivity': 425.6709639584517,\n",
       "  'Organic_carbon': 17.31468112565352,\n",
       "  'Trihalomethanes': 48.8821984337697,\n",
       "  'Turbidity': 4.475161102744778,\n",
       "  'Day': 15,\n",
       "  'Month': 7,\n",
       "  'Year': 2021,\n",
       "  'Prediction': 0},\n",
       " {'ph': 4.69219656349297,\n",
       "  'Hardness': 221.54777341772672,\n",
       "  'Solids': 24211.63077025936,\n",
       "  'Chloramines': 9.363249825363392,\n",
       "  'Sulfate': 307.71399582698444,\n",
       "  'Conductivity': 406.55166701639206,\n",
       "  'Organic_carbon': 12.6182517815746,\n",
       "  'Trihalomethanes': 60.003147675998655,\n",
       "  'Turbidity': 4.009006061677201,\n",
       "  'Day': 15,\n",
       "  'Month': 7,\n",
       "  'Year': 2021,\n",
       "  'Prediction': 0},\n",
       " {'ph': 10.695532491586295,\n",
       "  'Hardness': 220.45107827315525,\n",
       "  'Solids': 10571.770376968932,\n",
       "  'Chloramines': 6.521422284947895,\n",
       "  'Sulfate': 295.9760943834978,\n",
       "  'Conductivity': 414.2560864758929,\n",
       "  'Organic_carbon': 14.774800598861418,\n",
       "  'Trihalomethanes': 58.735932885039375,\n",
       "  'Turbidity': 4.154845327510767,\n",
       "  'Day': 15,\n",
       "  'Month': 7,\n",
       "  'Year': 2021,\n",
       "  'Prediction': 0},\n",
       " {'ph': 6.791696906894755,\n",
       "  'Hardness': 175.89434585427836,\n",
       "  'Solids': 21467.950865982875,\n",
       "  'Chloramines': 7.101223816321487,\n",
       "  'Sulfate': 349.49217731775,\n",
       "  'Conductivity': 427.2397403288587,\n",
       "  'Organic_carbon': 12.556983190453082,\n",
       "  'Trihalomethanes': 55.25391162576403,\n",
       "  'Turbidity': 2.817391373961896,\n",
       "  'Day': 15,\n",
       "  'Month': 7,\n",
       "  'Year': 2021,\n",
       "  'Prediction': 0},\n",
       " {'ph': 4.489783796199172,\n",
       "  'Hardness': 188.2519391176551,\n",
       "  'Solids': 14906.047921749065,\n",
       "  'Chloramines': 8.486030243192529,\n",
       "  'Sulfate': 374.2269262476081,\n",
       "  'Conductivity': 518.5852526497778,\n",
       "  'Organic_carbon': 11.22657798925934,\n",
       "  'Trihalomethanes': 65.18275873376899,\n",
       "  'Turbidity': 3.776225631479449,\n",
       "  'Day': 15,\n",
       "  'Month': 7,\n",
       "  'Year': 2021,\n",
       "  'Prediction': 0},\n",
       " {'ph': 8.020869102871476,\n",
       "  'Hardness': 175.8736762101069,\n",
       "  'Solids': 21759.36392940157,\n",
       "  'Chloramines': 7.487278120016829,\n",
       "  'Sulfate': 352.98311196312886,\n",
       "  'Conductivity': 428.66096486233664,\n",
       "  'Organic_carbon': 4.966861618807002,\n",
       "  'Trihalomethanes': 72.30521867157222,\n",
       "  'Turbidity': 3.4421212362955,\n",
       "  'Day': 15,\n",
       "  'Month': 7,\n",
       "  'Year': 2021,\n",
       "  'Prediction': 0},\n",
       " {'ph': 5.0900353321672975,\n",
       "  'Hardness': 174.26635748737323,\n",
       "  'Solids': 34094.05717743785,\n",
       "  'Chloramines': 6.741909445204502,\n",
       "  'Sulfate': 376.6636078793938,\n",
       "  'Conductivity': 526.3610815801607,\n",
       "  'Organic_carbon': 17.107563130581752,\n",
       "  'Trihalomethanes': 48.5462574960863,\n",
       "  'Turbidity': 4.838862280223715,\n",
       "  'Day': 15,\n",
       "  'Month': 7,\n",
       "  'Year': 2021,\n",
       "  'Prediction': 0},\n",
       " {'ph': 7.691486298425762,\n",
       "  'Hardness': 155.18531929611436,\n",
       "  'Solids': 36578.22374530493,\n",
       "  'Chloramines': 7.690727720492953,\n",
       "  'Sulfate': 405.1693860001742,\n",
       "  'Conductivity': 536.8895891431413,\n",
       "  'Organic_carbon': 16.214965646843382,\n",
       "  'Trihalomethanes': 77.58205050309272,\n",
       "  'Turbidity': 4.042497483266329,\n",
       "  'Potability': 0,\n",
       "  'Day': 3,\n",
       "  'Month': 12,\n",
       "  'Year': 2021},\n",
       " {'ph': 5.1959206693648685,\n",
       "  'Hardness': 175.1571552273615,\n",
       "  'Solids': 33473.11251835836,\n",
       "  'Chloramines': 8.407449953610357,\n",
       "  'Sulfate': 319.253631429962,\n",
       "  'Conductivity': 484.27989018962126,\n",
       "  'Organic_carbon': 16.812766967214372,\n",
       "  'Trihalomethanes': 94.35695426785966,\n",
       "  'Turbidity': 5.375901893717908,\n",
       "  'Potability': 0,\n",
       "  'Day': 3,\n",
       "  'Month': 12,\n",
       "  'Year': 2021}]"
      ]
     },
     "execution_count": 13,
     "metadata": {},
     "output_type": "execute_result"
    }
   ],
   "source": [
    "Mediciones = Query()\n",
    "\n",
    "# Aquí Mediciones.Day representa a todas las llaves Day de todos los documentos.\n",
    "# luego, el criterio de comparación es el que indica que datos se traeran.\n",
    "# en la práctica, trae 40 datos, del día 14 al 15.\n",
    "db.search(Mediciones.Day <= 15)"
   ]
  },
  {
   "cell_type": "markdown",
   "id": "e223d762",
   "metadata": {
    "cell_id": "00041-a58f298d-eb2c-48be-8752-3678c913abbd",
    "deepnote_cell_type": "markdown"
   },
   "source": [
    "Además, podemos mezclar distintos criterios de forma muy similar como lo hacemos en pandas:\n",
    "\n",
    "En este caso, la siguiente consulta entrega todas las mediciones con ph entre 6 y 6.5 incluidas."
   ]
  },
  {
   "cell_type": "code",
   "execution_count": 14,
   "id": "c1fcca7d",
   "metadata": {
    "cell_id": "00042-c6a47c0b-1d6c-4e54-bf27-09cefd7b43df",
    "deepnote_cell_type": "code",
    "deepnote_output_heights": [
     611
    ],
    "deepnote_to_be_reexecuted": false,
    "execution_millis": 2,
    "execution_start": 1638557622909,
    "source_hash": "dd52467c"
   },
   "outputs": [
    {
     "data": {
      "text/plain": [
       "[{'ph': 6.435722716949114,\n",
       "  'Hardness': 214.72466925844697,\n",
       "  'Solids': 9363.85398761785,\n",
       "  'Chloramines': 9.99762356652512,\n",
       "  'Sulfate': 273.4631393655443,\n",
       "  'Conductivity': 508.34520701170817,\n",
       "  'Organic_carbon': 12.925869662663729,\n",
       "  'Trihalomethanes': 71.42858985087607,\n",
       "  'Turbidity': 4.925339107073759,\n",
       "  'Day': 14,\n",
       "  'Month': 7,\n",
       "  'Year': 2021,\n",
       "  'Prediction': 1},\n",
       " {'ph': 6.365497241052185,\n",
       "  'Hardness': 205.0565357935376,\n",
       "  'Solids': 7040.737620777599,\n",
       "  'Chloramines': 11.30283118849055,\n",
       "  'Sulfate': 325.32854340517343,\n",
       "  'Conductivity': 371.5796340409174,\n",
       "  'Organic_carbon': 16.352858005837504,\n",
       "  'Trihalomethanes': 74.31259211793054,\n",
       "  'Turbidity': 5.125416576401367,\n",
       "  'Day': 14,\n",
       "  'Month': 7,\n",
       "  'Year': 2021,\n",
       "  'Prediction': 1},\n",
       " {'ph': 6.400256164229511,\n",
       "  'Hardness': 172.2990001423738,\n",
       "  'Solids': 15936.247359864004,\n",
       "  'Chloramines': 4.935997766107353,\n",
       "  'Sulfate': 340.3929303663409,\n",
       "  'Conductivity': 435.4056098362427,\n",
       "  'Organic_carbon': 11.075621804849504,\n",
       "  'Trihalomethanes': 58.36599451072914,\n",
       "  'Turbidity': 4.561493818692693,\n",
       "  'Day': 14,\n",
       "  'Month': 7,\n",
       "  'Year': 2021,\n",
       "  'Prediction': 0},\n",
       " {'ph': 6.492403121956253,\n",
       "  'Hardness': 234.9145120239778,\n",
       "  'Solids': 18607.213192973988,\n",
       "  'Chloramines': 8.620697294848203,\n",
       "  'Sulfate': 302.1313058651816,\n",
       "  'Conductivity': 442.10420764013503,\n",
       "  'Organic_carbon': 14.116823608926552,\n",
       "  'Trihalomethanes': 65.6367585787979,\n",
       "  'Turbidity': 4.383394691806273,\n",
       "  'Day': 14,\n",
       "  'Month': 7,\n",
       "  'Year': 2021,\n",
       "  'Prediction': 0},\n",
       " {'ph': 6.492627157365379,\n",
       "  'Hardness': 213.06538481772856,\n",
       "  'Solids': 34314.08709117726,\n",
       "  'Chloramines': 9.04114608484344,\n",
       "  'Sulfate': 335.29192590906365,\n",
       "  'Conductivity': 313.2547429967247,\n",
       "  'Organic_carbon': 11.135311827023884,\n",
       "  'Trihalomethanes': 70.82910986892458,\n",
       "  'Turbidity': 3.3787784927745594,\n",
       "  'Day': 15,\n",
       "  'Month': 7,\n",
       "  'Year': 2021,\n",
       "  'Prediction': 0},\n",
       " {'ph': 6.153368956728868,\n",
       "  'Hardness': 237.13982778480292,\n",
       "  'Solids': 22052.03461898169,\n",
       "  'Chloramines': 8.090493963325427,\n",
       "  'Sulfate': 306.23917986795703,\n",
       "  'Conductivity': 485.0984831368037,\n",
       "  'Organic_carbon': 17.07526258936946,\n",
       "  'Trihalomethanes': 58.10825855736369,\n",
       "  'Turbidity': 4.030337485422805,\n",
       "  'Day': 17,\n",
       "  'Month': 7,\n",
       "  'Year': 2021,\n",
       "  'Prediction': 0},\n",
       " {'ph': 6.470151959152821,\n",
       "  'Hardness': 176.73637570597813,\n",
       "  'Solids': 30594.28067473661,\n",
       "  'Chloramines': 4.39313814981189,\n",
       "  'Sulfate': 324.6592334189808,\n",
       "  'Conductivity': 524.9097809286852,\n",
       "  'Organic_carbon': 16.614247513308953,\n",
       "  'Trihalomethanes': 84.29970286763692,\n",
       "  'Turbidity': 3.12539111192484,\n",
       "  'Day': 18,\n",
       "  'Month': 7,\n",
       "  'Year': 2021,\n",
       "  'Prediction': 0},\n",
       " {'ph': 6.204429354069558,\n",
       "  'Hardness': 211.64095798844983,\n",
       "  'Solids': 35439.687840102146,\n",
       "  'Chloramines': 6.236836216752792,\n",
       "  'Sulfate': 314.13131744806606,\n",
       "  'Conductivity': 552.4627918140325,\n",
       "  'Organic_carbon': 8.660869467991688,\n",
       "  'Trihalomethanes': 56.35009617776554,\n",
       "  'Turbidity': 4.106807505488429,\n",
       "  'Day': 18,\n",
       "  'Month': 7,\n",
       "  'Year': 2021,\n",
       "  'Prediction': 0},\n",
       " {'ph': 6.138785151951198,\n",
       "  'Hardness': 158.4221289921539,\n",
       "  'Solids': 20129.97881979117,\n",
       "  'Chloramines': 6.812142878738287,\n",
       "  'Sulfate': 352.2299607158941,\n",
       "  'Conductivity': 373.8436198842412,\n",
       "  'Organic_carbon': 13.417813082753751,\n",
       "  'Trihalomethanes': 80.73109689533284,\n",
       "  'Turbidity': 4.677289618268685,\n",
       "  'Day': 18,\n",
       "  'Month': 7,\n",
       "  'Year': 2021,\n",
       "  'Prediction': 0},\n",
       " {'ph': 6.490037174928902,\n",
       "  'Hardness': 205.5415171695257,\n",
       "  'Solids': 19397.323888893363,\n",
       "  'Chloramines': 7.894244798435495,\n",
       "  'Sulfate': 368.5610730195575,\n",
       "  'Conductivity': 479.7861954284083,\n",
       "  'Organic_carbon': 15.80508483352719,\n",
       "  'Trihalomethanes': 56.98201953997934,\n",
       "  'Turbidity': 2.430883294085322,\n",
       "  'Day': 19,\n",
       "  'Month': 7,\n",
       "  'Year': 2021,\n",
       "  'Prediction': 1}]"
      ]
     },
     "execution_count": 14,
     "metadata": {},
     "output_type": "execute_result"
    }
   ],
   "source": [
    "Mediciones = Query()\n",
    "\n",
    "db.search((Mediciones.ph >= 6) & (Mediciones.ph <= 6.5))"
   ]
  },
  {
   "cell_type": "markdown",
   "id": "b34a0cac",
   "metadata": {
    "cell_id": "00043-241ce92a-6381-4a17-a3bb-7fad8e2cbbae",
    "deepnote_cell_type": "markdown"
   },
   "source": [
    "### Update\n",
    "\n",
    "Podemos actualizar datos que hayan sido seleccionados usando una opración y una `Query` como argumentos de `update`.\n",
    "\n",
    "Las operaciones disponibles son:\n",
    "\n",
    "    delete(key): delete a key from the document\n",
    "    increment(key): increment the value of a key\n",
    "    decrement(key): decrement the value of a key\n",
    "    add(key, value): add value to the value of a key (also works for strings)\n",
    "    subtract(key, value): subtract value from the value of a key\n",
    "    set(key, value): set key to value\n"
   ]
  },
  {
   "cell_type": "code",
   "execution_count": 15,
   "id": "4138c99a",
   "metadata": {
    "cell_id": "00044-9f6afe84-3172-4807-ac81-d7e4925528e6",
    "deepnote_cell_type": "code",
    "deepnote_output_heights": [
     21.199996948242188
    ],
    "deepnote_to_be_reexecuted": false,
    "execution_millis": 8,
    "execution_start": 1638557622964,
    "source_hash": "e9e98898"
   },
   "outputs": [
    {
     "data": {
      "text/plain": [
       "[1, 2, 3, 4, 5, 6, 7, 8, 9, 10, 11, 12, 13, 14, 15, 16, 17, 18, 19, 20]"
      ]
     },
     "execution_count": 15,
     "metadata": {},
     "output_type": "execute_result"
    }
   ],
   "source": [
    "from tinydb.operations import set\n",
    "\n",
    "Mediciones = Query()\n",
    "\n",
    "# en este caso, usaremos las mediciones del día 14 y fijaremos su ph a 7\n",
    "db.update(set(\"ph\", 7), Mediciones.Day == 14)\n",
    "# noten que esta función retorna los indices de los documentos que fueron actualizados."
   ]
  },
  {
   "cell_type": "code",
   "execution_count": 16,
   "id": "73f9a27d",
   "metadata": {
    "cell_id": "00045-4ddb4042-f31d-426e-963f-cac10c1016d2",
    "deepnote_cell_type": "code",
    "deepnote_output_heights": [
     611
    ],
    "deepnote_to_be_reexecuted": false,
    "execution_millis": 24,
    "execution_start": 1638557622965,
    "source_hash": "58f0934b"
   },
   "outputs": [
    {
     "data": {
      "text/plain": [
       "[{'ph': 7,\n",
       "  'Hardness': 218.7382355335101,\n",
       "  'Solids': 15357.83337292032,\n",
       "  'Chloramines': 8.534458442405425,\n",
       "  'Sulfate': 315.83139625832393,\n",
       "  'Conductivity': 429.6222121825796,\n",
       "  'Organic_carbon': 15.621138695886827,\n",
       "  'Trihalomethanes': 64.8260282011821,\n",
       "  'Turbidity': 3.221129818784097,\n",
       "  'Day': 14,\n",
       "  'Month': 7,\n",
       "  'Year': 2021,\n",
       "  'Prediction': 1},\n",
       " {'ph': 7,\n",
       "  'Hardness': 214.72466925844697,\n",
       "  'Solids': 9363.85398761785,\n",
       "  'Chloramines': 9.99762356652512,\n",
       "  'Sulfate': 273.4631393655443,\n",
       "  'Conductivity': 508.34520701170817,\n",
       "  'Organic_carbon': 12.925869662663729,\n",
       "  'Trihalomethanes': 71.42858985087607,\n",
       "  'Turbidity': 4.925339107073759,\n",
       "  'Day': 14,\n",
       "  'Month': 7,\n",
       "  'Year': 2021,\n",
       "  'Prediction': 1},\n",
       " {'ph': 7,\n",
       "  'Hardness': 205.0565357935376,\n",
       "  'Solids': 7040.737620777599,\n",
       "  'Chloramines': 11.30283118849055,\n",
       "  'Sulfate': 325.32854340517343,\n",
       "  'Conductivity': 371.5796340409174,\n",
       "  'Organic_carbon': 16.352858005837504,\n",
       "  'Trihalomethanes': 74.31259211793054,\n",
       "  'Turbidity': 5.125416576401367,\n",
       "  'Day': 14,\n",
       "  'Month': 7,\n",
       "  'Year': 2021,\n",
       "  'Prediction': 1},\n",
       " {'ph': 7,\n",
       "  'Hardness': 199.22846754405663,\n",
       "  'Solids': 14446.81238968584,\n",
       "  'Chloramines': 7.689190528554683,\n",
       "  'Sulfate': 298.3184182542306,\n",
       "  'Conductivity': 469.1319512580189,\n",
       "  'Organic_carbon': 14.020507420373008,\n",
       "  'Trihalomethanes': 95.30623861595618,\n",
       "  'Turbidity': 5.190533810336875,\n",
       "  'Day': 14,\n",
       "  'Month': 7,\n",
       "  'Year': 2021,\n",
       "  'Prediction': 0},\n",
       " {'ph': 7,\n",
       "  'Hardness': 177.82830229271073,\n",
       "  'Solids': 31421.73163322104,\n",
       "  'Chloramines': 4.584133909828415,\n",
       "  'Sulfate': 347.0973536720579,\n",
       "  'Conductivity': 490.2846741272502,\n",
       "  'Organic_carbon': 16.066439028217076,\n",
       "  'Trihalomethanes': 58.41669860568201,\n",
       "  'Turbidity': 2.871196030589475,\n",
       "  'Day': 14,\n",
       "  'Month': 7,\n",
       "  'Year': 2021,\n",
       "  'Prediction': 0},\n",
       " {'ph': 7,\n",
       "  'Hardness': 177.31960335088084,\n",
       "  'Solids': 28398.554196372443,\n",
       "  'Chloramines': 6.294517392979037,\n",
       "  'Sulfate': 336.2929184546406,\n",
       "  'Conductivity': 328.3874298042128,\n",
       "  'Organic_carbon': 18.463094761579384,\n",
       "  'Trihalomethanes': 62.07590198942495,\n",
       "  'Turbidity': 2.2595502886491894,\n",
       "  'Day': 14,\n",
       "  'Month': 7,\n",
       "  'Year': 2021,\n",
       "  'Prediction': 0},\n",
       " {'ph': 7,\n",
       "  'Hardness': 185.63285813186496,\n",
       "  'Solids': 27981.091190195864,\n",
       "  'Chloramines': 6.761683214465978,\n",
       "  'Sulfate': 354.7852174343189,\n",
       "  'Conductivity': 380.7232523452632,\n",
       "  'Organic_carbon': 13.983833008387478,\n",
       "  'Trihalomethanes': 74.57691444202689,\n",
       "  'Turbidity': 4.917909886714817,\n",
       "  'Day': 14,\n",
       "  'Month': 7,\n",
       "  'Year': 2021,\n",
       "  'Prediction': 0},\n",
       " {'ph': 7,\n",
       "  'Hardness': 172.2990001423738,\n",
       "  'Solids': 15936.247359864004,\n",
       "  'Chloramines': 4.935997766107353,\n",
       "  'Sulfate': 340.3929303663409,\n",
       "  'Conductivity': 435.4056098362427,\n",
       "  'Organic_carbon': 11.075621804849504,\n",
       "  'Trihalomethanes': 58.36599451072914,\n",
       "  'Turbidity': 4.561493818692693,\n",
       "  'Day': 14,\n",
       "  'Month': 7,\n",
       "  'Year': 2021,\n",
       "  'Prediction': 0},\n",
       " {'ph': 7,\n",
       "  'Hardness': 164.72348623241737,\n",
       "  'Solids': 20442.61501430499,\n",
       "  'Chloramines': 5.163931372998991,\n",
       "  'Sulfate': 341.53708898075774,\n",
       "  'Conductivity': 468.4163498271398,\n",
       "  'Organic_carbon': 10.362622626299128,\n",
       "  'Trihalomethanes': 65.69487776478398,\n",
       "  'Turbidity': 4.047907292461217,\n",
       "  'Day': 14,\n",
       "  'Month': 7,\n",
       "  'Year': 2021,\n",
       "  'Prediction': 0},\n",
       " {'ph': 7,\n",
       "  'Hardness': 228.48839375396625,\n",
       "  'Solids': 15824.788728849351,\n",
       "  'Chloramines': 8.38894421399903,\n",
       "  'Sulfate': 314.8432912662629,\n",
       "  'Conductivity': 423.6627074595676,\n",
       "  'Organic_carbon': 17.630362462120956,\n",
       "  'Trihalomethanes': 56.420210305518,\n",
       "  'Turbidity': 3.6305239854418616,\n",
       "  'Day': 14,\n",
       "  'Month': 7,\n",
       "  'Year': 2021,\n",
       "  'Prediction': 0},\n",
       " {'ph': 7,\n",
       "  'Hardness': 234.9145120239778,\n",
       "  'Solids': 18607.213192973988,\n",
       "  'Chloramines': 8.620697294848203,\n",
       "  'Sulfate': 302.1313058651816,\n",
       "  'Conductivity': 442.10420764013503,\n",
       "  'Organic_carbon': 14.116823608926552,\n",
       "  'Trihalomethanes': 65.6367585787979,\n",
       "  'Turbidity': 4.383394691806273,\n",
       "  'Day': 14,\n",
       "  'Month': 7,\n",
       "  'Year': 2021,\n",
       "  'Prediction': 0},\n",
       " {'ph': 7,\n",
       "  'Hardness': 193.84093110096603,\n",
       "  'Solids': 34157.18447357784,\n",
       "  'Chloramines': 9.876574050392144,\n",
       "  'Sulfate': 344.5354072354149,\n",
       "  'Conductivity': 498.063996249716,\n",
       "  'Organic_carbon': 8.818756566850709,\n",
       "  'Trihalomethanes': 66.65935223322833,\n",
       "  'Turbidity': 4.030659830632323,\n",
       "  'Day': 14,\n",
       "  'Month': 7,\n",
       "  'Year': 2021,\n",
       "  'Prediction': 0},\n",
       " {'ph': 7,\n",
       "  'Hardness': 203.53783248501048,\n",
       "  'Solids': 23603.06541683117,\n",
       "  'Chloramines': 7.667128478800443,\n",
       "  'Sulfate': 324.08433407149784,\n",
       "  'Conductivity': 288.91245683813605,\n",
       "  'Organic_carbon': 18.06495657941309,\n",
       "  'Trihalomethanes': 85.91666620114039,\n",
       "  'Turbidity': 4.405508764376716,\n",
       "  'Day': 14,\n",
       "  'Month': 7,\n",
       "  'Year': 2021,\n",
       "  'Prediction': 0},\n",
       " {'ph': 7,\n",
       "  'Hardness': 183.362712601924,\n",
       "  'Solids': 17259.852302409414,\n",
       "  'Chloramines': 4.6102446924534215,\n",
       "  'Sulfate': 335.6264426329922,\n",
       "  'Conductivity': 452.9952927870204,\n",
       "  'Organic_carbon': 9.700906282901087,\n",
       "  'Trihalomethanes': 80.53706529171714,\n",
       "  'Turbidity': 2.496342612338434,\n",
       "  'Day': 14,\n",
       "  'Month': 7,\n",
       "  'Year': 2021,\n",
       "  'Prediction': 0},\n",
       " {'ph': 7,\n",
       "  'Hardness': 200.9434839528824,\n",
       "  'Solids': 12642.065947280007,\n",
       "  'Chloramines': 7.309821638629845,\n",
       "  'Sulfate': 334.4420643076838,\n",
       "  'Conductivity': 446.7484416115787,\n",
       "  'Organic_carbon': 14.94908036525527,\n",
       "  'Trihalomethanes': 71.20203815261473,\n",
       "  'Turbidity': 3.514097774584284,\n",
       "  'Day': 14,\n",
       "  'Month': 7,\n",
       "  'Year': 2021,\n",
       "  'Prediction': 0},\n",
       " {'ph': 7,\n",
       "  'Hardness': 215.9463220151335,\n",
       "  'Solids': 24991.766020523846,\n",
       "  'Chloramines': 9.138390839362147,\n",
       "  'Sulfate': 321.4733595649965,\n",
       "  'Conductivity': 431.4246894278691,\n",
       "  'Organic_carbon': 12.950444156120966,\n",
       "  'Trihalomethanes': 64.02559032278475,\n",
       "  'Turbidity': 4.299018586936102,\n",
       "  'Day': 14,\n",
       "  'Month': 7,\n",
       "  'Year': 2021,\n",
       "  'Prediction': 0},\n",
       " {'ph': 7,\n",
       "  'Hardness': 222.2522694745392,\n",
       "  'Solids': 25063.68301331781,\n",
       "  'Chloramines': 8.561123755060423,\n",
       "  'Sulfate': 287.9481232044328,\n",
       "  'Conductivity': 505.2654826373972,\n",
       "  'Organic_carbon': 18.2737569562791,\n",
       "  'Trihalomethanes': 68.39541320826186,\n",
       "  'Turbidity': 2.873261209549148,\n",
       "  'Day': 14,\n",
       "  'Month': 7,\n",
       "  'Year': 2021,\n",
       "  'Prediction': 1},\n",
       " {'ph': 7,\n",
       "  'Hardness': 200.88940639383003,\n",
       "  'Solids': 32182.262317798355,\n",
       "  'Chloramines': 8.571649638299693,\n",
       "  'Sulfate': 364.7467863440447,\n",
       "  'Conductivity': 516.8516225307658,\n",
       "  'Organic_carbon': 12.404438749151211,\n",
       "  'Trihalomethanes': 85.02622691054913,\n",
       "  'Turbidity': 2.730792274371549,\n",
       "  'Day': 14,\n",
       "  'Month': 7,\n",
       "  'Year': 2021,\n",
       "  'Prediction': 0},\n",
       " {'ph': 7,\n",
       "  'Hardness': 209.83933337513497,\n",
       "  'Solids': 8712.00258845446,\n",
       "  'Chloramines': 8.591510126308991,\n",
       "  'Sulfate': 355.44372109287366,\n",
       "  'Conductivity': 338.8481579462765,\n",
       "  'Organic_carbon': 18.721311565047078,\n",
       "  'Trihalomethanes': 106.2430659759468,\n",
       "  'Turbidity': 3.246077223248075,\n",
       "  'Day': 14,\n",
       "  'Month': 7,\n",
       "  'Year': 2021,\n",
       "  'Prediction': 1},\n",
       " {'ph': 7,\n",
       "  'Hardness': 212.80864540548384,\n",
       "  'Solids': 30434.269118406635,\n",
       "  'Chloramines': 8.630313014071895,\n",
       "  'Sulfate': 333.48254007833225,\n",
       "  'Conductivity': 382.9223629717562,\n",
       "  'Organic_carbon': 15.779921970237352,\n",
       "  'Trihalomethanes': 39.775513219931405,\n",
       "  'Turbidity': 2.8049235828692907,\n",
       "  'Day': 14,\n",
       "  'Month': 7,\n",
       "  'Year': 2021,\n",
       "  'Prediction': 0}]"
      ]
     },
     "execution_count": 16,
     "metadata": {},
     "output_type": "execute_result"
    }
   ],
   "source": [
    "db.search(Mediciones.Day == 14)"
   ]
  },
  {
   "cell_type": "markdown",
   "id": "3408155b",
   "metadata": {
    "cell_id": "00046-bfbd74f6-f517-4a75-927d-0a3a32716658",
    "deepnote_cell_type": "markdown"
   },
   "source": [
    "### Eliminado\n",
    "\n",
    "\n",
    "Por último, podemos eliminar de la BBDD con una `Query` y la función `remove`: "
   ]
  },
  {
   "cell_type": "code",
   "execution_count": 17,
   "id": "a1bd53a9",
   "metadata": {
    "cell_id": "00047-84332fcb-a325-4ef5-b70a-6aee2d421537",
    "deepnote_cell_type": "code",
    "deepnote_output_heights": [
     21.199996948242188
    ],
    "deepnote_to_be_reexecuted": false,
    "execution_millis": 35,
    "execution_start": 1638557622989,
    "source_hash": "52bbb774"
   },
   "outputs": [
    {
     "data": {
      "text/plain": [
       "[1, 2, 3, 4, 5, 6, 7, 8, 9, 10, 11, 12, 13, 14, 15, 16, 17, 18, 19, 20]"
      ]
     },
     "execution_count": 17,
     "metadata": {},
     "output_type": "execute_result"
    }
   ],
   "source": [
    "db.remove(Mediciones.Day == 14)\n",
    "# noten que esta función retorna los indices de los documentos que fueron borrados."
   ]
  },
  {
   "cell_type": "code",
   "execution_count": 18,
   "id": "58e650d2",
   "metadata": {
    "cell_id": "00048-bcb9f7f7-3641-4507-a7ec-7ff7b3626670",
    "deepnote_cell_type": "code",
    "deepnote_output_heights": [
     21.199996948242188
    ],
    "deepnote_to_be_reexecuted": false,
    "execution_millis": 0,
    "execution_start": 1638557623032,
    "source_hash": "58f0934b"
   },
   "outputs": [
    {
     "data": {
      "text/plain": [
       "[]"
      ]
     },
     "execution_count": 18,
     "metadata": {},
     "output_type": "execute_result"
    }
   ],
   "source": [
    "db.search(Mediciones.Day == 14)"
   ]
  },
  {
   "cell_type": "markdown",
   "id": "46d9ac4b",
   "metadata": {
    "cell_id": "00049-0d6f6818-bbf5-4dbe-9fdc-fe2391da0a96",
    "deepnote_cell_type": "markdown"
   },
   "source": [
    "### NOTA: Mutación de la BBDD y Respaldo\n",
    "\n",
    "Cada vez que ejecutan insert, update o remove modifican las bases de datos. El archivo `db_resplado.json` contiene un respaldo de la base de datos para que puedan volver a utilizar la original."
   ]
  },
  {
   "cell_type": "markdown",
   "id": "3814c6b8",
   "metadata": {
    "cell_id": "00050-739484e5-06e8-48ff-a805-6b5095b25b5f",
    "deepnote_cell_type": "markdown"
   },
   "source": [
    "-----"
   ]
  },
  {
   "cell_type": "markdown",
   "id": "99b2f817",
   "metadata": {
    "cell_id": "00051-7081be43-861c-4779-b7e6-3943e9d6eb4d",
    "deepnote_cell_type": "markdown"
   },
   "source": [
    "# Conclusión\n",
    "Eso ha sido todo para el lab de hoy, recuerden que el laboratorio tiene un plazo de entrega de una semana. Cualquier duda del laboratorio, no duden en contactarnos por mail o U-cursos.\n",
    "\n",
    "<div align=\"center\">\n",
    "  <img src=\"https://i.pinimg.com/originals/84/5d/f1/845df1aefc6a5e37ae575327a0cc6e43.gif\" width=\"500\">\n",
    "</div>"
   ]
  }
 ],
 "metadata": {
  "deepnote": {},
  "deepnote_execution_queue": [],
  "deepnote_notebook_id": "67cd0417-a7dc-4492-8467-03924e4dd3a5",
  "kernelspec": {
   "display_name": "Python 3 (ipykernel)",
   "language": "python",
   "name": "python3"
  },
  "language_info": {
   "codemirror_mode": {
    "name": "ipython",
    "version": 3
   },
   "file_extension": ".py",
   "mimetype": "text/x-python",
   "name": "python",
   "nbconvert_exporter": "python",
   "pygments_lexer": "ipython3",
   "version": "3.9.7"
  }
 },
 "nbformat": 4,
 "nbformat_minor": 5
}
