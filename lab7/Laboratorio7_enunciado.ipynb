{
  "cells": [
    {
      "cell_type": "markdown",
      "metadata": {
        "cell_id": "00000-73f3e32f-2ef2-4c8f-8a16-d0512209e3ca",
        "deepnote_cell_height": 103.43333435058594,
        "deepnote_cell_type": "markdown",
        "id": "XUZ1dFPHzAHl"
      },
      "source": [
        "<h1><center>Laboratorio 7: Aprendizaje Supervisado 🔮</center></h1>\n",
        "\n",
        "<center><strong>MDS7202: Laboratorio de Programación Científica para Ciencia de Datos</strong></center>"
      ]
    },
    {
      "cell_type": "markdown",
      "metadata": {
        "cell_id": "00001-f0f6f193-27cb-4e14-8eb4-8192d12f7721",
        "deepnote_cell_height": 165.78334045410156,
        "deepnote_cell_type": "markdown",
        "id": "UD8X1uhGzAHq"
      },
      "source": [
        "### Cuerpo Docente:\n",
        "\n",
        "- Profesor: Pablo Badilla\n",
        "- Auxiliar: Ignacio Meza D.\n",
        "- Ayudante: Patricio Ortiz"
      ]
    },
    {
      "cell_type": "markdown",
      "metadata": {
        "cell_id": "00002-cbc359e4-c6bf-4a18-b935-8b000e48c13d",
        "deepnote_cell_height": 139.86666870117188,
        "deepnote_cell_type": "markdown",
        "id": "tXflExjqzAHr"
      },
      "source": [
        "### Equipo: SUPER IMPORTANTE - notebooks sin nombre no serán revisados\n",
        "\n",
        "- Nombre de alumno 1: Sebastián Tinoco\n",
        "- Nombre de alumno 2:\n"
      ]
    },
    {
      "cell_type": "markdown",
      "metadata": {
        "cell_id": "00003-50e2b812-e515-42a0-b713-6dbfaa83c601",
        "deepnote_cell_height": 61.56666564941406,
        "deepnote_cell_type": "markdown",
        "id": "AD-V0bbZzAHr"
      },
      "source": [
        "### **Link de repositorio de GitHub:** `https://github.com/sebatinoco/MDS7202/tree/main/lab7`"
      ]
    },
    {
      "cell_type": "markdown",
      "metadata": {
        "cell_id": "00005-119cf881-89af-4ccc-8bf7-2763d5eb0785",
        "deepnote_cell_height": 606.316650390625,
        "deepnote_cell_type": "markdown",
        "id": "6uBLPj1PzAHs"
      },
      "source": [
        "## Temas a tratar\n",
        "\n",
        "- Aprendizaje Supervisado\n",
        "- Flujos de datos a través de `Pipelines`.\n",
        "\n",
        "## Reglas\n",
        "\n",
        "- Fecha de entrega: TBD\n",
        "- **Grupos de 2 personas**\n",
        "- **Ausentes** deberán realizar la actividad solos. \n",
        "- Cualquier duda fuera del horario de clases al foro. Mensajes al equipo docente serán respondidos por este medio.\n",
        "- Prohibidas las copias. \n",
        "- Pueden usar cualquer matrial del curso que estimen conveniente.\n",
        "\n",
        "## Objetivos principales del laboratorio\n",
        "\n",
        "- Comprender el funcionamiento de clasificadores/regresores.\n",
        "- Generar múltiples modelos predictivos.\n",
        "- Comprender las ventajas de crear modelos en pipeline vs hacer las operaciones a mano.\n",
        "\n",
        "El laboratorio deberá ser desarrollado sin el uso indiscriminado de iteradores nativos de python (aka \"for\", \"while\"). La idea es que aprendan a exprimir al máximo las funciones optimizadas que nos entrega `pandas`, las cuales vale mencionar, son bastante más eficientes que los iteradores nativos sobre `DataFrames`."
      ]
    },
    {
      "cell_type": "markdown",
      "metadata": {
        "cell_id": "00006-d1bce751-1f1d-4470-8cbb-a77ba271ef39",
        "deepnote_cell_height": 61.03334045410156,
        "deepnote_cell_type": "markdown",
        "id": "MhISwri4zAHy"
      },
      "source": [
        "### Importamos librerias utiles 😸"
      ]
    },
    {
      "cell_type": "code",
      "execution_count": 1,
      "metadata": {
        "ExecuteTime": {
          "end_time": "2021-03-29T00:08:16.884674Z",
          "start_time": "2021-03-29T00:08:16.349846Z"
        },
        "cell_id": "00007-e1ebdc56-4008-489c-85bc-b1ffb9cbbced",
        "colab": {
          "base_uri": "https://localhost:8080/"
        },
        "deepnote_cell_height": 954.25,
        "deepnote_cell_type": "code",
        "deepnote_to_be_reexecuted": false,
        "execution_millis": 7630,
        "execution_start": 1636741163382,
        "id": "uyc33dKdzAHy",
        "outputId": "bb7ff951-2a2e-4622-d859-3f1c4542790f",
        "source_hash": "cb3614e"
      },
      "outputs": [
        {
          "output_type": "stream",
          "name": "stdout",
          "text": [
            "Looking in indexes: https://pypi.org/simple, https://us-python.pkg.dev/colab-wheels/public/simple/\n",
            "Requirement already satisfied: plotly in /usr/local/lib/python3.7/dist-packages (5.8.2)\n",
            "Requirement already satisfied: tenacity>=6.2.0 in /usr/local/lib/python3.7/dist-packages (from plotly) (8.0.1)\n",
            "Looking in indexes: https://pypi.org/simple, https://us-python.pkg.dev/colab-wheels/public/simple/\n",
            "Requirement already satisfied: umap-learn in /usr/local/lib/python3.7/dist-packages (0.5.3)\n",
            "Requirement already satisfied: scipy>=1.0 in /usr/local/lib/python3.7/dist-packages (from umap-learn) (1.4.1)\n",
            "Requirement already satisfied: scikit-learn>=0.22 in /usr/local/lib/python3.7/dist-packages (from umap-learn) (1.0.2)\n",
            "Requirement already satisfied: numpy>=1.17 in /usr/local/lib/python3.7/dist-packages (from umap-learn) (1.21.6)\n",
            "Requirement already satisfied: tqdm in /usr/local/lib/python3.7/dist-packages (from umap-learn) (4.64.0)\n",
            "Requirement already satisfied: pynndescent>=0.5 in /usr/local/lib/python3.7/dist-packages (from umap-learn) (0.5.7)\n",
            "Requirement already satisfied: numba>=0.49 in /usr/local/lib/python3.7/dist-packages (from umap-learn) (0.51.2)\n",
            "Requirement already satisfied: setuptools in /usr/local/lib/python3.7/dist-packages (from numba>=0.49->umap-learn) (57.4.0)\n",
            "Requirement already satisfied: llvmlite<0.35,>=0.34.0.dev0 in /usr/local/lib/python3.7/dist-packages (from numba>=0.49->umap-learn) (0.34.0)\n",
            "Requirement already satisfied: joblib>=0.11 in /usr/local/lib/python3.7/dist-packages (from pynndescent>=0.5->umap-learn) (1.1.0)\n",
            "Requirement already satisfied: threadpoolctl>=2.0.0 in /usr/local/lib/python3.7/dist-packages (from scikit-learn>=0.22->umap-learn) (3.1.0)\n"
          ]
        }
      ],
      "source": [
        "# Libreria Core del lab.\n",
        "import numpy as np\n",
        "import pandas as pd\n",
        "from sklearn.pipeline import Pipeline\n",
        "from sklearn.compose import ColumnTransformer\n",
        "from sklearn.model_selection import train_test_split \n",
        "\n",
        "# Pre-procesamiento\n",
        "from sklearn.preprocessing import MinMaxScaler\n",
        "from sklearn.preprocessing import StandardScaler\n",
        "from sklearn.preprocessing import FunctionTransformer\n",
        "from sklearn.preprocessing import PowerTransformer\n",
        "from sklearn.preprocessing import OneHotEncoder, OrdinalEncoder\n",
        "from sklearn.tree import DecisionTreeClassifier\n",
        "\n",
        "# Metricas de evaluación\n",
        "from sklearn.metrics import classification_report\n",
        "from sklearn.metrics import accuracy_score\n",
        "from sklearn.metrics import f1_score\n",
        "from sklearn.metrics import cohen_kappa_score\n",
        "\n",
        "#Libreria para plotear\n",
        "!pip install --upgrade plotly\n",
        "import plotly.express as px\n",
        "from plotly.subplots import make_subplots\n",
        "import plotly.graph_objects as go\n",
        "\n",
        "# UMAP\n",
        "!pip install umap-learn"
      ]
    },
    {
      "cell_type": "markdown",
      "metadata": {
        "cell_id": "00008-7877e530-5ed5-483e-af0a-4fd26434d7dc",
        "deepnote_cell_height": 51.43333435058594,
        "deepnote_cell_type": "markdown",
        "id": "5FTGE74b3FBU"
      },
      "source": [
        "https://www.kaggle.com/antoinekrajnc/soccer-players-statistics"
      ]
    },
    {
      "cell_type": "markdown",
      "metadata": {
        "cell_id": "00009-2d8a21b8-a5ac-41ee-9a17-15c179c9b666",
        "deepnote_cell_height": 645.0166625976562,
        "deepnote_cell_type": "markdown",
        "id": "xpOTbQcxbSiy"
      },
      "source": [
        "# 1. Predicciones Futboleras\n",
        "\n",
        "<p align=\"center\">\n",
        "  <img src=\"https://drive.google.com/uc?export=view&id=1BnO4tyh3vM2P199Ec9s3JjngQ4qQ9seP\"\n",
        "\" width=\"300\">\n",
        "</p>\n",
        "\n",
        "\n",
        "Tras el trágico despido de la mítica mascota de Maipú, Renacín decide adentrarse como consultor en el mercado futbolero, el cuál (para variar...) está cargado en especulaciones. \n",
        "\n",
        "Como su principal tarea será asesorar a los directivos de los clubes sobre cuál jugador comprar y cuál no, Renacín desea generar modelos predictivos que evaluén distintas características de los jugadores; todo con el fin de tomar decisiones concretas basadas en los datos.\n",
        "\n",
        "Sin embargo, su condición de corporeo le impidió tomar la versión anterior de MDS7202, por lo que este motivo Renacín contrata a su equipo para lograr su objetivo final. Dado que aún tiene fuertes vínculos con la dirección de deportes de la municipalidad, el corporeo le entrega base de datos con las estadísticas de cada jugador para que su equipo empieze a trabajar ya con un dataset listo para ser usado.\n"
      ]
    },
    {
      "cell_type": "markdown",
      "metadata": {
        "cell_id": "00010-6b2847d4-5b92-44b7-9ce0-c6b6779ac157",
        "deepnote_cell_height": 169.03334045410156,
        "deepnote_cell_type": "markdown",
        "id": "jnmZfFpxTTYX"
      },
      "source": [
        "**Los Datos**\n",
        "\n",
        "Para este laboratorio deberán trabajar con los csv `statsplayers.csv` y `salarios.pickle`, donde deberán aplicar algoritmos de aprendizaje supervisado (clasificación y regresión) en base a características que describen de jugadores de futbol.\n",
        "\n",
        "Para comenzar cargue el dataset señalado y a continuación vea el reporte **`Player_Stats_Report.html`** (adjunto en la carpeta del enunciado) que describe las características principales del `DataFrame`."
      ]
    },
    {
      "cell_type": "code",
      "execution_count": 2,
      "metadata": {
        "cell_id": "00011-41e0cc7d-f280-4fd4-9186-b97a9c9f2245",
        "colab": {
          "base_uri": "https://localhost:8080/"
        },
        "deepnote_cell_height": 218.53334045410156,
        "deepnote_cell_type": "code",
        "deepnote_to_be_reexecuted": false,
        "execution_millis": 7,
        "execution_start": 1636741171022,
        "id": "Jqq-s010Iwl1",
        "outputId": "1465f626-bdac-4702-f2e8-b011edff54cf",
        "source_hash": "c60dc4a7"
      },
      "outputs": [
        {
          "output_type": "stream",
          "name": "stdout",
          "text": [
            "Drive already mounted at /content/drive; to attempt to forcibly remount, call drive.mount(\"/content/drive\", force_remount=True).\n"
          ]
        }
      ],
      "source": [
        "# Si usted está utilizando Colabolatory le puede ser útil este código para cargar los archivos.\n",
        "try:\n",
        "    from google.colab import drive\n",
        "    drive.mount(\"/content/drive\")\n",
        "    path = '/content/drive/MyDrive/MDS/Labs/Lab 7/'\n",
        "except: \n",
        "    print('Ignorando conexión drive-colab')"
      ]
    },
    {
      "cell_type": "markdown",
      "source": [
        "Leemos los datos, especificando las variables categóricas en base al informe **`Player_Stats_Report.html`** provisto"
      ],
      "metadata": {
        "id": "XkqzsyDT0x_Z"
      }
    },
    {
      "cell_type": "code",
      "execution_count": 3,
      "metadata": {
        "cell_id": "00012-64bcb839-4478-423e-9bd1-cdb81eefc97e",
        "colab": {
          "base_uri": "https://localhost:8080/",
          "height": 653
        },
        "deepnote_cell_height": 489.54998779296875,
        "deepnote_cell_type": "code",
        "deepnote_output_heights": [
          376
        ],
        "deepnote_to_be_reexecuted": false,
        "execution_millis": 184,
        "execution_start": 1636742947300,
        "id": "bED3w3tDbSCf",
        "outputId": "b1807b1f-8a5d-45ca-dcd3-50b5c107a800",
        "source_hash": "65944a94"
      },
      "outputs": [
        {
          "output_type": "execute_result",
          "data": {
            "text/plain": [
              "                    Name          Nationality National_Position Club_Position  \\\n",
              "0      Cristiano Ronaldo             Portugal                LS            LW   \n",
              "1           Lionel Messi            Argentina                RW            RW   \n",
              "2                 Neymar               Brazil                LW            LW   \n",
              "3            Luis Suárez              Uruguay                LS            ST   \n",
              "4           Manuel Neuer              Germany                GK            GK   \n",
              "...                  ...                  ...               ...           ...   \n",
              "17583        Adam Dunbar  Republic of Ireland               NaN           Sub   \n",
              "17584       Dylan McGoey  Republic of Ireland               NaN           Sub   \n",
              "17585    Tommy Ouldridge              England               NaN           Res   \n",
              "17586         Mark Foden             Scotland               NaN           Sub   \n",
              "17587   Barry Richardson              England               NaN           Sub   \n",
              "\n",
              "       Height  Weight Preffered_Foot  Age        Work_Rate Weak_foot  ...  \\\n",
              "0         185      80          Right   32       High / Low         4  ...   \n",
              "1         170      72           Left   29  Medium / Medium         4  ...   \n",
              "2         174      68          Right   25    High / Medium         5  ...   \n",
              "3         182      85          Right   30    High / Medium         4  ...   \n",
              "4         193      92          Right   31  Medium / Medium         4  ...   \n",
              "...       ...     ...            ...  ...              ...       ...  ...   \n",
              "17583     183      82          Right   19  Medium / Medium         1  ...   \n",
              "17584     185      80          Right   19  Medium / Medium         2  ...   \n",
              "17585     173      61          Right   18    High / Medium         2  ...   \n",
              "17586     180      80          Right   21  Medium / Medium         3  ...   \n",
              "17587     185      77          Right   47  Medium / Medium         2  ...   \n",
              "\n",
              "      Agility  Jumping  Heading  Shot_Power  Finishing  Long_Shots  Curve  \\\n",
              "0          90       95       85          92         93          90     81   \n",
              "1          90       68       71          85         95          88     89   \n",
              "2          96       61       62          78         89          77     79   \n",
              "3          86       69       77          87         94          86     86   \n",
              "4          52       78       25          25         13          16     14   \n",
              "...       ...      ...      ...         ...        ...         ...    ...   \n",
              "17583      27       56       14          16         13          13     11   \n",
              "17584      28       53       12          17         12          11     12   \n",
              "17585      54       61       41          44         28          42     35   \n",
              "17586      34       48       15          23         14          12     13   \n",
              "17587      38       51       12          13         11          16     12   \n",
              "\n",
              "       Freekick_Accuracy  Penalties  Volleys  \n",
              "0                     76         85       88  \n",
              "1                     90         74       85  \n",
              "2                     84         81       83  \n",
              "3                     84         85       88  \n",
              "4                     11         47       11  \n",
              "...                  ...        ...      ...  \n",
              "17583                 13         15       12  \n",
              "17584                 13         16       12  \n",
              "17585                 36         42       37  \n",
              "17586                 12         24       12  \n",
              "17587                 11         22       12  \n",
              "\n",
              "[17588 rows x 39 columns]"
            ],
            "text/html": [
              "\n",
              "  <div id=\"df-0cc01970-2dec-4b3d-8eab-65b06febcf54\">\n",
              "    <div class=\"colab-df-container\">\n",
              "      <div>\n",
              "<style scoped>\n",
              "    .dataframe tbody tr th:only-of-type {\n",
              "        vertical-align: middle;\n",
              "    }\n",
              "\n",
              "    .dataframe tbody tr th {\n",
              "        vertical-align: top;\n",
              "    }\n",
              "\n",
              "    .dataframe thead th {\n",
              "        text-align: right;\n",
              "    }\n",
              "</style>\n",
              "<table border=\"1\" class=\"dataframe\">\n",
              "  <thead>\n",
              "    <tr style=\"text-align: right;\">\n",
              "      <th></th>\n",
              "      <th>Name</th>\n",
              "      <th>Nationality</th>\n",
              "      <th>National_Position</th>\n",
              "      <th>Club_Position</th>\n",
              "      <th>Height</th>\n",
              "      <th>Weight</th>\n",
              "      <th>Preffered_Foot</th>\n",
              "      <th>Age</th>\n",
              "      <th>Work_Rate</th>\n",
              "      <th>Weak_foot</th>\n",
              "      <th>...</th>\n",
              "      <th>Agility</th>\n",
              "      <th>Jumping</th>\n",
              "      <th>Heading</th>\n",
              "      <th>Shot_Power</th>\n",
              "      <th>Finishing</th>\n",
              "      <th>Long_Shots</th>\n",
              "      <th>Curve</th>\n",
              "      <th>Freekick_Accuracy</th>\n",
              "      <th>Penalties</th>\n",
              "      <th>Volleys</th>\n",
              "    </tr>\n",
              "  </thead>\n",
              "  <tbody>\n",
              "    <tr>\n",
              "      <th>0</th>\n",
              "      <td>Cristiano Ronaldo</td>\n",
              "      <td>Portugal</td>\n",
              "      <td>LS</td>\n",
              "      <td>LW</td>\n",
              "      <td>185</td>\n",
              "      <td>80</td>\n",
              "      <td>Right</td>\n",
              "      <td>32</td>\n",
              "      <td>High / Low</td>\n",
              "      <td>4</td>\n",
              "      <td>...</td>\n",
              "      <td>90</td>\n",
              "      <td>95</td>\n",
              "      <td>85</td>\n",
              "      <td>92</td>\n",
              "      <td>93</td>\n",
              "      <td>90</td>\n",
              "      <td>81</td>\n",
              "      <td>76</td>\n",
              "      <td>85</td>\n",
              "      <td>88</td>\n",
              "    </tr>\n",
              "    <tr>\n",
              "      <th>1</th>\n",
              "      <td>Lionel Messi</td>\n",
              "      <td>Argentina</td>\n",
              "      <td>RW</td>\n",
              "      <td>RW</td>\n",
              "      <td>170</td>\n",
              "      <td>72</td>\n",
              "      <td>Left</td>\n",
              "      <td>29</td>\n",
              "      <td>Medium / Medium</td>\n",
              "      <td>4</td>\n",
              "      <td>...</td>\n",
              "      <td>90</td>\n",
              "      <td>68</td>\n",
              "      <td>71</td>\n",
              "      <td>85</td>\n",
              "      <td>95</td>\n",
              "      <td>88</td>\n",
              "      <td>89</td>\n",
              "      <td>90</td>\n",
              "      <td>74</td>\n",
              "      <td>85</td>\n",
              "    </tr>\n",
              "    <tr>\n",
              "      <th>2</th>\n",
              "      <td>Neymar</td>\n",
              "      <td>Brazil</td>\n",
              "      <td>LW</td>\n",
              "      <td>LW</td>\n",
              "      <td>174</td>\n",
              "      <td>68</td>\n",
              "      <td>Right</td>\n",
              "      <td>25</td>\n",
              "      <td>High / Medium</td>\n",
              "      <td>5</td>\n",
              "      <td>...</td>\n",
              "      <td>96</td>\n",
              "      <td>61</td>\n",
              "      <td>62</td>\n",
              "      <td>78</td>\n",
              "      <td>89</td>\n",
              "      <td>77</td>\n",
              "      <td>79</td>\n",
              "      <td>84</td>\n",
              "      <td>81</td>\n",
              "      <td>83</td>\n",
              "    </tr>\n",
              "    <tr>\n",
              "      <th>3</th>\n",
              "      <td>Luis Suárez</td>\n",
              "      <td>Uruguay</td>\n",
              "      <td>LS</td>\n",
              "      <td>ST</td>\n",
              "      <td>182</td>\n",
              "      <td>85</td>\n",
              "      <td>Right</td>\n",
              "      <td>30</td>\n",
              "      <td>High / Medium</td>\n",
              "      <td>4</td>\n",
              "      <td>...</td>\n",
              "      <td>86</td>\n",
              "      <td>69</td>\n",
              "      <td>77</td>\n",
              "      <td>87</td>\n",
              "      <td>94</td>\n",
              "      <td>86</td>\n",
              "      <td>86</td>\n",
              "      <td>84</td>\n",
              "      <td>85</td>\n",
              "      <td>88</td>\n",
              "    </tr>\n",
              "    <tr>\n",
              "      <th>4</th>\n",
              "      <td>Manuel Neuer</td>\n",
              "      <td>Germany</td>\n",
              "      <td>GK</td>\n",
              "      <td>GK</td>\n",
              "      <td>193</td>\n",
              "      <td>92</td>\n",
              "      <td>Right</td>\n",
              "      <td>31</td>\n",
              "      <td>Medium / Medium</td>\n",
              "      <td>4</td>\n",
              "      <td>...</td>\n",
              "      <td>52</td>\n",
              "      <td>78</td>\n",
              "      <td>25</td>\n",
              "      <td>25</td>\n",
              "      <td>13</td>\n",
              "      <td>16</td>\n",
              "      <td>14</td>\n",
              "      <td>11</td>\n",
              "      <td>47</td>\n",
              "      <td>11</td>\n",
              "    </tr>\n",
              "    <tr>\n",
              "      <th>...</th>\n",
              "      <td>...</td>\n",
              "      <td>...</td>\n",
              "      <td>...</td>\n",
              "      <td>...</td>\n",
              "      <td>...</td>\n",
              "      <td>...</td>\n",
              "      <td>...</td>\n",
              "      <td>...</td>\n",
              "      <td>...</td>\n",
              "      <td>...</td>\n",
              "      <td>...</td>\n",
              "      <td>...</td>\n",
              "      <td>...</td>\n",
              "      <td>...</td>\n",
              "      <td>...</td>\n",
              "      <td>...</td>\n",
              "      <td>...</td>\n",
              "      <td>...</td>\n",
              "      <td>...</td>\n",
              "      <td>...</td>\n",
              "      <td>...</td>\n",
              "    </tr>\n",
              "    <tr>\n",
              "      <th>17583</th>\n",
              "      <td>Adam Dunbar</td>\n",
              "      <td>Republic of Ireland</td>\n",
              "      <td>NaN</td>\n",
              "      <td>Sub</td>\n",
              "      <td>183</td>\n",
              "      <td>82</td>\n",
              "      <td>Right</td>\n",
              "      <td>19</td>\n",
              "      <td>Medium / Medium</td>\n",
              "      <td>1</td>\n",
              "      <td>...</td>\n",
              "      <td>27</td>\n",
              "      <td>56</td>\n",
              "      <td>14</td>\n",
              "      <td>16</td>\n",
              "      <td>13</td>\n",
              "      <td>13</td>\n",
              "      <td>11</td>\n",
              "      <td>13</td>\n",
              "      <td>15</td>\n",
              "      <td>12</td>\n",
              "    </tr>\n",
              "    <tr>\n",
              "      <th>17584</th>\n",
              "      <td>Dylan McGoey</td>\n",
              "      <td>Republic of Ireland</td>\n",
              "      <td>NaN</td>\n",
              "      <td>Sub</td>\n",
              "      <td>185</td>\n",
              "      <td>80</td>\n",
              "      <td>Right</td>\n",
              "      <td>19</td>\n",
              "      <td>Medium / Medium</td>\n",
              "      <td>2</td>\n",
              "      <td>...</td>\n",
              "      <td>28</td>\n",
              "      <td>53</td>\n",
              "      <td>12</td>\n",
              "      <td>17</td>\n",
              "      <td>12</td>\n",
              "      <td>11</td>\n",
              "      <td>12</td>\n",
              "      <td>13</td>\n",
              "      <td>16</td>\n",
              "      <td>12</td>\n",
              "    </tr>\n",
              "    <tr>\n",
              "      <th>17585</th>\n",
              "      <td>Tommy Ouldridge</td>\n",
              "      <td>England</td>\n",
              "      <td>NaN</td>\n",
              "      <td>Res</td>\n",
              "      <td>173</td>\n",
              "      <td>61</td>\n",
              "      <td>Right</td>\n",
              "      <td>18</td>\n",
              "      <td>High / Medium</td>\n",
              "      <td>2</td>\n",
              "      <td>...</td>\n",
              "      <td>54</td>\n",
              "      <td>61</td>\n",
              "      <td>41</td>\n",
              "      <td>44</td>\n",
              "      <td>28</td>\n",
              "      <td>42</td>\n",
              "      <td>35</td>\n",
              "      <td>36</td>\n",
              "      <td>42</td>\n",
              "      <td>37</td>\n",
              "    </tr>\n",
              "    <tr>\n",
              "      <th>17586</th>\n",
              "      <td>Mark Foden</td>\n",
              "      <td>Scotland</td>\n",
              "      <td>NaN</td>\n",
              "      <td>Sub</td>\n",
              "      <td>180</td>\n",
              "      <td>80</td>\n",
              "      <td>Right</td>\n",
              "      <td>21</td>\n",
              "      <td>Medium / Medium</td>\n",
              "      <td>3</td>\n",
              "      <td>...</td>\n",
              "      <td>34</td>\n",
              "      <td>48</td>\n",
              "      <td>15</td>\n",
              "      <td>23</td>\n",
              "      <td>14</td>\n",
              "      <td>12</td>\n",
              "      <td>13</td>\n",
              "      <td>12</td>\n",
              "      <td>24</td>\n",
              "      <td>12</td>\n",
              "    </tr>\n",
              "    <tr>\n",
              "      <th>17587</th>\n",
              "      <td>Barry Richardson</td>\n",
              "      <td>England</td>\n",
              "      <td>NaN</td>\n",
              "      <td>Sub</td>\n",
              "      <td>185</td>\n",
              "      <td>77</td>\n",
              "      <td>Right</td>\n",
              "      <td>47</td>\n",
              "      <td>Medium / Medium</td>\n",
              "      <td>2</td>\n",
              "      <td>...</td>\n",
              "      <td>38</td>\n",
              "      <td>51</td>\n",
              "      <td>12</td>\n",
              "      <td>13</td>\n",
              "      <td>11</td>\n",
              "      <td>16</td>\n",
              "      <td>12</td>\n",
              "      <td>11</td>\n",
              "      <td>22</td>\n",
              "      <td>12</td>\n",
              "    </tr>\n",
              "  </tbody>\n",
              "</table>\n",
              "<p>17588 rows × 39 columns</p>\n",
              "</div>\n",
              "      <button class=\"colab-df-convert\" onclick=\"convertToInteractive('df-0cc01970-2dec-4b3d-8eab-65b06febcf54')\"\n",
              "              title=\"Convert this dataframe to an interactive table.\"\n",
              "              style=\"display:none;\">\n",
              "        \n",
              "  <svg xmlns=\"http://www.w3.org/2000/svg\" height=\"24px\"viewBox=\"0 0 24 24\"\n",
              "       width=\"24px\">\n",
              "    <path d=\"M0 0h24v24H0V0z\" fill=\"none\"/>\n",
              "    <path d=\"M18.56 5.44l.94 2.06.94-2.06 2.06-.94-2.06-.94-.94-2.06-.94 2.06-2.06.94zm-11 1L8.5 8.5l.94-2.06 2.06-.94-2.06-.94L8.5 2.5l-.94 2.06-2.06.94zm10 10l.94 2.06.94-2.06 2.06-.94-2.06-.94-.94-2.06-.94 2.06-2.06.94z\"/><path d=\"M17.41 7.96l-1.37-1.37c-.4-.4-.92-.59-1.43-.59-.52 0-1.04.2-1.43.59L10.3 9.45l-7.72 7.72c-.78.78-.78 2.05 0 2.83L4 21.41c.39.39.9.59 1.41.59.51 0 1.02-.2 1.41-.59l7.78-7.78 2.81-2.81c.8-.78.8-2.07 0-2.86zM5.41 20L4 18.59l7.72-7.72 1.47 1.35L5.41 20z\"/>\n",
              "  </svg>\n",
              "      </button>\n",
              "      \n",
              "  <style>\n",
              "    .colab-df-container {\n",
              "      display:flex;\n",
              "      flex-wrap:wrap;\n",
              "      gap: 12px;\n",
              "    }\n",
              "\n",
              "    .colab-df-convert {\n",
              "      background-color: #E8F0FE;\n",
              "      border: none;\n",
              "      border-radius: 50%;\n",
              "      cursor: pointer;\n",
              "      display: none;\n",
              "      fill: #1967D2;\n",
              "      height: 32px;\n",
              "      padding: 0 0 0 0;\n",
              "      width: 32px;\n",
              "    }\n",
              "\n",
              "    .colab-df-convert:hover {\n",
              "      background-color: #E2EBFA;\n",
              "      box-shadow: 0px 1px 2px rgba(60, 64, 67, 0.3), 0px 1px 3px 1px rgba(60, 64, 67, 0.15);\n",
              "      fill: #174EA6;\n",
              "    }\n",
              "\n",
              "    [theme=dark] .colab-df-convert {\n",
              "      background-color: #3B4455;\n",
              "      fill: #D2E3FC;\n",
              "    }\n",
              "\n",
              "    [theme=dark] .colab-df-convert:hover {\n",
              "      background-color: #434B5C;\n",
              "      box-shadow: 0px 1px 3px 1px rgba(0, 0, 0, 0.15);\n",
              "      filter: drop-shadow(0px 1px 2px rgba(0, 0, 0, 0.3));\n",
              "      fill: #FFFFFF;\n",
              "    }\n",
              "  </style>\n",
              "\n",
              "      <script>\n",
              "        const buttonEl =\n",
              "          document.querySelector('#df-0cc01970-2dec-4b3d-8eab-65b06febcf54 button.colab-df-convert');\n",
              "        buttonEl.style.display =\n",
              "          google.colab.kernel.accessAllowed ? 'block' : 'none';\n",
              "\n",
              "        async function convertToInteractive(key) {\n",
              "          const element = document.querySelector('#df-0cc01970-2dec-4b3d-8eab-65b06febcf54');\n",
              "          const dataTable =\n",
              "            await google.colab.kernel.invokeFunction('convertToInteractive',\n",
              "                                                     [key], {});\n",
              "          if (!dataTable) return;\n",
              "\n",
              "          const docLinkHtml = 'Like what you see? Visit the ' +\n",
              "            '<a target=\"_blank\" href=https://colab.research.google.com/notebooks/data_table.ipynb>data table notebook</a>'\n",
              "            + ' to learn more about interactive tables.';\n",
              "          element.innerHTML = '';\n",
              "          dataTable['output_type'] = 'display_data';\n",
              "          await google.colab.output.renderOutput(dataTable, element);\n",
              "          const docLink = document.createElement('div');\n",
              "          docLink.innerHTML = docLinkHtml;\n",
              "          element.appendChild(docLink);\n",
              "        }\n",
              "      </script>\n",
              "    </div>\n",
              "  </div>\n",
              "  "
            ]
          },
          "metadata": {},
          "execution_count": 3
        }
      ],
      "source": [
        "df_players = pd.read_csv(path + 'stats_players.csv', dtype = {'Name': 'category', 'Nationality': 'category', 'National_Position': 'category', 'Club_Position': 'category', \n",
        "                                                              'Preffered_Foot': 'category', 'Work_Rate': 'category', 'Weak_foot': 'category', 'Skill_Moves': 'category'})\n",
        "df_players"
      ]
    },
    {
      "cell_type": "markdown",
      "metadata": {
        "cell_id": "00013-1b1d1556-4dbe-499e-8a34-90748e76565e",
        "deepnote_cell_height": 169.8333282470703,
        "deepnote_cell_type": "markdown",
        "id": "2R3b7Qe501t5"
      },
      "source": [
        "## 1.1 Predicción de Seleccionados Nacionales \n",
        "\n",
        "Como primera tarea, Renacín, intrigado por la posibilidad de saber qué tan reconocido es un jugador, le consulta a su equipo si es posible predecir si un jugador será o no seleccionado nacional a partir de sus estadísticas en el juego. \n",
        "\n",
        "<p align=\"center\">\n",
        "  <img src=\"https://thumbs.gfycat.com/ThornyFrankFoxhound-size_restricted.gif\" width=\"500\">\n",
        "</p>"
      ]
    },
    {
      "cell_type": "markdown",
      "metadata": {
        "cell_id": "00014-33fe54d0-08a3-457a-932d-d07eb29b7ee3",
        "deepnote_cell_height": 158.23333740234375,
        "deepnote_cell_type": "markdown",
        "id": "PIe_Ha58pQRC"
      },
      "source": [
        "### 1.1.1 Generación de Labels para la Clasificación [Sin Puntaje]\n",
        "\n",
        "\n",
        "Primero comience generando las labels para la clasificación. Para esto, trabaje sobre el atributo ```National_Position``` suponiendo que los valores nulos son jugadores no seleccionados para representar a su país. \n",
        "\n",
        "Hecho esto, ¿Cuantos ejemplos por cada clase se tienen? Comente lo que observa.\n",
        "\n"
      ]
    },
    {
      "cell_type": "markdown",
      "metadata": {
        "cell_id": "00015-f7029512-357f-4f07-9897-aaf5d65430a6",
        "deepnote_cell_height": 51.43333435058594,
        "deepnote_cell_type": "markdown",
        "tags": [],
        "id": "GHw7Xk-6bl87"
      },
      "source": [
        "**Respuesta:**"
      ]
    },
    {
      "cell_type": "code",
      "execution_count": 4,
      "metadata": {
        "cell_id": "00016-ea27a011-47ab-4d54-b2cf-f07037d65135",
        "deepnote_cell_height": 80.03334045410156,
        "deepnote_cell_type": "code",
        "deepnote_to_be_reexecuted": false,
        "execution_millis": 3,
        "execution_start": 1636741171250,
        "id": "uwKaIuho4lqn",
        "source_hash": "43ce1981",
        "colab": {
          "base_uri": "https://localhost:8080/"
        },
        "outputId": "332b4dcd-c0ef-49f9-b38c-5b0701bb81a9"
      },
      "outputs": [
        {
          "output_type": "execute_result",
          "data": {
            "text/plain": [
              "0    16513\n",
              "1     1075\n",
              "dtype: int64"
            ]
          },
          "metadata": {},
          "execution_count": 4
        }
      ],
      "source": [
        "pd.DataFrame(np.where(pd.isnull(df_players['National_Position']), 0, 1)).value_counts()"
      ]
    },
    {
      "cell_type": "markdown",
      "metadata": {
        "id": "yMMCU5Q-bl88"
      },
      "source": [
        "A partir del conteo de clases, se observa que existe un desbalanceo en las clases. En particular, se observa que los seleccionados nacionales ascienden a 1075 filas del dataset, mientras que los no seleccionados son 16.513."
      ]
    },
    {
      "cell_type": "markdown",
      "metadata": {
        "cell_id": "00019-645127af-999a-40ce-b7a1-aa62bb742b4a",
        "deepnote_cell_height": 1393.3499755859375,
        "deepnote_cell_type": "markdown",
        "id": "0F70XPRFpWH9",
        "owner_user_id": "badcc427-fd3d-4615-9296-faa43ec69cfb"
      },
      "source": [
        "### 1.1.2 Camino a la clasificación [1 punto]\n",
        "\n",
        "<p align=\"center\">\n",
        "  <img src=\"https://c.tenor.com/SoXZJHWnhKAAAAAC/pitbull-medel.gif\" width=\"500\">\n",
        "</p>\n",
        "\n",
        "Para preprocesar el dataset, genere un `ColumnTransformer` en donde especifique las transformaciones que hay que realizar para cada columna (por ejemplo StandarScaler, MinMaxScaler, OneHotEncoder, etc...) para que puedan ser utilizadas correctamente por el modelo predictivo y guardelo en algúna variable.\n",
        "\n",
        "Luego, comente y justifique las transformaciones elegidas sobre cada una de las variables (para esto utilice el material ```Player_Stats_Report.html``` que viene en el zip del lab), al igual que las transformaciones aplicadas.\n",
        "\n",
        "Hecho lo anterior, **defina al menos 3 pipelines para la clasificación**, en donde utilice el mismo ColumnTransformer definido anteriormente, pero que varie entre cada pipeline los clasificadores. \n",
        "\n",
        "Para seleccionar los clasificadores más adecuados, utilice la siguiente guía:\n",
        "\n",
        "<p align=\"center\">\n",
        "  <img src=\"https://scikit-learn.org/stable/_static/ml_map.png\" width=\"500\">\n",
        "</p>\n",
        "\n",
        "<br/>\n",
        "\n",
        "Con ella, comente y justifique cada una de las decisiones tomadas al momento de desarrollar su pipeline.\n",
        "\n",
        "**Nota:** Si tiene problemas al utilizar OneHotEncoder puede utilizar el parámetro handle_unknown='ignore'. Esto hace que en la codificación se omitan las categorias que no aparecen en el entrenamiento. Pregunta dudosa (no tiene puntaje), ¿esto tiene sentido a nivel de modelos?.\n",
        "\n",
        "**To-Do:**\n",
        "\n",
        "- [ ] Genere un ```ColumnTransformer``` enfocado en preprocesar los datos.\n",
        "- [ ] Indicar y Justificar que preprocesamiento utiliza sobre cada columna.\n",
        "- [ ] Crear 3 ``pipelines`` con diferentes clasificadores.\n",
        "- [ ] Para seleccionar los clasificadores base sus decisiones en la siguiente [guía](https://scikit-learn.org/stable/tutorial/machine_learning_map/index.html)\n",
        "- [ ] No entrenar los ``pipelines`` aún.\n",
        "\n",
        "**Nota:** No es necesario entrenar los clasificadores aún."
      ]
    },
    {
      "cell_type": "markdown",
      "metadata": {
        "cell_id": "00020-4620fe7d-8e00-4c8b-976f-4212347359e6",
        "deepnote_cell_height": 51.43333435058594,
        "deepnote_cell_type": "markdown",
        "tags": [],
        "id": "6Su92MGYbl8-"
      },
      "source": [
        "**Respuesta:**"
      ]
    },
    {
      "cell_type": "code",
      "source": [
        "target = 'National_Position' # variable a predecir\n",
        "X = df_players.drop(columns = target).copy() # conjunto X para predecir\n",
        "y = np.where(pd.isnull(df_players[target]), 0, 1) # conjunto y a ser predicho"
      ],
      "metadata": {
        "id": "8cV-ES_ne0wu"
      },
      "execution_count": 5,
      "outputs": []
    },
    {
      "cell_type": "code",
      "source": [
        "print(f\"La base cuenta con {X.shape[0]} filas\")"
      ],
      "metadata": {
        "colab": {
          "base_uri": "https://localhost:8080/"
        },
        "id": "ejlVN99Jkyal",
        "outputId": "e5e01e34-740d-48f2-a5da-6084b82bc155"
      },
      "execution_count": 6,
      "outputs": [
        {
          "output_type": "stream",
          "name": "stdout",
          "text": [
            "La base cuenta con 17588 filas\n"
          ]
        }
      ]
    },
    {
      "cell_type": "markdown",
      "source": [
        "Para procesar los datos, es necesario distinguir entre los tipos de variables del dataset. Se observa que, en su mayoría, son variables numéricas de tipo `int` y unas pocas variables `category`. "
      ],
      "metadata": {
        "id": "Bja_uHgoz-mo"
      }
    },
    {
      "cell_type": "code",
      "source": [
        "X.dtypes.value_counts() # distribución de clases target"
      ],
      "metadata": {
        "colab": {
          "base_uri": "https://localhost:8080/"
        },
        "id": "20Xy04Bd0Ht4",
        "outputId": "f8a4f994-ba07-4d92-dca9-f3c19cd11e60"
      },
      "execution_count": 7,
      "outputs": [
        {
          "output_type": "execute_result",
          "data": {
            "text/plain": [
              "int64       31\n",
              "category     2\n",
              "category     1\n",
              "category     1\n",
              "category     1\n",
              "category     1\n",
              "category     1\n",
              "dtype: int64"
            ]
          },
          "metadata": {},
          "execution_count": 7
        }
      ]
    },
    {
      "cell_type": "markdown",
      "source": [
        "En el caso de las variables `category`, es necesario hacer la distinción entre las variables categóricas y ordinales, pues esto nos dirá el método apropiado de vectorizar estas variables. "
      ],
      "metadata": {
        "id": "6lNpebWN0aus"
      }
    },
    {
      "cell_type": "code",
      "source": [
        "X.select_dtypes('category') # vista a las variables categóricas"
      ],
      "metadata": {
        "colab": {
          "base_uri": "https://localhost:8080/",
          "height": 419
        },
        "id": "zRmQdWS0wZEw",
        "outputId": "7ce344b4-f4e7-44c0-9691-f910d7a5a761"
      },
      "execution_count": 8,
      "outputs": [
        {
          "output_type": "execute_result",
          "data": {
            "text/plain": [
              "                    Name          Nationality Club_Position Preffered_Foot  \\\n",
              "0      Cristiano Ronaldo             Portugal            LW          Right   \n",
              "1           Lionel Messi            Argentina            RW           Left   \n",
              "2                 Neymar               Brazil            LW          Right   \n",
              "3            Luis Suárez              Uruguay            ST          Right   \n",
              "4           Manuel Neuer              Germany            GK          Right   \n",
              "...                  ...                  ...           ...            ...   \n",
              "17583        Adam Dunbar  Republic of Ireland           Sub          Right   \n",
              "17584       Dylan McGoey  Republic of Ireland           Sub          Right   \n",
              "17585    Tommy Ouldridge              England           Res          Right   \n",
              "17586         Mark Foden             Scotland           Sub          Right   \n",
              "17587   Barry Richardson              England           Sub          Right   \n",
              "\n",
              "             Work_Rate Weak_foot Skill_Moves  \n",
              "0           High / Low         4           5  \n",
              "1      Medium / Medium         4           4  \n",
              "2        High / Medium         5           5  \n",
              "3        High / Medium         4           4  \n",
              "4      Medium / Medium         4           1  \n",
              "...                ...       ...         ...  \n",
              "17583  Medium / Medium         1           1  \n",
              "17584  Medium / Medium         2           1  \n",
              "17585    High / Medium         2           2  \n",
              "17586  Medium / Medium         3           1  \n",
              "17587  Medium / Medium         2           1  \n",
              "\n",
              "[17588 rows x 7 columns]"
            ],
            "text/html": [
              "\n",
              "  <div id=\"df-8235e97b-c0e7-43ef-86f3-791e038db31e\">\n",
              "    <div class=\"colab-df-container\">\n",
              "      <div>\n",
              "<style scoped>\n",
              "    .dataframe tbody tr th:only-of-type {\n",
              "        vertical-align: middle;\n",
              "    }\n",
              "\n",
              "    .dataframe tbody tr th {\n",
              "        vertical-align: top;\n",
              "    }\n",
              "\n",
              "    .dataframe thead th {\n",
              "        text-align: right;\n",
              "    }\n",
              "</style>\n",
              "<table border=\"1\" class=\"dataframe\">\n",
              "  <thead>\n",
              "    <tr style=\"text-align: right;\">\n",
              "      <th></th>\n",
              "      <th>Name</th>\n",
              "      <th>Nationality</th>\n",
              "      <th>Club_Position</th>\n",
              "      <th>Preffered_Foot</th>\n",
              "      <th>Work_Rate</th>\n",
              "      <th>Weak_foot</th>\n",
              "      <th>Skill_Moves</th>\n",
              "    </tr>\n",
              "  </thead>\n",
              "  <tbody>\n",
              "    <tr>\n",
              "      <th>0</th>\n",
              "      <td>Cristiano Ronaldo</td>\n",
              "      <td>Portugal</td>\n",
              "      <td>LW</td>\n",
              "      <td>Right</td>\n",
              "      <td>High / Low</td>\n",
              "      <td>4</td>\n",
              "      <td>5</td>\n",
              "    </tr>\n",
              "    <tr>\n",
              "      <th>1</th>\n",
              "      <td>Lionel Messi</td>\n",
              "      <td>Argentina</td>\n",
              "      <td>RW</td>\n",
              "      <td>Left</td>\n",
              "      <td>Medium / Medium</td>\n",
              "      <td>4</td>\n",
              "      <td>4</td>\n",
              "    </tr>\n",
              "    <tr>\n",
              "      <th>2</th>\n",
              "      <td>Neymar</td>\n",
              "      <td>Brazil</td>\n",
              "      <td>LW</td>\n",
              "      <td>Right</td>\n",
              "      <td>High / Medium</td>\n",
              "      <td>5</td>\n",
              "      <td>5</td>\n",
              "    </tr>\n",
              "    <tr>\n",
              "      <th>3</th>\n",
              "      <td>Luis Suárez</td>\n",
              "      <td>Uruguay</td>\n",
              "      <td>ST</td>\n",
              "      <td>Right</td>\n",
              "      <td>High / Medium</td>\n",
              "      <td>4</td>\n",
              "      <td>4</td>\n",
              "    </tr>\n",
              "    <tr>\n",
              "      <th>4</th>\n",
              "      <td>Manuel Neuer</td>\n",
              "      <td>Germany</td>\n",
              "      <td>GK</td>\n",
              "      <td>Right</td>\n",
              "      <td>Medium / Medium</td>\n",
              "      <td>4</td>\n",
              "      <td>1</td>\n",
              "    </tr>\n",
              "    <tr>\n",
              "      <th>...</th>\n",
              "      <td>...</td>\n",
              "      <td>...</td>\n",
              "      <td>...</td>\n",
              "      <td>...</td>\n",
              "      <td>...</td>\n",
              "      <td>...</td>\n",
              "      <td>...</td>\n",
              "    </tr>\n",
              "    <tr>\n",
              "      <th>17583</th>\n",
              "      <td>Adam Dunbar</td>\n",
              "      <td>Republic of Ireland</td>\n",
              "      <td>Sub</td>\n",
              "      <td>Right</td>\n",
              "      <td>Medium / Medium</td>\n",
              "      <td>1</td>\n",
              "      <td>1</td>\n",
              "    </tr>\n",
              "    <tr>\n",
              "      <th>17584</th>\n",
              "      <td>Dylan McGoey</td>\n",
              "      <td>Republic of Ireland</td>\n",
              "      <td>Sub</td>\n",
              "      <td>Right</td>\n",
              "      <td>Medium / Medium</td>\n",
              "      <td>2</td>\n",
              "      <td>1</td>\n",
              "    </tr>\n",
              "    <tr>\n",
              "      <th>17585</th>\n",
              "      <td>Tommy Ouldridge</td>\n",
              "      <td>England</td>\n",
              "      <td>Res</td>\n",
              "      <td>Right</td>\n",
              "      <td>High / Medium</td>\n",
              "      <td>2</td>\n",
              "      <td>2</td>\n",
              "    </tr>\n",
              "    <tr>\n",
              "      <th>17586</th>\n",
              "      <td>Mark Foden</td>\n",
              "      <td>Scotland</td>\n",
              "      <td>Sub</td>\n",
              "      <td>Right</td>\n",
              "      <td>Medium / Medium</td>\n",
              "      <td>3</td>\n",
              "      <td>1</td>\n",
              "    </tr>\n",
              "    <tr>\n",
              "      <th>17587</th>\n",
              "      <td>Barry Richardson</td>\n",
              "      <td>England</td>\n",
              "      <td>Sub</td>\n",
              "      <td>Right</td>\n",
              "      <td>Medium / Medium</td>\n",
              "      <td>2</td>\n",
              "      <td>1</td>\n",
              "    </tr>\n",
              "  </tbody>\n",
              "</table>\n",
              "<p>17588 rows × 7 columns</p>\n",
              "</div>\n",
              "      <button class=\"colab-df-convert\" onclick=\"convertToInteractive('df-8235e97b-c0e7-43ef-86f3-791e038db31e')\"\n",
              "              title=\"Convert this dataframe to an interactive table.\"\n",
              "              style=\"display:none;\">\n",
              "        \n",
              "  <svg xmlns=\"http://www.w3.org/2000/svg\" height=\"24px\"viewBox=\"0 0 24 24\"\n",
              "       width=\"24px\">\n",
              "    <path d=\"M0 0h24v24H0V0z\" fill=\"none\"/>\n",
              "    <path d=\"M18.56 5.44l.94 2.06.94-2.06 2.06-.94-2.06-.94-.94-2.06-.94 2.06-2.06.94zm-11 1L8.5 8.5l.94-2.06 2.06-.94-2.06-.94L8.5 2.5l-.94 2.06-2.06.94zm10 10l.94 2.06.94-2.06 2.06-.94-2.06-.94-.94-2.06-.94 2.06-2.06.94z\"/><path d=\"M17.41 7.96l-1.37-1.37c-.4-.4-.92-.59-1.43-.59-.52 0-1.04.2-1.43.59L10.3 9.45l-7.72 7.72c-.78.78-.78 2.05 0 2.83L4 21.41c.39.39.9.59 1.41.59.51 0 1.02-.2 1.41-.59l7.78-7.78 2.81-2.81c.8-.78.8-2.07 0-2.86zM5.41 20L4 18.59l7.72-7.72 1.47 1.35L5.41 20z\"/>\n",
              "  </svg>\n",
              "      </button>\n",
              "      \n",
              "  <style>\n",
              "    .colab-df-container {\n",
              "      display:flex;\n",
              "      flex-wrap:wrap;\n",
              "      gap: 12px;\n",
              "    }\n",
              "\n",
              "    .colab-df-convert {\n",
              "      background-color: #E8F0FE;\n",
              "      border: none;\n",
              "      border-radius: 50%;\n",
              "      cursor: pointer;\n",
              "      display: none;\n",
              "      fill: #1967D2;\n",
              "      height: 32px;\n",
              "      padding: 0 0 0 0;\n",
              "      width: 32px;\n",
              "    }\n",
              "\n",
              "    .colab-df-convert:hover {\n",
              "      background-color: #E2EBFA;\n",
              "      box-shadow: 0px 1px 2px rgba(60, 64, 67, 0.3), 0px 1px 3px 1px rgba(60, 64, 67, 0.15);\n",
              "      fill: #174EA6;\n",
              "    }\n",
              "\n",
              "    [theme=dark] .colab-df-convert {\n",
              "      background-color: #3B4455;\n",
              "      fill: #D2E3FC;\n",
              "    }\n",
              "\n",
              "    [theme=dark] .colab-df-convert:hover {\n",
              "      background-color: #434B5C;\n",
              "      box-shadow: 0px 1px 3px 1px rgba(0, 0, 0, 0.15);\n",
              "      filter: drop-shadow(0px 1px 2px rgba(0, 0, 0, 0.3));\n",
              "      fill: #FFFFFF;\n",
              "    }\n",
              "  </style>\n",
              "\n",
              "      <script>\n",
              "        const buttonEl =\n",
              "          document.querySelector('#df-8235e97b-c0e7-43ef-86f3-791e038db31e button.colab-df-convert');\n",
              "        buttonEl.style.display =\n",
              "          google.colab.kernel.accessAllowed ? 'block' : 'none';\n",
              "\n",
              "        async function convertToInteractive(key) {\n",
              "          const element = document.querySelector('#df-8235e97b-c0e7-43ef-86f3-791e038db31e');\n",
              "          const dataTable =\n",
              "            await google.colab.kernel.invokeFunction('convertToInteractive',\n",
              "                                                     [key], {});\n",
              "          if (!dataTable) return;\n",
              "\n",
              "          const docLinkHtml = 'Like what you see? Visit the ' +\n",
              "            '<a target=\"_blank\" href=https://colab.research.google.com/notebooks/data_table.ipynb>data table notebook</a>'\n",
              "            + ' to learn more about interactive tables.';\n",
              "          element.innerHTML = '';\n",
              "          dataTable['output_type'] = 'display_data';\n",
              "          await google.colab.output.renderOutput(dataTable, element);\n",
              "          const docLink = document.createElement('div');\n",
              "          docLink.innerHTML = docLinkHtml;\n",
              "          element.appendChild(docLink);\n",
              "        }\n",
              "      </script>\n",
              "    </div>\n",
              "  </div>\n",
              "  "
            ]
          },
          "metadata": {},
          "execution_count": 8
        }
      ]
    },
    {
      "cell_type": "code",
      "source": [
        "X['Name'].value_counts() # notamos que la variable Name tiene valores repetidos, por lo tanto deja de ser una variable \"id\" y puede contener información relevante"
      ],
      "metadata": {
        "colab": {
          "base_uri": "https://localhost:8080/"
        },
        "id": "PYqErw4v09V3",
        "outputId": "e52f3d0c-fc84-41be-9c0f-05551b0e6869"
      },
      "execution_count": 9,
      "outputs": [
        {
          "output_type": "execute_result",
          "data": {
            "text/plain": [
              "Felipe                 6\n",
              "Gabriel                5\n",
              "Danilo                 5\n",
              "Roberto                4\n",
              "Carlos Rodríguez       4\n",
              "                      ..\n",
              "Guillermo Cubillos     1\n",
              "Guillermo Farré        1\n",
              "Guillermo Fernández    1\n",
              "Guillermo Ferracuti    1\n",
              "Łukasz Wiech           1\n",
              "Name: Name, Length: 17341, dtype: int64"
            ]
          },
          "metadata": {},
          "execution_count": 9
        }
      ]
    },
    {
      "cell_type": "markdown",
      "source": [
        "Notamos que las variables *Weak_foot* y *Skill_Moves* son variables ordinales. Por esto, es necesario hacer la distinción:"
      ],
      "metadata": {
        "id": "_cm7oTDZ0mM4"
      }
    },
    {
      "cell_type": "code",
      "source": [
        "ordinal_vars = ['Weak_foot', 'Skill_Moves'] # variables ordinales\n",
        "categoric_vars = [col for col in X.select_dtypes('category').columns if col not in ordinal_vars] # variables categóricas, descontamos las variables ordinales\n",
        "numeric_vars = [col for col in X.select_dtypes('int').columns] # variables numéricas"
      ],
      "metadata": {
        "id": "5UPR647QfOeW"
      },
      "execution_count": 10,
      "outputs": []
    },
    {
      "cell_type": "markdown",
      "source": [
        "Un aspecto importante a notar es que la base cuenta con 1 solo valor nulo en la columna *Club_position*. Por esto, se incluirá un paso de tratamiento de valores nulos en los `Pipeline` propuestos."
      ],
      "metadata": {
        "id": "9rGBHwvUlvRd"
      }
    },
    {
      "cell_type": "code",
      "source": [
        "X.isnull().sum().sort_values(ascending = False)"
      ],
      "metadata": {
        "colab": {
          "base_uri": "https://localhost:8080/"
        },
        "id": "OyW1h6szl4ZK",
        "outputId": "ac728145-4c0e-45cd-c200-7d72d051f209"
      },
      "execution_count": 11,
      "outputs": [
        {
          "output_type": "execute_result",
          "data": {
            "text/plain": [
              "Club_Position        1\n",
              "Name                 0\n",
              "Jumping              0\n",
              "Long_Pass            0\n",
              "Acceleration         0\n",
              "Speed                0\n",
              "Stamina              0\n",
              "Strength             0\n",
              "Balance              0\n",
              "Agility              0\n",
              "Heading              0\n",
              "Crossing             0\n",
              "Shot_Power           0\n",
              "Finishing            0\n",
              "Long_Shots           0\n",
              "Curve                0\n",
              "Freekick_Accuracy    0\n",
              "Penalties            0\n",
              "Short_Pass           0\n",
              "Composure            0\n",
              "Nationality          0\n",
              "Vision               0\n",
              "Height               0\n",
              "Weight               0\n",
              "Preffered_Foot       0\n",
              "Age                  0\n",
              "Work_Rate            0\n",
              "Weak_foot            0\n",
              "Skill_Moves          0\n",
              "Ball_Control         0\n",
              "Dribbling            0\n",
              "Marking              0\n",
              "Sliding_Tackle       0\n",
              "Standing_Tackle      0\n",
              "Aggression           0\n",
              "Reactions            0\n",
              "Interceptions        0\n",
              "Volleys              0\n",
              "dtype: int64"
            ]
          },
          "metadata": {},
          "execution_count": 11
        }
      ]
    },
    {
      "cell_type": "markdown",
      "source": [
        "#### Creación de ColumnTransformer"
      ],
      "metadata": {
        "id": "Qd_IygS82iUD"
      }
    },
    {
      "cell_type": "markdown",
      "source": [
        "Teniendo todo esto en consideración, los pasos a seguir para procesar los datos serán:\n",
        "\n",
        "- Si la variable es numérica, imputar datos faltantes mediante `KNNImputer` (notar que el dataset no contiene valores nulos numéricos, se programa este paso por completitud). Luego, transformar los datos mediante `RobustScaler`.\n",
        "\n",
        "- Si la variable es categórica, imputar datos faltantes mediante `SimpleImputer` y rellenando con el string `Null`. Luego, transformar los datos mediante `OneHotEncoder`.\n",
        "\n",
        "- Si la variable es ordinal, imputar datos faltantes mediante `SimpleImputer` y rellenando con la categoría `NA`. Luego, transformar los datos mediante `OrdinalEncoder`.\n",
        "\n",
        "Para implementar los anterior, se usará un `ColumnTransformer` compuesto de tres `Pipeline`: uno para las variables numéricas, otro para las variables categóricas y otro para las variables ordinales."
      ],
      "metadata": {
        "id": "70EFvnnK1fn0"
      }
    },
    {
      "cell_type": "code",
      "source": [
        "ordinal_cat = [['NA'] + [category for category in X[var].cat.categories] for var in ordinal_vars]\n",
        "ordinal_cat"
      ],
      "metadata": {
        "colab": {
          "base_uri": "https://localhost:8080/"
        },
        "id": "n_QEt3Xoxve7",
        "outputId": "51e16222-0d2c-4dce-d967-7fde41acefdf"
      },
      "execution_count": 12,
      "outputs": [
        {
          "output_type": "execute_result",
          "data": {
            "text/plain": [
              "[['NA', '1', '2', '3', '4', '5'], ['NA', '1', '2', '3', '4', '5']]"
            ]
          },
          "metadata": {},
          "execution_count": 12
        }
      ]
    },
    {
      "cell_type": "code",
      "source": [
        "from sklearn.preprocessing import RobustScaler\n",
        "from sklearn.impute import SimpleImputer, KNNImputer\n",
        "\n",
        "numeric_pipe = Pipeline([\n",
        "                         ('imputer', KNNImputer()),\n",
        "                         ('scaler', RobustScaler()),\n",
        "                         ])\n",
        "\n",
        "categoric_pipe = Pipeline([\n",
        "                         ('imputer', SimpleImputer(strategy = 'constant', fill_value = 'Null')),\n",
        "                         ('onehot', OneHotEncoder(handle_unknown='ignore')),\n",
        "                         ])\n",
        "\n",
        "ordinal_pipe = Pipeline([\n",
        "                         ('imputer', SimpleImputer(strategy = 'constant', fill_value = 'NA')),\n",
        "                         ('encoder', OrdinalEncoder(categories = ordinal_cat)),\n",
        "                         ])\n",
        "\n",
        "preprocessor = ColumnTransformer([\n",
        "                                  ('numeric', numeric_pipe, numeric_vars),\n",
        "                                  ('categoric', categoric_pipe, categoric_vars),\n",
        "                                  ('ordinal', ordinal_pipe, ordinal_vars)\n",
        "])"
      ],
      "metadata": {
        "id": "gpcSnbcnmoPU"
      },
      "execution_count": 13,
      "outputs": []
    },
    {
      "cell_type": "markdown",
      "source": [
        "#### Creación de Pipelines"
      ],
      "metadata": {
        "id": "zxbVqq12mdlF"
      }
    },
    {
      "cell_type": "markdown",
      "source": [
        "Usando la guía sugerida, respondemos paso a paso:\n",
        "\n",
        "- $>50$ samples? Sí (contamos con 17588 filas)\n",
        "\n",
        "- predicting a category? Sí (si el jugador es seleccionado nacional o no)\n",
        "\n",
        "- do you have labeled data? Sí (las etiquetas se generaron al principio del lab)\n",
        "\n",
        "- $<100 \\text{K}$ samples? Sí (contamos conn 17588 filas)\n",
        "\n",
        "Respondiendo todas esas preguntas y en base a la guía, se usarán los clasificadores `LinearSVC`, `KNeighborsClassifier` y `SVC`. "
      ],
      "metadata": {
        "id": "9tMVXR9wjo1f"
      }
    },
    {
      "cell_type": "code",
      "source": [
        "from sklearn.svm import LinearSVC\n",
        "from sklearn.neighbors import KNeighborsClassifier\n",
        "from sklearn.svm import SVC\n",
        "\n",
        "linearsvc_pipe = Pipeline([\n",
        "                  ('preprocessing', preprocessor),\n",
        "                  ('clf', LinearSVC()),\n",
        "                  ])\n",
        "\n",
        "knn_pipe = Pipeline([\n",
        "            ('preprocessing', preprocessor),\n",
        "            ('clf', KNeighborsClassifier()),\n",
        "            ])\n",
        "\n",
        "svc_pipe = Pipeline([\n",
        "            ('preprocessing', preprocessor),\n",
        "            ('clf', SVC()),\n",
        "            ])"
      ],
      "metadata": {
        "id": "nIoaXq5jgnNF"
      },
      "execution_count": 14,
      "outputs": []
    },
    {
      "cell_type": "markdown",
      "metadata": {
        "cell_id": "00022-c2604b33-63e0-4f34-88cf-019afa3b2225",
        "deepnote_cell_height": 440.1333312988281,
        "deepnote_cell_type": "markdown",
        "id": "MpKq6oO3vCNL"
      },
      "source": [
        "### 1.1.3 Entrenemos los pipelines [1 punto]\n",
        "\n",
        "<p align=\"center\">\n",
        "  <img src=\"https://i.gifer.com/7Cc8.gif\" width=\"350\">\n",
        "</p>\n"
      ]
    },
    {
      "cell_type": "markdown",
      "metadata": {
        "cell_id": "00023-664600ec-8c7d-4e9a-8673-edd18d5145a3",
        "deepnote_cell_height": 455.73333740234375,
        "deepnote_cell_type": "markdown",
        "id": "wE_1aZaIvOeN"
      },
      "source": [
        "Ahora, entrene los `pipeline` generados en los pasos anteriores. Para esto, primero separe los datos de entrenamiento en un conjunto de entrenamiento y de prueba  (la proporción queda a su juicio).\n",
        "\n",
        "En este paso, seleccione los ejemplos de forma aleatoria e intente mantener la distribución original de labels de cada clase en los conjuntos de prueba/entrenamiento. (vea la documentación de `train_test_split`).\n",
        "\n",
        "\n",
        "Luego, entrene los pipelines\n",
        "\n",
        "Una vez entrenado su modelo, evalue su rendimiento a través de diferentes métricas, comentando que significa cada uno de los valores obtenidos. Puede usar la función `classification_report` para corroborar sus resultados.\n",
        "\n",
        "- ¿Qué implican los valores de accuracy, precisión y recall de la clase positiva (la que indica que un jugador es seleccionado nacional)?\n",
        "- ¿Podrían mejorarse los resultados?, ¿Cómo?\n",
        "- ¿Influye la cantidad de ejemplos por clase?\n",
        "\n",
        "**To-Do**:\n",
        "\n",
        "- [ ] Separar el conjunto de datos en entrenamiento y de prueba.\n",
        "- [ ] Entrenar los `pipelines`.\n",
        "- [ ] Utilizar las métricas para evaluar los modelos generados.\n"
      ]
    },
    {
      "cell_type": "markdown",
      "metadata": {
        "cell_id": "00024-b842d4aa-fb47-4513-8649-e942f6094140",
        "deepnote_cell_height": 51.43333435058594,
        "deepnote_cell_type": "markdown",
        "tags": [],
        "id": "DQfGbYY9bl9A"
      },
      "source": [
        "**Respuesta:**"
      ]
    },
    {
      "cell_type": "markdown",
      "source": [
        "#### Separación train test"
      ],
      "metadata": {
        "id": "6inbUAt7VB6Y"
      }
    },
    {
      "cell_type": "code",
      "source": [
        "X_train, X_test, y_train, y_test = train_test_split(X, y, test_size = .33, shuffle = True, stratify = y)"
      ],
      "metadata": {
        "id": "CVZOUEwP3xrR"
      },
      "execution_count": 15,
      "outputs": []
    },
    {
      "cell_type": "markdown",
      "source": [
        "Chequeamos proporciones `y_train`, `y_test`"
      ],
      "metadata": {
        "id": "QxvjpusN5kVf"
      }
    },
    {
      "cell_type": "code",
      "source": [
        "pd.DataFrame(y_train).value_counts() / y_train.shape[0]"
      ],
      "metadata": {
        "colab": {
          "base_uri": "https://localhost:8080/"
        },
        "id": "K4kf-HLe5LOE",
        "outputId": "649bdf42-2308-4068-d0a1-6f4d1cea5908"
      },
      "execution_count": 16,
      "outputs": [
        {
          "output_type": "execute_result",
          "data": {
            "text/plain": [
              "0    0.938895\n",
              "1    0.061105\n",
              "dtype: float64"
            ]
          },
          "metadata": {},
          "execution_count": 16
        }
      ]
    },
    {
      "cell_type": "code",
      "source": [
        "pd.DataFrame(y_test).value_counts() / y_test.shape[0]"
      ],
      "metadata": {
        "colab": {
          "base_uri": "https://localhost:8080/"
        },
        "id": "nVrMR4iW5cSr",
        "outputId": "ee5f4254-e342-4351-9e3c-65f23637bbf2"
      },
      "execution_count": 17,
      "outputs": [
        {
          "output_type": "execute_result",
          "data": {
            "text/plain": [
              "0    0.938846\n",
              "1    0.061154\n",
              "dtype: float64"
            ]
          },
          "metadata": {},
          "execution_count": 17
        }
      ]
    },
    {
      "cell_type": "markdown",
      "source": [
        "Concluimos que `train_test_split` hace su trabajo y ambos conjuntos tienen la misma proporción de clases :)"
      ],
      "metadata": {
        "id": "klnLzEBN5rEC"
      }
    },
    {
      "cell_type": "markdown",
      "source": [
        "#### Entrenando pipelines"
      ],
      "metadata": {
        "id": "NO8jN5RL50IX"
      }
    },
    {
      "cell_type": "code",
      "source": [
        "linearsvc_pipe.fit(X_train, y_train)\n",
        "y_pred = linearsvc_pipe.predict(X_test)\n",
        "print(classification_report(y_test, y_pred))"
      ],
      "metadata": {
        "colab": {
          "base_uri": "https://localhost:8080/"
        },
        "id": "AIPm4PelCDEK",
        "outputId": "ad6979af-0a09-4c45-e8d3-ddfba5e651fc"
      },
      "execution_count": 18,
      "outputs": [
        {
          "output_type": "stream",
          "name": "stdout",
          "text": [
            "              precision    recall  f1-score   support\n",
            "\n",
            "           0       0.96      0.99      0.97      5450\n",
            "           1       0.64      0.33      0.44       355\n",
            "\n",
            "    accuracy                           0.95      5805\n",
            "   macro avg       0.80      0.66      0.71      5805\n",
            "weighted avg       0.94      0.95      0.94      5805\n",
            "\n"
          ]
        }
      ]
    },
    {
      "cell_type": "code",
      "source": [
        "knn_pipe.fit(X_train, y_train)\n",
        "y_pred = knn_pipe.predict(X_test)\n",
        "print(classification_report(y_test, y_pred))"
      ],
      "metadata": {
        "colab": {
          "base_uri": "https://localhost:8080/"
        },
        "id": "irdNY90u51oa",
        "outputId": "91d5e091-5d56-4a3f-b5a9-9ce419dbbb2f"
      },
      "execution_count": 19,
      "outputs": [
        {
          "output_type": "stream",
          "name": "stdout",
          "text": [
            "              precision    recall  f1-score   support\n",
            "\n",
            "           0       0.94      1.00      0.97      5450\n",
            "           1       0.54      0.08      0.15       355\n",
            "\n",
            "    accuracy                           0.94      5805\n",
            "   macro avg       0.74      0.54      0.56      5805\n",
            "weighted avg       0.92      0.94      0.92      5805\n",
            "\n"
          ]
        }
      ]
    },
    {
      "cell_type": "code",
      "source": [
        "svc_pipe.fit(X_train, y_train)\n",
        "y_pred = svc_pipe.predict(X_test)\n",
        "print(classification_report(y_test, y_pred))"
      ],
      "metadata": {
        "colab": {
          "base_uri": "https://localhost:8080/"
        },
        "id": "VHKvMN1hB5g3",
        "outputId": "74b827d7-93df-4bbb-f758-524cb74c2c5e"
      },
      "execution_count": 20,
      "outputs": [
        {
          "output_type": "stream",
          "name": "stdout",
          "text": [
            "              precision    recall  f1-score   support\n",
            "\n",
            "           0       0.94      1.00      0.97      5450\n",
            "           1       1.00      0.00      0.01       355\n",
            "\n",
            "    accuracy                           0.94      5805\n",
            "   macro avg       0.97      0.50      0.49      5805\n",
            "weighted avg       0.94      0.94      0.91      5805\n",
            "\n"
          ]
        }
      ]
    },
    {
      "cell_type": "markdown",
      "metadata": {
        "cell_id": "00028-42eb3af5-2635-48e6-9049-736e2d4b3306",
        "deepnote_cell_height": 106.23333740234375,
        "deepnote_cell_type": "markdown",
        "id": "QgSeo0aIx9ow"
      },
      "source": [
        "**Respuesta**:\n",
        "\n",
        "*¿Qué implican los valores de accuracy, precisión y recall de la clase positiva (la que indica que un jugador es seleccionado nacional)?*\n",
        "\n",
        "En general, se aprecia un buen accuracy (en torno a .95), una buena precision y un mal recall para la clase positiva. Considerando que:\n",
        "\n",
        "$$Precision = \\frac{\\text{Verdaderos Positivos}}{\\text{Verdaderos positivos} + \\text{Falsos positivos}}$$\n",
        "\n",
        "$$Recall = \\frac{\\text{Verdaderos Positivos}}{\\text{Verdaderos positivos} + \\text{Falsos negativos}}$$\n",
        "\n",
        "necesariamente implica que los falsos positivos de los modelos son muy pocos (cercanos a 0), mientras que los falsos negativos son muchos. En otras palabras, el modelo esta prediciendo muchos ejemplos que efectivamente son positivos (seleccionados nacionales) como negativos (que no lo son). Lo anterior es esperable, pues tal como se explica mas adelante, esto es fruto de tratar con un dataset desbalanceado. Por lo tanto, se concluye que los modelos son muy buenos prediciendo que un jugador no es seleccionado nacional pero muy malos prediciendo a los jugadores que sí son seleccionados nacionales.\n",
        "\n",
        "*¿Podrían mejorarse los resultados? ¿Cómo?*\n",
        "\n",
        "Existen muchas formas de mejorar estos resultados, entre estas se encuentran:\n",
        "\n",
        "- Rebalanceo de clases: El principal problema de nuestros modelos es el desbalanceo de clases, por esto es posible recurrir a diferentes técnicas que puedan balancear las clases y obtener predicciones menos sesgadas. Entre estas técnicas se encuentran: `Undersampling`, `Oversampling`, `SMOTE`.\n",
        "- Selección de variables: Seleccionar las *k* variables más relevantes puede ayudar a evitar la maldición de la dimensionalidad y por ende, permitir que el modelo aprenda mejor. Para esto, es posible usar filtrar mediante scores como `Chi2` y `F-score`.\n",
        "- Reducción de dimensionalidad: En la misma linea que la Selección de variables, reducir la dmiensionalidad del problema permite que evitar la maldición de la dimensionalidad y así mejorar el aprendizaje de los modelos. Esto se puede lograr mediante la implementación de técnicas como `PCA` y `TSNE`\n",
        "- Optimización de hiperparámetros: Es posible mejorar el rendimiento de los modelos mediante la optimización de los hiperparámetros de cada modelo. Para esto, es necesario usar técnicas de prueba-error como `GridSearch`.\n",
        "\n",
        "*¿Influye la cantidad de ejemplos por clase?*\n",
        "\n",
        "Tal como se describió anteriormente, las clases están desbalanceadas. Esto es perjudicial pues que una clase este sobrerepresentada induce a que el modelo esté inclinado a predecir esa clase y no la clase minoritaria. En ese sentido, si se quiere obtener un buen poder de predicción en ambas clases, es necesario fijarse en métricas como que puedan balancear ambos resultados, como el `F1-score`."
      ]
    },
    {
      "cell_type": "markdown",
      "metadata": {
        "cell_id": "00029-25d6c3d3-9c25-49f0-a27b-beface2dd794",
        "deepnote_cell_height": 420.2833251953125,
        "deepnote_cell_type": "markdown",
        "id": "ix97Ho4uOARH"
      },
      "source": [
        "## 1.2 Predicción de posiciones de jugadores [2 puntos]\n",
        "\n",
        "<p align=\"center\">\n",
        "  <img src=\"https://pbs.twimg.com/media/E1rfA1aWEAYU6Ny.jpg\" width=\"500\">\n",
        "</p>"
      ]
    },
    {
      "cell_type": "markdown",
      "metadata": {
        "cell_id": "00030-38a30ede-8d53-4a7c-930b-bfeaa4d499ff",
        "deepnote_cell_height": 687.2999877929688,
        "deepnote_cell_type": "markdown",
        "id": "oHAwZfV8hMsk"
      },
      "source": [
        "En una nueva jornada de desmesuradas transacciones deportivas, Renacín escuchó a sus colegas discutir acerca de que el precio de cada jugador depende en gran medida de la posición en la cancha en la que juega. Y además, que hay bastantes jugadores nuevos que no tienen muy claro en que posición verdaderamente brillarían, por lo que actualmente puede que actualmente estén jugando en posiciones sub-optimas. \n",
        "\n",
        "Viendo que los resultados del primer análisis no son tan esperanzadores, el corporeo los comanda a cambiar su tarea: ahora, les solicita que construyan un clasificador enfocado en predecir la mejor posición de los jugadores en la cancha según sus características. \n",
        "\n",
        "Para lograr esto, primero, les pide que etiqueten de la siguiente manera los valores que aparecen en el atributo ```Club_Position```, pidiendo que agrupen los valores en los siguientes grupos:\n",
        "\n",
        "**Nota**:  Renacín les recalca que **no deben utilizar los valores ```Sub``` y ```Res``` de esta columna**.\n",
        "\n",
        "```python\n",
        "ataque = ['ST', 'CF'] \n",
        "central_ataque = ['RW', 'CAM', 'LW'] \n",
        "central = ['RM', 'CM', 'LM'] \n",
        "central_defensa = ['RWB', 'CDM', 'LWB']\n",
        "defensa = ['RB', 'CB', 'LB']\n",
        "arquero = ['GK']\n",
        "```\n",
        "\n",
        "Cabe señalar que al igual como lo realizado con la clasificación binaria, deberá justificar en base a la [guía](https://scikit-learn.org/stable/tutorial/machine_learning_map/index.html) la elección del clasificador y se deben comentar los resultados obtenidos en la clasificación.\n",
        "\n",
        "**Nota:** Clasifique solamente con las clases señaladas, si observa mas clases eliminelas de la clasficación.\n",
        "\n",
        "**To-Do**:\n",
        "\n",
        "- [ ] Aplique las etiquetas descritas anteriormente en cada uno de los valores señalados en esta sección.\n",
        "- [ ] Cuente cuantos por clase quedan.\n",
        "- [ ] Entrene el nuevo pipeline y ejecute una evaluación de este.  \n",
        "- [ ] Comente los resultados obtenidos."
      ]
    },
    {
      "cell_type": "markdown",
      "metadata": {
        "cell_id": "00031-e53db99a-2bcc-474a-92b1-1f55458afc1d",
        "deepnote_cell_height": 51.43333435058594,
        "deepnote_cell_type": "markdown",
        "tags": [],
        "id": "Q34t3rODbl9D"
      },
      "source": [
        "**Respuesta:**"
      ]
    },
    {
      "cell_type": "markdown",
      "source": [
        "#### Re etiquetamiento de target y count"
      ],
      "metadata": {
        "id": "maLWuBlc6Hra"
      }
    },
    {
      "cell_type": "code",
      "source": [
        "map_dict = {\n",
        "    'ataque': ['ST', 'CF'],\n",
        "    'central_ataque': ['RW', 'CAM', 'LW'],\n",
        "    'central': ['RM', 'CM', 'LM'],\n",
        "    'central_defensa': ['RWB', 'CDM', 'LWB'],\n",
        "    'defensa': ['RB', 'CB', 'LB'],\n",
        "    'arquero': ['GK'],\n",
        "    np.nan: ['Sub', 'Res'],\n",
        "}"
      ],
      "metadata": {
        "id": "svWgF58zVHVk"
      },
      "execution_count": 21,
      "outputs": []
    },
    {
      "cell_type": "code",
      "source": [
        "df_positions = df_players.copy() # copy de la data original\n",
        "df_positions['Club_Position'] = df_positions['Club_Position'].apply(lambda x: [key for key, value in map_dict.items() if x in value][0] # agrupamos en categorias\n",
        "                                    if len([key for key, value in map_dict.items() if x in value]) > 0 else np.nan) # seteamos a valores nulos valores no definidos\n",
        "df_positions = df_positions.dropna(subset = ['Club_Position']) # dropeamos clases Sub, Res y todas aquellas que no esten contenidas en las definidas por el enunciado\n",
        "df_positions['Club_Position'].value_counts() # count de clases"
      ],
      "metadata": {
        "colab": {
          "base_uri": "https://localhost:8080/"
        },
        "id": "e-cJWfALZrPn",
        "outputId": "41e83cd3-6512-4248-beb9-0d6e5baf5e94"
      },
      "execution_count": 22,
      "outputs": [
        {
          "output_type": "execute_result",
          "data": {
            "text/plain": [
              "defensa            1180\n",
              "central             907\n",
              "arquero             632\n",
              "central_ataque      581\n",
              "ataque              430\n",
              "central_defensa     209\n",
              "Name: Club_Position, dtype: int64"
            ]
          },
          "metadata": {},
          "execution_count": 22
        }
      ]
    },
    {
      "cell_type": "code",
      "source": [
        "print(f\"Se cuentan con {df_positions.shape[0]} observaciones!\")"
      ],
      "metadata": {
        "colab": {
          "base_uri": "https://localhost:8080/"
        },
        "id": "mpsBn5rv7OtO",
        "outputId": "c08c950b-a2a3-44f9-c5c1-cc5613e9c7c8"
      },
      "execution_count": 48,
      "outputs": [
        {
          "output_type": "stream",
          "name": "stdout",
          "text": [
            "Se cuentan con 3939 observaciones!\n"
          ]
        }
      ]
    },
    {
      "cell_type": "markdown",
      "source": [
        "Notamos que las clases están desbalanceadas: vemos que la clase \"defensa\" tiene una frecuencia 5 veces mayor que \"central_defensa\".\n",
        "\n",
        "Además, notamos que por el drop de valores nulos contamos con muchas menos observaciones que para el caso anterior (3.939 observaciones)."
      ],
      "metadata": {
        "id": "Sf_me-Fy68Bx"
      }
    },
    {
      "cell_type": "markdown",
      "source": [
        "#### Entrenamiento de Pipeline"
      ],
      "metadata": {
        "id": "3pIKTp406NSL"
      }
    },
    {
      "cell_type": "code",
      "source": [
        "target = 'Club_Position' # variable a predecir\n",
        "X = df_positions.drop(columns = target).copy() # conjunto X\n",
        "y = df_positions[target] # conjunto y"
      ],
      "metadata": {
        "id": "XNPDQDP7eX3H"
      },
      "execution_count": 23,
      "outputs": []
    },
    {
      "cell_type": "markdown",
      "source": [
        "Notamos que ahora el problema es un problema de clasificación multiclase. Pese a esto, la guía provista nos sugiere lo mismo: usar `LinearSVC`, `KNeighborsClassifier` y `SVC`."
      ],
      "metadata": {
        "id": "QaqywdKU6VvV"
      }
    },
    {
      "cell_type": "code",
      "source": [
        "ordinal_vars = ['Weak_foot', 'Skill_Moves'] # variables ordinales\n",
        "categoric_vars = [col for col in X.select_dtypes('category').columns if col not in ordinal_vars] # variables categóricas, descontamos las variables ordinales\n",
        "numeric_vars = [col for col in X.select_dtypes('int').columns] # variables numéricas\n",
        "\n",
        "numeric_pipe = Pipeline([\n",
        "                         ('imputer', KNNImputer()),\n",
        "                         ('scaler', RobustScaler()),\n",
        "                         ])\n",
        "\n",
        "categoric_pipe = Pipeline([\n",
        "                         ('imputer', SimpleImputer(strategy = 'constant', fill_value = 'Null')),\n",
        "                         ('onehot', OneHotEncoder(handle_unknown='ignore')),\n",
        "                         ])\n",
        "\n",
        "ordinal_pipe = Pipeline([\n",
        "                         ('imputer', SimpleImputer(strategy = 'constant', fill_value = 'NA')),\n",
        "                         ('encoder', OrdinalEncoder(categories = ordinal_cat)),\n",
        "                         ])\n",
        "\n",
        "preprocessor = ColumnTransformer([\n",
        "                                  ('numeric', numeric_pipe, numeric_vars),\n",
        "                                  ('categoric', categoric_pipe, categoric_vars),\n",
        "                                  ('ordinal', ordinal_pipe, ordinal_vars)\n",
        "])"
      ],
      "metadata": {
        "id": "aiN3WoJRfxxE"
      },
      "execution_count": 24,
      "outputs": []
    },
    {
      "cell_type": "code",
      "source": [
        "linearsvc_pipe = Pipeline([\n",
        "                  ('preprocessing', preprocessor),\n",
        "                  ('clf', LinearSVC()),\n",
        "                  ])\n",
        "\n",
        "knn_pipe = Pipeline([\n",
        "            ('preprocessing', preprocessor),\n",
        "            ('clf', KNeighborsClassifier()),\n",
        "            ])\n",
        "\n",
        "svc_pipe = Pipeline([\n",
        "            ('preprocessing', preprocessor),\n",
        "            ('clf', SVC()),\n",
        "            ])"
      ],
      "metadata": {
        "id": "qgZGxuWae4fV"
      },
      "execution_count": 25,
      "outputs": []
    },
    {
      "cell_type": "code",
      "source": [
        "X_train, X_test, y_train, y_test = train_test_split(X, y, test_size = .33, shuffle = True, stratify = y)"
      ],
      "metadata": {
        "id": "TH7i-B1Fff0w"
      },
      "execution_count": 26,
      "outputs": []
    },
    {
      "cell_type": "code",
      "source": [
        "linearsvc_pipe.fit(X_train, y_train)\n",
        "y_pred = linearsvc_pipe.predict(X_test)\n",
        "print(classification_report(y_test, y_pred))"
      ],
      "metadata": {
        "colab": {
          "base_uri": "https://localhost:8080/"
        },
        "id": "E3Vvu_xveygn",
        "outputId": "4e3d52cc-cace-4f58-c5c5-6a253d652547"
      },
      "execution_count": 27,
      "outputs": [
        {
          "output_type": "stream",
          "name": "stdout",
          "text": [
            "                 precision    recall  f1-score   support\n",
            "\n",
            "        arquero       1.00      1.00      1.00       209\n",
            "         ataque       0.80      0.88      0.84       142\n",
            "        central       0.58      0.59      0.59       299\n",
            " central_ataque       0.54      0.39      0.45       192\n",
            "central_defensa       0.47      0.25      0.32        69\n",
            "        defensa       0.80      0.94      0.86       389\n",
            "\n",
            "       accuracy                           0.74      1300\n",
            "      macro avg       0.70      0.67      0.68      1300\n",
            "   weighted avg       0.73      0.74      0.73      1300\n",
            "\n"
          ]
        }
      ]
    },
    {
      "cell_type": "code",
      "source": [
        "knn_pipe.fit(X_train, y_train)\n",
        "y_pred = knn_pipe.predict(X_test)\n",
        "print(classification_report(y_test, y_pred))"
      ],
      "metadata": {
        "colab": {
          "base_uri": "https://localhost:8080/"
        },
        "id": "IPQbfVfqfN0-",
        "outputId": "ac9a738b-5238-4c41-84d2-16ea93124b53"
      },
      "execution_count": 28,
      "outputs": [
        {
          "output_type": "stream",
          "name": "stdout",
          "text": [
            "                 precision    recall  f1-score   support\n",
            "\n",
            "        arquero       1.00      1.00      1.00       209\n",
            "         ataque       0.75      0.82      0.78       142\n",
            "        central       0.52      0.61      0.56       299\n",
            " central_ataque       0.46      0.28      0.35       192\n",
            "central_defensa       0.41      0.19      0.26        69\n",
            "        defensa       0.80      0.90      0.85       389\n",
            "\n",
            "       accuracy                           0.71      1300\n",
            "      macro avg       0.66      0.63      0.63      1300\n",
            "   weighted avg       0.69      0.71      0.69      1300\n",
            "\n"
          ]
        }
      ]
    },
    {
      "cell_type": "code",
      "source": [
        "svc_pipe.fit(X_train, y_train)\n",
        "y_pred = svc_pipe.predict(X_test)\n",
        "print(classification_report(y_test, y_pred))"
      ],
      "metadata": {
        "colab": {
          "base_uri": "https://localhost:8080/"
        },
        "id": "HZnYPGrTfSDT",
        "outputId": "6286a801-abb2-47f8-c19a-caddaf0113e1"
      },
      "execution_count": 29,
      "outputs": [
        {
          "output_type": "stream",
          "name": "stdout",
          "text": [
            "                 precision    recall  f1-score   support\n",
            "\n",
            "        arquero       1.00      1.00      1.00       209\n",
            "         ataque       0.83      0.88      0.85       142\n",
            "        central       0.58      0.69      0.63       299\n",
            " central_ataque       0.56      0.29      0.38       192\n",
            "central_defensa       0.69      0.16      0.26        69\n",
            "        defensa       0.80      0.96      0.87       389\n",
            "\n",
            "       accuracy                           0.75      1300\n",
            "      macro avg       0.74      0.66      0.66      1300\n",
            "   weighted avg       0.74      0.75      0.73      1300\n",
            "\n"
          ]
        }
      ]
    },
    {
      "cell_type": "markdown",
      "metadata": {
        "cell_id": "00037-49e50b09-156f-4996-8fec-1e3e6cf51802",
        "deepnote_cell_height": 106.23333740234375,
        "deepnote_cell_type": "markdown",
        "tags": [],
        "id": "1iKJ9cSBbl9E"
      },
      "source": [
        "**Respuesta**:\n",
        "\n",
        "Tal como en el caso anterior, es posible mejorar los resultados mediante diferentes técnicas, entre las que se encuentran: \n",
        "\n",
        "- Rebalanceo de clases: El principal problema de nuestros modelos es el desbalanceo de clases, por esto es posible recurrir a diferentes técnicas que puedan balancear las clases y obtener predicciones menos sesgadas. Entre estas técnicas se encuentran: `Undersampling`, `Oversampling`, `SMOTE`.\n",
        "- Selección de variables: Seleccionar las *k* variables más relevantes puede ayudar a evitar la maldición de la dimensionalidad y por ende, permitir que el modelo aprenda mejor. Para esto, es posible usar filtrar mediante scores como `Chi2` y `F-score`.\n",
        "- Reducción de dimensionalidad: En la misma linea que la Selección de variables, reducir la dmiensionalidad del problema permite que evitar la maldición de la dimensionalidad y así mejorar el aprendizaje de los modelos. Esto se puede lograr mediante la implementación de técnicas como `PCA` y `TSNE`\n",
        "- Optimización de hiperparámetros: Es posible mejorar el rendimiento de los modelos mediante la optimización de los hiperparámetros de cada modelo. Para esto, es necesario usar técnicas de prueba-error como `GridSearch`."
      ]
    },
    {
      "cell_type": "markdown",
      "metadata": {
        "cell_id": "00038-b8c6c19d-0688-4899-9abb-c89f94c2b89a",
        "deepnote_cell_height": 312.20001220703125,
        "deepnote_cell_type": "markdown",
        "id": "C-vkB4xoOGtM"
      },
      "source": [
        "## 1.3 Predicción de Sueldos [2 puntos]\n",
        "\n",
        "<p align=\"center\">\n",
        "  <img src=\"https://media.giphy.com/media/3oEjHWtHAFcOKS4iA0/giphy.gif\" width=\"460\">\n",
        "</p>"
      ]
    },
    {
      "cell_type": "markdown",
      "metadata": {
        "cell_id": "00039-e50ff971-8882-46be-832a-deaff22bdf89",
        "deepnote_cell_height": 423.70001220703125,
        "deepnote_cell_type": "markdown",
        "tags": [],
        "id": "lpIiDwYCbl9F"
      },
      "source": [
        "Queriendo ahondar aún más en el mercado del balompíe, Renacin, logra obtener (de una manera no muy formal) los sueldos de múltiples futbolistas y los guarda en el archivo ```sueldos.csv```. Con ellos les solicita que generen un regresor que les permita predecir el sueldo de los futbolistas en base a las características de los pichichis, esto, debido a su motivación por invertir y/o realizar especulación sobre los sueldos de jugadores.\n",
        "\n",
        "Renacin es claro señalando que deben seguir utilizando la [guía](https://scikit-learn.org/stable/tutorial/machine_learning_map/index.html) y comenten cada uno de los pasos realizados, para obtener su regresión lineal. Señalándoles que no aceptara un $R^2$ inferior a 0.35 para el modelo solicitado.\n",
        "\n",
        "Para esta parte usted tiene total libertad en la generación del regresor, la unica exigencia es que utilice un pipeline para generar la regresión y utilice la metrica $R^2$ para medir el rendimiento de esta.\n",
        "\n",
        "**To-Do**:\n",
        "\n",
        "- [ ] Explique en que consiste la métrica $R^2$\n",
        "- [ ] Generar un pipeline para la regresión.\n",
        "- [ ] Obtener un regresor con un $R^2$ superior a  $0.35$.\n",
        "- [ ] Comente sus resultados y si es posible mejorar los resultados obtenidos. ¿Se necesitarían más datos o otros tipos de características o una combinación de ambos?"
      ]
    },
    {
      "cell_type": "markdown",
      "metadata": {
        "cell_id": "00040-487b67d5-7731-400d-8fa5-a8fb3b59c7f5",
        "deepnote_cell_height": 51.43333435058594,
        "deepnote_cell_type": "markdown",
        "tags": [],
        "id": "zJT55S_ibl9H"
      },
      "source": [
        "**Respuesta**"
      ]
    },
    {
      "cell_type": "markdown",
      "source": [
        "#### Explicación de $R^2$"
      ],
      "metadata": {
        "id": "hvR0AuAw8YdZ"
      }
    },
    {
      "cell_type": "markdown",
      "source": [
        "El $R^2$ es un coeficiente que toma valores entre 0-1 y es interpretrado como varianza explicada por el modelo. El $R^2$ puede ser calculado por diferentes formas equivalentes:\n",
        "\n",
        "$$R^2 = \\frac{\\sum_{i=1}^n (\\hat y_i - \\bar y)^2}{\\sum_{i=1}^n (y_i - \\bar y)^2} = 1 - \\frac{\\text{var}(\\epsilon)}{\\text{var}(y)} = \\text{cor}(y, \\hat y)^2$$\n",
        "\n",
        "De esta forma, el $R^2$ toma valores cercanos a 1 cuanto más alta sea la calidad del modelo y valores cercanos a 0 cuanto más lejanas sean sus predicciones.\n",
        "\n",
        "Un aspecto importante a notar es que el $R^2$ puede tomar valores negativos, lo que indica que el modelo ofrece predicciones peores a usar la media $\\bar y$ para todas las precciones."
      ],
      "metadata": {
        "id": "cvpnnRKv8f1E"
      }
    },
    {
      "cell_type": "markdown",
      "source": [
        "#### Generar Pipeline"
      ],
      "metadata": {
        "id": "TPMtgiGv8dwO"
      }
    },
    {
      "cell_type": "code",
      "execution_count": 30,
      "metadata": {
        "cell_id": "00041-012da19b-8f64-4971-84d6-e95502b74afb",
        "deepnote_cell_height": 65.03334045410156,
        "deepnote_cell_type": "code",
        "tags": [],
        "colab": {
          "base_uri": "https://localhost:8080/",
          "height": 419
        },
        "id": "ZXLJ1X06bl9I",
        "outputId": "abb37fc2-625e-4ad5-b58c-b1f0af236791"
      },
      "outputs": [
        {
          "output_type": "execute_result",
          "data": {
            "text/plain": [
              "                 Player  Weekly Salary\n",
              "1528       Lionel Messi      1538905.0\n",
              "1006  Cristiano Ronaldo      1248536.0\n",
              "1529  Antoine Griezmann       997032.0\n",
              "2004             Neymar       797726.0\n",
              "1530        Gareth Bale       607706.0\n",
              "...                 ...            ...\n",
              "1527    Simone Ghidotti          283.0\n",
              "2539   Valentin Gendrey          100.0\n",
              "1001        John Yeboah           70.0\n",
              "1000    Antonis Aidonis           70.0\n",
              "1002        Leon Dajaku           70.0\n",
              "\n",
              "[2534 rows x 2 columns]"
            ],
            "text/html": [
              "\n",
              "  <div id=\"df-b3bf79b8-e633-4a0f-a65c-378782d810d8\">\n",
              "    <div class=\"colab-df-container\">\n",
              "      <div>\n",
              "<style scoped>\n",
              "    .dataframe tbody tr th:only-of-type {\n",
              "        vertical-align: middle;\n",
              "    }\n",
              "\n",
              "    .dataframe tbody tr th {\n",
              "        vertical-align: top;\n",
              "    }\n",
              "\n",
              "    .dataframe thead th {\n",
              "        text-align: right;\n",
              "    }\n",
              "</style>\n",
              "<table border=\"1\" class=\"dataframe\">\n",
              "  <thead>\n",
              "    <tr style=\"text-align: right;\">\n",
              "      <th></th>\n",
              "      <th>Player</th>\n",
              "      <th>Weekly Salary</th>\n",
              "    </tr>\n",
              "  </thead>\n",
              "  <tbody>\n",
              "    <tr>\n",
              "      <th>1528</th>\n",
              "      <td>Lionel Messi</td>\n",
              "      <td>1538905.0</td>\n",
              "    </tr>\n",
              "    <tr>\n",
              "      <th>1006</th>\n",
              "      <td>Cristiano Ronaldo</td>\n",
              "      <td>1248536.0</td>\n",
              "    </tr>\n",
              "    <tr>\n",
              "      <th>1529</th>\n",
              "      <td>Antoine Griezmann</td>\n",
              "      <td>997032.0</td>\n",
              "    </tr>\n",
              "    <tr>\n",
              "      <th>2004</th>\n",
              "      <td>Neymar</td>\n",
              "      <td>797726.0</td>\n",
              "    </tr>\n",
              "    <tr>\n",
              "      <th>1530</th>\n",
              "      <td>Gareth Bale</td>\n",
              "      <td>607706.0</td>\n",
              "    </tr>\n",
              "    <tr>\n",
              "      <th>...</th>\n",
              "      <td>...</td>\n",
              "      <td>...</td>\n",
              "    </tr>\n",
              "    <tr>\n",
              "      <th>1527</th>\n",
              "      <td>Simone Ghidotti</td>\n",
              "      <td>283.0</td>\n",
              "    </tr>\n",
              "    <tr>\n",
              "      <th>2539</th>\n",
              "      <td>Valentin Gendrey</td>\n",
              "      <td>100.0</td>\n",
              "    </tr>\n",
              "    <tr>\n",
              "      <th>1001</th>\n",
              "      <td>John Yeboah</td>\n",
              "      <td>70.0</td>\n",
              "    </tr>\n",
              "    <tr>\n",
              "      <th>1000</th>\n",
              "      <td>Antonis Aidonis</td>\n",
              "      <td>70.0</td>\n",
              "    </tr>\n",
              "    <tr>\n",
              "      <th>1002</th>\n",
              "      <td>Leon Dajaku</td>\n",
              "      <td>70.0</td>\n",
              "    </tr>\n",
              "  </tbody>\n",
              "</table>\n",
              "<p>2534 rows × 2 columns</p>\n",
              "</div>\n",
              "      <button class=\"colab-df-convert\" onclick=\"convertToInteractive('df-b3bf79b8-e633-4a0f-a65c-378782d810d8')\"\n",
              "              title=\"Convert this dataframe to an interactive table.\"\n",
              "              style=\"display:none;\">\n",
              "        \n",
              "  <svg xmlns=\"http://www.w3.org/2000/svg\" height=\"24px\"viewBox=\"0 0 24 24\"\n",
              "       width=\"24px\">\n",
              "    <path d=\"M0 0h24v24H0V0z\" fill=\"none\"/>\n",
              "    <path d=\"M18.56 5.44l.94 2.06.94-2.06 2.06-.94-2.06-.94-.94-2.06-.94 2.06-2.06.94zm-11 1L8.5 8.5l.94-2.06 2.06-.94-2.06-.94L8.5 2.5l-.94 2.06-2.06.94zm10 10l.94 2.06.94-2.06 2.06-.94-2.06-.94-.94-2.06-.94 2.06-2.06.94z\"/><path d=\"M17.41 7.96l-1.37-1.37c-.4-.4-.92-.59-1.43-.59-.52 0-1.04.2-1.43.59L10.3 9.45l-7.72 7.72c-.78.78-.78 2.05 0 2.83L4 21.41c.39.39.9.59 1.41.59.51 0 1.02-.2 1.41-.59l7.78-7.78 2.81-2.81c.8-.78.8-2.07 0-2.86zM5.41 20L4 18.59l7.72-7.72 1.47 1.35L5.41 20z\"/>\n",
              "  </svg>\n",
              "      </button>\n",
              "      \n",
              "  <style>\n",
              "    .colab-df-container {\n",
              "      display:flex;\n",
              "      flex-wrap:wrap;\n",
              "      gap: 12px;\n",
              "    }\n",
              "\n",
              "    .colab-df-convert {\n",
              "      background-color: #E8F0FE;\n",
              "      border: none;\n",
              "      border-radius: 50%;\n",
              "      cursor: pointer;\n",
              "      display: none;\n",
              "      fill: #1967D2;\n",
              "      height: 32px;\n",
              "      padding: 0 0 0 0;\n",
              "      width: 32px;\n",
              "    }\n",
              "\n",
              "    .colab-df-convert:hover {\n",
              "      background-color: #E2EBFA;\n",
              "      box-shadow: 0px 1px 2px rgba(60, 64, 67, 0.3), 0px 1px 3px 1px rgba(60, 64, 67, 0.15);\n",
              "      fill: #174EA6;\n",
              "    }\n",
              "\n",
              "    [theme=dark] .colab-df-convert {\n",
              "      background-color: #3B4455;\n",
              "      fill: #D2E3FC;\n",
              "    }\n",
              "\n",
              "    [theme=dark] .colab-df-convert:hover {\n",
              "      background-color: #434B5C;\n",
              "      box-shadow: 0px 1px 3px 1px rgba(0, 0, 0, 0.15);\n",
              "      filter: drop-shadow(0px 1px 2px rgba(0, 0, 0, 0.3));\n",
              "      fill: #FFFFFF;\n",
              "    }\n",
              "  </style>\n",
              "\n",
              "      <script>\n",
              "        const buttonEl =\n",
              "          document.querySelector('#df-b3bf79b8-e633-4a0f-a65c-378782d810d8 button.colab-df-convert');\n",
              "        buttonEl.style.display =\n",
              "          google.colab.kernel.accessAllowed ? 'block' : 'none';\n",
              "\n",
              "        async function convertToInteractive(key) {\n",
              "          const element = document.querySelector('#df-b3bf79b8-e633-4a0f-a65c-378782d810d8');\n",
              "          const dataTable =\n",
              "            await google.colab.kernel.invokeFunction('convertToInteractive',\n",
              "                                                     [key], {});\n",
              "          if (!dataTable) return;\n",
              "\n",
              "          const docLinkHtml = 'Like what you see? Visit the ' +\n",
              "            '<a target=\"_blank\" href=https://colab.research.google.com/notebooks/data_table.ipynb>data table notebook</a>'\n",
              "            + ' to learn more about interactive tables.';\n",
              "          element.innerHTML = '';\n",
              "          dataTable['output_type'] = 'display_data';\n",
              "          await google.colab.output.renderOutput(dataTable, element);\n",
              "          const docLink = document.createElement('div');\n",
              "          docLink.innerHTML = docLinkHtml;\n",
              "          element.appendChild(docLink);\n",
              "        }\n",
              "      </script>\n",
              "    </div>\n",
              "  </div>\n",
              "  "
            ]
          },
          "metadata": {},
          "execution_count": 30
        }
      ],
      "source": [
        "df_sueldos = pd.read_csv(path + 'salarios.csv', index_col = 0)\n",
        "df_sueldos"
      ]
    },
    {
      "cell_type": "code",
      "source": [
        "df_wages = df_players.copy()\n",
        "df_wages = df_wages.merge(df_sueldos, left_on = 'Name', right_on = 'Player', how = 'inner') # hacemos merge con dataframe de sueldos\n",
        "df_wages"
      ],
      "metadata": {
        "colab": {
          "base_uri": "https://localhost:8080/",
          "height": 670
        },
        "id": "oiGScSwlhDzh",
        "outputId": "0fc1faa8-14cd-4187-cf29-65c857c1797c"
      },
      "execution_count": 31,
      "outputs": [
        {
          "output_type": "execute_result",
          "data": {
            "text/plain": [
              "                   Name  Nationality National_Position Club_Position  Height  \\\n",
              "0     Cristiano Ronaldo     Portugal                LS            LW     185   \n",
              "1          Lionel Messi    Argentina                RW            RW     170   \n",
              "2                Neymar       Brazil                LW            LW     174   \n",
              "3           Luis Suárez      Uruguay                LS            ST     182   \n",
              "4          Manuel Neuer      Germany                GK            GK     193   \n",
              "...                 ...          ...               ...           ...     ...   \n",
              "1861     Phillip Menzel      Germany               NaN           Res     191   \n",
              "1862      Manuel Akanji  Switzerland               NaN           Sub     187   \n",
              "1863     Moritz Nicolas      Germany               NaN           Res     195   \n",
              "1864   Giacomo Satalino        Italy               NaN           Sub     188   \n",
              "1865     Nicolò Zaniolo        Italy               NaN           Res     185   \n",
              "\n",
              "      Weight Preffered_Foot  Age        Work_Rate Weak_foot  ... Heading  \\\n",
              "0         80          Right   32       High / Low         4  ...      85   \n",
              "1         72           Left   29  Medium / Medium         4  ...      71   \n",
              "2         68          Right   25    High / Medium         5  ...      62   \n",
              "3         85          Right   30    High / Medium         4  ...      77   \n",
              "4         92          Right   31  Medium / Medium         4  ...      25   \n",
              "...      ...            ...  ...              ...       ...  ...     ...   \n",
              "1861      83          Right   18  Medium / Medium         3  ...      10   \n",
              "1862      85          Right   21  Medium / Medium         2  ...      51   \n",
              "1863      87          Right   19  Medium / Medium         2  ...      16   \n",
              "1864      70          Right   17  Medium / Medium         1  ...      11   \n",
              "1865      80          Right   17       High / Low         3  ...      59   \n",
              "\n",
              "      Shot_Power  Finishing  Long_Shots  Curve  Freekick_Accuracy  Penalties  \\\n",
              "0             92         93          90     81                 76         85   \n",
              "1             85         95          88     89                 90         74   \n",
              "2             78         89          77     79                 84         81   \n",
              "3             87         94          86     86                 84         85   \n",
              "4             25         13          16     14                 11         47   \n",
              "...          ...        ...         ...    ...                ...        ...   \n",
              "1861          25          5          10     12                  8         15   \n",
              "1862          38         25          18     26                 27         40   \n",
              "1863          22          9          10     17                 14         17   \n",
              "1864          19          6           5     13                 11         18   \n",
              "1865          50         49          42     54                 51         49   \n",
              "\n",
              "      Volleys             Player  Weekly Salary  \n",
              "0          88  Cristiano Ronaldo      1248536.0  \n",
              "1          85       Lionel Messi      1538905.0  \n",
              "2          83             Neymar       797726.0  \n",
              "3          88        Luis Suárez       508923.0  \n",
              "4          11       Manuel Neuer       326233.0  \n",
              "...       ...                ...            ...  \n",
              "1861        5     Phillip Menzel         2034.0  \n",
              "1862       31      Manuel Akanji        54176.0  \n",
              "1863       11     Moritz Nicolas         2262.0  \n",
              "1864        9   Giacomo Satalino         2827.0  \n",
              "1865       39     Nicolò Zaniolo        28187.0  \n",
              "\n",
              "[1866 rows x 41 columns]"
            ],
            "text/html": [
              "\n",
              "  <div id=\"df-7a328297-57b5-411f-b4f9-5eb6caf20981\">\n",
              "    <div class=\"colab-df-container\">\n",
              "      <div>\n",
              "<style scoped>\n",
              "    .dataframe tbody tr th:only-of-type {\n",
              "        vertical-align: middle;\n",
              "    }\n",
              "\n",
              "    .dataframe tbody tr th {\n",
              "        vertical-align: top;\n",
              "    }\n",
              "\n",
              "    .dataframe thead th {\n",
              "        text-align: right;\n",
              "    }\n",
              "</style>\n",
              "<table border=\"1\" class=\"dataframe\">\n",
              "  <thead>\n",
              "    <tr style=\"text-align: right;\">\n",
              "      <th></th>\n",
              "      <th>Name</th>\n",
              "      <th>Nationality</th>\n",
              "      <th>National_Position</th>\n",
              "      <th>Club_Position</th>\n",
              "      <th>Height</th>\n",
              "      <th>Weight</th>\n",
              "      <th>Preffered_Foot</th>\n",
              "      <th>Age</th>\n",
              "      <th>Work_Rate</th>\n",
              "      <th>Weak_foot</th>\n",
              "      <th>...</th>\n",
              "      <th>Heading</th>\n",
              "      <th>Shot_Power</th>\n",
              "      <th>Finishing</th>\n",
              "      <th>Long_Shots</th>\n",
              "      <th>Curve</th>\n",
              "      <th>Freekick_Accuracy</th>\n",
              "      <th>Penalties</th>\n",
              "      <th>Volleys</th>\n",
              "      <th>Player</th>\n",
              "      <th>Weekly Salary</th>\n",
              "    </tr>\n",
              "  </thead>\n",
              "  <tbody>\n",
              "    <tr>\n",
              "      <th>0</th>\n",
              "      <td>Cristiano Ronaldo</td>\n",
              "      <td>Portugal</td>\n",
              "      <td>LS</td>\n",
              "      <td>LW</td>\n",
              "      <td>185</td>\n",
              "      <td>80</td>\n",
              "      <td>Right</td>\n",
              "      <td>32</td>\n",
              "      <td>High / Low</td>\n",
              "      <td>4</td>\n",
              "      <td>...</td>\n",
              "      <td>85</td>\n",
              "      <td>92</td>\n",
              "      <td>93</td>\n",
              "      <td>90</td>\n",
              "      <td>81</td>\n",
              "      <td>76</td>\n",
              "      <td>85</td>\n",
              "      <td>88</td>\n",
              "      <td>Cristiano Ronaldo</td>\n",
              "      <td>1248536.0</td>\n",
              "    </tr>\n",
              "    <tr>\n",
              "      <th>1</th>\n",
              "      <td>Lionel Messi</td>\n",
              "      <td>Argentina</td>\n",
              "      <td>RW</td>\n",
              "      <td>RW</td>\n",
              "      <td>170</td>\n",
              "      <td>72</td>\n",
              "      <td>Left</td>\n",
              "      <td>29</td>\n",
              "      <td>Medium / Medium</td>\n",
              "      <td>4</td>\n",
              "      <td>...</td>\n",
              "      <td>71</td>\n",
              "      <td>85</td>\n",
              "      <td>95</td>\n",
              "      <td>88</td>\n",
              "      <td>89</td>\n",
              "      <td>90</td>\n",
              "      <td>74</td>\n",
              "      <td>85</td>\n",
              "      <td>Lionel Messi</td>\n",
              "      <td>1538905.0</td>\n",
              "    </tr>\n",
              "    <tr>\n",
              "      <th>2</th>\n",
              "      <td>Neymar</td>\n",
              "      <td>Brazil</td>\n",
              "      <td>LW</td>\n",
              "      <td>LW</td>\n",
              "      <td>174</td>\n",
              "      <td>68</td>\n",
              "      <td>Right</td>\n",
              "      <td>25</td>\n",
              "      <td>High / Medium</td>\n",
              "      <td>5</td>\n",
              "      <td>...</td>\n",
              "      <td>62</td>\n",
              "      <td>78</td>\n",
              "      <td>89</td>\n",
              "      <td>77</td>\n",
              "      <td>79</td>\n",
              "      <td>84</td>\n",
              "      <td>81</td>\n",
              "      <td>83</td>\n",
              "      <td>Neymar</td>\n",
              "      <td>797726.0</td>\n",
              "    </tr>\n",
              "    <tr>\n",
              "      <th>3</th>\n",
              "      <td>Luis Suárez</td>\n",
              "      <td>Uruguay</td>\n",
              "      <td>LS</td>\n",
              "      <td>ST</td>\n",
              "      <td>182</td>\n",
              "      <td>85</td>\n",
              "      <td>Right</td>\n",
              "      <td>30</td>\n",
              "      <td>High / Medium</td>\n",
              "      <td>4</td>\n",
              "      <td>...</td>\n",
              "      <td>77</td>\n",
              "      <td>87</td>\n",
              "      <td>94</td>\n",
              "      <td>86</td>\n",
              "      <td>86</td>\n",
              "      <td>84</td>\n",
              "      <td>85</td>\n",
              "      <td>88</td>\n",
              "      <td>Luis Suárez</td>\n",
              "      <td>508923.0</td>\n",
              "    </tr>\n",
              "    <tr>\n",
              "      <th>4</th>\n",
              "      <td>Manuel Neuer</td>\n",
              "      <td>Germany</td>\n",
              "      <td>GK</td>\n",
              "      <td>GK</td>\n",
              "      <td>193</td>\n",
              "      <td>92</td>\n",
              "      <td>Right</td>\n",
              "      <td>31</td>\n",
              "      <td>Medium / Medium</td>\n",
              "      <td>4</td>\n",
              "      <td>...</td>\n",
              "      <td>25</td>\n",
              "      <td>25</td>\n",
              "      <td>13</td>\n",
              "      <td>16</td>\n",
              "      <td>14</td>\n",
              "      <td>11</td>\n",
              "      <td>47</td>\n",
              "      <td>11</td>\n",
              "      <td>Manuel Neuer</td>\n",
              "      <td>326233.0</td>\n",
              "    </tr>\n",
              "    <tr>\n",
              "      <th>...</th>\n",
              "      <td>...</td>\n",
              "      <td>...</td>\n",
              "      <td>...</td>\n",
              "      <td>...</td>\n",
              "      <td>...</td>\n",
              "      <td>...</td>\n",
              "      <td>...</td>\n",
              "      <td>...</td>\n",
              "      <td>...</td>\n",
              "      <td>...</td>\n",
              "      <td>...</td>\n",
              "      <td>...</td>\n",
              "      <td>...</td>\n",
              "      <td>...</td>\n",
              "      <td>...</td>\n",
              "      <td>...</td>\n",
              "      <td>...</td>\n",
              "      <td>...</td>\n",
              "      <td>...</td>\n",
              "      <td>...</td>\n",
              "      <td>...</td>\n",
              "    </tr>\n",
              "    <tr>\n",
              "      <th>1861</th>\n",
              "      <td>Phillip Menzel</td>\n",
              "      <td>Germany</td>\n",
              "      <td>NaN</td>\n",
              "      <td>Res</td>\n",
              "      <td>191</td>\n",
              "      <td>83</td>\n",
              "      <td>Right</td>\n",
              "      <td>18</td>\n",
              "      <td>Medium / Medium</td>\n",
              "      <td>3</td>\n",
              "      <td>...</td>\n",
              "      <td>10</td>\n",
              "      <td>25</td>\n",
              "      <td>5</td>\n",
              "      <td>10</td>\n",
              "      <td>12</td>\n",
              "      <td>8</td>\n",
              "      <td>15</td>\n",
              "      <td>5</td>\n",
              "      <td>Phillip Menzel</td>\n",
              "      <td>2034.0</td>\n",
              "    </tr>\n",
              "    <tr>\n",
              "      <th>1862</th>\n",
              "      <td>Manuel Akanji</td>\n",
              "      <td>Switzerland</td>\n",
              "      <td>NaN</td>\n",
              "      <td>Sub</td>\n",
              "      <td>187</td>\n",
              "      <td>85</td>\n",
              "      <td>Right</td>\n",
              "      <td>21</td>\n",
              "      <td>Medium / Medium</td>\n",
              "      <td>2</td>\n",
              "      <td>...</td>\n",
              "      <td>51</td>\n",
              "      <td>38</td>\n",
              "      <td>25</td>\n",
              "      <td>18</td>\n",
              "      <td>26</td>\n",
              "      <td>27</td>\n",
              "      <td>40</td>\n",
              "      <td>31</td>\n",
              "      <td>Manuel Akanji</td>\n",
              "      <td>54176.0</td>\n",
              "    </tr>\n",
              "    <tr>\n",
              "      <th>1863</th>\n",
              "      <td>Moritz Nicolas</td>\n",
              "      <td>Germany</td>\n",
              "      <td>NaN</td>\n",
              "      <td>Res</td>\n",
              "      <td>195</td>\n",
              "      <td>87</td>\n",
              "      <td>Right</td>\n",
              "      <td>19</td>\n",
              "      <td>Medium / Medium</td>\n",
              "      <td>2</td>\n",
              "      <td>...</td>\n",
              "      <td>16</td>\n",
              "      <td>22</td>\n",
              "      <td>9</td>\n",
              "      <td>10</td>\n",
              "      <td>17</td>\n",
              "      <td>14</td>\n",
              "      <td>17</td>\n",
              "      <td>11</td>\n",
              "      <td>Moritz Nicolas</td>\n",
              "      <td>2262.0</td>\n",
              "    </tr>\n",
              "    <tr>\n",
              "      <th>1864</th>\n",
              "      <td>Giacomo Satalino</td>\n",
              "      <td>Italy</td>\n",
              "      <td>NaN</td>\n",
              "      <td>Sub</td>\n",
              "      <td>188</td>\n",
              "      <td>70</td>\n",
              "      <td>Right</td>\n",
              "      <td>17</td>\n",
              "      <td>Medium / Medium</td>\n",
              "      <td>1</td>\n",
              "      <td>...</td>\n",
              "      <td>11</td>\n",
              "      <td>19</td>\n",
              "      <td>6</td>\n",
              "      <td>5</td>\n",
              "      <td>13</td>\n",
              "      <td>11</td>\n",
              "      <td>18</td>\n",
              "      <td>9</td>\n",
              "      <td>Giacomo Satalino</td>\n",
              "      <td>2827.0</td>\n",
              "    </tr>\n",
              "    <tr>\n",
              "      <th>1865</th>\n",
              "      <td>Nicolò Zaniolo</td>\n",
              "      <td>Italy</td>\n",
              "      <td>NaN</td>\n",
              "      <td>Res</td>\n",
              "      <td>185</td>\n",
              "      <td>80</td>\n",
              "      <td>Right</td>\n",
              "      <td>17</td>\n",
              "      <td>High / Low</td>\n",
              "      <td>3</td>\n",
              "      <td>...</td>\n",
              "      <td>59</td>\n",
              "      <td>50</td>\n",
              "      <td>49</td>\n",
              "      <td>42</td>\n",
              "      <td>54</td>\n",
              "      <td>51</td>\n",
              "      <td>49</td>\n",
              "      <td>39</td>\n",
              "      <td>Nicolò Zaniolo</td>\n",
              "      <td>28187.0</td>\n",
              "    </tr>\n",
              "  </tbody>\n",
              "</table>\n",
              "<p>1866 rows × 41 columns</p>\n",
              "</div>\n",
              "      <button class=\"colab-df-convert\" onclick=\"convertToInteractive('df-7a328297-57b5-411f-b4f9-5eb6caf20981')\"\n",
              "              title=\"Convert this dataframe to an interactive table.\"\n",
              "              style=\"display:none;\">\n",
              "        \n",
              "  <svg xmlns=\"http://www.w3.org/2000/svg\" height=\"24px\"viewBox=\"0 0 24 24\"\n",
              "       width=\"24px\">\n",
              "    <path d=\"M0 0h24v24H0V0z\" fill=\"none\"/>\n",
              "    <path d=\"M18.56 5.44l.94 2.06.94-2.06 2.06-.94-2.06-.94-.94-2.06-.94 2.06-2.06.94zm-11 1L8.5 8.5l.94-2.06 2.06-.94-2.06-.94L8.5 2.5l-.94 2.06-2.06.94zm10 10l.94 2.06.94-2.06 2.06-.94-2.06-.94-.94-2.06-.94 2.06-2.06.94z\"/><path d=\"M17.41 7.96l-1.37-1.37c-.4-.4-.92-.59-1.43-.59-.52 0-1.04.2-1.43.59L10.3 9.45l-7.72 7.72c-.78.78-.78 2.05 0 2.83L4 21.41c.39.39.9.59 1.41.59.51 0 1.02-.2 1.41-.59l7.78-7.78 2.81-2.81c.8-.78.8-2.07 0-2.86zM5.41 20L4 18.59l7.72-7.72 1.47 1.35L5.41 20z\"/>\n",
              "  </svg>\n",
              "      </button>\n",
              "      \n",
              "  <style>\n",
              "    .colab-df-container {\n",
              "      display:flex;\n",
              "      flex-wrap:wrap;\n",
              "      gap: 12px;\n",
              "    }\n",
              "\n",
              "    .colab-df-convert {\n",
              "      background-color: #E8F0FE;\n",
              "      border: none;\n",
              "      border-radius: 50%;\n",
              "      cursor: pointer;\n",
              "      display: none;\n",
              "      fill: #1967D2;\n",
              "      height: 32px;\n",
              "      padding: 0 0 0 0;\n",
              "      width: 32px;\n",
              "    }\n",
              "\n",
              "    .colab-df-convert:hover {\n",
              "      background-color: #E2EBFA;\n",
              "      box-shadow: 0px 1px 2px rgba(60, 64, 67, 0.3), 0px 1px 3px 1px rgba(60, 64, 67, 0.15);\n",
              "      fill: #174EA6;\n",
              "    }\n",
              "\n",
              "    [theme=dark] .colab-df-convert {\n",
              "      background-color: #3B4455;\n",
              "      fill: #D2E3FC;\n",
              "    }\n",
              "\n",
              "    [theme=dark] .colab-df-convert:hover {\n",
              "      background-color: #434B5C;\n",
              "      box-shadow: 0px 1px 3px 1px rgba(0, 0, 0, 0.15);\n",
              "      filter: drop-shadow(0px 1px 2px rgba(0, 0, 0, 0.3));\n",
              "      fill: #FFFFFF;\n",
              "    }\n",
              "  </style>\n",
              "\n",
              "      <script>\n",
              "        const buttonEl =\n",
              "          document.querySelector('#df-7a328297-57b5-411f-b4f9-5eb6caf20981 button.colab-df-convert');\n",
              "        buttonEl.style.display =\n",
              "          google.colab.kernel.accessAllowed ? 'block' : 'none';\n",
              "\n",
              "        async function convertToInteractive(key) {\n",
              "          const element = document.querySelector('#df-7a328297-57b5-411f-b4f9-5eb6caf20981');\n",
              "          const dataTable =\n",
              "            await google.colab.kernel.invokeFunction('convertToInteractive',\n",
              "                                                     [key], {});\n",
              "          if (!dataTable) return;\n",
              "\n",
              "          const docLinkHtml = 'Like what you see? Visit the ' +\n",
              "            '<a target=\"_blank\" href=https://colab.research.google.com/notebooks/data_table.ipynb>data table notebook</a>'\n",
              "            + ' to learn more about interactive tables.';\n",
              "          element.innerHTML = '';\n",
              "          dataTable['output_type'] = 'display_data';\n",
              "          await google.colab.output.renderOutput(dataTable, element);\n",
              "          const docLink = document.createElement('div');\n",
              "          docLink.innerHTML = docLinkHtml;\n",
              "          element.appendChild(docLink);\n",
              "        }\n",
              "      </script>\n",
              "    </div>\n",
              "  </div>\n",
              "  "
            ]
          },
          "metadata": {},
          "execution_count": 31
        }
      ]
    },
    {
      "cell_type": "code",
      "source": [
        "print(f\"El dataset cuenta con {df_wages.shape[0]} observaciones!\")"
      ],
      "metadata": {
        "colab": {
          "base_uri": "https://localhost:8080/"
        },
        "id": "kCmMtoMs-Tx6",
        "outputId": "24e629ba-b2af-4502-fb88-a47e7ce7b622"
      },
      "execution_count": 49,
      "outputs": [
        {
          "output_type": "stream",
          "name": "stdout",
          "text": [
            "El dataset cuenta con 1866 observaciones!\n"
          ]
        }
      ]
    },
    {
      "cell_type": "markdown",
      "source": [
        "Notamos que ahora, fruto del merge con el dataframe de sueldos, contamos con aún menos observaciones (1.866 observaciones)."
      ],
      "metadata": {
        "id": "s138DZp1-bmT"
      }
    },
    {
      "cell_type": "code",
      "source": [
        "target = 'Weekly Salary' # variable a predecir\n",
        "X = df_wages.drop(columns = target).copy() # conjunto X\n",
        "y = df_wages[target] # conjunto y"
      ],
      "metadata": {
        "id": "uncJIGDJiMji"
      },
      "execution_count": 32,
      "outputs": []
    },
    {
      "cell_type": "code",
      "source": [
        "ordinal_vars = ['Weak_foot', 'Skill_Moves'] # variables ordinales\n",
        "categoric_vars = [col for col in X.select_dtypes('category').columns if col not in ordinal_vars] # variables categóricas, descontamos las variables ordinales\n",
        "numeric_vars = [col for col in X.select_dtypes('int').columns] # variables numéricas\n",
        "\n",
        "# pipeline variables numericas\n",
        "numeric_pipe = Pipeline([\n",
        "                         ('imputer', KNNImputer()),\n",
        "                         ('scaler', RobustScaler()),\n",
        "                         ])\n",
        "\n",
        "# pipeline variables categoricas\n",
        "categoric_pipe = Pipeline([\n",
        "                         ('imputer', SimpleImputer(strategy = 'constant', fill_value = 'Null')),\n",
        "                         ('onehot', OneHotEncoder(handle_unknown='ignore')),\n",
        "                         ])\n",
        "\n",
        "# pipeline variables ordinales\n",
        "ordinal_pipe = Pipeline([\n",
        "                         ('imputer', SimpleImputer(strategy = 'constant', fill_value = 'NA')),\n",
        "                         ('encoder', OrdinalEncoder(categories = ordinal_cat)),\n",
        "                         ])\n",
        "\n",
        "# juntamos todo en ColumnTransformer\n",
        "preprocessor = ColumnTransformer([\n",
        "                                  ('numeric', numeric_pipe, numeric_vars),\n",
        "                                  ('categoric', categoric_pipe, categoric_vars),\n",
        "                                  ('ordinal', ordinal_pipe, ordinal_vars)\n",
        "])"
      ],
      "metadata": {
        "id": "lQPrj0csieiS"
      },
      "execution_count": 33,
      "outputs": []
    },
    {
      "cell_type": "code",
      "source": [
        "from sklearn.linear_model import Ridge\n",
        "from sklearn.svm import SVR\n",
        "from xgboost import XGBRegressor\n",
        "\n",
        "# pipeline ridge\n",
        "ridge_pipe = Pipeline([\n",
        "                  ('preprocessing', preprocessor),\n",
        "                  ('reg', Ridge()),\n",
        "                  ])\n",
        "\n",
        "# pipeline linear svr\n",
        "linearsvr_pipe = Pipeline([\n",
        "            ('preprocessing', preprocessor),\n",
        "            ('reg', SVR(kernel = 'linear')),\n",
        "            ])\n",
        "\n",
        "# pipeline svr\n",
        "svr_pipe = Pipeline([\n",
        "            ('preprocessing', preprocessor),\n",
        "            ('reg', SVR(kernel = 'rbf')),\n",
        "            ])\n",
        "\n",
        "# pipeline xgboost\n",
        "xgb_pipe = Pipeline([\n",
        "            ('preprocessing', preprocessor),\n",
        "            ('reg', XGBRegressor()),\n",
        "            ])"
      ],
      "metadata": {
        "id": "YTuccvDljbx0"
      },
      "execution_count": 44,
      "outputs": []
    },
    {
      "cell_type": "code",
      "source": [
        "X_train, X_test, y_train, y_test = train_test_split(X, y, test_size = .33, shuffle = True) # separación en conjunto train y test"
      ],
      "metadata": {
        "id": "yQd4Jje6jmXX"
      },
      "execution_count": 45,
      "outputs": []
    },
    {
      "cell_type": "markdown",
      "source": [
        "#### Obtener $R^2 > 0.35$"
      ],
      "metadata": {
        "id": "xXIHZ-Pz9tCW"
      }
    },
    {
      "cell_type": "code",
      "source": [
        "from sklearn.metrics import r2_score\n",
        "\n",
        "ridge_pipe.fit(X_train, y_train)\n",
        "y_pred = ridge_pipe.predict(X_test)\n",
        "r2_score(y_test, y_pred)"
      ],
      "metadata": {
        "colab": {
          "base_uri": "https://localhost:8080/"
        },
        "id": "arPpvESekdrh",
        "outputId": "5a1822af-5c57-4159-8b23-c13932d03d0f"
      },
      "execution_count": 37,
      "outputs": [
        {
          "output_type": "execute_result",
          "data": {
            "text/plain": [
              "0.18031676298687682"
            ]
          },
          "metadata": {},
          "execution_count": 37
        }
      ]
    },
    {
      "cell_type": "markdown",
      "source": [
        "Desempeño positivo pero podría ser mejor, aún estamos distantes del 0.35 propuesto"
      ],
      "metadata": {
        "id": "wiSq3QcyF_-1"
      }
    },
    {
      "cell_type": "code",
      "source": [
        "linearsvr_pipe.fit(X_train, y_train)\n",
        "y_pred = linearsvr_pipe.predict(X_test)\n",
        "r2_score(y_test, y_pred)"
      ],
      "metadata": {
        "colab": {
          "base_uri": "https://localhost:8080/"
        },
        "id": "NfaXU2kDms3q",
        "outputId": "3aa4077f-b7a6-4f49-90e3-40b3621f88db"
      },
      "execution_count": 38,
      "outputs": [
        {
          "output_type": "execute_result",
          "data": {
            "text/plain": [
              "-0.050596693327488396"
            ]
          },
          "metadata": {},
          "execution_count": 38
        }
      ]
    },
    {
      "cell_type": "code",
      "source": [
        "svr_pipe.fit(X_train, y_train)\n",
        "y_pred = svr_pipe.predict(X_test)\n",
        "r2_score(y_test, y_pred)"
      ],
      "metadata": {
        "colab": {
          "base_uri": "https://localhost:8080/"
        },
        "id": "k-XTYXyLm08P",
        "outputId": "f2416f4c-84fa-423b-f9b6-c8207ee47763"
      },
      "execution_count": 39,
      "outputs": [
        {
          "output_type": "execute_result",
          "data": {
            "text/plain": [
              "-0.07369353873508122"
            ]
          },
          "metadata": {},
          "execution_count": 39
        }
      ]
    },
    {
      "cell_type": "markdown",
      "source": [
        "Notamos que los modelos `SVR` tienen rendimiento muy malo puesto que sus prediccinoes arrojan un $R^2$ negativo"
      ],
      "metadata": {
        "id": "ZRoRjmC2FyUn"
      }
    },
    {
      "cell_type": "code",
      "source": [
        "xgb_pipe.fit(X_train, y_train)\n",
        "y_pred = xgb_pipe.predict(X_test)\n",
        "r2_score(y_test, y_pred)"
      ],
      "metadata": {
        "colab": {
          "base_uri": "https://localhost:8080/"
        },
        "id": "-f_6GupktBgP",
        "outputId": "1bc6ec0d-7fb8-433b-88e0-288014063330"
      },
      "execution_count": 46,
      "outputs": [
        {
          "output_type": "stream",
          "name": "stdout",
          "text": [
            "[20:56:34] WARNING: /workspace/src/objective/regression_obj.cu:152: reg:linear is now deprecated in favor of reg:squarederror.\n"
          ]
        },
        {
          "output_type": "execute_result",
          "data": {
            "text/plain": [
              "0.5606466306856799"
            ]
          },
          "metadata": {},
          "execution_count": 46
        }
      ]
    },
    {
      "cell_type": "markdown",
      "source": [
        "Notamos que el modelo `XGBoost` supera con bastaaaaante facilidad el 0.35 propuesto."
      ],
      "metadata": {
        "id": "Hdy4bKPk9zbV"
      }
    },
    {
      "cell_type": "markdown",
      "metadata": {
        "cell_id": "00044-db7abb06-7339-40b0-9021-01c6111e5459",
        "deepnote_cell_height": 106.23333740234375,
        "deepnote_cell_type": "markdown",
        "tags": [],
        "id": "ndw2k1sybl9J"
      },
      "source": [
        "**Respuesta**:\n",
        "\n",
        "En vista de los resultados, se concluye que en general los modelos ofrecen un mal ajuste a los datos. La excepción a esto es el modelo `XGBoost` que, tal como se espera al pertenecer a los modelos de ensamblaje, obtiene un rendimiento muy superior a los otros modelos. En ese sentido, mientras que los modelos `SVR` conseguían un $R^2$ negativo (generaban predicciones peores a la media de la variable objetivo), `XGBoost` obtiene predicciones que superan con bastante facilidad el 0.35 propuesto. \n",
        "\n",
        "Para mejorar el modelo, una regla general es **mientras más datos, mejor**. En ese sentido, tener más datos siempre será igual o mejor a tener menos datos, por lo que es una buena vía para obtener un mejor rendimiento. \n",
        "\n",
        "Usar diferentes características (por medio de *Feature Engineering*) también es una buena opción, puesto que al usar modelos que no tengan incorporado *Representation Learning* (es decir, la capacidad de aprender features en su entrenamiento), es necesario construir buenas features \"a mano\" para que de esta forma el modelo reciba estas features y las pueda usar para obtener un mejor ajuste.\n",
        "\n",
        "Finalmente, ambas opciones no son excluyentes y tanto combinándolas como por sí solas indican buenas formas de mejorar el poder de predicción del modelo."
      ]
    },
    {
      "cell_type": "markdown",
      "metadata": {
        "cell_id": "00045-bd3cc055-46c7-47ae-ac82-07ddb96f99de",
        "deepnote_cell_height": 490.83331298828125,
        "deepnote_cell_type": "markdown",
        "id": "Rg4ZMq8ezAH6"
      },
      "source": [
        "# Conclusión\n",
        "Eso ha sido todo para el lab de hoy, recuerden que el laboratorio tiene un plazo de entrega de una semana. Cualquier duda del laboratorio, no duden en contactarnos por mail o U-cursos.\n",
        "\n",
        "<p align=\"center\">\n",
        "  <img src=\"https://media2.giphy.com/media/l1J3CbFgn5o7DGRuE/giphy.gif\">\n",
        "</p>"
      ]
    },
    {
      "cell_type": "markdown",
      "metadata": {
        "cell_id": "00047-2acde338-38a4-455c-879b-3be406525767",
        "deepnote_cell_height": 170.4499969482422,
        "deepnote_cell_type": "markdown",
        "id": "wCL1lACBzAH7"
      },
      "source": [
        "<br>\n",
        "<center>\n",
        "<img src=\"https://i.kym-cdn.com/photos/images/original/001/194/195/b18.png\" width=100 height=50 />\n",
        "</center>\n",
        "<br>"
      ]
    },
    {
      "cell_type": "markdown",
      "metadata": {
        "created_in_deepnote_cell": true,
        "deepnote_cell_type": "markdown",
        "tags": [],
        "id": "Zhctb8yRbl9L"
      },
      "source": [
        "<a style='text-decoration:none;line-height:16px;display:flex;color:#5B5B62;padding:10px;justify-content:end;' href='https://deepnote.com?utm_source=created-in-deepnote-cell&projectId=87110296-876e-426f-b91d-aaf681223468' target=\"_blank\">\n",
        "<img alt='Created in deepnote.com' style='display:inline;max-height:16px;margin:0px;margin-right:7.5px;' src='data:image/svg+xml;base64,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' > </img>\n",
        "Created in <span style='font-weight:600;margin-left:4px;'>Deepnote</span></a>"
      ]
    }
  ],
  "metadata": {
    "colab": {
      "collapsed_sections": [],
      "name": "Laboratorio7_enunciado.ipynb",
      "provenance": []
    },
    "deepnote": {},
    "deepnote_execution_queue": [],
    "deepnote_notebook_id": "350d39d6-937f-44f2-9da5-3b4d715597f9",
    "kernelspec": {
      "display_name": "Python 3",
      "language": "python",
      "name": "python3"
    },
    "language_info": {
      "codemirror_mode": {
        "name": "ipython",
        "version": 3
      },
      "file_extension": ".py",
      "mimetype": "text/x-python",
      "name": "python",
      "nbconvert_exporter": "python",
      "pygments_lexer": "ipython3",
      "version": "3.8.8"
    },
    "toc": {
      "base_numbering": 1,
      "nav_menu": {},
      "number_sections": true,
      "sideBar": true,
      "skip_h1_title": true,
      "title_cell": "Tabla de Contenidos",
      "title_sidebar": "Contenidos",
      "toc_cell": false,
      "toc_position": {
        "height": "calc(100% - 180px)",
        "left": "10px",
        "top": "150px",
        "width": "241.867px"
      },
      "toc_section_display": true,
      "toc_window_display": true
    },
    "varInspector": {
      "cols": {
        "lenName": 16,
        "lenType": 16,
        "lenVar": 40
      },
      "kernels_config": {
        "python": {
          "delete_cmd_postfix": "",
          "delete_cmd_prefix": "del ",
          "library": "var_list.py",
          "varRefreshCmd": "print(var_dic_list())"
        },
        "r": {
          "delete_cmd_postfix": ") ",
          "delete_cmd_prefix": "rm(",
          "library": "var_list.r",
          "varRefreshCmd": "cat(var_dic_list()) "
        }
      },
      "types_to_exclude": [
        "module",
        "function",
        "builtin_function_or_method",
        "instance",
        "_Feature"
      ],
      "window_display": false
    }
  },
  "nbformat": 4,
  "nbformat_minor": 0
}