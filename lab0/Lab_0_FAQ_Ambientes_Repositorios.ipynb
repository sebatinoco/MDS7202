{
 "cells": [
  {
   "cell_type": "markdown",
   "id": "8de25474",
   "metadata": {},
   "source": [
    "# Lab 0 - FAQ\n"
   ]
  },
  {
   "cell_type": "markdown",
   "id": "8d7310a3",
   "metadata": {},
   "source": [
    "## Ambientes con Conda"
   ]
  },
  {
   "cell_type": "markdown",
   "id": "c77a76ae",
   "metadata": {},
   "source": [
    "### Para el Curso\n",
    "\n",
    "1. Instalar anaconda (cliente + paquetes por defecto) o miniconda (es solo el cliente, sin paquetes).\n",
    "2. Luego de haber instaldo conda/miniconda, crear ambiente, instalar paquetes y abrir `jupyter-lab`\n",
    "\n",
    "\n",
    "#### 1.- ¿Cómo instalarlo?\n",
    "\n",
    "**Anaconda 🐍**:\n",
    "\n",
    "Descargar anaconda:\n",
    "\n",
    "https://www.anaconda.com/products/individual\n",
    "\n",
    "Seguir las instrucciones para Windows y Mac.\n",
    "\n",
    "Para linux:\n",
    "\n",
    "1. Descargar el archivo usando `wget url_archivo_por_descargar`.\n",
    "2. Instalar usando `bash ruta_al_archivo_descargado`.\n",
    "\n",
    "\n",
    "### ¿Como crear y activar el Ambiente?\n",
    "\n",
    "```bash\n",
    "# en el caso que estén trabajando desde powershell:\n",
    "conda init\n",
    "\n",
    "# crear un ambiente\n",
    "conda create --name mds7202 python=3.9\n",
    "\n",
    "# activar el nuevo ambiente\n",
    "conda activate mds7202\n",
    "\n",
    "# instalar paquetes\n",
    "conda install numpy pandas scikit-learn plotly jupyterlab  jupyterlab_code_formatter black -c conda-forge -y\n",
    "\n",
    "# iniciar jupyter-lab\n",
    "jupyter-lab\n",
    "\n",
    "# para entrar a jupyer-lab, en un navegador acceder a la dirección que les indica la terminal...\n",
    "```"
   ]
  },
  {
   "cell_type": "markdown",
   "id": "75834520",
   "metadata": {},
   "source": [
    "Para una siguiente vez ya tendrán todo instalado, por ende solo bastará activar el ambiente y ejecutar jupyter-lab:\n",
    "\n",
    "```\n",
    "conda activate mds7202\n",
    "\n",
    "jupyter-lab\n",
    "```"
   ]
  },
  {
   "cell_type": "markdown",
   "id": "1ed59021",
   "metadata": {},
   "source": [
    "## Repositorio 🗃️\n",
    "\n",
    "Para el curso: \n",
    "\n",
    "1. Instalar Git.\n",
    "2. Crear una cuenta en Github.\n",
    "3. Crear un repositorio.\n",
    "4. Clonar el repositorio.\n",
    "\n",
    "\n",
    "### ¿Cómo instalo git?\n",
    "\n",
    "Visitar https://git-scm.com/ y seguir con las instrucciones en la sección de `Download`.\n"
   ]
  },
  {
   "cell_type": "markdown",
   "id": "db625b10",
   "metadata": {},
   "source": [
    "![](./resources/git.png)"
   ]
  },
  {
   "cell_type": "markdown",
   "id": "cde3d4cb",
   "metadata": {},
   "source": [
    "### ¿Cómo creo una cuenta en Github?"
   ]
  },
  {
   "cell_type": "markdown",
   "id": "eebbde11",
   "metadata": {},
   "source": [
    "Entrar a la página oficial de github: https://github.com/\n",
    "\n",
    "![](./resources/github1.png)\n",
    "\n"
   ]
  },
  {
   "cell_type": "markdown",
   "id": "b5d39270",
   "metadata": {},
   "source": [
    "Luego hacer click en el botón `Sign Up` de la esquina superior derecha y agregar los datos solicitados: \n",
    "\n",
    "![](./resources/github2.png)"
   ]
  },
  {
   "cell_type": "markdown",
   "id": "98349aea",
   "metadata": {},
   "source": [
    "Probablemente les llegue un correo solicitando verificar su información. Con esto ya deberían tener su cuenta operando en github."
   ]
  },
  {
   "cell_type": "markdown",
   "id": "9b743dd5",
   "metadata": {},
   "source": [
    "### ¿Cómo crear un repositorio remoto en Github?\n",
    "\n",
    "Luego de haberse logeado en github, arriba a la izquierda les saldrá una interfaz similar a esta:"
   ]
  },
  {
   "cell_type": "markdown",
   "id": "2e3af37e",
   "metadata": {},
   "source": [
    "![](./resources/crear_repo_1.png)"
   ]
  },
  {
   "cell_type": "markdown",
   "id": "b26663e1",
   "metadata": {},
   "source": [
    "Luego, hagan click en `New` para ir al asistente de creación de nuevos repositorios. Esto les mostrará una vista similar a esta:\n",
    "\n",
    "![](./resources/crear_repo_2.png)\n",
    "\n",
    "En esta parte ustedes deberán asignarle un nombre a su futuro repositorio (en `Repository Name`)\n",
    "\n",
    "Luego llegan al final de la página y hacen click en el botón `Create Repository`. Esto generará un nuevo repositorio y les mostrará algo similar a lo que vemos a continuación:\n",
    "\n"
   ]
  },
  {
   "cell_type": "markdown",
   "id": "6fba5b6b",
   "metadata": {},
   "source": [
    "![](./resources/crear_repo_3.png)\n"
   ]
  },
  {
   "cell_type": "markdown",
   "id": "73c78eb8",
   "metadata": {},
   "source": [
    "Para inicializar el repositorio y copiarlo en local, en una terminal ejecuten el código que se muestra en la sección \n",
    "\n",
    "`...or create a new repository on the command line`\n",
    "\n",
    "El código especificado ahí creará un nuevo repositorio en su local, agregará un archivo `Readme.md`, creará un commit, linkeara su repositorio con el remoto de github y hará un push."
   ]
  },
  {
   "cell_type": "markdown",
   "id": "eaae5f94",
   "metadata": {},
   "source": [
    "### Crear un Token como Contraseña"
   ]
  },
  {
   "cell_type": "markdown",
   "id": "8af0d3b8",
   "metadata": {},
   "source": [
    "Probablemente les pida un usuario y contraseña para hacer push.\n",
    "Github desactivó el uso de contraseñas y en su lugar hay que generar Tokens (código de acceso)\n",
    "\n",
    "![](./resources/password1.png)"
   ]
  },
  {
   "cell_type": "markdown",
   "id": "77b73231",
   "metadata": {},
   "source": [
    "### ¿Cómo genero un Token de Autenticación?\n",
    "\n",
    "Ir a su avatar, ubicado a la derecha arriba de la interfaz. Hacer click en el avatar y luego en `Settings`."
   ]
  },
  {
   "cell_type": "markdown",
   "id": "74161326",
   "metadata": {},
   "source": [
    "![](./resources/token1.png)"
   ]
  },
  {
   "cell_type": "markdown",
   "id": "a4549db9",
   "metadata": {},
   "source": [
    "En la barra derecha, desplazarse hasta `Develorper Settings` y hacer click ahí\n",
    "\n",
    "![](./resources/token2.png)"
   ]
  },
  {
   "cell_type": "markdown",
   "id": "c605984b",
   "metadata": {},
   "source": [
    "Luego, les aparecerá una vista similar a esta (si no, hacer click en `Personal access tokens`) y luego hacer click en `Ghenerate new token`."
   ]
  },
  {
   "cell_type": "markdown",
   "id": "f13422e3",
   "metadata": {},
   "source": [
    "![](./resources/token3.png)"
   ]
  },
  {
   "cell_type": "markdown",
   "id": "0fd2cc3d",
   "metadata": {},
   "source": [
    "Dentro de la interfaz de generación de tokens, ponerle un nombre, una fecha de expiración y un click en checkbox de repo. Luego bajan y hacen click en `Generate Token` para crearlo."
   ]
  },
  {
   "cell_type": "markdown",
   "id": "f996dc0a",
   "metadata": {},
   "source": [
    "![](./resources/token4.png)"
   ]
  },
  {
   "cell_type": "markdown",
   "id": "7506fe71",
   "metadata": {},
   "source": [
    "Con esto, ya deberían haber generado su token de autenticación.\n",
    "\n",
    "> Nota: **Guarden este token (por ejemplo en un archivo de texto plano), ya que lo usaremos como contraseña para interactuar con el repositorio remoto**\n",
    "\n",
    "![](./resources/token5.png)"
   ]
  },
  {
   "cell_type": "markdown",
   "id": "66cab7c9",
   "metadata": {},
   "source": [
    "Por último, copien y peguen ese token en la sección contraseña y hagan el push correspondiente.\n",
    "\n",
    "![](./resources/password2.png)"
   ]
  },
  {
   "cell_type": "markdown",
   "id": "c7e8ea81",
   "metadata": {},
   "source": [
    "> Nota 2: **Este token es como su contraseña. No lo compartan ya que este les dará acceso a los repositorios de su cuenta.** "
   ]
  },
  {
   "cell_type": "markdown",
   "id": "5ed23bff",
   "metadata": {},
   "source": [
    "### ¿Cómo agrego alguien al repositorio?\n",
    "\n",
    "En la página del repositorio que acaban de crear, hacer click en `Settings`, después en `Collaborators` y añadir colaboradores haciendo click en `Add people`. Les pedirá el nombre de cuenta de la persona que quieran añadir. \n",
    "\n",
    "Para que la persona acepte la invitación, debe hacer click en el link de un email que le llegará (al email asociado a la cuenta) o entrando a la página del respositorio y aceptando la invitación desde ahí."
   ]
  },
  {
   "cell_type": "markdown",
   "id": "45096476",
   "metadata": {},
   "source": [
    "![](./resources/agregar_colaboradores.png)"
   ]
  },
  {
   "cell_type": "markdown",
   "id": "69ca988d",
   "metadata": {
    "tags": []
   },
   "source": [
    "### ¿Cómo clono el repositorio si este ya fue inicializado?"
   ]
  },
  {
   "cell_type": "markdown",
   "id": "4a1d3c15",
   "metadata": {
    "tags": []
   },
   "source": [
    "`git clone url_repo`"
   ]
  }
 ],
 "metadata": {
  "kernelspec": {
   "display_name": "Python 3",
   "language": "python",
   "name": "python3"
  },
  "language_info": {
   "codemirror_mode": {
    "name": "ipython",
    "version": 3
   },
   "file_extension": ".py",
   "mimetype": "text/x-python",
   "name": "python",
   "nbconvert_exporter": "python",
   "pygments_lexer": "ipython3",
   "version": "3.8.8"
  }
 },
 "nbformat": 4,
 "nbformat_minor": 5
}
